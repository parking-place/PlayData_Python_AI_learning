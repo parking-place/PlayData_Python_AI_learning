{
 "cells": [
  {
   "cell_type": "code",
   "execution_count": null,
   "metadata": {},
   "outputs": [],
   "source": [
    "'3 4 5'"
   ]
  },
  {
   "cell_type": "code",
   "execution_count": 9,
   "metadata": {},
   "outputs": [
    {
     "name": "stdout",
     "output_type": "stream",
     "text": [
      "2\n",
      "2\n",
      "2\n",
      "2\n"
     ]
    }
   ],
   "source": [
    "a, b, c = input().split(' ')\n",
    "a, b, c = int(a), int(b), int(c)\n",
    "print(f'{(a+b)%c}')\n",
    "print(f'{((a%c)+(b%c))%c}')\n",
    "print(f'{(a*b)%c}')\n",
    "print(f'{((a%c)*(b%c))%c}')"
   ]
  },
  {
   "cell_type": "code",
   "execution_count": 17,
   "metadata": {},
   "outputs": [
    {
     "name": "stdout",
     "output_type": "stream",
     "text": [
      "2360\n",
      "3776\n",
      "1416\n",
      "181720\n"
     ]
    }
   ],
   "source": [
    "n1 = int(input())\n",
    "n2 = input()\n",
    "\n",
    "n = []\n",
    "\n",
    "for i in range(len(n2)-1,-1,-1) :\n",
    "    n.append(n1 * int(n2[i]))\n",
    "    \n",
    "n.append(n[0] + n[1]*10 + n[2]*100)\n",
    "\n",
    "for i in range(len(n)) :\n",
    "    print(n[i])"
   ]
  },
  {
   "cell_type": "code",
   "execution_count": null,
   "metadata": {},
   "outputs": [],
   "source": [
    "a, b, c = input().split(' ')\n",
    "a, b, c = int(a), int(b), int(c)\n",
    "print(a+b+c)"
   ]
  },
  {
   "cell_type": "code",
   "execution_count": 18,
   "metadata": {},
   "outputs": [
    {
     "name": "stdout",
     "output_type": "stream",
     "text": [
      "\\    /\\\n",
      " )  ( ')\n",
      "(  /  )\n",
      " \\(__)|\n"
     ]
    }
   ],
   "source": [
    "print(r'''\\    /\\\n",
    " )  ( ')\n",
    "(  /  )\n",
    " \\(__)|''')"
   ]
  },
  {
   "cell_type": "code",
   "execution_count": 20,
   "metadata": {},
   "outputs": [
    {
     "name": "stdout",
     "output_type": "stream",
     "text": [
      "|\\_/|\n",
      "|q p|   /}\n",
      "( 0 )\"\"\"\\\n",
      "|\"^\"`    |\n",
      "||_/=\\__|\n"
     ]
    }
   ],
   "source": [
    "print(r'''|\\_/|\n",
    "|q p|   /}\n",
    "( 0 )\"\"\"\\\n",
    "|\"^\"`    |\n",
    "||_/=\\\\__|''')"
   ]
  },
  {
   "cell_type": "code",
   "execution_count": 21,
   "metadata": {},
   "outputs": [
    {
     "ename": "ValueError",
     "evalue": "not enough values to unpack (expected 2, got 1)",
     "output_type": "error",
     "traceback": [
      "\u001b[1;31m---------------------------------------------------------------------------\u001b[0m",
      "\u001b[1;31mValueError\u001b[0m                                Traceback (most recent call last)",
      "Cell \u001b[1;32mIn[21], line 1\u001b[0m\n\u001b[1;32m----> 1\u001b[0m a, b \u001b[39m=\u001b[39m \u001b[39minput\u001b[39m()\u001b[39m.\u001b[39msplit(\u001b[39m'\u001b[39m\u001b[39m \u001b[39m\u001b[39m'\u001b[39m)\n\u001b[0;32m      2\u001b[0m a, b \u001b[39m=\u001b[39m \u001b[39mint\u001b[39m(a), \u001b[39mint\u001b[39m(b)\n\u001b[0;32m      4\u001b[0m \u001b[39mif\u001b[39;00m a \u001b[39m>\u001b[39m b :\n",
      "\u001b[1;31mValueError\u001b[0m: not enough values to unpack (expected 2, got 1)"
     ]
    }
   ],
   "source": [
    "a, b = input().split(' ')\n",
    "a, b = int(a), int(b)\n",
    "\n",
    "if a > b :\n",
    "    print('>')\n",
    "elif a < b :\n",
    "    print('<')\n",
    "else :\n",
    "    print('==')\n",
    "        "
   ]
  },
  {
   "cell_type": "code",
   "execution_count": 22,
   "metadata": {},
   "outputs": [
    {
     "ename": "ValueError",
     "evalue": "invalid literal for int() with base 10: ''",
     "output_type": "error",
     "traceback": [
      "\u001b[1;31m---------------------------------------------------------------------------\u001b[0m",
      "\u001b[1;31mValueError\u001b[0m                                Traceback (most recent call last)",
      "Cell \u001b[1;32mIn[22], line 1\u001b[0m\n\u001b[1;32m----> 1\u001b[0m score \u001b[39m=\u001b[39m \u001b[39mint\u001b[39;49m(\u001b[39minput\u001b[39;49m())\n\u001b[0;32m      3\u001b[0m \u001b[39mif\u001b[39;00m score \u001b[39m>\u001b[39m\u001b[39m=\u001b[39m \u001b[39m90\u001b[39m :\n\u001b[0;32m      4\u001b[0m     \u001b[39mprint\u001b[39m(\u001b[39m'\u001b[39m\u001b[39mA\u001b[39m\u001b[39m'\u001b[39m)\n",
      "\u001b[1;31mValueError\u001b[0m: invalid literal for int() with base 10: ''"
     ]
    }
   ],
   "source": [
    "score = int(input())\n",
    "\n",
    "if score >= 90 :\n",
    "    print('A')\n",
    "elif score >= 80 :\n",
    "    print('B')\n",
    "elif score >= 70 :\n",
    "    print('C')\n",
    "elif score >= 60 :\n",
    "    print('D')\n",
    "else :\n",
    "    print('F')"
   ]
  },
  {
   "cell_type": "code",
   "execution_count": 23,
   "metadata": {},
   "outputs": [
    {
     "ename": "ValueError",
     "evalue": "invalid literal for int() with base 10: ''",
     "output_type": "error",
     "traceback": [
      "\u001b[1;31m---------------------------------------------------------------------------\u001b[0m",
      "\u001b[1;31mValueError\u001b[0m                                Traceback (most recent call last)",
      "Cell \u001b[1;32mIn[23], line 1\u001b[0m\n\u001b[1;32m----> 1\u001b[0m year \u001b[39m=\u001b[39m \u001b[39mint\u001b[39;49m(\u001b[39minput\u001b[39;49m())\n\u001b[0;32m      2\u001b[0m is_leap \u001b[39m=\u001b[39m \u001b[39m0\u001b[39m\n\u001b[0;32m      3\u001b[0m \u001b[39mif\u001b[39;00m (year \u001b[39m%\u001b[39m \u001b[39m4\u001b[39m \u001b[39m==\u001b[39m \u001b[39m0\u001b[39m \u001b[39mand\u001b[39;00m year \u001b[39m%\u001b[39m \u001b[39m100\u001b[39m \u001b[39m!=\u001b[39m \u001b[39m0\u001b[39m) \u001b[39mor\u001b[39;00m year \u001b[39m%\u001b[39m \u001b[39m400\u001b[39m \u001b[39m==\u001b[39m \u001b[39m0\u001b[39m :\n",
      "\u001b[1;31mValueError\u001b[0m: invalid literal for int() with base 10: ''"
     ]
    }
   ],
   "source": [
    "year = int(input())\n",
    "is_leap = 0\n",
    "if (year % 4 == 0 and year % 100 != 0) or year % 400 == 0 :\n",
    "    is_leap = 1\n",
    "print(is_leap)\n",
    "    "
   ]
  },
  {
   "cell_type": "code",
   "execution_count": 27,
   "metadata": {},
   "outputs": [
    {
     "name": "stdout",
     "output_type": "stream",
     "text": [
      "2\n"
     ]
    }
   ],
   "source": [
    "x, y = int(input()), int(input())\n",
    "\n",
    "if x>0 :\n",
    "    if y>0 :\n",
    "        print(1)\n",
    "    else :\n",
    "        print(4)\n",
    "else :\n",
    "    if y>0 :\n",
    "        print(2)\n",
    "    else :\n",
    "        print(3)"
   ]
  },
  {
   "cell_type": "code",
   "execution_count": 28,
   "metadata": {},
   "outputs": [
    {
     "name": "stdout",
     "output_type": "stream",
     "text": [
      "10 14\n"
     ]
    }
   ],
   "source": [
    "h, m = input().split(' ')\n",
    "h, m = int(h), int(m)\n",
    "\n",
    "if m >= 45 :\n",
    "    print(h, m-45)\n",
    "elif h == 0 :\n",
    "    print(23, m+15)\n",
    "else :\n",
    "    print(h-1, m+15)"
   ]
  },
  {
   "cell_type": "code",
   "execution_count": null,
   "metadata": {},
   "outputs": [],
   "source": [
    "h, m = input().split(' ')\n",
    "h, m = int(h), int(m)\n",
    "t = int(input())\n",
    "\n",
    "time = h*60 + m + t\n",
    "print((time//60)%24, time%60)\n"
   ]
  },
  {
   "cell_type": "code",
   "execution_count": null,
   "metadata": {},
   "outputs": [],
   "source": [
    "dice = list(map(int, input().split(' ')))\n",
    "\n",
    "if dice[0] == dice[1] and dice[1] == dice[2] :\n",
    "    print(10000 + dice[0]*1000)\n",
    "elif dice[0] == dice[1] or dice[1] == dice[2] :\n",
    "    print(1000 + dice[1]*100)\n",
    "elif dice[0] == dice[2] :\n",
    "    print(1000 + dice[0]*100)\n",
    "else :\n",
    "    print(max(dice)*100)"
   ]
  },
  {
   "cell_type": "code",
   "execution_count": 29,
   "metadata": {},
   "outputs": [
    {
     "name": "stdout",
     "output_type": "stream",
     "text": [
      "2 * 1 = 2\n",
      "2 * 2 = 4\n",
      "2 * 3 = 6\n",
      "2 * 4 = 8\n",
      "2 * 5 = 10\n",
      "2 * 6 = 12\n",
      "2 * 7 = 14\n",
      "2 * 8 = 16\n",
      "2 * 9 = 18\n"
     ]
    }
   ],
   "source": [
    "n = int(input())\n",
    "\n",
    "for i in range(1, 10) :\n",
    "    print(f'{n} * {i} = {n*i}')"
   ]
  },
  {
   "cell_type": "code",
   "execution_count": null,
   "metadata": {},
   "outputs": [],
   "source": [
    "n = int(input())\n",
    "\n",
    "for i in range(n) :\n",
    "    a = list(map(int, input().split(' ')))\n",
    "    print(f'{sum(a)}')"
   ]
  },
  {
   "cell_type": "code",
   "execution_count": null,
   "metadata": {},
   "outputs": [],
   "source": [
    "n = int(input())\n",
    "sum_all = 0\n",
    "for i in range(1, n+1) :\n",
    "    sum_all += i\n",
    "print(sum_all)"
   ]
  },
  {
   "cell_type": "code",
   "execution_count": 39,
   "metadata": {},
   "outputs": [
    {
     "ename": "NameError",
     "evalue": "name 'price' is not defined",
     "output_type": "error",
     "traceback": [
      "\u001b[1;31m---------------------------------------------------------------------------\u001b[0m",
      "\u001b[1;31mNameError\u001b[0m                                 Traceback (most recent call last)",
      "Cell \u001b[1;32mIn[39], line 8\u001b[0m\n\u001b[0;32m      5\u001b[0m     p_c \u001b[39m=\u001b[39m \u001b[39mlist\u001b[39m(\u001b[39mmap\u001b[39m(\u001b[39mint\u001b[39m, \u001b[39minput\u001b[39m()\u001b[39m.\u001b[39msplit(\u001b[39m'\u001b[39m\u001b[39m \u001b[39m\u001b[39m'\u001b[39m)))\n\u001b[0;32m      6\u001b[0m     total_price \u001b[39m-\u001b[39m\u001b[39m=\u001b[39m (p_c[\u001b[39m0\u001b[39m] \u001b[39m*\u001b[39m p_c[\u001b[39m1\u001b[39m])\n\u001b[1;32m----> 8\u001b[0m \u001b[39mif\u001b[39;00m price :\n\u001b[0;32m      9\u001b[0m     \u001b[39mprint\u001b[39m(\u001b[39m'\u001b[39m\u001b[39mNo\u001b[39m\u001b[39m'\u001b[39m)\n\u001b[0;32m     10\u001b[0m \u001b[39melse\u001b[39;00m :\n",
      "\u001b[1;31mNameError\u001b[0m: name 'price' is not defined"
     ]
    }
   ],
   "source": [
    "total_price = int(input())\n",
    "n = int(input())\n",
    "\n",
    "for i in range(n) :\n",
    "    p_c = list(map(int, input().split(' ')))\n",
    "    total_price -= (p_c[0] * p_c[1])\n",
    "    \n",
    "if total_price :\n",
    "    print('No')\n",
    "else :\n",
    "    print('Yes')\n",
    "    "
   ]
  },
  {
   "cell_type": "code",
   "execution_count": 36,
   "metadata": {},
   "outputs": [
    {
     "name": "stdout",
     "output_type": "stream",
     "text": [
      "1\n"
     ]
    }
   ],
   "source": [
    "if -1 :\n",
    "    print('1')\n",
    "else :\n",
    "    print('0')"
   ]
  },
  {
   "cell_type": "code",
   "execution_count": 40,
   "metadata": {},
   "outputs": [
    {
     "name": "stdout",
     "output_type": "stream",
     "text": [
      "long long long long int\n"
     ]
    }
   ],
   "source": [
    "n = int(input())\n",
    "long_int = ''\n",
    "count = n//4\n",
    "lont_int = ('long ' * count) + 'int'\n",
    "print(lont_int)\n",
    "\n",
    "    "
   ]
  },
  {
   "cell_type": "code",
   "execution_count": 41,
   "metadata": {},
   "outputs": [
    {
     "name": "stdout",
     "output_type": "stream",
     "text": [
      "long long long long int\n"
     ]
    }
   ],
   "source": [
    "print('long '*(int(input())//4)+'int')"
   ]
  },
  {
   "cell_type": "code",
   "execution_count": 49,
   "metadata": {},
   "outputs": [
    {
     "ename": "TypeError",
     "evalue": "'function' object cannot be interpreted as an integer",
     "output_type": "error",
     "traceback": [
      "\u001b[1;31m---------------------------------------------------------------------------\u001b[0m",
      "\u001b[1;31mTypeError\u001b[0m                                 Traceback (most recent call last)",
      "Cell \u001b[1;32mIn[49], line 3\u001b[0m\n\u001b[0;32m      1\u001b[0m \u001b[39mimport\u001b[39;00m \u001b[39msys\u001b[39;00m \u001b[39mas\u001b[39;00m \u001b[39ms\u001b[39;00m\n\u001b[0;32m      2\u001b[0m \u001b[39m@s\u001b[39;49m\u001b[39m.\u001b[39;49mstdin\u001b[39m.\u001b[39;49mreadline\n\u001b[1;32m----> 3\u001b[0m \u001b[39mdef\u001b[39;49;00m \u001b[39mr\u001b[39;49m(s : \u001b[39mstr\u001b[39;49m) :\n\u001b[0;32m      4\u001b[0m     \u001b[39mreturn\u001b[39;49;00m s\u001b[39m.\u001b[39;49mstdin\u001b[39m.\u001b[39;49mreadline(s)\u001b[39m.\u001b[39;49mrstrip()\n\u001b[0;32m      6\u001b[0m n \u001b[39m=\u001b[39m \u001b[39mint\u001b[39m(r())\n",
      "\u001b[1;31mTypeError\u001b[0m: 'function' object cannot be interpreted as an integer"
     ]
    }
   ],
   "source": [
    "import sys as s\n",
    "@s.stdin.readline\n",
    "def r(s : str) :\n",
    "    return s.stdin.readline(s).rstrip()\n",
    "\n",
    "n = int(r())\n",
    "for i in range(n) :\n",
    "    a, b = map(int, r())\n",
    "    print(a+b)"
   ]
  },
  {
   "cell_type": "code",
   "execution_count": 55,
   "metadata": {},
   "outputs": [
    {
     "ename": "ValueError",
     "evalue": "IPython won't let you open fd=0 by default as it is likely to crash IPython. If you know what you are doing, you can use builtins' open.",
     "output_type": "error",
     "traceback": [
      "\u001b[1;31m---------------------------------------------------------------------------\u001b[0m",
      "\u001b[1;31mValueError\u001b[0m                                Traceback (most recent call last)",
      "Cell \u001b[1;32mIn[55], line 8\u001b[0m\n\u001b[0;32m      1\u001b[0m \u001b[39m# 대체 이게 뭐야\u001b[39;00m\n\u001b[0;32m      2\u001b[0m \n\u001b[0;32m      3\u001b[0m \u001b[39m#도와줘! GPT!!!\u001b[39;00m\n\u001b[1;32m   (...)\u001b[0m\n\u001b[0;32m      6\u001b[0m \u001b[39m# 각 줄마다 l.split()을 통해 문자열을 공백으로 분리한 후, map 함수를 이용하여 int형으로 변환한다.\u001b[39;00m\n\u001b[0;32m      7\u001b[0m \u001b[39m# 변환된 값들을 sum 함수를 이용하여 모두 더한 후 출력한다.\u001b[39;00m\n\u001b[1;32m----> 8\u001b[0m \u001b[39mfor\u001b[39;00m l \u001b[39min\u001b[39;00m[\u001b[39m*\u001b[39m\u001b[39mopen\u001b[39;49m(\u001b[39m0\u001b[39;49m)][\u001b[39m1\u001b[39m:]:\n\u001b[0;32m      9\u001b[0m     \u001b[39mprint\u001b[39m(\u001b[39msum\u001b[39m(\u001b[39mmap\u001b[39m(\u001b[39mint\u001b[39m,l\u001b[39m.\u001b[39msplit())))\n",
      "File \u001b[1;32mc:\\Users\\hyenz\\anaconda\\lib\\site-packages\\IPython\\core\\interactiveshell.py:276\u001b[0m, in \u001b[0;36m_modified_open\u001b[1;34m(file, *args, **kwargs)\u001b[0m\n\u001b[0;32m    273\u001b[0m \u001b[39m@functools\u001b[39m\u001b[39m.\u001b[39mwraps(io_open)\n\u001b[0;32m    274\u001b[0m \u001b[39mdef\u001b[39;00m \u001b[39m_modified_open\u001b[39m(file, \u001b[39m*\u001b[39margs, \u001b[39m*\u001b[39m\u001b[39m*\u001b[39mkwargs):\n\u001b[0;32m    275\u001b[0m     \u001b[39mif\u001b[39;00m file \u001b[39min\u001b[39;00m {\u001b[39m0\u001b[39m, \u001b[39m1\u001b[39m, \u001b[39m2\u001b[39m}:\n\u001b[1;32m--> 276\u001b[0m         \u001b[39mraise\u001b[39;00m \u001b[39mValueError\u001b[39;00m(\n\u001b[0;32m    277\u001b[0m             \u001b[39mf\u001b[39m\u001b[39m\"\u001b[39m\u001b[39mIPython won\u001b[39m\u001b[39m'\u001b[39m\u001b[39mt let you open fd=\u001b[39m\u001b[39m{\u001b[39;00mfile\u001b[39m}\u001b[39;00m\u001b[39m by default \u001b[39m\u001b[39m\"\u001b[39m\n\u001b[0;32m    278\u001b[0m             \u001b[39m\"\u001b[39m\u001b[39mas it is likely to crash IPython. If you know what you are doing, \u001b[39m\u001b[39m\"\u001b[39m\n\u001b[0;32m    279\u001b[0m             \u001b[39m\"\u001b[39m\u001b[39myou can use builtins\u001b[39m\u001b[39m'\u001b[39m\u001b[39m open.\u001b[39m\u001b[39m\"\u001b[39m\n\u001b[0;32m    280\u001b[0m         )\n\u001b[0;32m    282\u001b[0m     \u001b[39mreturn\u001b[39;00m io_open(file, \u001b[39m*\u001b[39margs, \u001b[39m*\u001b[39m\u001b[39m*\u001b[39mkwargs)\n",
      "\u001b[1;31mValueError\u001b[0m: IPython won't let you open fd=0 by default as it is likely to crash IPython. If you know what you are doing, you can use builtins' open."
     ]
    }
   ],
   "source": [
    "# 대체 이게 뭐야\n",
    "\n",
    "#도와줘! GPT!!!\n",
    "\n",
    "# 첫 번째 줄에서 0번째 인덱스를 읽어와서 리스트로 만든 후, 1번째 인덱스부터 끝까지 슬라이싱하여 l에 할당한다.\n",
    "# 각 줄마다 l.split()을 통해 문자열을 공백으로 분리한 후, map 함수를 이용하여 int형으로 변환한다.\n",
    "# 변환된 값들을 sum 함수를 이용하여 모두 더한 후 출력한다.\n",
    "for l in[*open(0)][1:]:\n",
    "    print(sum(map(int,l.split())))"
   ]
  },
  {
   "cell_type": "code",
   "execution_count": null,
   "metadata": {},
   "outputs": [],
   "source": [
    "n = int(input())\n",
    "\n",
    "for i in range(n) :\n",
    "    a, b = map(int, input().split(' '))\n",
    "    print(f'Case #{i+1}: {a+b}')"
   ]
  },
  {
   "cell_type": "code",
   "execution_count": null,
   "metadata": {},
   "outputs": [],
   "source": [
    "n = int(input())\n",
    "\n",
    "for i in range(n) :\n",
    "    a, b = map(int, input().split(' '))\n",
    "    print(f'Case #{i+1}: {a} + {b} = {a+b}')"
   ]
  },
  {
   "cell_type": "code",
   "execution_count": 57,
   "metadata": {},
   "outputs": [
    {
     "name": "stdout",
     "output_type": "stream",
     "text": [
      "*\n",
      "**\n",
      "***\n",
      "****\n",
      "*****\n"
     ]
    }
   ],
   "source": [
    "n = int(input())\n",
    "for i in range(1, n+1) :\n",
    "    print('*' * i)"
   ]
  },
  {
   "cell_type": "code",
   "execution_count": 58,
   "metadata": {},
   "outputs": [
    {
     "data": {
      "text/plain": [
       "True"
      ]
     },
     "execution_count": 58,
     "metadata": {},
     "output_type": "execute_result"
    }
   ],
   "source": [
    "# 비트 연산자 NOT을 사용하여 n의 보수를 구하고,\n",
    "# 그 결과를 -1과 곱하면 n + 1이 된다.\n",
    "-~10 == 10+1\n"
   ]
  },
  {
   "cell_type": "code",
   "execution_count": 59,
   "metadata": {},
   "outputs": [
    {
     "name": "stdout",
     "output_type": "stream",
     "text": [
      "  *\n",
      " **\n",
      "***\n"
     ]
    }
   ],
   "source": [
    "n = int(input())\n",
    "for i in range(1, n+1) :\n",
    "    print(' '*(n-i) + '*'*i)"
   ]
  },
  {
   "cell_type": "code",
   "execution_count": 61,
   "metadata": {},
   "outputs": [
    {
     "name": "stdout",
     "output_type": "stream",
     "text": [
      "2\n",
      "5\n"
     ]
    }
   ],
   "source": [
    "while True :\n",
    "    n = list(map(int, input().split(' ')))\n",
    "    if sum(n) == 0 :\n",
    "        break\n",
    "    print(sum(n))"
   ]
  },
  {
   "cell_type": "code",
   "execution_count": 62,
   "metadata": {},
   "outputs": [
    {
     "name": "stdout",
     "output_type": "stream",
     "text": [
      "2\n",
      "5\n",
      "5\n"
     ]
    }
   ],
   "source": [
    "# 입력받은 문자열의 각 문자를 ASCII 코드로 변환\n",
    "# 2와 a를 XOR 연산한 후,\n",
    "# 그 결과의 합을 31로 나눈 나머지를 a에 할당하고,\n",
    "# a가 0이 아닐 때까지 반복한다.\n",
    "while a := sum(b'2%a' % input()) & 31:\n",
    "    print(a)  # a를 출력한다.\n",
    "    \n",
    "# ????????????????????????????\n",
    "# 무슨 소리야 대체\n"
   ]
  },
  {
   "cell_type": "code",
   "execution_count": null,
   "metadata": {},
   "outputs": [],
   "source": [
    "while True :\n",
    "    try :\n",
    "        a, b = map(int, input().split(' '))\n",
    "        print(a+b)\n",
    "    except :\n",
    "        break   "
   ]
  },
  {
   "cell_type": "code",
   "execution_count": 64,
   "metadata": {},
   "outputs": [
    {
     "name": "stdout",
     "output_type": "stream",
     "text": [
      "\u001b[1;31mSignature:\u001b[0m\n",
      "\u001b[0mopen\u001b[0m\u001b[1;33m(\u001b[0m\u001b[1;33m\n",
      "\u001b[0m    \u001b[0mfile\u001b[0m\u001b[1;33m,\u001b[0m\u001b[1;33m\n",
      "\u001b[0m    \u001b[0mmode\u001b[0m\u001b[1;33m=\u001b[0m\u001b[1;34m'r'\u001b[0m\u001b[1;33m,\u001b[0m\u001b[1;33m\n",
      "\u001b[0m    \u001b[0mbuffering\u001b[0m\u001b[1;33m=\u001b[0m\u001b[1;33m-\u001b[0m\u001b[1;36m1\u001b[0m\u001b[1;33m,\u001b[0m\u001b[1;33m\n",
      "\u001b[0m    \u001b[0mencoding\u001b[0m\u001b[1;33m=\u001b[0m\u001b[1;32mNone\u001b[0m\u001b[1;33m,\u001b[0m\u001b[1;33m\n",
      "\u001b[0m    \u001b[0merrors\u001b[0m\u001b[1;33m=\u001b[0m\u001b[1;32mNone\u001b[0m\u001b[1;33m,\u001b[0m\u001b[1;33m\n",
      "\u001b[0m    \u001b[0mnewline\u001b[0m\u001b[1;33m=\u001b[0m\u001b[1;32mNone\u001b[0m\u001b[1;33m,\u001b[0m\u001b[1;33m\n",
      "\u001b[0m    \u001b[0mclosefd\u001b[0m\u001b[1;33m=\u001b[0m\u001b[1;32mTrue\u001b[0m\u001b[1;33m,\u001b[0m\u001b[1;33m\n",
      "\u001b[0m    \u001b[0mopener\u001b[0m\u001b[1;33m=\u001b[0m\u001b[1;32mNone\u001b[0m\u001b[1;33m,\u001b[0m\u001b[1;33m\n",
      "\u001b[0m\u001b[1;33m)\u001b[0m\u001b[1;33m\u001b[0m\u001b[1;33m\u001b[0m\u001b[0m\n",
      "\u001b[1;31mDocstring:\u001b[0m\n",
      "Open file and return a stream.  Raise OSError upon failure.\n",
      "\n",
      "file is either a text or byte string giving the name (and the path\n",
      "if the file isn't in the current working directory) of the file to\n",
      "be opened or an integer file descriptor of the file to be\n",
      "wrapped. (If a file descriptor is given, it is closed when the\n",
      "returned I/O object is closed, unless closefd is set to False.)\n",
      "\n",
      "mode is an optional string that specifies the mode in which the file\n",
      "is opened. It defaults to 'r' which means open for reading in text\n",
      "mode.  Other common values are 'w' for writing (truncating the file if\n",
      "it already exists), 'x' for creating and writing to a new file, and\n",
      "'a' for appending (which on some Unix systems, means that all writes\n",
      "append to the end of the file regardless of the current seek position).\n",
      "In text mode, if encoding is not specified the encoding used is platform\n",
      "dependent: locale.getpreferredencoding(False) is called to get the\n",
      "current locale encoding. (For reading and writing raw bytes use binary\n",
      "mode and leave encoding unspecified.) The available modes are:\n",
      "\n",
      "========= ===============================================================\n",
      "Character Meaning\n",
      "--------- ---------------------------------------------------------------\n",
      "'r'       open for reading (default)\n",
      "'w'       open for writing, truncating the file first\n",
      "'x'       create a new file and open it for writing\n",
      "'a'       open for writing, appending to the end of the file if it exists\n",
      "'b'       binary mode\n",
      "'t'       text mode (default)\n",
      "'+'       open a disk file for updating (reading and writing)\n",
      "'U'       universal newline mode (deprecated)\n",
      "========= ===============================================================\n",
      "\n",
      "The default mode is 'rt' (open for reading text). For binary random\n",
      "access, the mode 'w+b' opens and truncates the file to 0 bytes, while\n",
      "'r+b' opens the file without truncation. The 'x' mode implies 'w' and\n",
      "raises an `FileExistsError` if the file already exists.\n",
      "\n",
      "Python distinguishes between files opened in binary and text modes,\n",
      "even when the underlying operating system doesn't. Files opened in\n",
      "binary mode (appending 'b' to the mode argument) return contents as\n",
      "bytes objects without any decoding. In text mode (the default, or when\n",
      "'t' is appended to the mode argument), the contents of the file are\n",
      "returned as strings, the bytes having been first decoded using a\n",
      "platform-dependent encoding or using the specified encoding if given.\n",
      "\n",
      "'U' mode is deprecated and will raise an exception in future versions\n",
      "of Python.  It has no effect in Python 3.  Use newline to control\n",
      "universal newlines mode.\n",
      "\n",
      "buffering is an optional integer used to set the buffering policy.\n",
      "Pass 0 to switch buffering off (only allowed in binary mode), 1 to select\n",
      "line buffering (only usable in text mode), and an integer > 1 to indicate\n",
      "the size of a fixed-size chunk buffer.  When no buffering argument is\n",
      "given, the default buffering policy works as follows:\n",
      "\n",
      "* Binary files are buffered in fixed-size chunks; the size of the buffer\n",
      "  is chosen using a heuristic trying to determine the underlying device's\n",
      "  \"block size\" and falling back on `io.DEFAULT_BUFFER_SIZE`.\n",
      "  On many systems, the buffer will typically be 4096 or 8192 bytes long.\n",
      "\n",
      "* \"Interactive\" text files (files for which isatty() returns True)\n",
      "  use line buffering.  Other text files use the policy described above\n",
      "  for binary files.\n",
      "\n",
      "encoding is the name of the encoding used to decode or encode the\n",
      "file. This should only be used in text mode. The default encoding is\n",
      "platform dependent, but any encoding supported by Python can be\n",
      "passed.  See the codecs module for the list of supported encodings.\n",
      "\n",
      "errors is an optional string that specifies how encoding errors are to\n",
      "be handled---this argument should not be used in binary mode. Pass\n",
      "'strict' to raise a ValueError exception if there is an encoding error\n",
      "(the default of None has the same effect), or pass 'ignore' to ignore\n",
      "errors. (Note that ignoring encoding errors can lead to data loss.)\n",
      "See the documentation for codecs.register or run 'help(codecs.Codec)'\n",
      "for a list of the permitted encoding error strings.\n",
      "\n",
      "newline controls how universal newlines works (it only applies to text\n",
      "mode). It can be None, '', '\\n', '\\r', and '\\r\\n'.  It works as\n",
      "follows:\n",
      "\n",
      "* On input, if newline is None, universal newlines mode is\n",
      "  enabled. Lines in the input can end in '\\n', '\\r', or '\\r\\n', and\n",
      "  these are translated into '\\n' before being returned to the\n",
      "  caller. If it is '', universal newline mode is enabled, but line\n",
      "  endings are returned to the caller untranslated. If it has any of\n",
      "  the other legal values, input lines are only terminated by the given\n",
      "  string, and the line ending is returned to the caller untranslated.\n",
      "\n",
      "* On output, if newline is None, any '\\n' characters written are\n",
      "  translated to the system default line separator, os.linesep. If\n",
      "  newline is '' or '\\n', no translation takes place. If newline is any\n",
      "  of the other legal values, any '\\n' characters written are translated\n",
      "  to the given string.\n",
      "\n",
      "If closefd is False, the underlying file descriptor will be kept open\n",
      "when the file is closed. This does not work when a file name is given\n",
      "and must be True in that case.\n",
      "\n",
      "A custom opener can be used by passing a callable as *opener*. The\n",
      "underlying file descriptor for the file object is then obtained by\n",
      "calling *opener* with (*file*, *flags*). *opener* must return an open\n",
      "file descriptor (passing os.open as *opener* results in functionality\n",
      "similar to passing None).\n",
      "\n",
      "open() returns a file object whose type depends on the mode, and\n",
      "through which the standard file operations such as reading and writing\n",
      "are performed. When open() is used to open a file in a text mode ('w',\n",
      "'r', 'wt', 'rt', etc.), it returns a TextIOWrapper. When used to open\n",
      "a file in a binary mode, the returned class varies: in read binary\n",
      "mode, it returns a BufferedReader; in write binary and append binary\n",
      "modes, it returns a BufferedWriter, and in read/write mode, it returns\n",
      "a BufferedRandom.\n",
      "\n",
      "It is also possible to use a string or bytearray as a file for both\n",
      "reading and writing. For strings StringIO can be used like a file\n",
      "opened in a text mode, and for bytes a BytesIO can be used like a file\n",
      "opened in a binary mode.\n",
      "\u001b[1;31mType:\u001b[0m      function"
     ]
    }
   ],
   "source": [
    "# 표준 입력으로 문자열이 입력됩니다.\n",
    "# 입력된 문자열을 바이트 문자열로 변환합니다.\n",
    "# 변환된 바이트 문자열을 파일로 저장합니다.\n",
    "open(0)\n"
   ]
  },
  {
   "cell_type": "code",
   "execution_count": 65,
   "metadata": {},
   "outputs": [
    {
     "name": "stdout",
     "output_type": "stream",
     "text": [
      "2\n"
     ]
    }
   ],
   "source": [
    "n = int(input())\n",
    "l = list(map(int, input().split(' ')))\n",
    "v = int(input())\n",
    "print(l.count(v))"
   ]
  },
  {
   "cell_type": "code",
   "execution_count": null,
   "metadata": {},
   "outputs": [],
   "source": [
    "n, x = map(int, input().split(' '))\n",
    "l = list(map(int, input().split(' ')))\n",
    "l = [v for v in l if v < x]\n",
    "for i in l :\n",
    "    print(i, end=' ')"
   ]
  },
  {
   "cell_type": "code",
   "execution_count": null,
   "metadata": {},
   "outputs": [],
   "source": [
    "n = int(input())\n",
    "l = list(map(int, input().split(' ')))\n",
    "print(min(l), max(l))"
   ]
  },
  {
   "cell_type": "code",
   "execution_count": null,
   "metadata": {},
   "outputs": [],
   "source": [
    "l = []\n",
    "for _ in range(9) :\n",
    "    l.append(int(input()))\n",
    "n = max(l)\n",
    "print(f'{n}\\n{l.index(n)+1}')"
   ]
  },
  {
   "cell_type": "code",
   "execution_count": 90,
   "metadata": {},
   "outputs": [
    {
     "name": "stdout",
     "output_type": "stream",
     "text": [
      "6 8   [0, 0, 0, 0, 0, 0]\n",
      "1 5 6 [6, 6, 6, 6, 6, 0]\n",
      "2 4 3 [6, 3, 3, 3, 6, 0]\n",
      "4 6 1 [6, 3, 3, 1, 1, 1]\n",
      "1 6 2 [2, 2, 2, 2, 2, 2]\n",
      "3 4 5 [2, 2, 5, 5, 2, 2]\n",
      "1 2 2 [2, 2, 5, 5, 2, 2]\n",
      "2 3 1 [2, 1, 1, 5, 2, 2]\n",
      "6 6 6 [2, 1, 1, 5, 2, 6]\n",
      "2 1 1 5 2 6\n"
     ]
    }
   ],
   "source": [
    "n, m = map(int, input().split(' '))\n",
    "b = [0 for _ in range(n)]\n",
    "print(n, m,' ' ,b)\n",
    "for _ in range(m) :\n",
    "    i, j, k = map(int, input().split(' '))\n",
    "    b[i-1:j] = [k for __ in range(j-i+1)]\n",
    "    print(i, j, k, b)\n",
    "s = ''\n",
    "for i in b :\n",
    "    s += f'{i} '\n",
    "print(s.rstrip())"
   ]
  },
  {
   "cell_type": "code",
   "execution_count": 87,
   "metadata": {},
   "outputs": [
    {
     "name": "stdout",
     "output_type": "stream",
     "text": [
      "[1, 0, 0, 0, 0, 0]\n"
     ]
    }
   ],
   "source": [
    "b= [0 for _ in range(6)]\n",
    "b[0:1] = [1]\n",
    "print(b)"
   ]
  },
  {
   "cell_type": "code",
   "execution_count": 94,
   "metadata": {},
   "outputs": [
    {
     "name": "stdout",
     "output_type": "stream",
     "text": [
      "1\n"
     ]
    }
   ],
   "source": [
    "n, m = map(int, input().split(' '))\n",
    "b = [0 for _ in range(n)]\n",
    "for _ in range(m) :\n",
    "    i, j, k = map(int, input().split(' '))\n",
    "    b[i-1:j] = [k for __ in range(j-i+1)]\n",
    "print(*b)"
   ]
  },
  {
   "cell_type": "code",
   "execution_count": 97,
   "metadata": {},
   "outputs": [
    {
     "name": "stdout",
     "output_type": "stream",
     "text": [
      "1 2 3 4 5\n",
      "2 1 3 4 5\n",
      "2 1 4 3 5\n",
      "3 1 4 2 5\n",
      "3 1 4 2 5\n",
      "3 1 4 2 5\n"
     ]
    }
   ],
   "source": [
    "n, m = map(int, input().split(' '))\n",
    "b = [v+1 for v in range(n)]\n",
    "for _ in range(m) :\n",
    "    i, j = map(int, input().split(' '))\n",
    "    b[i-1], b[j-1] = b[j-1], b[i-1]\n",
    "print(*b)"
   ]
  },
  {
   "cell_type": "code",
   "execution_count": null,
   "metadata": {},
   "outputs": [],
   "source": [
    "s = [*range(1,31)]\n",
    "for _ in range(28) :\n",
    "    s.remove(int(input()))\n",
    "print(f'{s[0]}\\n{s[1]}')\n",
    "    "
   ]
  },
  {
   "cell_type": "code",
   "execution_count": null,
   "metadata": {},
   "outputs": [],
   "source": [
    "s=[*range(1,31)]\n",
    "for _ in range(28):s.remove(int(input()))\n",
    "print(*s)\n",
    "\n",
    "print(*s)"
   ]
  },
  {
   "cell_type": "code",
   "execution_count": 101,
   "metadata": {},
   "outputs": [
    {
     "name": "stdout",
     "output_type": "stream",
     "text": [
      "1 28\n"
     ]
    }
   ],
   "source": [
    "s=[1,28]\n",
    "print(*s)"
   ]
  },
  {
   "cell_type": "code",
   "execution_count": null,
   "metadata": {},
   "outputs": [],
   "source": [
    "s=[*range(1,31)]\n",
    "for _ in range(28):s.remove(int(input()))\n",
    "print(*s)"
   ]
  },
  {
   "cell_type": "code",
   "execution_count": 102,
   "metadata": {},
   "outputs": [
    {
     "data": {
      "text/plain": [
       "True"
      ]
     },
     "execution_count": 102,
     "metadata": {},
     "output_type": "execute_result"
    }
   ],
   "source": [
    "a = r'''s=[*range(1,31)]\n",
    "while Ture:s.remove(int(input()))\n",
    "except:break\n",
    "print(*s)'''\n",
    "\n",
    "b = r'''s=[*range(1,31)]\n",
    "for _ in range(28):s.remove(int(input()))\n",
    "print(*s)'''\n",
    "\n",
    "len(a) > len(b)"
   ]
  },
  {
   "cell_type": "code",
   "execution_count": 105,
   "metadata": {},
   "outputs": [
    {
     "ename": "ValueError",
     "evalue": "IPython won't let you open fd=0 by default as it is likely to crash IPython. If you know what you are doing, you can use builtins' open.",
     "output_type": "error",
     "traceback": [
      "\u001b[1;31m---------------------------------------------------------------------------\u001b[0m",
      "\u001b[1;31mValueError\u001b[0m                                Traceback (most recent call last)",
      "Cell \u001b[1;32mIn[105], line 1\u001b[0m\n\u001b[1;32m----> 1\u001b[0m s\u001b[39m=\u001b[39m\u001b[39mset\u001b[39m([\u001b[39m*\u001b[39m\u001b[39mmap\u001b[39m(\u001b[39mint\u001b[39m,\u001b[39mopen\u001b[39;49m(\u001b[39m0\u001b[39;49m))])\n\u001b[0;32m      2\u001b[0m \u001b[39mprint\u001b[39m(\u001b[39mlen\u001b[39m(s))\n",
      "File \u001b[1;32mc:\\Users\\hyenz\\anaconda\\lib\\site-packages\\IPython\\core\\interactiveshell.py:276\u001b[0m, in \u001b[0;36m_modified_open\u001b[1;34m(file, *args, **kwargs)\u001b[0m\n\u001b[0;32m    273\u001b[0m \u001b[39m@functools\u001b[39m\u001b[39m.\u001b[39mwraps(io_open)\n\u001b[0;32m    274\u001b[0m \u001b[39mdef\u001b[39;00m \u001b[39m_modified_open\u001b[39m(file, \u001b[39m*\u001b[39margs, \u001b[39m*\u001b[39m\u001b[39m*\u001b[39mkwargs):\n\u001b[0;32m    275\u001b[0m     \u001b[39mif\u001b[39;00m file \u001b[39min\u001b[39;00m {\u001b[39m0\u001b[39m, \u001b[39m1\u001b[39m, \u001b[39m2\u001b[39m}:\n\u001b[1;32m--> 276\u001b[0m         \u001b[39mraise\u001b[39;00m \u001b[39mValueError\u001b[39;00m(\n\u001b[0;32m    277\u001b[0m             \u001b[39mf\u001b[39m\u001b[39m\"\u001b[39m\u001b[39mIPython won\u001b[39m\u001b[39m'\u001b[39m\u001b[39mt let you open fd=\u001b[39m\u001b[39m{\u001b[39;00mfile\u001b[39m}\u001b[39;00m\u001b[39m by default \u001b[39m\u001b[39m\"\u001b[39m\n\u001b[0;32m    278\u001b[0m             \u001b[39m\"\u001b[39m\u001b[39mas it is likely to crash IPython. If you know what you are doing, \u001b[39m\u001b[39m\"\u001b[39m\n\u001b[0;32m    279\u001b[0m             \u001b[39m\"\u001b[39m\u001b[39myou can use builtins\u001b[39m\u001b[39m'\u001b[39m\u001b[39m open.\u001b[39m\u001b[39m\"\u001b[39m\n\u001b[0;32m    280\u001b[0m         )\n\u001b[0;32m    282\u001b[0m     \u001b[39mreturn\u001b[39;00m io_open(file, \u001b[39m*\u001b[39margs, \u001b[39m*\u001b[39m\u001b[39m*\u001b[39mkwargs)\n",
      "\u001b[1;31mValueError\u001b[0m: IPython won't let you open fd=0 by default as it is likely to crash IPython. If you know what you are doing, you can use builtins' open."
     ]
    }
   ],
   "source": [
    "s=set([i%42 for i in [*map(int,open(0))]])\n",
    "\n",
    "print(len(set([i%42 for i in [*map(int,open(0))]])))"
   ]
  },
  {
   "cell_type": "code",
   "execution_count": 110,
   "metadata": {},
   "outputs": [
    {
     "ename": "ValueError",
     "evalue": "IPython won't let you open fd=0 by default as it is likely to crash IPython. If you know what you are doing, you can use builtins' open.",
     "output_type": "error",
     "traceback": [
      "\u001b[1;31m---------------------------------------------------------------------------\u001b[0m",
      "\u001b[1;31mValueError\u001b[0m                                Traceback (most recent call last)",
      "Cell \u001b[1;32mIn[110], line 1\u001b[0m\n\u001b[1;32m----> 1\u001b[0m \u001b[39mopen\u001b[39;49m(\u001b[39m0\u001b[39;49m)\n",
      "File \u001b[1;32mc:\\Users\\hyenz\\anaconda\\lib\\site-packages\\IPython\\core\\interactiveshell.py:276\u001b[0m, in \u001b[0;36m_modified_open\u001b[1;34m(file, *args, **kwargs)\u001b[0m\n\u001b[0;32m    273\u001b[0m \u001b[39m@functools\u001b[39m\u001b[39m.\u001b[39mwraps(io_open)\n\u001b[0;32m    274\u001b[0m \u001b[39mdef\u001b[39;00m \u001b[39m_modified_open\u001b[39m(file, \u001b[39m*\u001b[39margs, \u001b[39m*\u001b[39m\u001b[39m*\u001b[39mkwargs):\n\u001b[0;32m    275\u001b[0m     \u001b[39mif\u001b[39;00m file \u001b[39min\u001b[39;00m {\u001b[39m0\u001b[39m, \u001b[39m1\u001b[39m, \u001b[39m2\u001b[39m}:\n\u001b[1;32m--> 276\u001b[0m         \u001b[39mraise\u001b[39;00m \u001b[39mValueError\u001b[39;00m(\n\u001b[0;32m    277\u001b[0m             \u001b[39mf\u001b[39m\u001b[39m\"\u001b[39m\u001b[39mIPython won\u001b[39m\u001b[39m'\u001b[39m\u001b[39mt let you open fd=\u001b[39m\u001b[39m{\u001b[39;00mfile\u001b[39m}\u001b[39;00m\u001b[39m by default \u001b[39m\u001b[39m\"\u001b[39m\n\u001b[0;32m    278\u001b[0m             \u001b[39m\"\u001b[39m\u001b[39mas it is likely to crash IPython. If you know what you are doing, \u001b[39m\u001b[39m\"\u001b[39m\n\u001b[0;32m    279\u001b[0m             \u001b[39m\"\u001b[39m\u001b[39myou can use builtins\u001b[39m\u001b[39m'\u001b[39m\u001b[39m open.\u001b[39m\u001b[39m\"\u001b[39m\n\u001b[0;32m    280\u001b[0m         )\n\u001b[0;32m    282\u001b[0m     \u001b[39mreturn\u001b[39;00m io_open(file, \u001b[39m*\u001b[39margs, \u001b[39m*\u001b[39m\u001b[39m*\u001b[39mkwargs)\n",
      "\u001b[1;31mValueError\u001b[0m: IPython won't let you open fd=0 by default as it is likely to crash IPython. If you know what you are doing, you can use builtins' open."
     ]
    }
   ],
   "source": [
    "print(len({int(i)%42 for i in open(0)}))"
   ]
  },
  {
   "cell_type": "code",
   "execution_count": null,
   "metadata": {},
   "outputs": [],
   "source": [
    "f=lambda:map(int,input().split())\n",
    "n,m=f()\n",
    "b=[*range(1,n+1)]\n",
    "for _ in range(m):\n",
    " i,j=f()\n",
    " b[i-1:j]=b[i-1:j][::-1]\n",
    "print(*b)"
   ]
  },
  {
   "cell_type": "code",
   "execution_count": 111,
   "metadata": {},
   "outputs": [
    {
     "name": "stdout",
     "output_type": "stream",
     "text": [
      "[1, 4, 3, 2, 5]\n"
     ]
    }
   ],
   "source": [
    "b = [*range(1, 6)]\n",
    "i, j = 2, 4\n",
    "b[i-1:j] = b[i-1:j][::-1]\n",
    "print(b)"
   ]
  },
  {
   "cell_type": "code",
   "execution_count": 112,
   "metadata": {},
   "outputs": [
    {
     "data": {
      "text/plain": [
       "['1', '2']"
      ]
     },
     "execution_count": 112,
     "metadata": {},
     "output_type": "execute_result"
    }
   ],
   "source": [
    "input().split()\n",
    "[1:]"
   ]
  },
  {
   "cell_type": "code",
   "execution_count": 120,
   "metadata": {},
   "outputs": [
    {
     "name": "stdout",
     "output_type": "stream",
     "text": [
      "3\n",
      "[50.0, 75.0, 100.0]\n",
      "75.0\n"
     ]
    }
   ],
   "source": [
    "n=int(input())\n",
    "l=list(map(int,input().split()))\n",
    "print(sum(l)*100/max(l)/n)"
   ]
  },
  {
   "cell_type": "code",
   "execution_count": 118,
   "metadata": {},
   "outputs": [
    {
     "data": {
      "text/plain": [
       "50.0"
      ]
     },
     "execution_count": 118,
     "metadata": {},
     "output_type": "execute_result"
    }
   ],
   "source": [
    "40/80*100"
   ]
  },
  {
   "cell_type": "code",
   "execution_count": 119,
   "metadata": {},
   "outputs": [
    {
     "data": {
      "text/plain": [
       "62.5"
      ]
     },
     "execution_count": 119,
     "metadata": {},
     "output_type": "execute_result"
    }
   ],
   "source": [
    "50/80*100"
   ]
  },
  {
   "cell_type": "code",
   "execution_count": 121,
   "metadata": {},
   "outputs": [
    {
     "data": {
      "text/plain": [
       "24"
      ]
     },
     "execution_count": 121,
     "metadata": {},
     "output_type": "execute_result"
    }
   ],
   "source": [
    "len(r\"\"\"s=input()\n",
    "n=int(input())\"\"\")"
   ]
  },
  {
   "cell_type": "code",
   "execution_count": 125,
   "metadata": {},
   "outputs": [
    {
     "data": {
      "text/plain": [
       "34"
      ]
     },
     "execution_count": 125,
     "metadata": {},
     "output_type": "execute_result"
    }
   ],
   "source": [
    "len(r\"\"\"*l=map(int,open(0).read().split())\"\"\")"
   ]
  },
  {
   "cell_type": "code",
   "execution_count": 126,
   "metadata": {},
   "outputs": [],
   "source": [
    "s,n=input(),int(input())\n",
    "print(s[n-1])"
   ]
  },
  {
   "cell_type": "code",
   "execution_count": 128,
   "metadata": {},
   "outputs": [
    {
     "data": {
      "text/plain": [
       "8"
      ]
     },
     "execution_count": 128,
     "metadata": {},
     "output_type": "execute_result"
    }
   ],
   "source": [
    "len(input())"
   ]
  },
  {
   "cell_type": "code",
   "execution_count": 129,
   "metadata": {},
   "outputs": [
    {
     "name": "stdout",
     "output_type": "stream",
     "text": [
      "sg\n"
     ]
    },
    {
     "ename": "IndexError",
     "evalue": "string index out of range",
     "output_type": "error",
     "traceback": [
      "\u001b[1;31m---------------------------------------------------------------------------\u001b[0m",
      "\u001b[1;31mIndexError\u001b[0m                                Traceback (most recent call last)",
      "Cell \u001b[1;32mIn[129], line 4\u001b[0m\n\u001b[0;32m      2\u001b[0m \u001b[39mfor\u001b[39;00m _ \u001b[39min\u001b[39;00m \u001b[39mrange\u001b[39m(n):\n\u001b[0;32m      3\u001b[0m  s\u001b[39m=\u001b[39m\u001b[39minput\u001b[39m()\n\u001b[1;32m----> 4\u001b[0m  \u001b[39mprint\u001b[39m(\u001b[39mf\u001b[39m\u001b[39m'\u001b[39m\u001b[39m{\u001b[39;00ms[\u001b[39m1\u001b[39m]\u001b[39m}\u001b[39;00m\u001b[39m{\u001b[39;00ms[\u001b[39m-\u001b[39m\u001b[39m1\u001b[39m]\u001b[39m}\u001b[39;00m\u001b[39m'\u001b[39m)\n",
      "\u001b[1;31mIndexError\u001b[0m: string index out of range"
     ]
    }
   ],
   "source": [
    "n=int(input())\n",
    "for _ in range(n):\n",
    " s=input()\n",
    " print(f'{s[0]}{s[-1]}')"
   ]
  },
  {
   "cell_type": "code",
   "execution_count": 130,
   "metadata": {},
   "outputs": [
    {
     "name": "stdout",
     "output_type": "stream",
     "text": [
      "97\n"
     ]
    }
   ],
   "source": [
    "print(ord(input()))"
   ]
  },
  {
   "cell_type": "code",
   "execution_count": 133,
   "metadata": {},
   "outputs": [
    {
     "data": {
      "text/plain": [
       "['1', '2', '3', '4', '1', '2']"
      ]
     },
     "execution_count": 133,
     "metadata": {},
     "output_type": "execute_result"
    }
   ],
   "source": [
    "list('123412')"
   ]
  },
  {
   "cell_type": "code",
   "execution_count": 134,
   "metadata": {},
   "outputs": [
    {
     "data": {
      "text/plain": [
       "12"
      ]
     },
     "execution_count": 134,
     "metadata": {},
     "output_type": "execute_result"
    }
   ],
   "source": [
    "input()\n",
    "print(sum(int(v) for v in list(input())))"
   ]
  },
  {
   "cell_type": "code",
   "execution_count": null,
   "metadata": {},
   "outputs": [],
   "source": [
    "s=input()\n",
    "print(*[s.find(chr(v))for v in [*range(97,123)]])"
   ]
  },
  {
   "cell_type": "code",
   "execution_count": null,
   "metadata": {},
   "outputs": [],
   "source": [
    "# map은 함수와 반복 가능한 객체를 입력밀 받아서\n",
    "# 함수를 반복 가능한 객체의 각 요소에 적용한 결과를\n",
    "# 묶어서 리턴한다.\n",
    "print(\n",
    "    *map(input().find,\n",
    "         map(\n",
    "             chr,\n",
    "             range(97,123)\n",
    "             )\n",
    "         )\n",
    "    )"
   ]
  },
  {
   "cell_type": "code",
   "execution_count": null,
   "metadata": {},
   "outputs": [],
   "source": [
    "n=int(input())\n",
    "for _ in range(n):\n",
    " r,a=input().split()\n",
    " print(*[v*int(r)for v in a],sep='')"
   ]
  },
  {
   "cell_type": "code",
   "execution_count": 135,
   "metadata": {},
   "outputs": [
    {
     "name": "stdout",
     "output_type": "stream",
     "text": [
      "0\n"
     ]
    }
   ],
   "source": [
    "print(len(input().split()))"
   ]
  },
  {
   "cell_type": "code",
   "execution_count": null,
   "metadata": {},
   "outputs": [],
   "source": [
    "a,b=input().split()\n",
    "a,b=map(int,[a[::-1],b[::-1]])\n",
    "print(max(a,b))"
   ]
  },
  {
   "cell_type": "code",
   "execution_count": null,
   "metadata": {},
   "outputs": [],
   "source": [
    "print(max(input()[::-1].split()))"
   ]
  },
  {
   "cell_type": "code",
   "execution_count": 136,
   "metadata": {},
   "outputs": [
    {
     "data": {
      "text/plain": [
       "['654', '321']"
      ]
     },
     "execution_count": 136,
     "metadata": {},
     "output_type": "execute_result"
    }
   ],
   "source": [
    "input()[::-1].split()"
   ]
  },
  {
   "cell_type": "code",
   "execution_count": 137,
   "metadata": {},
   "outputs": [
    {
     "data": {
      "text/plain": [
       "-1"
      ]
     },
     "execution_count": 137,
     "metadata": {},
     "output_type": "execute_result"
    }
   ],
   "source": [
    "'abc'.find('d')"
   ]
  },
  {
   "cell_type": "code",
   "execution_count": 148,
   "metadata": {},
   "outputs": [
    {
     "name": "stdout",
     "output_type": "stream",
     "text": [
      "('A', 3)\n",
      "('B', 3)\n",
      "('C', 3)\n",
      "('D', 4)\n",
      "('E', 4)\n",
      "('F', 4)\n",
      "('G', 5)\n",
      "('H', 5)\n",
      "('I', 5)\n",
      "('J', 6)\n",
      "('K', 6)\n",
      "('L', 6)\n",
      "('M', 7)\n",
      "('N', 7)\n",
      "('O', 7)\n",
      "('P', 8)\n",
      "('Q', 8)\n",
      "('R', 8)\n",
      "('S', 8)\n",
      "('T', 9)\n",
      "('U', 9)\n",
      "('V', 9)\n",
      "('W', 10)\n",
      "('X', 10)\n",
      "('Y', 10)\n",
      "('Z', 10)\n",
      "36\n"
     ]
    }
   ],
   "source": [
    "l = [3 for _ in range(2, 10)]\n",
    "l[7-2], l[9-2] = 4, 4\n",
    "a = [*range(65, 91)]\n",
    "n = ''\n",
    "for i in range(2, 10) :\n",
    "    n += str(i) * l[i-2]\n",
    "\n",
    "b = {chr(a[i]) : int(n[i])+1 for i in range(26)}\n",
    "#print(*b.items(),sep='\\n')\n",
    "\n",
    "time = 0\n",
    "for i in input() :\n",
    "    time += b[i]\n",
    "print(time)\n",
    "\n"
   ]
  },
  {
   "cell_type": "code",
   "execution_count": null,
   "metadata": {},
   "outputs": [],
   "source": [
    "while True :\n",
    "    try :\n",
    "        print(input())\n",
    "    except :\n",
    "        break"
   ]
  },
  {
   "cell_type": "code",
   "execution_count": null,
   "metadata": {},
   "outputs": [],
   "source": [
    "print(r'''         ,r'\"7\n",
    "r`-_   ,'  ,/\n",
    " \\. \". L_r'\n",
    "   `~\\/\n",
    "      |\n",
    "      |''')"
   ]
  },
  {
   "cell_type": "code",
   "execution_count": 151,
   "metadata": {},
   "outputs": [
    {
     "data": {
      "text/plain": [
       "True"
      ]
     },
     "execution_count": 151,
     "metadata": {},
     "output_type": "execute_result"
    }
   ],
   "source": [
    "n=list(map(int,input().split()))\n",
    "for i in range(6):\n",
    " print([1,1,2,2,2,8][i]-n[i],end=' ')"
   ]
  },
  {
   "cell_type": "code",
   "execution_count": 154,
   "metadata": {},
   "outputs": [
    {
     "data": {
      "text/plain": [
       "True"
      ]
     },
     "execution_count": 154,
     "metadata": {},
     "output_type": "execute_result"
    }
   ],
   "source": [
    "len(r'''int('112228'[i])''') == len(r'''[1,1,2,2,2,8][i]''')"
   ]
  },
  {
   "attachments": {},
   "cell_type": "markdown",
   "metadata": {},
   "source": [
    "# 백준 6 (심화 1) - 2 까지 풀었음"
   ]
  },
  {
   "cell_type": "code",
   "execution_count": 1,
   "metadata": {},
   "outputs": [],
   "source": [
    "def is_palindrome(s : str) -> 0 or 1 :\n",
    "    \"\"\"\n",
    "    어떠한 수를 거꾸로 읽어도 똑같은 문자열을 팰린드롬(palindrome)이라고 한다.\n",
    "    \n",
    "    Args:\n",
    "        num (type{str}): 펠린드롬인지 확인 할 문자\n",
    "\n",
    "    Returns:\n",
    "        0 or 1: 팰린드롬이면 1, 아니면 0\n",
    "    \"\"\"\n",
    "    result = 1\n",
    "\n",
    "    # 문자열의 절반만 반복\n",
    "    for i in range(len(s)//2) :\n",
    "        if s[i] != s[len(s)-i-1] :    # 앞뒤로 비교\n",
    "            result = 0\n",
    "            break\n",
    "\n",
    "    return result"
   ]
  },
  {
   "cell_type": "code",
   "execution_count": 2,
   "metadata": {},
   "outputs": [
    {
     "name": "stdout",
     "output_type": "stream",
     "text": [
      "1\n"
     ]
    }
   ],
   "source": [
    "def is_palindrome(s : str) -> 0 or 1 :\n",
    "    \"\"\"\n",
    "    어떠한 수를 거꾸로 읽어도 똑같은 문자열을 팰린드롬(palindrome)이라고 한다.\n",
    "    \n",
    "    Args:\n",
    "        num (type{str}): 펠린드롬인지 확인 할 문자\n",
    "\n",
    "    Returns:\n",
    "        0 or 1: 팰린드롬이면 1, 아니면 0\n",
    "    \"\"\"\n",
    "    result = 1\n",
    "\n",
    "    # 문자열의 절반만 반복\n",
    "    for i in range(len(s)//2) :\n",
    "        if s[i] != s[len(s)-i-1] :    # 앞뒤로 비교\n",
    "            result = 0\n",
    "            break\n",
    "\n",
    "    return result\n",
    "\n",
    "s = input()\n",
    "print(is_palindrome(s))"
   ]
  },
  {
   "cell_type": "code",
   "execution_count": 3,
   "metadata": {},
   "outputs": [
    {
     "ename": "KeyboardInterrupt",
     "evalue": "Interrupted by user",
     "output_type": "error",
     "traceback": [
      "\u001b[1;31m---------------------------------------------------------------------------\u001b[0m",
      "\u001b[1;31mKeyboardInterrupt\u001b[0m                         Traceback (most recent call last)",
      "Cell \u001b[1;32mIn[3], line 1\u001b[0m\n\u001b[1;32m----> 1\u001b[0m s \u001b[39m=\u001b[39m \u001b[39minput\u001b[39;49m()\n\u001b[0;32m      2\u001b[0m lo, up \u001b[39m=\u001b[39m \u001b[39m'\u001b[39m\u001b[39mabcdefghijklmnopqrstuvwxyz\u001b[39m\u001b[39m'\u001b[39m, \u001b[39m'\u001b[39m\u001b[39mABCDEFGHIJKLMNOPQRSTUVWXYZ\u001b[39m\u001b[39m'\u001b[39m\n\u001b[0;32m      3\u001b[0m count_l \u001b[39m=\u001b[39m [\u001b[39m*\u001b[39m\u001b[39mrange\u001b[39m(\u001b[39m26\u001b[39m)]\n",
      "File \u001b[1;32mc:\\Users\\hyenz\\anaconda\\lib\\site-packages\\ipykernel\\kernelbase.py:1175\u001b[0m, in \u001b[0;36mKernel.raw_input\u001b[1;34m(self, prompt)\u001b[0m\n\u001b[0;32m   1171\u001b[0m \u001b[39mif\u001b[39;00m \u001b[39mnot\u001b[39;00m \u001b[39mself\u001b[39m\u001b[39m.\u001b[39m_allow_stdin:\n\u001b[0;32m   1172\u001b[0m     \u001b[39mraise\u001b[39;00m StdinNotImplementedError(\n\u001b[0;32m   1173\u001b[0m         \u001b[39m\"\u001b[39m\u001b[39mraw_input was called, but this frontend does not support input requests.\u001b[39m\u001b[39m\"\u001b[39m\n\u001b[0;32m   1174\u001b[0m     )\n\u001b[1;32m-> 1175\u001b[0m \u001b[39mreturn\u001b[39;00m \u001b[39mself\u001b[39;49m\u001b[39m.\u001b[39;49m_input_request(\n\u001b[0;32m   1176\u001b[0m     \u001b[39mstr\u001b[39;49m(prompt),\n\u001b[0;32m   1177\u001b[0m     \u001b[39mself\u001b[39;49m\u001b[39m.\u001b[39;49m_parent_ident[\u001b[39m\"\u001b[39;49m\u001b[39mshell\u001b[39;49m\u001b[39m\"\u001b[39;49m],\n\u001b[0;32m   1178\u001b[0m     \u001b[39mself\u001b[39;49m\u001b[39m.\u001b[39;49mget_parent(\u001b[39m\"\u001b[39;49m\u001b[39mshell\u001b[39;49m\u001b[39m\"\u001b[39;49m),\n\u001b[0;32m   1179\u001b[0m     password\u001b[39m=\u001b[39;49m\u001b[39mFalse\u001b[39;49;00m,\n\u001b[0;32m   1180\u001b[0m )\n",
      "File \u001b[1;32mc:\\Users\\hyenz\\anaconda\\lib\\site-packages\\ipykernel\\kernelbase.py:1217\u001b[0m, in \u001b[0;36mKernel._input_request\u001b[1;34m(self, prompt, ident, parent, password)\u001b[0m\n\u001b[0;32m   1214\u001b[0m             \u001b[39mbreak\u001b[39;00m\n\u001b[0;32m   1215\u001b[0m \u001b[39mexcept\u001b[39;00m \u001b[39mKeyboardInterrupt\u001b[39;00m:\n\u001b[0;32m   1216\u001b[0m     \u001b[39m# re-raise KeyboardInterrupt, to truncate traceback\u001b[39;00m\n\u001b[1;32m-> 1217\u001b[0m     \u001b[39mraise\u001b[39;00m \u001b[39mKeyboardInterrupt\u001b[39;00m(\u001b[39m\"\u001b[39m\u001b[39mInterrupted by user\u001b[39m\u001b[39m\"\u001b[39m) \u001b[39mfrom\u001b[39;00m \u001b[39mNone\u001b[39m\n\u001b[0;32m   1218\u001b[0m \u001b[39mexcept\u001b[39;00m \u001b[39mException\u001b[39;00m:\n\u001b[0;32m   1219\u001b[0m     \u001b[39mself\u001b[39m\u001b[39m.\u001b[39mlog\u001b[39m.\u001b[39mwarning(\u001b[39m\"\u001b[39m\u001b[39mInvalid Message:\u001b[39m\u001b[39m\"\u001b[39m, exc_info\u001b[39m=\u001b[39m\u001b[39mTrue\u001b[39;00m)\n",
      "\u001b[1;31mKeyboardInterrupt\u001b[0m: Interrupted by user"
     ]
    }
   ],
   "source": [
    "s = input()\n",
    "lo, up = 'abcdefghijklmnopqrstuvwxyz', 'ABCDEFGHIJKLMNOPQRSTUVWXYZ'\n",
    "count_l = [*range(26)]\n",
    "\n",
    "for v in s:\n",
    "    if v in lo:\n",
    "        count_l[lo.find(v)] += 1\n",
    "    else:\n",
    "        count_l[up.find(v)] += 1\n",
    "\n",
    "\n"
   ]
  },
  {
   "cell_type": "code",
   "execution_count": 15,
   "metadata": {},
   "outputs": [
    {
     "name": "stdout",
     "output_type": "stream",
     "text": [
      "Z\n"
     ]
    }
   ],
   "source": [
    "s = input()\n",
    "al = 'ABCDEFGHIJKLMNOPQRSTUVWXYZ'\n",
    "al_dict = {}\n",
    "s = s.upper()\n",
    "for v in al:\n",
    "    al_dict[v] = s.count(v)\n",
    "c_l = [*al_dict.values()]\n",
    "max_c = max(c_l)\n",
    "if c_l.count(max_c) > 1:\n",
    "    print('?')\n",
    "else:\n",
    "    print(al[c_l.index(max_c)])"
   ]
  },
  {
   "cell_type": "code",
   "execution_count": 22,
   "metadata": {},
   "outputs": [
    {
     "ename": "TypeError",
     "evalue": "'int' object is not iterable",
     "output_type": "error",
     "traceback": [
      "\u001b[1;31m---------------------------------------------------------------------------\u001b[0m",
      "\u001b[1;31mTypeError\u001b[0m                                 Traceback (most recent call last)",
      "Cell \u001b[1;32mIn[22], line 2\u001b[0m\n\u001b[0;32m      1\u001b[0m n \u001b[39m=\u001b[39m \u001b[39mint\u001b[39m(\u001b[39minput\u001b[39m())\n\u001b[1;32m----> 2\u001b[0m \u001b[39mfor\u001b[39;00m _ \u001b[39min\u001b[39;00m n:\n\u001b[0;32m      3\u001b[0m     l \u001b[39m=\u001b[39m \u001b[39mlist\u001b[39m(\u001b[39mmap\u001b[39m(\u001b[39mint\u001b[39m, \u001b[39minput\u001b[39m()\u001b[39m.\u001b[39msplit()))\n\u001b[0;32m      4\u001b[0m     average \u001b[39m=\u001b[39m \u001b[39msum\u001b[39m(l[\u001b[39m1\u001b[39m:])\u001b[39m/\u001b[39ml[\u001b[39m0\u001b[39m]\n",
      "\u001b[1;31mTypeError\u001b[0m: 'int' object is not iterable"
     ]
    }
   ],
   "source": [
    "n = int(input())\n",
    "for _ in range(n):\n",
    "    l = list(map(int, input().split()))\n",
    "    average = sum(l[1:])/l[0]\n",
    "    count = 0\n",
    "    for v in l[1:]:\n",
    "        if v > average:\n",
    "            count += 1\n",
    "    print(f'{count/l[0]*100:.3f}%')\n",
    "    "
   ]
  },
  {
   "cell_type": "code",
   "execution_count": 17,
   "metadata": {},
   "outputs": [
    {
     "data": {
      "text/plain": [
       "<map at 0x177f6d83fd0>"
      ]
     },
     "execution_count": 17,
     "metadata": {},
     "output_type": "execute_result"
    }
   ],
   "source": [
    "map(int, input().split())"
   ]
  },
  {
   "cell_type": "code",
   "execution_count": 18,
   "metadata": {},
   "outputs": [
    {
     "ename": "ValueError",
     "evalue": "too many values to unpack (expected 2)",
     "output_type": "error",
     "traceback": [
      "\u001b[1;31m---------------------------------------------------------------------------\u001b[0m",
      "\u001b[1;31mValueError\u001b[0m                                Traceback (most recent call last)",
      "Cell \u001b[1;32mIn[18], line 1\u001b[0m\n\u001b[1;32m----> 1\u001b[0m c, s \u001b[39m=\u001b[39m \u001b[39mmap\u001b[39m(\u001b[39mint\u001b[39m, \u001b[39minput\u001b[39m()\u001b[39m.\u001b[39msplit())\n\u001b[0;32m      2\u001b[0m \u001b[39mprint\u001b[39m(c, s)\n",
      "\u001b[1;31mValueError\u001b[0m: too many values to unpack (expected 2)"
     ]
    }
   ],
   "source": [
    "c, s = map(int, input().split())\n",
    "print(c, s)"
   ]
  },
  {
   "cell_type": "code",
   "execution_count": 19,
   "metadata": {},
   "outputs": [
    {
     "ename": "ValueError",
     "evalue": "too many values to unpack (expected 2)",
     "output_type": "error",
     "traceback": [
      "\u001b[1;31m---------------------------------------------------------------------------\u001b[0m",
      "\u001b[1;31mValueError\u001b[0m                                Traceback (most recent call last)",
      "Cell \u001b[1;32mIn[19], line 1\u001b[0m\n\u001b[1;32m----> 1\u001b[0m c, score \u001b[39m=\u001b[39m \u001b[39minput\u001b[39m()\u001b[39m.\u001b[39msplit()\n\u001b[0;32m      2\u001b[0m \u001b[39mprint\u001b[39m(c, s)\n",
      "\u001b[1;31mValueError\u001b[0m: too many values to unpack (expected 2)"
     ]
    }
   ],
   "source": [
    "c, score = input().split()\n",
    "print(c, s)"
   ]
  },
  {
   "cell_type": "code",
   "execution_count": 21,
   "metadata": {},
   "outputs": [
    {
     "name": "stdout",
     "output_type": "stream",
     "text": [
      "['1', '2', '3', '4', '5']\n"
     ]
    }
   ],
   "source": [
    "in_s = input().split()\n",
    "print(in_s)"
   ]
  },
  {
   "cell_type": "code",
   "execution_count": 23,
   "metadata": {},
   "outputs": [
    {
     "data": {
      "text/plain": [
       "3"
      ]
     },
     "execution_count": 23,
     "metadata": {},
     "output_type": "execute_result"
    }
   ],
   "source": [
    "'asasas'.count('as')"
   ]
  },
  {
   "cell_type": "code",
   "execution_count": 24,
   "metadata": {},
   "outputs": [
    {
     "name": "stdout",
     "output_type": "stream",
     "text": [
      "0\n"
     ]
    }
   ],
   "source": [
    "croatia_alphabet = ['c=', 'c-', 'dz=', 'd-', 'lj', 'nj', 's=', 'z=']\n",
    "s = input()\n",
    "for v in croatia_alphabet:\n",
    "    s = s.replace(v, ' ')\n",
    "print(len(s))"
   ]
  },
  {
   "cell_type": "code",
   "execution_count": 26,
   "metadata": {},
   "outputs": [
    {
     "name": "stdout",
     "output_type": "stream",
     "text": [
      "3\n"
     ]
    }
   ],
   "source": [
    "n = int(input())\n",
    "al = 'abcdefghijklmnopqrstuvwxyz'\n",
    "c_gw = 0\n",
    "for _ in range(n):\n",
    "    c_gw += 1\n",
    "    s = input()\n",
    "    for v in al:\n",
    "        c_a = s.count(v)\n",
    "        if c_a > 1:\n",
    "            if s.rfind(v)-s.find(v)+1 > c_a:\n",
    "                c_gw -= 1\n",
    "                break\n",
    "print(c_gw)"
   ]
  },
  {
   "cell_type": "code",
   "execution_count": 33,
   "metadata": {},
   "outputs": [
    {
     "ename": "ValueError",
     "evalue": "not enough values to unpack (expected 3, got 0)",
     "output_type": "error",
     "traceback": [
      "\u001b[1;31m---------------------------------------------------------------------------\u001b[0m",
      "\u001b[1;31mValueError\u001b[0m                                Traceback (most recent call last)",
      "Cell \u001b[1;32mIn[33], line 5\u001b[0m\n\u001b[0;32m      3\u001b[0m total \u001b[39m=\u001b[39m \u001b[39m0\u001b[39m\n\u001b[0;32m      4\u001b[0m \u001b[39mfor\u001b[39;00m _ \u001b[39min\u001b[39;00m \u001b[39mrange\u001b[39m(\u001b[39m20\u001b[39m):\n\u001b[1;32m----> 5\u001b[0m     subject, grades, level \u001b[39m=\u001b[39m \u001b[39minput\u001b[39m()\u001b[39m.\u001b[39msplit()\n\u001b[0;32m      6\u001b[0m     grades \u001b[39m=\u001b[39m \u001b[39mint\u001b[39m(\u001b[39mfloat\u001b[39m(grades))\n\u001b[0;32m      7\u001b[0m     \u001b[39mif\u001b[39;00m level \u001b[39m!=\u001b[39m \u001b[39m'\u001b[39m\u001b[39mP\u001b[39m\u001b[39m'\u001b[39m:\n",
      "\u001b[1;31mValueError\u001b[0m: not enough values to unpack (expected 3, got 0)"
     ]
    }
   ],
   "source": [
    "grades_level = {'A+': 4.5, 'A0': 4.0, 'B+': 3.5, 'B0': 3.0, 'C+': 2.5, 'C0': 2.0, 'D+': 1.5, 'D0': 1.0, 'F': 0.0}\n",
    "count = 0\n",
    "total = 0\n",
    "for _ in range(20):\n",
    "    subject, grades, level = input().split()\n",
    "    grades = int(float(grades))\n",
    "    if level != 'P':\n",
    "        count += grades\n",
    "        total += grades * grades_level[level]\n",
    "print(f'{total/count:f}')"
   ]
  },
  {
   "cell_type": "code",
   "execution_count": 34,
   "metadata": {},
   "outputs": [],
   "source": [
    "txt = r'''ObjectOrientedProgramming1 3.0 A+\n",
    "IntroductiontoComputerEngineering 3.0 A+\n",
    "ObjectOrientedProgramming2 3.0 A0\n",
    "CreativeComputerEngineeringDesign 3.0 A+\n",
    "AssemblyLanguage 3.0 A+\n",
    "InternetProgramming 3.0 B0\n",
    "ApplicationProgramminginJava 3.0 A0\n",
    "SystemProgramming 3.0 B0\n",
    "OperatingSystem 3.0 B0\n",
    "WirelessCommunicationsandNetworking 3.0 C+\n",
    "LogicCircuits 3.0 B0\n",
    "DataStructure 4.0 A+\n",
    "MicroprocessorApplication 3.0 B+\n",
    "EmbeddedSoftware 3.0 C0\n",
    "ComputerSecurity 3.0 D+\n",
    "Database 3.0 C+\n",
    "Algorithm 3.0 B0\n",
    "CapstoneDesigninCSE 3.0 B+\n",
    "CompilerDesign 3.0 D0\n",
    "ProblemSolving 4.0 P'''"
   ]
  },
  {
   "cell_type": "code",
   "execution_count": 36,
   "metadata": {},
   "outputs": [
    {
     "name": "stdout",
     "output_type": "stream",
     "text": [
      "3.284483\n"
     ]
    }
   ],
   "source": [
    "subject_list = txt.split('\\n')\n",
    "\n",
    "grades_level = {'A+': 4.5, 'A0': 4.0, 'B+': 3.5, 'B0': 3.0, 'C+': 2.5, 'C0': 2.0, 'D+': 1.5, 'D0': 1.0, 'F': 0.0}\n",
    "count = 0\n",
    "total = 0\n",
    "for v in subject_list:\n",
    "    subject, grades, level = v.split()\n",
    "    grades = int(float(grades))\n",
    "    if level != 'P':\n",
    "        count += grades\n",
    "        total += grades * grades_level[level]\n",
    "print(f'{total/count:f}')\n"
   ]
  },
  {
   "cell_type": "code",
   "execution_count": 31,
   "metadata": {},
   "outputs": [
    {
     "ename": "ValueError",
     "evalue": "invalid literal for int() with base 10: '3.0'",
     "output_type": "error",
     "traceback": [
      "\u001b[1;31m---------------------------------------------------------------------------\u001b[0m",
      "\u001b[1;31mValueError\u001b[0m                                Traceback (most recent call last)",
      "Cell \u001b[1;32mIn[31], line 1\u001b[0m\n\u001b[1;32m----> 1\u001b[0m \u001b[39mint\u001b[39;49m(\u001b[39m\"\u001b[39;49m\u001b[39m3.0\u001b[39;49m\u001b[39m\"\u001b[39;49m)\n",
      "\u001b[1;31mValueError\u001b[0m: invalid literal for int() with base 10: '3.0'"
     ]
    }
   ],
   "source": [
    "int(\"3.0\")"
   ]
  },
  {
   "cell_type": "code",
   "execution_count": null,
   "metadata": {},
   "outputs": [],
   "source": [
    "n, m = map(int, input().split())\n",
    "l1 = []\n",
    "l2 = []\n",
    "for _ in range(n):\n",
    "    l1.append(list(map(int, input().split())))\n",
    "for _ in range(n):\n",
    "    l2.append(list(map(int, input().split())))\n",
    "\n",
    "for i in range(n):\n",
    "    for j in range(m):\n",
    "        l1[i][j] += l2[i][j]\n",
    "        print(l1[i][j], end=' ')\n",
    "    print()\n",
    "    \n"
   ]
  },
  {
   "cell_type": "code",
   "execution_count": 37,
   "metadata": {},
   "outputs": [
    {
     "ename": "ValueError",
     "evalue": "invalid literal for int() with base 10: 'asd'",
     "output_type": "error",
     "traceback": [
      "\u001b[1;31m---------------------------------------------------------------------------\u001b[0m",
      "\u001b[1;31mValueError\u001b[0m                                Traceback (most recent call last)",
      "Cell \u001b[1;32mIn[37], line 3\u001b[0m\n\u001b[0;32m      1\u001b[0m l \u001b[39m=\u001b[39m []\n\u001b[0;32m      2\u001b[0m \u001b[39mfor\u001b[39;00m _ \u001b[39min\u001b[39;00m \u001b[39mrange\u001b[39m(\u001b[39m9\u001b[39m):\n\u001b[1;32m----> 3\u001b[0m     l\u001b[39m.\u001b[39mappend(\u001b[39mlist\u001b[39;49m(\u001b[39mmap\u001b[39;49m(\u001b[39mint\u001b[39;49m, \u001b[39minput\u001b[39;49m()\u001b[39m.\u001b[39;49msplit())))\n\u001b[0;32m      4\u001b[0m max_l \u001b[39m=\u001b[39m [\u001b[39mmax\u001b[39m(v) \u001b[39mfor\u001b[39;00m v \u001b[39min\u001b[39;00m l]\n\u001b[0;32m      5\u001b[0m t_max \u001b[39m=\u001b[39m \u001b[39mmax\u001b[39m(max_l)\n",
      "\u001b[1;31mValueError\u001b[0m: invalid literal for int() with base 10: 'asd'"
     ]
    }
   ],
   "source": [
    "l = []\n",
    "for _ in range(9):\n",
    "    l.append(list(map(int, input().split())))\n",
    "max_l = [max(v) for v in l]\n",
    "t_max = max(max_l)\n",
    "i = max_l.index(t_max)\n",
    "j = l[i].index(t_max)\n",
    "print(t_max)\n",
    "print(i+1,j+1)"
   ]
  },
  {
   "cell_type": "code",
   "execution_count": 47,
   "metadata": {},
   "outputs": [],
   "source": [
    "txt = r'''3 23 85 34 17 74 25 52 65\n",
    "10 7 39 42 88 52 14 72 63\n",
    "87 42 18 78 53 45 18 84 53\n",
    "34 28 64 85 12 16 75 36 55\n",
    "21 77 45 35 28 75 90 76 1\n",
    "25 87 65 15 28 11 37 28 74\n",
    "65 27 75 41 7 89 78 64 39\n",
    "47 47 70 45 23 65 3 41 44\n",
    "87 13 82 38 31 12 29 29 80'''"
   ]
  },
  {
   "cell_type": "code",
   "execution_count": 50,
   "metadata": {},
   "outputs": [],
   "source": [
    "input_lines = txt.split('\\n')"
   ]
  },
  {
   "cell_type": "code",
   "execution_count": 53,
   "metadata": {},
   "outputs": [
    {
     "name": "stdout",
     "output_type": "stream",
     "text": [
      "[85, 88, 87, 85, 90, 87, 89, 70, 87]\n",
      "90\n",
      "5 7\n"
     ]
    }
   ],
   "source": [
    "l = []\n",
    "for v in input_lines:\n",
    "    l.append(list(map(int, v.split())))\n",
    "max_l = [max(v) for v in l]\n",
    "print(max_l)\n",
    "t_max = max(max_l)\n",
    "i = max_l.index(t_max)\n",
    "j = l[i].index(t_max)\n",
    "print(t_max)\n",
    "print(i+1,j+1)"
   ]
  },
  {
   "cell_type": "code",
   "execution_count": 55,
   "metadata": {},
   "outputs": [
    {
     "data": {
      "text/plain": [
       "[['a', 's', 'd']]"
      ]
     },
     "execution_count": 55,
     "metadata": {},
     "output_type": "execute_result"
    }
   ],
   "source": [
    "a=[]\n",
    "a.append(input().split())\n",
    "a"
   ]
  },
  {
   "cell_type": "code",
   "execution_count": null,
   "metadata": {},
   "outputs": [],
   "source": [
    "l = []\n",
    "for _ in range(5):\n",
    "    l.append([v for v in input()])\n",
    "max_len = max([len(v) for v in l])\n",
    "txt = ''\n",
    "        \n",
    "for j in range(max_len):\n",
    "    for i in range(5):\n",
    "        try:\n",
    "            txt += l[i][j]\n",
    "        except:\n",
    "            pass\n",
    "print(txt)"
   ]
  },
  {
   "cell_type": "code",
   "execution_count": 56,
   "metadata": {},
   "outputs": [],
   "source": [
    "in_txt = r'''AABCDD\n",
    "afzz\n",
    "09121\n",
    "a8EWg6\n",
    "P5h3kx'''\n",
    "\n",
    "input_lines = in_txt.split('\\n')"
   ]
  },
  {
   "cell_type": "code",
   "execution_count": 59,
   "metadata": {},
   "outputs": [
    {
     "name": "stdout",
     "output_type": "stream",
     "text": [
      "Aa0aPAf985Bz1EhCz2W3D1gkD6x\n"
     ]
    }
   ],
   "source": [
    "l = []\n",
    "for lines in input_lines:\n",
    "    l.append([v for v in lines])\n",
    "max_len = max([len(v) for v in l])\n",
    "txt = ''\n",
    "        \n",
    "for j in range(max_len):\n",
    "    for i in range(5):\n",
    "        try:\n",
    "            txt += l[i][j]\n",
    "        except:\n",
    "            pass\n",
    "print(txt)"
   ]
  },
  {
   "cell_type": "code",
   "execution_count": 60,
   "metadata": {},
   "outputs": [],
   "source": [
    "drawing_paper = [[0 for _ in range(100)] for _ in range(100)]\n",
    "n= int(input())\n",
    "for _ in range(n):\n",
    "    x, y = map(int, input().split())\n",
    "    for i in range(10):\n",
    "        for j in range(10):\n",
    "            drawing_paper[x+i][y+j] = 1\n",
    "print(sum([sum(v) for v in drawing_paper]))"
   ]
  },
  {
   "cell_type": "code",
   "execution_count": 61,
   "metadata": {},
   "outputs": [
    {
     "name": "stdout",
     "output_type": "stream",
     "text": [
      "260\n"
     ]
    }
   ],
   "source": [
    "txt = r'''3 7\n",
    "15 7\n",
    "5 2'''\n",
    "input_lines = txt.split('\\n')\n",
    "\n",
    "drawing_paper = [[0 for _ in range(100)] for _ in range(100)]\n",
    "n= 3\n",
    "for lines in input_lines:\n",
    "    x, y = map(int, lines.split())\n",
    "    for i in range(10):\n",
    "        for j in range(10):\n",
    "            drawing_paper[x+i][y+j] = 1\n",
    "print(sum([sum(v) for v in drawing_paper]))"
   ]
  },
  {
   "cell_type": "code",
   "execution_count": 62,
   "metadata": {},
   "outputs": [
    {
     "name": "stdout",
     "output_type": "stream",
     "text": [
      "60466175\n"
     ]
    }
   ],
   "source": [
    "x, b = input().split()\n",
    "print('{:d}'.format(int(x,base=int(b))))"
   ]
  },
  {
   "cell_type": "code",
   "execution_count": 63,
   "metadata": {},
   "outputs": [
    {
     "ename": "ValueError",
     "evalue": "not enough values to unpack (expected 2, got 0)",
     "output_type": "error",
     "traceback": [
      "\u001b[1;31m---------------------------------------------------------------------------\u001b[0m",
      "\u001b[1;31mValueError\u001b[0m                                Traceback (most recent call last)",
      "Cell \u001b[1;32mIn[63], line 1\u001b[0m\n\u001b[1;32m----> 1\u001b[0m x,b\u001b[39m=\u001b[39m\u001b[39minput\u001b[39m()\u001b[39m.\u001b[39msplit()\n\u001b[0;32m      2\u001b[0m \u001b[39mprint\u001b[39m(\u001b[39mf\u001b[39m\u001b[39m'\u001b[39m\u001b[39m{\u001b[39;00m\u001b[39mint\u001b[39m(x,base\u001b[39m=\u001b[39m\u001b[39mint\u001b[39m(b))\u001b[39m:\u001b[39;00m\u001b[39md\u001b[39m\u001b[39m}\u001b[39;00m\u001b[39m'\u001b[39m)\n",
      "\u001b[1;31mValueError\u001b[0m: not enough values to unpack (expected 2, got 0)"
     ]
    }
   ],
   "source": [
    "x,b=input().split()\n",
    "print(int(x,base=int(b)))"
   ]
  },
  {
   "cell_type": "code",
   "execution_count": 64,
   "metadata": {},
   "outputs": [
    {
     "data": {
      "text/plain": [
       "60466175"
      ]
     },
     "execution_count": 64,
     "metadata": {},
     "output_type": "execute_result"
    }
   ],
   "source": [
    "int('ZZZZZ',base=36)"
   ]
  },
  {
   "cell_type": "code",
   "execution_count": 65,
   "metadata": {},
   "outputs": [
    {
     "data": {
      "text/plain": [
       "60466175"
      ]
     },
     "execution_count": 65,
     "metadata": {},
     "output_type": "execute_result"
    }
   ],
   "source": [
    "int('ZZZZZ',36)\n",
    "# 36진수로 하겠다는 뜻\n",
    "# base= 는 생략 가능"
   ]
  },
  {
   "cell_type": "code",
   "execution_count": 75,
   "metadata": {},
   "outputs": [],
   "source": [
    "def decimal_to_n_base(decimal, n):\n",
    "    # 2진수부터 36진수까지 변환 가능\n",
    "    if n < 2 or n > 36:\n",
    "        return \"Error: n은 2 이상 36 이하의 자연수여야 합니다.\"\n",
    "\n",
    "    # 10진수를 n진수로 변환\n",
    "    result = \"\"\n",
    "    while decimal > 0:\n",
    "        remainder = decimal % n\n",
    "        if remainder < 10:\n",
    "            result = str(remainder) + result\n",
    "        else:\n",
    "            result = chr(ord('A') + remainder - 10) + result\n",
    "        decimal //= n\n",
    "\n",
    "    return result\n"
   ]
  },
  {
   "cell_type": "code",
   "execution_count": 76,
   "metadata": {},
   "outputs": [
    {
     "data": {
      "text/plain": [
       "'ZZZZZ'"
      ]
     },
     "execution_count": 76,
     "metadata": {},
     "output_type": "execute_result"
    }
   ],
   "source": [
    "decimal_to_n_base(60466175,36)"
   ]
  },
  {
   "cell_type": "code",
   "execution_count": 82,
   "metadata": {},
   "outputs": [
    {
     "name": "stdout",
     "output_type": "stream",
     "text": [
      "ZZZZZ\n"
     ]
    }
   ],
   "source": [
    "def to_n_base(n : int, base : int) -> str:\n",
    "    char = \"0123456789ABCDEFGHIJKLMNOPQRSTUVWXYZ\"\n",
    "    q, r = n//base, n%base\n",
    "    if q == 0:\n",
    "        return char[r]\n",
    "    else:\n",
    "        return to_n_base(q, base) + char[r]\n",
    "\n",
    "n, base = map(int, '60466175 36'.split())\n",
    "print(to_n_base(n, base))"
   ]
  },
  {
   "cell_type": "code",
   "execution_count": 80,
   "metadata": {},
   "outputs": [
    {
     "data": {
      "text/plain": [
       "'ZZZZZ'"
      ]
     },
     "execution_count": 80,
     "metadata": {},
     "output_type": "execute_result"
    }
   ],
   "source": [
    "to_n_base(60466175,36)"
   ]
  },
  {
   "cell_type": "code",
   "execution_count": 81,
   "metadata": {},
   "outputs": [
    {
     "data": {
      "text/plain": [
       "'10000000000'"
      ]
     },
     "execution_count": 81,
     "metadata": {},
     "output_type": "execute_result"
    }
   ],
   "source": [
    "to_n_base(1024,2)"
   ]
  },
  {
   "cell_type": "code",
   "execution_count": 84,
   "metadata": {},
   "outputs": [
    {
     "name": "stdout",
     "output_type": "stream",
     "text": [
      "4 2 0 4\n",
      "1 0 0 0\n",
      "7 1 1 4\n"
     ]
    }
   ],
   "source": [
    "n = int(input())\n",
    "coin_d = { 0: 25, 1: 10, 2: 5, 3: 1 }\n",
    "coins = [0,0,0,0]\n",
    "for _ in range(n):\n",
    "    changes = int(input())\n",
    "    for k, v in coin_d.items():\n",
    "        coins[k] = changes // v\n",
    "        changes %= v\n",
    "    print(*coins)\n",
    "\n",
    "        \n",
    "    "
   ]
  },
  {
   "cell_type": "code",
   "execution_count": 87,
   "metadata": {},
   "outputs": [
    {
     "data": {
      "text/plain": [
       "9"
      ]
     },
     "execution_count": 87,
     "metadata": {},
     "output_type": "execute_result"
    }
   ],
   "source": [
    "n = int(input())\n",
    "p = 2\n",
    "for _ in range(n):\n",
    "    p += p-1\n",
    "print(p**2)"
   ]
  },
  {
   "cell_type": "code",
   "execution_count": 91,
   "metadata": {},
   "outputs": [
    {
     "data": {
      "text/plain": [
       "24"
      ]
     },
     "execution_count": 91,
     "metadata": {},
     "output_type": "execute_result"
    }
   ],
   "source": [
    "61-37"
   ]
  },
  {
   "cell_type": "code",
   "execution_count": 93,
   "metadata": {},
   "outputs": [
    {
     "data": {
      "text/plain": [
       "(1, 6, 12, 18, 24, 30, 36, 42, 48, 54, 60)"
      ]
     },
     "execution_count": 93,
     "metadata": {},
     "output_type": "execute_result"
    }
   ],
   "source": [
    "# 각각 1,7,19,37,61... 까지 들어감\n",
    "# 각 육각형마다 들어가는 방의 갯수 1,6,12,18,24,30,36,42,48,54,60...\n",
    "# 6의 배수로 증가"
   ]
  },
  {
   "cell_type": "code",
   "execution_count": 98,
   "metadata": {},
   "outputs": [
    {
     "name": "stdout",
     "output_type": "stream",
     "text": [
      "4\n"
     ]
    }
   ],
   "source": [
    "n = int(input())\n",
    "count = 1\n",
    "room = 1\n",
    "i = 1\n",
    "while True:\n",
    "    if n <= room:\n",
    "        break\n",
    "    room += 6*i\n",
    "    i += 1\n",
    "    count += 1\n",
    "print(count)"
   ]
  },
  {
   "cell_type": "code",
   "execution_count": 108,
   "metadata": {},
   "outputs": [
    {
     "name": "stdout",
     "output_type": "stream",
     "text": [
      "2/4\n"
     ]
    }
   ],
   "source": [
    "n = int(input())\n",
    "i=1\n",
    "while True:\n",
    "    if n <= 0:\n",
    "        i -= 1\n",
    "        n += i\n",
    "        if i % 2 == 0:\n",
    "            print(f'{n}/{i-n+1}')\n",
    "        else:\n",
    "            print(f'{i-n+1}/{n}')\n",
    "        break\n",
    "    n -= i\n",
    "    i += 1"
   ]
  },
  {
   "cell_type": "code",
   "execution_count": 110,
   "metadata": {},
   "outputs": [],
   "source": [
    "def fraction_sequence(n):\n",
    "    i = 1\n",
    "    while True:\n",
    "        if n <= 0:\n",
    "            i -= 1\n",
    "            n += i\n",
    "            if i % 2 == 0:\n",
    "                return f'{n}/{i-n+1}'\n",
    "            else:\n",
    "                return f'{i-n+1}/{n}'\n",
    "        n -= i\n",
    "        i += 1"
   ]
  },
  {
   "cell_type": "code",
   "execution_count": 115,
   "metadata": {},
   "outputs": [
    {
     "name": "stdout",
     "output_type": "stream",
     "text": [
      "1/1\n",
      "1/2\n",
      "2/1\n",
      "3/1\n",
      "2/2\n",
      "1/3\n",
      "1/4\n",
      "2/3\n",
      "3/2\n",
      "4/1\n",
      "5/1\n",
      "4/2\n",
      "3/3\n",
      "2/4\n",
      "1/5\n",
      "1/6\n",
      "2/5\n",
      "3/4\n",
      "4/3\n",
      "5/2\n"
     ]
    }
   ],
   "source": [
    "for i in range(1, 21):\n",
    "    print(fraction_sequence(i))"
   ]
  },
  {
   "cell_type": "code",
   "execution_count": 125,
   "metadata": {},
   "outputs": [
    {
     "name": "stdout",
     "output_type": "stream",
     "text": [
      "999999901\n"
     ]
    }
   ],
   "source": [
    "a, b, v = map(int, input().split())\n",
    "\n",
    "# 마지막으로 올라가는 거리는 무조건 a만큼이므로 v-a만큼만 올라가면 남은 날은 하루\n",
    "# 하루에 총 a-b만큼 올라갈 수 있으므로 (v-a)//(a-b)만큼 올라가면 남은 거리는 (v-a)%(a-b)\n",
    "# 단 (v-a)//(a-b)가 0이어도 남은 거리가 있을 수 있으므로 1을 더해줌\n",
    "t = 1 if (v-a)//(a-b) == 0 else (v-a)//(a-b)\n",
    "v = (v-a)%(a-b)\n",
    "\n",
    "# 남은 거리는 while문을 통해 a만큼 남을 때까지 a-b씩 빼줌\n",
    "while True:\n",
    "    if v <= a:\n",
    "        t += 1\n",
    "        break\n",
    "    v = v - a + b\n",
    "    t += 1\n",
    "print(t)"
   ]
  },
  {
   "cell_type": "code",
   "execution_count": 131,
   "metadata": {},
   "outputs": [
    {
     "name": "stdout",
     "output_type": "stream",
     "text": [
      "3\n"
     ]
    }
   ],
   "source": [
    "a, b, v = map(int, input().split())\n",
    "\n",
    "\n",
    "t = 1 if (v-a)//(a-b) == 0 else (v-a)//(a-b)\n",
    "v = (v-a)%(a-b)\n",
    "\n",
    "if v <= a:\n",
    "    t += 1\n",
    "print(t)"
   ]
  },
  {
   "cell_type": "code",
   "execution_count": 142,
   "metadata": {},
   "outputs": [],
   "source": [
    "def snail_climbing(a, b, v):\n",
    "    # v가 a보다 작으면 1일만에 올라갈 수 있음\n",
    "    if v <= a:\n",
    "        return 1\n",
    "    \n",
    "    # 마지막으로 올라가는 거리는 무조건 a만큼이므로 v-a만큼만 올라가면 남은 날은 하루\n",
    "    # 하루에 총 a-b만큼 올라갈 수 있으므로 v-a 근처까지 (v-a)//(a-b)일이 걸려 올라간다\n",
    "    \n",
    "    # 단 (v-a)//(a-b)가 0이어도 v가 a보다 크므로 2일이 걸림\n",
    "    if (v-a)//(a-b) == 0:\n",
    "        return 2\n",
    "    \n",
    "    # 이때 v-a까지 남은 거리는 (v-a)%(a-b)\n",
    "    # 즉 총 남은 거리는 (v-a)%(a-b)+a\n",
    "    t = (v-a)//(a-b)\n",
    "    v = (v-a)%(a-b)+a\n",
    "    \n",
    "    # 재귀를 통해 남은 거리가 a보다 작아질 때까지 호출\n",
    "    return t + snail_climbing(a, b, v)"
   ]
  },
  {
   "cell_type": "code",
   "execution_count": 143,
   "metadata": {},
   "outputs": [
    {
     "name": "stdout",
     "output_type": "stream",
     "text": [
      "4\n"
     ]
    }
   ],
   "source": [
    "a, b, v = map(int, input().split())\n",
    "print(snail_climbing(a, b, v))"
   ]
  },
  {
   "cell_type": "code",
   "execution_count": 145,
   "metadata": {},
   "outputs": [],
   "source": [
    "txt = r'''2 1 5\n",
    "5 1 6\n",
    "100 99 1000000000'''\n",
    "input_lines = txt.splitlines()"
   ]
  },
  {
   "cell_type": "code",
   "execution_count": 146,
   "metadata": {},
   "outputs": [
    {
     "name": "stdout",
     "output_type": "stream",
     "text": [
      "4\n",
      "2\n",
      "999999901\n"
     ]
    }
   ],
   "source": [
    "for lines in input_lines:\n",
    "    a, b, v = map(int, lines.split())\n",
    "    print(snail_climbing(a, b, v))"
   ]
  },
  {
   "cell_type": "code",
   "execution_count": 147,
   "metadata": {},
   "outputs": [
    {
     "name": "stdout",
     "output_type": "stream",
     "text": [
      "18446744073709551615\n"
     ]
    }
   ],
   "source": [
    "a, b = map(int, input().split())\n",
    "print(a+b)"
   ]
  },
  {
   "cell_type": "code",
   "execution_count": 149,
   "metadata": {},
   "outputs": [
    {
     "name": "stdout",
     "output_type": "stream",
     "text": [
      "18446744073709551615\n"
     ]
    }
   ],
   "source": [
    "print(sum(map(int, input().split())))"
   ]
  },
  {
   "cell_type": "code",
   "execution_count": null,
   "metadata": {},
   "outputs": [],
   "source": [
    "while True:\n",
    "    a, b = map(int, input().split())\n",
    "    if a == b == 0:\n",
    "        break\n",
    "\n",
    "    if a > b and a % b == 0:\n",
    "        print('multiple')\n",
    "        continue\n",
    "    if b > a and b % a == 0:\n",
    "        print('factor')\n",
    "        continue\n",
    "    print('neither')"
   ]
  },
  {
   "cell_type": "code",
   "execution_count": 150,
   "metadata": {},
   "outputs": [],
   "source": [
    "txt = r'''8 16\n",
    "32 4\n",
    "17 5\n",
    "0 0'''\n",
    "input_lines = txt.splitlines()"
   ]
  },
  {
   "cell_type": "code",
   "execution_count": 155,
   "metadata": {},
   "outputs": [
    {
     "name": "stdout",
     "output_type": "stream",
     "text": [
      "factor\n",
      "multiple\n",
      "neither\n"
     ]
    }
   ],
   "source": [
    "for lines in input_lines:\n",
    "    a, b = map(int, lines.split())\n",
    "    if a == b == 0:\n",
    "        break\n",
    "\n",
    "    if a > b and a % b == 0:\n",
    "        print('multiple')\n",
    "        continue\n",
    "    if b > a and b % a == 0:\n",
    "        print('factor')\n",
    "        continue\n",
    "    print('neither')"
   ]
  },
  {
   "cell_type": "code",
   "execution_count": 156,
   "metadata": {},
   "outputs": [
    {
     "name": "stdout",
     "output_type": "stream",
     "text": [
      "3\n"
     ]
    }
   ],
   "source": [
    "n, k = map(int, input().split())\n",
    "factors = []\n",
    "for i in range(1, n+1):\n",
    "    if n % i == 0:\n",
    "        factors.append(i)\n",
    "\n",
    "if len(factors) < k:\n",
    "    print(0)\n",
    "else:\n",
    "    print(factors[k-1])"
   ]
  },
  {
   "cell_type": "code",
   "execution_count": null,
   "metadata": {},
   "outputs": [],
   "source": [
    "while True:\n",
    "    n = int(input())\n",
    "    if n == -1:\n",
    "        break\n",
    "    \n",
    "    factors = []\n",
    "    for i in range(1, n//2 + 1):\n",
    "        if n % i == 0:\n",
    "            factors.append(i)\n",
    "    \n",
    "    if sum(factors) == n:\n",
    "        print(f'{n} = ', end='')\n",
    "        print(*factors, sep=' + ')\n",
    "    else:\n",
    "        print(f'{n} is NOT perfect.')"
   ]
  },
  {
   "cell_type": "code",
   "execution_count": 173,
   "metadata": {},
   "outputs": [
    {
     "name": "stdout",
     "output_type": "stream",
     "text": [
      "18\n",
      "7\n"
     ]
    }
   ],
   "source": [
    "answer = ''\n",
    "\n",
    "# 소수 리스트\n",
    "prime_num = [2, 3, 5, 7]\n",
    "\n",
    "# 에라토스테네스의 체\n",
    "def eratosthenes_shecker(num : int, *, from_is_prime : bool = True) -> None:\n",
    "    \"\"\"\n",
    "    에라토스테네스의 체를 이용하여 소수 리스트를 만드는 함수\n",
    "    Args:\n",
    "        num (type[int]): 이 수의 제곱근보다 작은 모든 소수를 구함\n",
    "        \n",
    "        from_is_prime (bool, optional): num이 is_prime 함수에서 호출되었는지 확인. Defaults to True.\n",
    "                                        아닐 경우, num보다 작은 모든 소수를 구함\n",
    "    \"\"\"\n",
    "    n_min = 2\n",
    "    \n",
    "    # is_prime 함수에서 호출되었을 경우\n",
    "    if from_is_prime :\n",
    "        # 모든 수는 자신의 제곱근보다 큰 소인수를 가지지 못함\n",
    "        n_max = int(num**0.5)+1\n",
    "    # is_prime 함수에서 호출되지 않았으며, 어떤 수 보다 작은 모든 소수를 구하는 경우\n",
    "    else :\n",
    "        n_max = num\n",
    "\n",
    "    # 받은 값이 체 범위내에 있을 경우\n",
    "    if num <= prime_num[-1] :\n",
    "        return\n",
    "\n",
    "    # 소수 리스트에 이후 숫자들을 추가\n",
    "    prime_num.extend(list(range(prime_num[-1]+1,n_max)))\n",
    "    \n",
    "    # print(prime_num)\n",
    "    \n",
    "    # '소수판별 체' 알고리즘\n",
    "    for i in prime_num:\n",
    "        for j in prime_num:\n",
    "            if i!=j and 0==(j%i):\n",
    "                prime_num.remove(j)\n",
    "    return\n",
    "\n",
    "# 소수 판별\n",
    "def is_prime(num : int) -> bool :\n",
    "    \"\"\"\n",
    "    소수 판별 함수\n",
    "    Args:\n",
    "        num (type[int]): 소수인지 확인 할 숫자\n",
    "\n",
    "    Returns:\n",
    "        bool: 소수이면 True, 아니면 False\n",
    "    \"\"\"\n",
    "    result = True\n",
    "    \n",
    "    # 소수 리스트에 있는지 먼저 확인\n",
    "    if num in prime_num :\n",
    "        return result\n",
    "\n",
    "    # 소수 리스트 범위 내에 없으면 에라토스테네스의 체를 이용하여 소수 리스트를 만듬\n",
    "    if num > prime_num[-1] :\n",
    "        eratosthenes_shecker(num)\n",
    "    \n",
    "    # 소수 리스트중 나누어 떨어지는 수가 있으면 소수가 아님\n",
    "    for v in prime_num :\n",
    "        if num % v == 0 :\n",
    "            result = False\n",
    "    \n",
    "    return result\n",
    "\n",
    "# M이상 N이하의 소수 구하기\n",
    "m = int(input())\n",
    "n = int(input())\n",
    "\n",
    "# 소수 리스트에 N이하의 소수를 추가\n",
    "eratosthenes_shecker(n+1, from_is_prime=False)\n",
    "\n",
    "m_n_prime = [v for v in prime_num if m<=v<=n]\n",
    "\n",
    "if m_n_prime :\n",
    "    print(sum(m_n_prime))\n",
    "    print(m_n_prime[0])\n",
    "else :\n",
    "    print(-1)"
   ]
  },
  {
   "cell_type": "code",
   "execution_count": 164,
   "metadata": {},
   "outputs": [
    {
     "data": {
      "text/plain": [
       "False"
      ]
     },
     "execution_count": 164,
     "metadata": {},
     "output_type": "execute_result"
    }
   ],
   "source": [
    "bool([])"
   ]
  },
  {
   "cell_type": "code",
   "execution_count": 174,
   "metadata": {},
   "outputs": [
    {
     "data": {
      "text/plain": [
       "-1"
      ]
     },
     "execution_count": 174,
     "metadata": {},
     "output_type": "execute_result"
    }
   ],
   "source": [
    "-1"
   ]
  },
  {
   "cell_type": "code",
   "execution_count": 189,
   "metadata": {},
   "outputs": [
    {
     "name": "stdout",
     "output_type": "stream",
     "text": [
      "2\n"
     ]
    }
   ],
   "source": [
    "answer = ''\n",
    "\n",
    "# 소수 리스트\n",
    "prime_num = [2, 3, 5, 7]\n",
    "\n",
    "# 에라토스테네스의 체\n",
    "def eratosthenes_shecker(num : int, *, from_is_prime : bool = True) -> None:\n",
    "    \"\"\"\n",
    "    에라토스테네스의 체를 이용하여 소수 리스트를 만드는 함수\n",
    "    Args:\n",
    "        num (type[int]): 이 수의 제곱근보다 작은 모든 소수를 구함\n",
    "        \n",
    "        from_is_prime (bool, optional): num이 is_prime 함수에서 호출되었는지 확인. Defaults to True.\n",
    "                                        아닐 경우, num보다 작은 모든 소수를 구함\n",
    "    \"\"\"\n",
    "    n_min = 2\n",
    "    \n",
    "    # is_prime 함수에서 호출되었을 경우\n",
    "    if from_is_prime :\n",
    "        # 모든 수는 자신의 제곱근보다 큰 소인수는 검사하지 않아도 됨\n",
    "        n_max = int(num**0.5)+1\n",
    "    # is_prime 함수에서 호출되지 않았으며, 어떤 수 보다 작은 모든 소수를 구하는 경우\n",
    "    else :\n",
    "        n_max = num\n",
    "\n",
    "    # 받은 값이 체 범위내에 있을 경우\n",
    "    if num <= prime_num[-1] :\n",
    "        return\n",
    "\n",
    "    # 소수 리스트에 이후 숫자들을 추가\n",
    "    prime_num.extend(list(range(prime_num[-1]+1,n_max)))\n",
    "    \n",
    "    # print(prime_num)\n",
    "    \n",
    "    # '소수판별 체' 알고리즘\n",
    "    for i in prime_num:\n",
    "        for j in prime_num:\n",
    "            if i!=j and 0==(j%i):\n",
    "                prime_num.remove(j)\n",
    "    return\n",
    "\n",
    "# 소수 판별\n",
    "def is_prime(num : int) -> bool :\n",
    "    \"\"\"\n",
    "    소수 판별 함수\n",
    "    Args:\n",
    "        num (type[int]): 소수인지 확인 할 숫자\n",
    "\n",
    "    Returns:\n",
    "        bool: 소수이면 True, 아니면 False\n",
    "    \"\"\"\n",
    "    result = True\n",
    "    \n",
    "    # 소수 리스트에 있는지 먼저 확인\n",
    "    if num in prime_num :\n",
    "        return result\n",
    "\n",
    "    # 소수 리스트 범위 내에 없으면 에라토스테네스의 체를 이용하여 소수 리스트를 만듬\n",
    "    if num > prime_num[-1] :\n",
    "        eratosthenes_shecker(num)\n",
    "    \n",
    "    # 소수 리스트중 나누어 떨어지는 수가 있으면 소수가 아님\n",
    "    for v in prime_num :\n",
    "        if num % v == 0 :\n",
    "            result = False\n",
    "    \n",
    "    return result\n",
    "\n",
    "# n의 소인수 구하기\n",
    "n = int(input())\n",
    "prime_factors = []\n",
    "if n == 1:\n",
    "    pass\n",
    "else:    \n",
    "    # 소수 리스트에 N 제곱근 이하의 소수를 추가\n",
    "    eratosthenes_shecker(n)\n",
    "    \n",
    "    # 소수리스트를 이용하여 소인수 구하기\n",
    "    for prime in prime_num :\n",
    "        while n % prime == 0 :\n",
    "            n //= prime\n",
    "            prime_factors.append(prime)\n",
    "        if n != 1 and is_prime(n):\n",
    "            prime_factors.append(n)\n",
    "            break\n",
    "        if n == 1 :\n",
    "            break\n",
    "\n",
    "prime_factors.sort()\n",
    "\n",
    "for v in prime_factors :\n",
    "    print(v)"
   ]
  },
  {
   "attachments": {},
   "cell_type": "markdown",
   "metadata": {},
   "source": [
    "# 백준 9장(약수, 배수와 소수)까지 완료\n",
    "- 10장 기하 할 차례"
   ]
  },
  {
   "cell_type": "code",
   "execution_count": 192,
   "metadata": {},
   "outputs": [
    {
     "name": "stdout",
     "output_type": "stream",
     "text": [
      "    *\n",
      "   ***\n",
      "  *****\n",
      " *******\n",
      "*********\n",
      " *******\n",
      "  *****\n",
      "   ***\n",
      "    *\n"
     ]
    }
   ],
   "source": [
    "n = int(input())\n",
    "for i in range(n) :\n",
    "    print(' '*(n-i-1)+'*'*(2*i+1))\n",
    "for i in range(n-1,0,-1) :\n",
    "    print(' '*(n-i)+'*'*(2*i-1))"
   ]
  },
  {
   "cell_type": "code",
   "execution_count": 6,
   "metadata": {},
   "outputs": [
    {
     "name": "stdout",
     "output_type": "stream",
     "text": [
      "1 4 6 2 3 7 10 5 8 9\n"
     ]
    }
   ],
   "source": [
    "n,m = map(int,input().split())\n",
    "l = [*range(1,n+1)]\n",
    "for i in range(m) :\n",
    "    s,e,c = map(int,input().split())\n",
    "    l[s-1:e] = l[c-1:e]+l[s-1:c-1]\n",
    "print(*l)"
   ]
  },
  {
   "cell_type": "code",
   "execution_count": 193,
   "metadata": {},
   "outputs": [],
   "source": [
    "txt = r'''1 6 4\n",
    "3 9 8\n",
    "2 10 5\n",
    "1 3 3\n",
    "2 6 2'''\n",
    "input_lines = txt.splitlines()"
   ]
  },
  {
   "cell_type": "code",
   "execution_count": 197,
   "metadata": {},
   "outputs": [
    {
     "name": "stdout",
     "output_type": "stream",
     "text": [
      "1 2 3 4 5 6 7 8 9 10\n",
      "1 6 4\n",
      "4 5 6 1 2 3 7 8 9 10\n",
      "3 9 8\n",
      "4 5 8 9 6 1 2 3 7 10\n",
      "2 10 5\n",
      "4 6 1 2 3 7 10 5 8 9\n",
      "1 3 3\n",
      "1 4 6 2 3 7 10 5 8 9\n",
      "2 6 2\n",
      "1 4 6 2 3 7 10 5 8 9\n",
      "1 4 6 2 3 7 10 5 8 9\n"
     ]
    }
   ],
   "source": [
    "n,m = 10, 5\n",
    "l = [*range(1,n+1)]\n",
    "print(*l)\n",
    "for line in input_lines:\n",
    "    s,e,c = map(int,line.split())\n",
    "    l[s-1:e] = l[c-1:e]+l[s-1:c-1]\n",
    "    print(s,e,c)\n",
    "    print(*l)\n",
    "print(*l)"
   ]
  },
  {
   "cell_type": "code",
   "execution_count": 10,
   "metadata": {},
   "outputs": [
    {
     "name": "stdout",
     "output_type": "stream",
     "text": [
      "1003001\n"
     ]
    }
   ],
   "source": [
    "# 소수 리스트\n",
    "prime_num = [2, 3, 5, 7]\n",
    "# 체크한 수의 최대값\n",
    "check_max = 4\n",
    "\n",
    "# 에라토스테네스의 체\n",
    "def eratosthenes_shecker(num : int, *, from_is_prime : bool = True) -> None:\n",
    "    \"\"\"\n",
    "    에라토스테네스의 체를 이용하여 소수 리스트를 만드는 함수\n",
    "    Args:\n",
    "        num (type[int]): 이 수의 제곱근보다 작은 모든 소수를 구함\n",
    "        \n",
    "        from_is_prime (bool, optional): num이 is_prime 함수에서 호출되었는지 확인. Defaults to True.\n",
    "    \"\"\"\n",
    "    global check_max\n",
    "    n_min = 2\n",
    "    \n",
    "    # 받은 값이 체 범위내에 있을 경우\n",
    "    if num <= prime_num[-1] :\n",
    "        return\n",
    "    \n",
    "    if from_is_prime :\n",
    "        # 모든 수는 자신의 제곱근보다 큰 소인수를 가지지 못함\n",
    "        n_max = int(num**0.5)+1\n",
    "    else :\n",
    "        # 어떤 수 보다 작은 소수를 구해두는 경우\n",
    "        n_max = num + 1\n",
    "\n",
    "    \n",
    "    if num > check_max :\n",
    "        # 소수 리스트에 이후 숫자들을 추가\n",
    "        ex_l = list(range(prime_num[-1]+1,n_max))\n",
    "        ex_l = [v for v in ex_l if (v % 2 != 0) and (v % 3 != 0)]\n",
    "        prime_num.extend(ex_l)\n",
    "        check_max = num\n",
    "    else :\n",
    "        return\n",
    "    \n",
    "    # print(prime_num)\n",
    "    \n",
    "    # '소수판별 체' 알고리즘\n",
    "    for i in prime_num:\n",
    "        for j in prime_num:\n",
    "            if i == j:\n",
    "                continue\n",
    "            if 0==(j%i):\n",
    "                prime_num.remove(j)\n",
    "    return\n",
    "\n",
    "# 소수 판별\n",
    "def is_prime(num : int) -> bool :\n",
    "    \"\"\"\n",
    "    소수 판별 함수\n",
    "    Args:\n",
    "        num (type[int]): 소수인지 확인 할 숫자\n",
    "\n",
    "    Returns:\n",
    "        bool: 소수이면 True, 아니면 False\n",
    "    \"\"\"\n",
    "    result = True\n",
    "    \n",
    "    # 소수 리스트에 있는지 먼저 확인\n",
    "    if num <= prime_num[-1] :\n",
    "        if num in prime_num :\n",
    "            return True\n",
    "        else :\n",
    "            return False\n",
    "\n",
    "    # 체크해본 수보다 num이 크면 에라토스테네스의 체를 이용하여 소수 리스트를 만듬\n",
    "    if num > check_max :\n",
    "        eratosthenes_shecker(num)\n",
    "    \n",
    "    # 소수 리스트중 나누어 떨어지는 수가 있으면 소수가 아님\n",
    "    for v in prime_num :\n",
    "        if num % v == 0 :\n",
    "            result = False\n",
    "            break\n",
    "    \n",
    "    return result\n",
    "\n",
    "\n",
    "def is_palindrome(num : type[int]) -> bool :\n",
    "    \"\"\"\n",
    "    어떠한 수를 거꾸로 읽어도 똑같은 수를 팰린드롬(palindrome)이라고 한다.\n",
    "    \n",
    "    Args:\n",
    "        num (type[int]): 펠린드롬 수인지 확인 할 숫자\n",
    "\n",
    "    Returns:\n",
    "        bool: 팰린드롬이면 True, 아니면 False\n",
    "    \"\"\"\n",
    "    result = True\n",
    "\n",
    "    # 문자열로 비교하기 위해 str로 변환\n",
    "    num = str(num)\n",
    "    \n",
    "    # str[::-1]을 이용하면 더 짧고 가독성이 좋게 비교 가능함\n",
    "    if num != num[::-1] :\n",
    "        result = False\n",
    "\n",
    "    return result\n",
    "\n",
    "# 나올수 있는 최댓값**0.5 보다 작은 모든 소수를 구함\n",
    "eratosthenes_shecker(1003001)\n",
    "\n",
    "result = 2\n",
    "\n",
    "# 입력받은 수\n",
    "# num = int(input('수를 입력하세요 : ')) <- 이렇게 하면 백준에서는 오류가 남\n",
    "num = int(input())\n",
    "\n",
    "\n",
    "i = num\n",
    "# n부터 올라가며 소수인경우 팰린드롬인지 확인\n",
    "while True:\n",
    "    if is_prime(i) :\n",
    "        if is_palindrome(i) :\n",
    "            result = str(i)\n",
    "            break\n",
    "    i += 1\n",
    "\n",
    "print(result)"
   ]
  },
  {
   "cell_type": "code",
   "execution_count": 9,
   "metadata": {},
   "outputs": [],
   "source": [
    "pp_nums = []"
   ]
  },
  {
   "cell_type": "code",
   "execution_count": 11,
   "metadata": {},
   "outputs": [
    {
     "ename": "KeyboardInterrupt",
     "evalue": "",
     "output_type": "error",
     "traceback": [
      "\u001b[1;31m---------------------------------------------------------------------------\u001b[0m",
      "\u001b[1;31mKeyboardInterrupt\u001b[0m                         Traceback (most recent call last)",
      "Cell \u001b[1;32mIn[11], line 8\u001b[0m\n\u001b[0;32m      6\u001b[0m     \u001b[39mcontinue\u001b[39;00m\n\u001b[0;32m      7\u001b[0m \u001b[39mwhile\u001b[39;00m \u001b[39mTrue\u001b[39;00m:\n\u001b[1;32m----> 8\u001b[0m     \u001b[39mif\u001b[39;00m is_prime(i) :\n\u001b[0;32m      9\u001b[0m         \u001b[39mif\u001b[39;00m is_palindrome(i) :\n\u001b[0;32m     10\u001b[0m             \u001b[39mif\u001b[39;00m i \u001b[39mnot\u001b[39;00m \u001b[39min\u001b[39;00m pp_nums :\n",
      "Cell \u001b[1;32mIn[1], line 72\u001b[0m, in \u001b[0;36mis_prime\u001b[1;34m(num)\u001b[0m\n\u001b[0;32m     70\u001b[0m \u001b[39m# 체크해본 수보다 num이 크면 에라토스테네스의 체를 이용하여 소수 리스트를 만듬\u001b[39;00m\n\u001b[0;32m     71\u001b[0m \u001b[39mif\u001b[39;00m num \u001b[39m>\u001b[39m check_max :\n\u001b[1;32m---> 72\u001b[0m     eratosthenes_shecker(num)\n\u001b[0;32m     74\u001b[0m \u001b[39m# 소수 리스트중 나누어 떨어지는 수가 있으면 소수가 아님\u001b[39;00m\n\u001b[0;32m     75\u001b[0m \u001b[39mfor\u001b[39;00m v \u001b[39min\u001b[39;00m prime_num :\n",
      "Cell \u001b[1;32mIn[1], line 47\u001b[0m, in \u001b[0;36meratosthenes_shecker\u001b[1;34m(num, from_is_prime)\u001b[0m\n\u001b[0;32m     45\u001b[0m         \u001b[39mif\u001b[39;00m i \u001b[39m==\u001b[39m j:\n\u001b[0;32m     46\u001b[0m             \u001b[39mcontinue\u001b[39;00m\n\u001b[1;32m---> 47\u001b[0m         \u001b[39mif\u001b[39;00m \u001b[39m0\u001b[39;49m\u001b[39m==\u001b[39;49m(j\u001b[39m%\u001b[39;49mi):\n\u001b[0;32m     48\u001b[0m             prime_num\u001b[39m.\u001b[39mremove(j)\n\u001b[0;32m     49\u001b[0m \u001b[39mreturn\u001b[39;00m\n",
      "\u001b[1;31mKeyboardInterrupt\u001b[0m: "
     ]
    }
   ],
   "source": [
    "near_pp = 0\n",
    "for num in range(1, 1000000):\n",
    "    i = num\n",
    "    # n부터 올라가며 소수인경우 팰린드롬인지 확인\n",
    "    if near_pp >= i :\n",
    "        continue\n",
    "    while True:\n",
    "        if is_prime(i) :\n",
    "            if is_palindrome(i) :\n",
    "                if i not in pp_nums :\n",
    "                    pp_nums.append(i)\n",
    "                    near_pp = i\n",
    "                i += 1\n",
    "                break\n",
    "        i += 1\n",
    "print(pp_nums)"
   ]
  },
  {
   "cell_type": "code",
   "execution_count": 22,
   "metadata": {},
   "outputs": [],
   "source": [
    "eratosthenes_shecker(1004000, from_is_prime=False)"
   ]
  },
  {
   "attachments": {},
   "cell_type": "markdown",
   "metadata": {},
   "source": [
    "# 백준 10장 ~"
   ]
  },
  {
   "cell_type": "code",
   "execution_count": 1,
   "metadata": {},
   "outputs": [
    {
     "name": "stdout",
     "output_type": "stream",
     "text": [
      "2\n"
     ]
    }
   ],
   "source": [
    "a, b = int(input()), int(input())\n",
    "print(a*b)"
   ]
  },
  {
   "cell_type": "code",
   "execution_count": 3,
   "metadata": {},
   "outputs": [
    {
     "name": "stdout",
     "output_type": "stream",
     "text": [
      "1\n"
     ]
    }
   ],
   "source": [
    "x, y, w, h = map(int, input().split())\n",
    "# 각각 동, 서, 남, 북으로 이동했을때의 가장자리와의 거리\n",
    "l = w-x, x, h-y, y\n",
    "# 가장 짧은 거리를 출력\n",
    "print(min(l))"
   ]
  },
  {
   "cell_type": "code",
   "execution_count": 5,
   "metadata": {},
   "outputs": [
    {
     "name": "stdout",
     "output_type": "stream",
     "text": [
      "7 7\n"
     ]
    }
   ],
   "source": [
    "f = lambda:list(map(int, input().split()))\n",
    "p1 = f()\n",
    "p2 = f()\n",
    "p3 = f()\n",
    "\n",
    "# x, y 좌표를 각각 리스트로 만듬\n",
    "x_l = [p1[0], p2[0], p3[0]]\n",
    "y_l = [p1[1], p2[1], p3[1]]\n",
    "\n",
    "# x, y 좌표중 하나만 나오는 값을 찾음\n",
    "x_result =  [ v for v in x_l if x_l.count(v) == 1 ]\n",
    "y_result =  [ v for v in y_l if y_l.count(v) == 1 ]\n",
    "\n",
    "print(x_result[0], y_result[0])\n"
   ]
  },
  {
   "cell_type": "code",
   "execution_count": null,
   "metadata": {},
   "outputs": [],
   "source": [
    "# 둘레는 4로 시작해 4씩 증가함\n",
    "n = int(input())\n",
    "print(4*n)"
   ]
  },
  {
   "cell_type": "code",
   "execution_count": null,
   "metadata": {},
   "outputs": [],
   "source": [
    "n = int(input())\n",
    "\n",
    "# 포인트 리스트\n",
    "point_l = []\n",
    "for _ in range(n):\n",
    "    point_l.append(list(map(int, input().split())))\n",
    "\n",
    "# x, y 좌표를 각각 리스트로 만듬\n",
    "x_l = [ p[0] for p in point_l ]\n",
    "y_l = [ p[1] for p in point_l ]\n",
    "\n",
    "# x, y 좌표중 최대, 최소값을 구함\n",
    "e, w, n, s = max(x_l), min(x_l), max(y_l), min(y_l)\n",
    "\n",
    "# 넓이를 구함 (동서 거리 * 남북 거리)\n",
    "print((e-w)*(n-s))"
   ]
  },
  {
   "cell_type": "code",
   "execution_count": null,
   "metadata": {},
   "outputs": [],
   "source": [
    "n = int(input())\n",
    "\n",
    "# 포인트 리스트\n",
    "# point_l 를 굳이 만들지 않고 x_l, y_l를 만들어도 됨\n",
    "x_l, y_l = [], []\n",
    "for _ in range(n):\n",
    "    x, y = list(map(int, input().split()))\n",
    "    x_l.append(x)\n",
    "    y_l.append(y)\n",
    "    \n",
    "# x, y 좌표중 최대, 최소값을 구함\n",
    "e, w, n, s = max(x_l), min(x_l), max(y_l), min(y_l)\n",
    "\n",
    "# 넓이를 구함 (동서 거리 * 남북 거리)\n",
    "print((e-w)*(n-s))"
   ]
  },
  {
   "cell_type": "code",
   "execution_count": null,
   "metadata": {},
   "outputs": [],
   "source": [
    "a1 = int(input())\n",
    "a2 = int(input())\n",
    "a3 = int(input())\n",
    "\n",
    "# 세 각의 합이 180\n",
    "if a1 + a2 + a3 == 180:\n",
    "    # 세 각이 모두 60\n",
    "    if a1 == a2 and a2 == a3 and a3 == 60:\n",
    "        print('Equilateral')\n",
    "    # 두 각이 같은 경우\n",
    "    elif a1 == a2 or a2 == a3 or a3 == a1:\n",
    "        print('Isosceles')\n",
    "    # 세 각이 모두 다른 경우\n",
    "    else:\n",
    "        print('Scalene')\n",
    "# 세 각의 합이 180이 아닌 경우\n",
    "else:\n",
    "    print('Error')"
   ]
  },
  {
   "cell_type": "code",
   "execution_count": null,
   "metadata": {},
   "outputs": [],
   "source": [
    "while True:\n",
    "    s1, s2, s3 = map(int, input().split())\n",
    "    \n",
    "    # 0 0 0 이 입력되면 종료\n",
    "    if s1 == 0 and s2 == 0 and s3 == 0:\n",
    "        break\n",
    "    \n",
    "    # 가장 긴 변이 다른 두 변의 합보다 작아야 함\n",
    "    if max(s1,s2,s3) < (s1+s2+s3-max(s1,s2,s3)):\n",
    "        # 세 변의 길이가 모두 같은 경우\n",
    "        if s1 == s2 and s2 == s3:\n",
    "            print('Equilateral')\n",
    "        # 두 변의 길이가 같은 경우\n",
    "        elif s1 == s2 or s2 == s3 or s3 == s1:\n",
    "            print('Isosceles')\n",
    "        # 세 변의 길이가 모두 다른 경우\n",
    "        else:\n",
    "            print('Scalene')\n",
    "    # 가장 긴 변이 다른 두 변의 합보다 큰 경우\n",
    "    else:\n",
    "        print('Invalid')"
   ]
  },
  {
   "cell_type": "code",
   "execution_count": null,
   "metadata": {},
   "outputs": [],
   "source": [
    "s1, s2, s3 = map(int, input().split())\n",
    "max_s = max(s1,s2,s3)\n",
    "total_s = s1 + s2 + s3\n",
    "while max_s >= total_s - max_s:\n",
    "    max_s -= 1\n",
    "    total_s -= 1\n",
    "print(total_s)"
   ]
  },
  {
   "cell_type": "code",
   "execution_count": null,
   "metadata": {},
   "outputs": [],
   "source": [
    "# MenOfPassion(A[], n) {\n",
    "#     i = ⌊n / 2⌋;\n",
    "#     return A[i]; # 코드1\n",
    "# }\n",
    "\n",
    "n = int(input())\n",
    "\n",
    "# 코드1 시행 횟수\n",
    "print(1)\n",
    "# 최대차수\n",
    "print(0)"
   ]
  },
  {
   "cell_type": "code",
   "execution_count": null,
   "metadata": {},
   "outputs": [],
   "source": [
    "# MenOfPassion(A[], n) {\n",
    "#     sum <- 0;\n",
    "#     for i <- 1 to n\n",
    "#         sum <- sum + A[i]; # 코드1\n",
    "#     return sum;\n",
    "# }\n",
    "\n",
    "n = int(input())\n",
    "\n",
    "# 코드1 시행 횟수\n",
    "print(n)\n",
    "# 최대차수 n\n",
    "print(1)\n"
   ]
  },
  {
   "cell_type": "code",
   "execution_count": null,
   "metadata": {},
   "outputs": [],
   "source": [
    "# MenOfPassion(A[], n) {\n",
    "#     sum <- 0;\n",
    "#     for i <- 1 to n\n",
    "#         for j <- 1 to n\n",
    "#             sum <- sum + A[i] × A[j]; # 코드1\n",
    "#     return sum;\n",
    "# }\n",
    "\n",
    "n = int(input())\n",
    "\n",
    "# 코드1 시행 횟수\n",
    "print(n**2)\n",
    "# 최대차수 n^2\n",
    "print(2)\n"
   ]
  },
  {
   "cell_type": "code",
   "execution_count": 23,
   "metadata": {},
   "outputs": [
    {
     "name": "stdout",
     "output_type": "stream",
     "text": [
      "1,0 : 0\n",
      "2,1 : 1\n",
      "3,2 : 3\n",
      "4,3 : 6\n",
      "5,4 : 10\n",
      "6,5 : 15\n",
      "7,6 : 21\n",
      "8,7 : 28\n",
      "9,8 : 36\n",
      "10,9 : 45\n",
      "11,10 : 55\n",
      "12,11 : 66\n",
      "13,12 : 78\n",
      "14,13 : 91\n",
      "15,14 : 105\n",
      "16,15 : 120\n",
      "17,16 : 136\n",
      "18,17 : 153\n",
      "19,18 : 171\n",
      "20,19 : 190\n"
     ]
    }
   ],
   "source": [
    "for n in range(1, 21):\n",
    "    count = 0\n",
    "    for i in range(n):\n",
    "        for j in range(i+1, n):\n",
    "            count += 1\n",
    "    print(f'{n},{i} : {count}')"
   ]
  },
  {
   "cell_type": "code",
   "execution_count": null,
   "metadata": {},
   "outputs": [],
   "source": [
    "# MenOfPassion(A[], n) {\n",
    "#     sum <- 0;\n",
    "#     for i <- 1 to n - 1\n",
    "#         for j <- i + 1 to n\n",
    "#             sum <- sum + A[i] × A[j]; # 코드1\n",
    "#     return sum;\n",
    "# }\n",
    "\n",
    "n = int(input())\n",
    "\n",
    "# 코드1 시행 횟수\n",
    "print(n*(n-1)//2)\n",
    "# 최대차수 n2 => n(n-1)/2 => => 0.5n^2-0.5n \n",
    "print(2)"
   ]
  },
  {
   "cell_type": "code",
   "execution_count": null,
   "metadata": {},
   "outputs": [],
   "source": [
    "# MenOfPassion(A[], n) {\n",
    "#     sum <- 0;\n",
    "#     for i <- 1 to n\n",
    "#         for j <- 1 to n\n",
    "#             for k <- 1 to n\n",
    "#                 sum <- sum + A[i] × A[j] × A[k]; # 코드1\n",
    "#     return sum;\n",
    "# }\n",
    "\n",
    "n = int(input())\n",
    "\n",
    "# 코드1 시행 횟수\n",
    "print(n**3)\n",
    "# 최대차수 n^3\n",
    "print(3)"
   ]
  },
  {
   "cell_type": "code",
   "execution_count": 31,
   "metadata": {},
   "outputs": [
    {
     "name": "stdout",
     "output_type": "stream",
     "text": [
      "0,18 : 0\n",
      "1,0 : 0\n",
      "2,1 : 0\n",
      "3,2 : 1\n",
      "4,3 : 4\n",
      "5,4 : 10\n",
      "6,5 : 20\n",
      "7,6 : 35\n",
      "8,7 : 56\n",
      "9,8 : 84\n",
      "10,9 : 120\n",
      "11,10 : 165\n",
      "12,11 : 220\n",
      "13,12 : 286\n",
      "14,13 : 364\n",
      "15,14 : 455\n",
      "16,15 : 560\n",
      "17,16 : 680\n",
      "18,17 : 816\n",
      "19,18 : 969\n"
     ]
    }
   ],
   "source": [
    "n = 20\n",
    "for n in range(20):\n",
    "    count = 0\n",
    "    for i in range(n):\n",
    "        for j in range(i+1, n):\n",
    "            for k in range(j+1, n):\n",
    "                count += 1\n",
    "    print(f'{n},{i} : {count}')"
   ]
  },
  {
   "cell_type": "code",
   "execution_count": null,
   "metadata": {},
   "outputs": [],
   "source": [
    "# MenOfPassion(A[], n) {\n",
    "#     sum <- 0;\n",
    "#     for i <- 1 to n - 2\n",
    "#         for j <- i + 1 to n - 1\n",
    "#             for k <- j + 1 to n\n",
    "#                 sum <- sum + A[i] × A[j] × A[k]; # 코드1\n",
    "#     return sum;\n",
    "# }\n",
    "\n",
    "n = int(input())\n",
    "\n",
    "# 코드1 시행 횟수\n",
    "print( ((n-2)*(n-1)*n)//6 )\n",
    "# 최대차수 n^3 => (n-2)(n-1)n/6\n",
    "print(3)"
   ]
  },
  {
   "cell_type": "markdown",
   "metadata": {},
   "source": [
    "# 백준 11장 마지막 문제 남음"
   ]
  },
  {
   "cell_type": "code",
   "execution_count": 33,
   "metadata": {},
   "outputs": [],
   "source": [
    "# O(g(n)) = {f(n) | 모든 n ≥ n0에 대하여 f(n) ≤ c × g(n)인 양의 상수 c와 n0가 존재한다}\n",
    "\n",
    "# f(n) = a1n + a0, 양의 정수 c, n0\n",
    "\n",
    "# 예) f(n) = 7n + 7, c = 8 , n0 = 1\n",
    "\n",
    "# f(n) = a1n + a0 <= c * g(n) = c * n\n",
    "# a1n - cn + a0 <= 0\n",
    "# (a1 - c)n + a0 <= 0\n",
    "# 모두 양수이므로\n",
    "# a1 > c 일 경우 만족 불가\n",
    "# a1 = c 일 경우 a0 = 0 일 경우 만족\n",
    "\n"
   ]
  },
  {
   "cell_type": "code",
   "execution_count": 34,
   "metadata": {},
   "outputs": [],
   "source": [
    "a1, a0 = map(int, input().split())\n",
    "c = int(input())\n",
    "n0 = int(input())\n",
    "f = lambda x : a1*x + a0\n"
   ]
  },
  {
   "cell_type": "code",
   "execution_count": null,
   "metadata": {},
   "outputs": [],
   "source": [
    "n = n0\n",
    "is_on = True\n",
    "while True:\n",
    "    if f(n) > c*n:\n",
    "        is_on = False\n",
    "        break\n",
    "    "
   ]
  }
 ],
 "metadata": {
  "kernelspec": {
   "display_name": "base",
   "language": "python",
   "name": "python3"
  },
  "language_info": {
   "codemirror_mode": {
    "name": "ipython",
    "version": 3
   },
   "file_extension": ".py",
   "mimetype": "text/x-python",
   "name": "python",
   "nbconvert_exporter": "python",
   "pygments_lexer": "ipython3",
   "version": "3.10.9"
  },
  "orig_nbformat": 4
 },
 "nbformat": 4,
 "nbformat_minor": 2
}
