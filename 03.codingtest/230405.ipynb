{
 "cells": [
  {
   "cell_type": "code",
   "execution_count": 1,
   "metadata": {},
   "outputs": [],
   "source": [
    "# 연속 펄스 부분 수열의 합\n",
    "# 문제 설명\n",
    "# 어떤 수열의 연속 부분 수열에 같은 길이의 펄스 수열을 각 원소끼리 곱하여 연속 펄스 부분 수열을 만들려 합니다. 펄스 수열이란 [1, -1, 1, -1 …] 또는 [-1, 1, -1, 1 …] 과 같이 1 또는 -1로 시작하면서 1과 -1이 번갈아 나오는 수열입니다.\n",
    "# 예를 들어 수열 [2, 3, -6, 1, 3, -1, 2, 4]의 연속 부분 수열 [3, -6, 1]에 펄스 수열 [1, -1, 1]을 곱하면 연속 펄스 부분수열은 [3, 6, 1]이 됩니다. 또 다른 예시로 연속 부분 수열 [3, -1, 2, 4]에 펄스 수열 [-1, 1, -1, 1]을 곱하면 연속 펄스 부분수열은 [-3, -1, -2, 4]이 됩니다.\n",
    "# 정수 수열 sequence가 매개변수로 주어질 때, 연속 펄스 부분 수열의 합 중 가장 큰 것을 return 하도록 solution 함수를 완성해주세요.\n",
    "\n",
    "# 제한 사항\n",
    "# 1 ≤ sequence의 길이 ≤ 500,000\n",
    "# -100,000 ≤ sequence의 원소 ≤ 100,000\n",
    "# sequence의 원소는 정수입니다.\n",
    "# 입출력 예\n",
    "# sequence\tresult\n",
    "# [2, 3, -6, 1, 3, -1, 2, 4]\t10\n",
    "# 입출력 예 설명\n",
    "# 주어진 수열의 연속 부분 수열 [3, -6, 1]에 펄스 수열 [1, -1, 1]을 곱하여 연속 펄스 부분 수열 [3, 6, 1]을 얻을 수 있고 그 합은 10으로서 가장 큽니다."
   ]
  },
  {
   "cell_type": "code",
   "execution_count": 7,
   "metadata": {},
   "outputs": [
    {
     "data": {
      "text/plain": [
       "7"
      ]
     },
     "execution_count": 7,
     "metadata": {},
     "output_type": "execute_result"
    }
   ],
   "source": [
    "l1 = []\n",
    "l1 += [1]\n",
    "l1 += [2]\n",
    "\n",
    "l1[1:2]\n",
    "\n",
    "max(sum([1,2]),sum([3,4]))"
   ]
  },
  {
   "cell_type": "code",
   "execution_count": null,
   "metadata": {},
   "outputs": [],
   "source": [
    "# 시간 초과로 실패\n",
    "# 2중 for문이 문제인듯.\n",
    "# O(n^2)은 언제나 그르다\n",
    "\n",
    "def solution(sequence):\n",
    "    answer = 0\n",
    "    \n",
    "    # 홀/짝수번째 수열로 나눔\n",
    "    odd_sq = sequence[::2]\n",
    "    # 짝수열에 -1을 곱한 리스트 생성\n",
    "    even_sq_minus = [ -v for v in sequence[1::2]]\n",
    "    \n",
    "    pulse = []\n",
    "    \n",
    "    # 홀*(-1)+짝 리스트 생성\n",
    "    for i in range(len(odd_sq)):\n",
    "        try:\n",
    "            pulse += [odd_sq[i], even_sq_minus[i]]\n",
    "        except:\n",
    "            pulse += [odd_sq[i]]\n",
    "    \n",
    "    # 각 수열의 나올 수 있는 합중 최대치 고르기\n",
    "    for i in range(len(sequence)):\n",
    "        for j in range(len(sequence)):\n",
    "            if i > j :\n",
    "                continue\n",
    "            else :\n",
    "                # pulse[i:j+1]의 합 sum_all과 -sum_all 먼저 비교\n",
    "                # 그후 저장된 값과 한번 더 비교\n",
    "                sum_all = sum(pulse[i:j+1])\n",
    "                answer = max(max(sum_all, -sum_all), answer) \n",
    "    \n",
    "    \n",
    "    return answer"
   ]
  },
  {
   "cell_type": "code",
   "execution_count": 58,
   "metadata": {},
   "outputs": [],
   "source": [
    "# 시간 초과로 실패\n",
    "# 2중 for문이 문제인듯.\n",
    "# O(n^2)은 언제나 그르다\n",
    "\n",
    "def solution(sequence):\n",
    "    answer = 0\n",
    "    n = len(sequence)\n",
    "    pulse = []\n",
    "    \n",
    "    for i in range(n):\n",
    "        if i % 2 == 0:\n",
    "            pulse.append(-sequence[i])\n",
    "        else:\n",
    "            pulse.append(sequence[i])\n",
    "    \n",
    "    # 각 수열의 나올 수 있는 합중 최대치 고르기\n",
    "    for i in range(n):\n",
    "        for j in range(n):\n",
    "            if i > j :\n",
    "                continue\n",
    "            else :\n",
    "                # pulse[i:j+1]의 합 sum_all과 -sum_all 먼저 비교\n",
    "                # 그후 저장된 값과 한번 더 비교\n",
    "                sum_all = sum(pulse[i:j+1])\n",
    "                answer = max(max(sum_all, -sum_all), answer) \n",
    "\n",
    "    return answer"
   ]
  },
  {
   "cell_type": "code",
   "execution_count": 43,
   "metadata": {},
   "outputs": [],
   "source": [
    "# 오류가 있고 시간복잡도는 그대로\n",
    "\n",
    "def solution(sequence):\n",
    "    answer = 0\n",
    "    n = len(sequence)\n",
    "    pulse = []\n",
    "\n",
    "    # sequence의 짝수번째 원소는 음수로, 홀수번째 원소는 양수로 pulse 리스트에 저장\n",
    "    for i in range(n):\n",
    "        if i % 2 == 0:\n",
    "            pulse.append(-sequence[i])\n",
    "        else:\n",
    "            pulse.append(sequence[i])\n",
    "\n",
    "    # 0부터 i번 인덱스의 합을 미리 구해둠\n",
    "    prefix_sum = [0]*(n+1)\n",
    "    for i in range(1, n+1):\n",
    "        prefix_sum[i] = prefix_sum[i-1] + pulse[i-1]\n",
    "\n",
    "    # 리스트 내부 값 중 가장 큰 값과 가장 작은 값의 절댓값 중 큰 값을 초기값으로 설정\n",
    "    answer = max(max(pulse), -min(pulse)) \n",
    "\n",
    "    for i in range(n):\n",
    "        for j in range(i+1, n):\n",
    "            sum_all = prefix_sum[j] - prefix_sum[i-1]\n",
    "            answer = max(max(sum_all, -sum_all), answer)\n",
    "\n",
    "    return answer\n"
   ]
  },
  {
   "cell_type": "code",
   "execution_count": 56,
   "metadata": {},
   "outputs": [],
   "source": [
    "\n",
    "def solution(sequence):\n",
    "    answer = 0\n",
    "    n = len(sequence)\n",
    "    pulse = []\n",
    "    \n",
    "    for i in range(n):\n",
    "        if i % 2 == 0:\n",
    "            pulse.append(-sequence[i])\n",
    "        else:\n",
    "            pulse.append(sequence[i])\n",
    "    \n",
    "    max_sum = float('-inf')  # 현재까지의 최대 연속 펄스 부분 수열 합\n",
    "    cur_sum = 0  # 현재까지의 연속 펄스 부분 수열 합\n",
    "    \n",
    "    # 1개, 2개, ..., n개의 연속 부분 수열을 고려\n",
    "    for k in range(1, n+1):\n",
    "        # 연속 부분 수열을 구할 때마다 새로운 pulse 부분 수열 구함\n",
    "        for i in range(n-k+1):\n",
    "            j = i + k - 1\n",
    "            if i == 0:\n",
    "                cur_sum = sum(pulse[i:j+1])\n",
    "            else:\n",
    "                cur_sum += pulse[j] - pulse[i-1]\n",
    "            max_sum = max(max_sum, cur_sum, -cur_sum)\n",
    "    \n",
    "    answer = max_sum\n",
    "    \n",
    "    return answer\n"
   ]
  },
  {
   "cell_type": "code",
   "execution_count": null,
   "metadata": {},
   "outputs": [],
   "source": [
    "def solution(sequence):\n",
    "    answer = 0\n",
    "\n",
    "    return answer"
   ]
  },
  {
   "cell_type": "code",
   "execution_count": null,
   "metadata": {},
   "outputs": [],
   "source": []
  },
  {
   "cell_type": "code",
   "execution_count": 57,
   "metadata": {},
   "outputs": [
    {
     "data": {
      "text/plain": [
       "579123"
      ]
     },
     "execution_count": 57,
     "metadata": {},
     "output_type": "execute_result"
    }
   ],
   "source": [
    "import random as r\n",
    "l = []\n",
    "for i in range(r.randint(1, 10_000)):\n",
    "    l += [r.randint(-10_000, 10_000)]\n",
    "\n",
    "solution(l)"
   ]
  },
  {
   "cell_type": "code",
   "execution_count": null,
   "metadata": {},
   "outputs": [],
   "source": []
  }
 ],
 "metadata": {
  "kernelspec": {
   "display_name": "base",
   "language": "python",
   "name": "python3"
  },
  "language_info": {
   "codemirror_mode": {
    "name": "ipython",
    "version": 3
   },
   "file_extension": ".py",
   "mimetype": "text/x-python",
   "name": "python",
   "nbconvert_exporter": "python",
   "pygments_lexer": "ipython3",
   "version": "3.10.9"
  },
  "orig_nbformat": 4
 },
 "nbformat": 4,
 "nbformat_minor": 2
}
