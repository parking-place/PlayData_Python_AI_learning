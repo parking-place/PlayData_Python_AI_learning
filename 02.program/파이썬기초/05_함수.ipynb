{
 "cells": [
  {
   "cell_type": "code",
   "execution_count": 42,
   "metadata": {},
   "outputs": [
    {
     "name": "stdout",
     "output_type": "stream",
     "text": [
      "Hi\n"
     ]
    },
    {
     "data": {
      "text/plain": [
       "'나이 10'"
      ]
     },
     "execution_count": 42,
     "metadata": {},
     "output_type": "execute_result"
    }
   ],
   "source": [
    "# print(입력)\n",
    "print('Hi')\n",
    "\n",
    "# format(입력)\n",
    "'나이 {}'.format(10)"
   ]
  },
  {
   "cell_type": "code",
   "execution_count": 43,
   "metadata": {},
   "outputs": [
    {
     "data": {
      "text/plain": [
       "8"
      ]
     },
     "execution_count": 43,
     "metadata": {},
     "output_type": "execute_result"
    }
   ],
   "source": [
    "import random\n",
    "random.randint(1,10)"
   ]
  },
  {
   "cell_type": "markdown",
   "metadata": {
    "slideshow": {
     "slide_type": "slide"
    }
   },
   "source": [
    "# 함수란\n",
    "- 함수란 입력변수와 출력변수간의 대응 관계를 정의한 것을 말한다.\n",
    "- 프로그램에서 함수란 하나의 작업, 기능, 동작을 처리하기 위한 사용자 정의 연산자라고 할 수 있다.\n",
    "    - 함수는 값을 입력(Input)을 받아서 처리후 처리결과를 출력(Output)하는 일련의 과정을 정의한 것을 말한다.\n",
    "    - 만들어진 함수는 동일한 작업이 필요할 때 마다 재사용될 수 있다.\n",
    "    - 함수를 구현해 파이썬 실행환경에 등록하는 것을 **함수를 정의(define)한다** 라고 한다.\n",
    "    - 정의된 함수를 사용하는 것을 **함수를 호출(call)한다** 라고 한다.\n",
    "    - 파이썬에서 함수는 일급 시민(First Class Citizen)이다.\n",
    "    \n",
    "> - **일급 시민 이란**   \n",
    ">    – 변수에 할당할 수 있고, 함수의 입력값으로 전달할 수 있고, 함수의 반환 값으로 반환할 수 있는 객체를 말한다."
   ]
  },
  {
   "cell_type": "markdown",
   "metadata": {
    "slideshow": {
     "slide_type": "slide"
    }
   },
   "source": [
    "## 함수 만들기\n",
    "- 함수의 정의\n",
    "    - 새로운 함수를 만드는 것을 함수의 정의라고 한다.\n",
    "    - 함수를 구현하고 그것을 파이썬 실행환경에 새로운 기능으로 등록하는 과정을 말한다."
   ]
  },
  {
   "cell_type": "markdown",
   "metadata": {
    "slideshow": {
     "slide_type": "fragment"
    }
   },
   "source": [
    "- 함수 구현\n",
    "    - 함수의 선언부와 구현부로 나누어진다\n",
    "        - 함수의 선언부(Header) : 함수의 이름과 입력값을 받을 변수(Parameter, 매개변수)를 지정한다.\n",
    "        - 함수의 구현부(Body) : 함수가 호출 되었을 때 실행할 실행문들을 순서대로 작성한다."
   ]
  },
  {
   "cell_type": "markdown",
   "metadata": {
    "slideshow": {
     "slide_type": "fragment"
    }
   },
   "source": [
    "   \n",
    "``` python\n",
    "def 함수이름( [변수, 변수, ..]):  # 선언 부(Header)\n",
    "    # 구현 부(body)\n",
    "    실행구문1\n",
    "    실행구문2\n",
    "    실행구문3\n",
    "    …\n",
    "    [return [결과값]]\n",
    "```\n",
    "- 함수 선언 마지막에는 `:` 을 넣어 구현부와 구분한다.\n",
    "- Parameter(매개변수)는 argument(호출하는 곳에서 전달하는 함수의 입력값)를 받기 위한 변수로 0개 이상 선언할 수 있다.\n",
    "- 함수의 실행구문은 코드블록으로 들여쓰기로 블록을 묶어준다. \n",
    "    - 들여쓰기는 보통 공백 4칸을 사용한다.\n",
    "- 함수의 처리 결과값이 있을 경우 **return 구문**을 넣고 없을 경우 return은 생략할 수 있다.\n",
    "- **함수이름 관례**\n",
    "    - 함수이름은 보통 동사형으로 만든다.\n",
    "    - 모두 소문자로 하고 여러단어로 구성할 경우 각 단어들을 `_`로 연결한다. (변수와 동일)"
   ]
  },
  {
   "cell_type": "code",
   "execution_count": null,
   "metadata": {},
   "outputs": [],
   "source": []
  },
  {
   "cell_type": "code",
   "execution_count": 1,
   "metadata": {
    "slideshow": {
     "slide_type": "fragment"
    }
   },
   "outputs": [],
   "source": [
    "# 함수 정의\n",
    "# 1.함수 구현 -> 2.함수 정의 실행(메모리에 올림) -> 파이썬 실행환경에 올림\n",
    "\n",
    "# 함수 선언부 (header) - 이름 : input_num (변수 : None)\n",
    "def input_num() :\n",
    "    # 함수 구현부 (body)\n",
    "    while True :\n",
    "        try :\n",
    "            num = int(input())\n",
    "            break\n",
    "        except :\n",
    "            print('please input number')\n",
    "    return num"
   ]
  },
  {
   "cell_type": "code",
   "execution_count": 2,
   "metadata": {
    "slideshow": {
     "slide_type": "fragment"
    }
   },
   "outputs": [
    {
     "name": "stdout",
     "output_type": "stream",
     "text": [
      "please input number\n"
     ]
    },
    {
     "data": {
      "text/plain": [
       "10"
      ]
     },
     "execution_count": 2,
     "metadata": {},
     "output_type": "execute_result"
    }
   ],
   "source": [
    "input_num()"
   ]
  },
  {
   "cell_type": "code",
   "execution_count": 44,
   "metadata": {},
   "outputs": [],
   "source": [
    "# 매개 변수 타입 제한\n",
    "def is_num(str_ : type[str]) :\n",
    "    return str_.isdigit()\n"
   ]
  },
  {
   "cell_type": "code",
   "execution_count": 45,
   "metadata": {},
   "outputs": [
    {
     "data": {
      "text/plain": [
       "False"
      ]
     },
     "execution_count": 45,
     "metadata": {},
     "output_type": "execute_result"
    }
   ],
   "source": [
    "is_num('d')"
   ]
  },
  {
   "cell_type": "code",
   "execution_count": 46,
   "metadata": {},
   "outputs": [
    {
     "data": {
      "text/plain": [
       "True"
      ]
     },
     "execution_count": 46,
     "metadata": {},
     "output_type": "execute_result"
    }
   ],
   "source": [
    "is_num('12')"
   ]
  },
  {
   "cell_type": "code",
   "execution_count": 47,
   "metadata": {},
   "outputs": [
    {
     "ename": "AttributeError",
     "evalue": "'dict' object has no attribute 'isdigit'",
     "output_type": "error",
     "traceback": [
      "\u001b[1;31m---------------------------------------------------------------------------\u001b[0m",
      "\u001b[1;31mAttributeError\u001b[0m                            Traceback (most recent call last)",
      "Cell \u001b[1;32mIn[47], line 1\u001b[0m\n\u001b[1;32m----> 1\u001b[0m is_num({\u001b[39m'\u001b[39;49m\u001b[39m1\u001b[39;49m\u001b[39m'\u001b[39;49m:\u001b[39m1\u001b[39;49m})\n",
      "Cell \u001b[1;32mIn[44], line 3\u001b[0m, in \u001b[0;36mis_num\u001b[1;34m(str_)\u001b[0m\n\u001b[0;32m      2\u001b[0m \u001b[39mdef\u001b[39;00m \u001b[39mis_num\u001b[39m(str_ : \u001b[39mtype\u001b[39m[\u001b[39mstr\u001b[39m]) :\n\u001b[1;32m----> 3\u001b[0m     \u001b[39mreturn\u001b[39;00m str_\u001b[39m.\u001b[39;49misdigit()\n",
      "\u001b[1;31mAttributeError\u001b[0m: 'dict' object has no attribute 'isdigit'"
     ]
    }
   ],
   "source": [
    "is_num({'1':1})"
   ]
  },
  {
   "cell_type": "code",
   "execution_count": 40,
   "metadata": {},
   "outputs": [],
   "source": [
    "# 자료구조 전달\n",
    "def add_to_dict(k, v, dict1 : type[dict]) :\n",
    "    dict1[k] = v"
   ]
  },
  {
   "cell_type": "code",
   "execution_count": 41,
   "metadata": {},
   "outputs": [
    {
     "data": {
      "text/plain": [
       "{'a': 1}"
      ]
     },
     "execution_count": 41,
     "metadata": {},
     "output_type": "execute_result"
    }
   ],
   "source": [
    "dict2 = {}\n",
    "add_to_dict('a', 1, dict2)\n",
    "dict2"
   ]
  },
  {
   "cell_type": "markdown",
   "metadata": {
    "slideshow": {
     "slide_type": "subslide"
    }
   },
   "source": [
    "### return value(반환값)\n",
    "- 함수가 호출받아 처리한 결과값으로 호출한 곳으로 반환하는 값이다.\n",
    "- 함수 구현부에 return \\[값\\] 구문을 사용해 반환한다.\n",
    "    - **return**\n",
    "        - 함수가 정상적으로 끝났고 호출한곳으로 돌아간다.\n",
    "        - 보통은 함수 구현의 마지막에 넣지만 경우에 따라 중간에 올 수 있다.\n",
    "    - return 반환값\n",
    "        - 호출한 곳으로 값을 가지고 돌아간다. (반환한다)\n",
    "        - 반환값이 없을 경우 None을 반환한다.\n",
    "        - 함수에 return 구문이 없을 경우 마지막에 return None이 실행된다.\n",
    "- 여러개의 값을 return 하는 경우 자료구조로 묶어서 전달해야한다.\n",
    "    - 함수는 한개의 값만 반환할 수 있다. "
   ]
  },
  {
   "cell_type": "code",
   "execution_count": 22,
   "metadata": {},
   "outputs": [],
   "source": [
    "# 반환\n",
    "def return_0() :\n",
    "    return 0"
   ]
  },
  {
   "cell_type": "code",
   "execution_count": 24,
   "metadata": {
    "slideshow": {
     "slide_type": "fragment"
    }
   },
   "outputs": [
    {
     "data": {
      "text/plain": [
       "0"
      ]
     },
     "execution_count": 24,
     "metadata": {},
     "output_type": "execute_result"
    }
   ],
   "source": [
    "return_0()"
   ]
  },
  {
   "cell_type": "code",
   "execution_count": null,
   "metadata": {
    "slideshow": {
     "slide_type": "fragment"
    }
   },
   "outputs": [],
   "source": []
  },
  {
   "cell_type": "code",
   "execution_count": 107,
   "metadata": {},
   "outputs": [],
   "source": [
    "# 두개의 피연산자를 받아 +, - *, / 해준값을 반환\n",
    "def calculate(num1 : type[int], num2 : type[int]) :\n",
    "    r1 = num1 + num2\n",
    "    r2 = num1 - num2\n",
    "    r3 = num1 * num2\n",
    "    r4 = num1 // num2\n",
    "\n",
    "    # return r1, r2, r3, r4 # Tuple 반환\n",
    "    return [r1, r2, r3, r4] # List 반환\n",
    "    # 리턴값은 하나지만\n",
    "    # 자료구조를 이용해 묶어서 반환"
   ]
  },
  {
   "cell_type": "code",
   "execution_count": 105,
   "metadata": {},
   "outputs": [
    {
     "data": {
      "text/plain": [
       "[15, 5, 50, 2]"
      ]
     },
     "execution_count": 105,
     "metadata": {},
     "output_type": "execute_result"
    }
   ],
   "source": [
    "calculate(10,5)"
   ]
  },
  {
   "cell_type": "code",
   "execution_count": 106,
   "metadata": {},
   "outputs": [],
   "source": [
    "r1, r2, r3, r4 = calculate(10, 5)"
   ]
  },
  {
   "cell_type": "markdown",
   "metadata": {
    "slideshow": {
     "slide_type": "slide"
    }
   },
   "source": [
    "## Parameter (매개변수)\n",
    " \n",
    "### 기본값이 있는 Parameter\n",
    "- 매개변수에 값을 대입하는 구문을 작성하면 호출할 때 argument 가 넘어오지 않으면 대입해놓은 기본값을 사용한다.\n",
    "- 함수 정의시 기본값 없는 매개변수, 있는 매개변수를 같이 선언할 수 있다.\n",
    "    - **이때 기본값 없는 매개변수들을 선언하고 그 다음에 기본값 있는 매개변수들을 선언한다.** "
   ]
  },
  {
   "cell_type": "code",
   "execution_count": 90,
   "metadata": {},
   "outputs": [],
   "source": [
    "def greeting( name, age, adress) :\n",
    "    print(f'{adress}에 사는 {age}세 {name}님 안녕하세요.')"
   ]
  },
  {
   "cell_type": "code",
   "execution_count": 91,
   "metadata": {},
   "outputs": [
    {
     "name": "stdout",
     "output_type": "stream",
     "text": [
      "서울에 사는 30세 김동현님 안녕하세요.\n"
     ]
    }
   ],
   "source": [
    "greeting('김동현',30,'서울')"
   ]
  },
  {
   "cell_type": "code",
   "execution_count": 93,
   "metadata": {},
   "outputs": [],
   "source": [
    "def greeting2( name, age, adress) :\n",
    "    return f'{adress}에 사는 {age}세 {name}님 안녕하세요.'"
   ]
  },
  {
   "cell_type": "code",
   "execution_count": 94,
   "metadata": {},
   "outputs": [
    {
     "data": {
      "text/plain": [
       "'서울에 사는 30세 김동현님 안녕하세요.'"
      ]
     },
     "execution_count": 94,
     "metadata": {},
     "output_type": "execute_result"
    }
   ],
   "source": [
    "greeting2('김동현', 30, '서울')"
   ]
  },
  {
   "cell_type": "code",
   "execution_count": 4,
   "metadata": {},
   "outputs": [],
   "source": [
    "# *로 기본값이 있는 값과 구분\n",
    "# *뒤의 인자는 호출할떄 age = 10 같은 방식으로 호출해야함\n",
    "def test(name , *, age = 0 , adress = None) :\n",
    "    print(name, age, adress)\n"
   ]
  },
  {
   "cell_type": "code",
   "execution_count": 2,
   "metadata": {},
   "outputs": [],
   "source": [
    "def power_positive(x, n):\n",
    "    result = 1  # 결과값 초기화\n",
    "    for i in range(n):\n",
    "        result *= x  # x를 n번 곱하여 결과값에 저장\n",
    "\n",
    "    return result  # 결과값 반환\n"
   ]
  },
  {
   "cell_type": "code",
   "execution_count": 3,
   "metadata": {},
   "outputs": [],
   "source": [
    "def power_negative(x, n) :\n",
    "    result = 1 \n",
    "    for i in range(-n) :\n",
    "        result *= x\n",
    "        \n",
    "    return 1/result"
   ]
  },
  {
   "cell_type": "code",
   "execution_count": 4,
   "metadata": {
    "slideshow": {
     "slide_type": "fragment"
    }
   },
   "outputs": [],
   "source": [
    "# 기본값 n=0\n",
    "def power(x : type[int], n = 0) :\n",
    "    if n < 0 :\n",
    "        return power_negative(x, n)\n",
    "    else :\n",
    "        return power_positive(x, n)"
   ]
  },
  {
   "cell_type": "code",
   "execution_count": 5,
   "metadata": {},
   "outputs": [
    {
     "name": "stdout",
     "output_type": "stream",
     "text": [
      "1\n",
      "1024\n",
      "0.01\n"
     ]
    }
   ],
   "source": [
    "print(power(2))\n",
    "print(power(2,10))\n",
    "print(power(10,-2))"
   ]
  },
  {
   "cell_type": "markdown",
   "metadata": {
    "slideshow": {
     "slide_type": "subslide"
    }
   },
   "source": [
    "### Positional argument와 Keyword argument \n",
    "- Argument는 함수/메소드를 호출할 때 전달하는 입력값을 말한다.\n",
    "    - Argument는 전달하는 값이고 Parameter는 그 값을 저장하는 변수\n",
    "- Positional argument\n",
    "    -  함수 호출 할때 argument(전달인자)를 Parameter  순서에 맞춰 값을 넣어서 호출.\n",
    "- keyword  argument \n",
    "    - 함수 호출할 때 argument를 `Parameter변수명 = 전달할값` 형식으로 선언해서 어떤 parameter에 어떤 값을 전달할 것인지 지정해서 호출.\n",
    "    - 순서와 상관없이 호출하는 것이 가능.\n",
    "    - parameter가 많고 대부분 기본값이 있는 함수 호출 할 때 뒤 쪽에 선언된 parameter에만 값을 전달하고 싶을 경우 유용하다."
   ]
  },
  {
   "cell_type": "code",
   "execution_count": 11,
   "metadata": {
    "slideshow": {
     "slide_type": "fragment"
    }
   },
   "outputs": [
    {
     "name": "stdout",
     "output_type": "stream",
     "text": [
      "100\n",
      "100\n"
     ]
    }
   ],
   "source": [
    "print(power(10,2))          # 순서대로 넣기 -> Positional\n",
    "print(power(n=2,x=10))      # 지정해서 넣기 -> Keyword"
   ]
  },
  {
   "cell_type": "code",
   "execution_count": 16,
   "metadata": {},
   "outputs": [],
   "source": [
    "def test(a=1,b=2,c=3,d=4,e=5,f=6) :\n",
    "    pass"
   ]
  },
  {
   "cell_type": "code",
   "execution_count": 17,
   "metadata": {},
   "outputs": [],
   "source": [
    "import pandas"
   ]
  },
  {
   "cell_type": "code",
   "execution_count": null,
   "metadata": {},
   "outputs": [],
   "source": []
  },
  {
   "attachments": {},
   "cell_type": "markdown",
   "metadata": {
    "slideshow": {
     "slide_type": "subslide"
    }
   },
   "source": [
    "### 가변인자 (Var args) 파라미터\n",
    "- 호출하는 쪽에서 argument로 0 ~ n개의 값을 나열해서 여러개의 값들을 전달하면 **tuple이나 dictionary로 묶어서** 받을 수있도록 선언하는 parameter\n",
    "    - positial argument로 전달하는 것과 keyword argument로 전달되는 값을 받는 두가지 방식이 있다.\n",
    "- \\*변수명: **positional argument**를 개수와 상관없이 하나의 변수로 받을 수 있도록 선언하는 가변인자.\n",
    "    - 전달된 값들은 tuple로 받아서 처리한다.\n",
    "    - 관례적으로 변수명은 \\*args 를 사용한다.\n",
    "- \\*\\*변수명: **keyword argument**를 개수와 상관없이 하나의 변수로 받을 수 있도록 선언하는 가변인자.\n",
    "    - 전달된 값들은 dictionary로 받아서 처리한다.\n",
    "    - 관례적으로 변수명은 \\*\\*kwargs 를 사용한다.\n",
    "- 하나의 함수에 가변인자는 \\* 하나, \\*\\* 두개짜리 각각 한개씩만 선언할 수 있다.\n",
    "- 파라미터 선언순서\n",
    "    1. 기본값이 없는 파라미터\n",
    "    2. 기본값이 있는 파라미터\n",
    "    3. `*args`\n",
    "    4. `**kwargs`"
   ]
  },
  {
   "cell_type": "code",
   "execution_count": 9,
   "metadata": {
    "slideshow": {
     "slide_type": "fragment"
    }
   },
   "outputs": [
    {
     "name": "stdout",
     "output_type": "stream",
     "text": [
      "10, str, (123, 523, 132, None, 'a')\n"
     ]
    }
   ],
   "source": [
    "def t_f1( a, b, *args) :\n",
    "    print(f'{a}, {b}, {args}')\n",
    "\n",
    "t_f1(10, 'str', 123,523,132, None, 'a')"
   ]
  },
  {
   "cell_type": "code",
   "execution_count": 10,
   "metadata": {},
   "outputs": [
    {
     "name": "stdout",
     "output_type": "stream",
     "text": [
      "100, {'debug': True, 'usb': True, 'mode': 'saving'}\n"
     ]
    }
   ],
   "source": [
    "def t_f2(a, **Kwargs) :\n",
    "    print(f'{a}, {Kwargs}')\n",
    "\n",
    "t_f2(100, debug = True, usb = True, mode = 'saving')"
   ]
  },
  {
   "cell_type": "code",
   "execution_count": 22,
   "metadata": {},
   "outputs": [
    {
     "name": "stdout",
     "output_type": "stream",
     "text": [
      "1, 2, (3, 4, 5, 6, 7, 8, 9, 10),{'debug': True, 'mode': 'power'}\n"
     ]
    }
   ],
   "source": [
    "def t_f3(a, b=1, *args, **kwargs) :\n",
    "    print(f'{a}, {b}, {args},{kwargs}')\n",
    "\n",
    "t_f3(1,2,3,4,5,6,7,8,9,10, debug=True, mode='power')"
   ]
  },
  {
   "cell_type": "code",
   "execution_count": 31,
   "metadata": {},
   "outputs": [
    {
     "name": "stdout",
     "output_type": "stream",
     "text": [
      "15\n",
      "15\n",
      "15\n"
     ]
    }
   ],
   "source": [
    "# 여러개의 변수를 받아 합을 구하고싶을때\n",
    "def sum_all_list(nums : type[list]) :\n",
    "    result = 0\n",
    "    for n in nums :\n",
    "        result += n\n",
    "    return result\n",
    "\n",
    "\n",
    "def sum_all_args(*nums) :\n",
    "    result = 0\n",
    "    for n in nums :\n",
    "        result += n\n",
    "    return result\n",
    "\n",
    "lst = [1,2,3,4,5]\n",
    "print(sum_all_list(lst))\n",
    "print(sum_all_args(1,2,3,4,5))\n",
    "print(sum_all_args(*lst))       # *를 붙이면 list(또는 Tuple,Set)의 인자를 풀어서 넣음\n",
    "                                # 가변인자 파라미터에 전달할 때만 사용 가능"
   ]
  },
  {
   "cell_type": "code",
   "execution_count": 91,
   "metadata": {},
   "outputs": [],
   "source": [
    "mode = dict(\n",
    "    m_debug = False,\n",
    "    m_mode = 'power saving',\n",
    "    m_flag = True,\n",
    "    m_monitor = [1],\n",
    "    m_display_mode = 'SDR'\n",
    ")\n",
    "\n",
    "def mode_info() :\n",
    "    for k, v in mode.items() :\n",
    "        print(f'{k:10s}\\t: {v}')\n",
    "\n",
    "def mode_convert(**kwtags) :\n",
    "    for k, v in kwtags.items() :\n",
    "        mode[k] = v"
   ]
  },
  {
   "cell_type": "code",
   "execution_count": 92,
   "metadata": {},
   "outputs": [
    {
     "name": "stdout",
     "output_type": "stream",
     "text": [
      "m_debug   \t: False\n",
      "m_mode    \t: power saving\n",
      "m_flag    \t: True\n",
      "m_monitor \t: [1]\n",
      "m_display_mode\t: SDR\n",
      "\n",
      "m_debug   \t: True\n",
      "m_mode    \t: over clocking\n",
      "m_flag    \t: True\n",
      "m_monitor \t: [1, 2]\n",
      "m_display_mode\t: HDR\n",
      "m_color_profile\t: DCI-P3\n"
     ]
    }
   ],
   "source": [
    "mode_info()\n",
    "mode_convert(m_debug = True, m_mode = 'over clocking', m_monitor = [1,2], m_color_profile = 'DCI-P3', m_display_mode = 'HDR' )\n",
    "print()\n",
    "mode_info()"
   ]
  },
  {
   "cell_type": "code",
   "execution_count": 49,
   "metadata": {},
   "outputs": [
    {
     "data": {
      "text/plain": [
       "{'name': '동현', 'age': 30}"
      ]
     },
     "execution_count": 49,
     "metadata": {},
     "output_type": "execute_result"
    }
   ],
   "source": [
    "# 그대로 리턴하면 dict()와 같음\n",
    "def dict2(**kw) :\n",
    "    return kw\n",
    "\n",
    "t_dict = dict2(name='동현',age=30)\n",
    "t_dict"
   ]
  },
  {
   "cell_type": "code",
   "execution_count": 52,
   "metadata": {},
   "outputs": [
    {
     "data": {
      "text/plain": [
       "{'m_debug': True,\n",
       " 'm_mode': 'over clocking',\n",
       " 'm_flag': True,\n",
       " 'm_monitor': [1, 2],\n",
       " 'm_display_mode': 'HDR',\n",
       " 'm_color_profile': 'DCI-P3'}"
      ]
     },
     "execution_count": 52,
     "metadata": {},
     "output_type": "execute_result"
    }
   ],
   "source": [
    "dict2(**mode)       # List,Set,Tuple과 마찬가지로 풀어서 보낼 수 있음\n",
    "                    # 가변인자 키워드 파라미터에만 사용 가능함"
   ]
  },
  {
   "cell_type": "code",
   "execution_count": null,
   "metadata": {},
   "outputs": [],
   "source": []
  },
  {
   "cell_type": "markdown",
   "metadata": {
    "slideshow": {
     "slide_type": "slide"
    }
   },
   "source": [
    "# 변수의 유효범위\n",
    "\n",
    "- **지역변수 (local variable)**\n",
    "    - 함수안에 선언된 변수\n",
    "    - 선언된 그 함수 안에서만 사용할 수 있다.\n",
    "- **전역변수 (global variable)**\n",
    "    - 함수 밖에 선언 된 변수\n",
    "    - 모든 함수들이 공통적으로 사용할 수 있다.\n",
    "    - 하나의 함수에서 값을 변경하면 그 변한 값이 모든 함수에 영향을 주기 때문에 함부로 변경하지 않는다.\n",
    "    - 함수내에서 전역변수에 값을 대입하기 위해서는 global 키워드를 이용해 사용할 것을 미리 선언해야 한다.\n",
    "        - global로 선언하지 않고 함수안에서 전역변수와 이름이 같은 변수에 값을 대입하면 그 변수와 동일한 지역변수을 생성한다.\n",
    "        - 조회할 경우에는 상관없다.\n",
    "            - 함수에서 변수를 조회할 경우 **먼저 지역변수를 찾고 없으면 전역변수를 찾는다.**\n",
    "            \n"
   ]
  },
  {
   "cell_type": "code",
   "execution_count": 13,
   "metadata": {
    "slideshow": {
     "slide_type": "fragment"
    }
   },
   "outputs": [
    {
     "name": "stdout",
     "output_type": "stream",
     "text": [
      "0\n"
     ]
    }
   ],
   "source": [
    "global_int = 0\n",
    "def f() :\n",
    "    local_int = 10\n",
    "    global_int = local_int  # 이름이 같지만 지역변수\n",
    "\n",
    "f()\n",
    "print(global_int)"
   ]
  },
  {
   "cell_type": "code",
   "execution_count": 15,
   "metadata": {},
   "outputs": [
    {
     "name": "stdout",
     "output_type": "stream",
     "text": [
      "10\n"
     ]
    }
   ],
   "source": [
    "global_int = 0\n",
    "def f() :\n",
    "    local_int = 10\n",
    "    global global_int       # 함수 내에서 사용시 글로벌 선언\n",
    "    global_int = local_int  # 이번에는 전역변수\n",
    "\n",
    "f()\n",
    "print(global_int)"
   ]
  },
  {
   "cell_type": "markdown",
   "metadata": {
    "slideshow": {
     "slide_type": "slide"
    }
   },
   "source": [
    "# 함수는 일급시민(First class citizen) 이다. \n",
    "- 일급 시민\n",
    "    1. 변수에 대입 할 수 있다.\n",
    "    1. Argument로 사용할 수 있다.\n",
    "    1. 함수나 메소드의 반환값으로 사용 할 수 있다.\n",
    "- 일급\n",
    "    - 모든 권리를 다 가진다는 의미\n",
    "- 시민\n",
    "    - 프로그래밍 언어를 구성하는 객체를 의미\n",
    "- 즉 파이썬에서 함수는 일반 값(객체) 로 취급된다. "
   ]
  },
  {
   "cell_type": "code",
   "execution_count": 86,
   "metadata": {},
   "outputs": [],
   "source": [
    "def testf(func , n :type[int]) :\n",
    "    return n, func(n)"
   ]
  },
  {
   "cell_type": "code",
   "execution_count": 88,
   "metadata": {},
   "outputs": [
    {
     "data": {
      "text/plain": [
       "(10, 100)"
      ]
     },
     "execution_count": 88,
     "metadata": {},
     "output_type": "execute_result"
    }
   ],
   "source": [
    "testf(lambda x : x * x, 10)"
   ]
  },
  {
   "cell_type": "code",
   "execution_count": 90,
   "metadata": {
    "slideshow": {
     "slide_type": "fragment"
    }
   },
   "outputs": [
    {
     "name": "stdout",
     "output_type": "stream",
     "text": [
      "{0: 1, 1: 1, 2: 4, 3: 27, 4: 256, 5: 3125, 6: 46656, 7: 823543, 8: 16777216, 9: 387420489}\n"
     ]
    }
   ],
   "source": [
    "r = {}\n",
    "for i in range(10) :\n",
    "    k, v = testf(lambda x : x ** x, i)\n",
    "    r[k] = v\n",
    "print(r)\n"
   ]
  },
  {
   "cell_type": "code",
   "execution_count": 95,
   "metadata": {},
   "outputs": [],
   "source": [
    "def hello() :\n",
    "    print('Hello, World!')"
   ]
  },
  {
   "cell_type": "code",
   "execution_count": 96,
   "metadata": {},
   "outputs": [
    {
     "name": "stdout",
     "output_type": "stream",
     "text": [
      "Hello, World!\n"
     ]
    }
   ],
   "source": [
    "my_hello = hello\n",
    "my_hello()"
   ]
  },
  {
   "cell_type": "code",
   "execution_count": 99,
   "metadata": {},
   "outputs": [
    {
     "name": "stdout",
     "output_type": "stream",
     "text": [
      "Hello, World!\n"
     ]
    }
   ],
   "source": [
    "our_hello = my_hello\n",
    "our_hello()"
   ]
  },
  {
   "cell_type": "code",
   "execution_count": 7,
   "metadata": {},
   "outputs": [],
   "source": [
    "# 지역 함수\n",
    "# 함수가 호출되야 inner가 메모리에 올라감\n",
    "# 밖에서는 쓰지 못함\n",
    "def outer():\n",
    "    def inner():\n",
    "        print('inner')\n",
    "\n",
    "    inner()\n",
    "    return inner\n"
   ]
  },
  {
   "cell_type": "code",
   "execution_count": 8,
   "metadata": {},
   "outputs": [
    {
     "name": "stdout",
     "output_type": "stream",
     "text": [
      "inner\n",
      "inner\n"
     ]
    }
   ],
   "source": [
    "inner_out = outer()\n",
    "inner_out()"
   ]
  },
  {
   "cell_type": "markdown",
   "metadata": {
    "slideshow": {
     "slide_type": "slide"
    }
   },
   "source": [
    "## 람다식/람다표현식 (Lambda Expression)\n",
    "- 함수를 하나의 식을 이용해서 정의할때 사용하는 표현식(구문).\n",
    "- 값을 입력받아서 **간단한 처리한 결과**를 반환하는 간단한 함수를 표현식으로 정의할 수 있다.\n",
    "    - 처리결과를 return 하는 구문을 하나의 명령문으로 처리할 수 있을때 람다식을 사용할 수 있다. => return x + y\n",
    "- 구문\n",
    "```python\n",
    "lambda 매개변수[, 매개변수, ...] : 명령문(구문)\n",
    "```\n",
    "- 명령문(구문)은 하나의 실행문만 가능하다.\n",
    "- 명령문(구문)이 처리한 결과를 리턴해준다.\n",
    "- **람다식은 함수의 매개변수로 함수를 전달하는 일회성 함수를 만들때 주로 사용한다.**"
   ]
  },
  {
   "cell_type": "code",
   "execution_count": 10,
   "metadata": {
    "slideshow": {
     "slide_type": "fragment"
    }
   },
   "outputs": [],
   "source": [
    "import math as m\n",
    "def test_func(func, x, y) :\n",
    "    return func(x,y)\n"
   ]
  },
  {
   "cell_type": "code",
   "execution_count": 11,
   "metadata": {},
   "outputs": [
    {
     "name": "stdout",
     "output_type": "stream",
     "text": [
      "5.0\n",
      "81\n"
     ]
    }
   ],
   "source": [
    "print(test_func(lambda x, y : m.sqrt((x**2) + (y**2)),3,4))\n",
    "print(test_func(lambda x, y : (x + y)**2, 4, 5))"
   ]
  },
  {
   "cell_type": "code",
   "execution_count": 12,
   "metadata": {},
   "outputs": [],
   "source": [
    "def sum(x, y) :\n",
    "    return x + y"
   ]
  },
  {
   "cell_type": "code",
   "execution_count": 14,
   "metadata": {},
   "outputs": [
    {
     "name": "stdout",
     "output_type": "stream",
     "text": [
      "3\n",
      "3\n"
     ]
    }
   ],
   "source": [
    "lam_sum = lambda x, y : x + y\n",
    "print(sum(1,2))\n",
    "print(lam_sum(1,2))"
   ]
  },
  {
   "cell_type": "code",
   "execution_count": null,
   "metadata": {},
   "outputs": [],
   "source": [
    "import math as m  # math 모듈을 m으로 import\n",
    "\n",
    "\n",
    "def test_func(func, x, y):  # test_func 함수 정의, func, x, y를 인자로 받음\n",
    "    return func(x, y)  # func 함수에 x, y를 인자로 전달하여 결과값 반환\n",
    "\n",
    "\n",
    "# x^2 + y^2의 제곱근을 구하는 lambda 함수를 func 인자로 전달하여 결과값 출력\n",
    "print(test_func(lambda x, y: m.sqrt((x**2) + (y**2)), 3, 4))\n",
    "# (x + y)^2를 구하는 lambda 함수를 func 인자로 전달하여 결과값 출력\n",
    "print(test_func(lambda x, y: (x + y)**2, 4, 5))\n"
   ]
  },
  {
   "cell_type": "code",
   "execution_count": null,
   "metadata": {},
   "outputs": [
    {
     "name": "stdout",
     "output_type": "stream",
     "text": [
      "5.0\n",
      "81\n"
     ]
    }
   ],
   "source": []
  },
  {
   "cell_type": "code",
   "execution_count": 122,
   "metadata": {},
   "outputs": [],
   "source": [
    "import math as m  # math 모듈을 불러옴\n",
    "\n",
    "\n",
    "def t_func(func):  # t_func 함수 정의, 매개변수로 함수를 받음\n",
    "    n1, n2 = 4, 3  # n1, n2 변수에 각각 4, 3을 할당\n",
    "    return func(n1, n2)  # 매개변수로 받은 함수에 n1, n2를 인자로 전달하여 결과 반환\n",
    "\n",
    "\n",
    "# t_func 함수를 호출하며, lambda 함수를 인자로 전달하여 결과 출력\n",
    "print(t_func(lambda x, y: m.sqrt((x**2) + (y**2))))\n",
    "# t_func 함수를 호출하며, lambda 함수를 인자로 전달하여 결과 출력\n",
    "print(t_func(lambda x, y: m.sqrt((x**2) - (y**2))))\n"
   ]
  },
  {
   "cell_type": "code",
   "execution_count": 123,
   "metadata": {},
   "outputs": [
    {
     "name": "stdout",
     "output_type": "stream",
     "text": [
      "5.0\n",
      "2.6457513110645907\n"
     ]
    }
   ],
   "source": [
    "print(t_func(lambda x , y : m.sqrt((x**2) + (y**2))))\n",
    "print(t_func(lambda x , y : m.sqrt((x**2) - (y**2))))"
   ]
  },
  {
   "cell_type": "code",
   "execution_count": 116,
   "metadata": {},
   "outputs": [],
   "source": [
    "def plus(n1, n2) :\n",
    "    return n1 + n2\n",
    "\n",
    "def calc(func) :\n",
    "    n1 = 3\n",
    "    n2 = 4\n",
    "    return func(n1, n2)"
   ]
  },
  {
   "cell_type": "code",
   "execution_count": 117,
   "metadata": {},
   "outputs": [
    {
     "data": {
      "text/plain": [
       "7"
      ]
     },
     "execution_count": 117,
     "metadata": {},
     "output_type": "execute_result"
    }
   ],
   "source": [
    "calc(plus)"
   ]
  },
  {
   "cell_type": "markdown",
   "metadata": {
    "slideshow": {
     "slide_type": "slide"
    }
   },
   "source": [
    "### iterable 관련 함수에서 함수를 매개변수로 받아 처리하는 함수들\n",
    "- sorted(iterable, reverse=False, key=None)\n",
    "    - 정렬처리\n",
    "    - 매개변수\n",
    "        - reverse: True - 내림차순, False - 오름차순(기본)\n",
    "        - key: 함수 \n",
    "            - Parameter로 iterable의 각 원소를 받는 함수.\n",
    "            - 정렬을 할 때 iterable의 원소기준으로 정렬하는 것이 아니라 이 함수가 반환하는 값을 기준으로 정렬\n",
    "- filter(함수, Iterable)\n",
    "    - Iterable의 원소들 중에서 특정 조건을 만족하는 원소들만 걸러주는 함수\n",
    "    - 함수\n",
    "        - 어떻게 걸러낼 것인지 조건을 정의. 매개변수 1개, 반환값 bool\n",
    "        - 원소 하나 하나를 함수에 전달해 True를 반환하는 것만 반환\n",
    "- map(함수, Iterable)\n",
    "    - Iterable의 원소들 하나 하나를 처리(변형)해서 그 결과를 반환\n",
    "    - 함수\n",
    "        - 원소들을 어떻게 처리할지 정의. 매개변수 1개. 반환값: 처리 결과\n",
    "- **filter/map 반환타입**: generator 형태로 반환 된다. (리스트가 아님)"
   ]
  },
  {
   "cell_type": "code",
   "execution_count": 56,
   "metadata": {},
   "outputs": [
    {
     "name": "stdout",
     "output_type": "stream",
     "text": [
      "['AzMNr', 'B7jy1V06O', 'G', 'DIBNR', 'ZHk2', '0Sjm7eV', 'E', 'UFoP9van', 'YRecYB', 'RlM', 'YJ64P', 'x5n7k', 'FjxehR0pe', 'g1Np1S', 'nyw6', 'F7e6QyUW0', 'O1ofsKt18F', 'K', '60Wz', 'Twhd', 'Y6C', 'aox', 'aog9CyS0C', 'm8MRni4Iv', '1L6geOXO', 'YeORg9juZS', 'KV7', 'EfrS6hY', 'arPp', 'RH']\n"
     ]
    }
   ],
   "source": [
    "# 랜덤 문자열을 생성하기 위해 random 모듈을 import 합니다.\n",
    "import random\n",
    "\n",
    "# 랜덤 문자열을 생성하기 위한 문자열 리스트를 만듭니다.\n",
    "chars = 'abcdefghijklmnopqrstuvwxyzABCDEFGHIJKLMNOPQRSTUVWXYZ1234567890'\n",
    "\n",
    "# 빈 리스트를 만듭니다.\n",
    "lst = []\n",
    "\n",
    "# 10번 반복하면서 랜덤 문자열을 생성하여 리스트에 추가합니다.\n",
    "for i in range(30):\n",
    "    # 10자리의 랜덤 문자열을 생성합니다.\n",
    "    rand_str = ''.join(random.choice(chars) for j in range(random.randint(1,10)))\n",
    "    # 생성한 랜덤 문자열을 리스트에 추가합니다.\n",
    "    lst.append(rand_str)\n",
    "\n",
    "# 생성된 리스트를 출력합니다.\n",
    "print(lst)\n"
   ]
  },
  {
   "cell_type": "code",
   "execution_count": 35,
   "metadata": {},
   "outputs": [
    {
     "data": {
      "text/plain": [
       "['J',\n",
       " 'K',\n",
       " 'C',\n",
       " 'X',\n",
       " 'z',\n",
       " '0',\n",
       " 'dv',\n",
       " 'si',\n",
       " 'Y4',\n",
       " 'gD',\n",
       " '1f',\n",
       " 'CV',\n",
       " 'JBj',\n",
       " 'PjK',\n",
       " 'QbKm',\n",
       " 'm7XV',\n",
       " 'EEhy',\n",
       " 'wK7d',\n",
       " 'XjfIEN',\n",
       " 'aLzc9S',\n",
       " 'CJlKQQ',\n",
       " 'NWOMEUc',\n",
       " 'X6bYYQB',\n",
       " 'ObtIDzo',\n",
       " 'd1H7HQ29',\n",
       " 'QF1mjds4',\n",
       " 'IaEsZdZd',\n",
       " 'hDJlC09jDo',\n",
       " 'Vhjb1UPxc3',\n",
       " '1XA68hBrl3']"
      ]
     },
     "execution_count": 35,
     "metadata": {},
     "output_type": "execute_result"
    }
   ],
   "source": [
    "sorted(lst, key= lambda v : len(v))"
   ]
  },
  {
   "cell_type": "code",
   "execution_count": 36,
   "metadata": {},
   "outputs": [
    {
     "data": {
      "text/plain": [
       "['J',\n",
       " 'K',\n",
       " 'C',\n",
       " 'X',\n",
       " 'z',\n",
       " '0',\n",
       " 'dv',\n",
       " 'si',\n",
       " 'Y4',\n",
       " 'gD',\n",
       " '1f',\n",
       " 'CV',\n",
       " 'JBj',\n",
       " 'PjK',\n",
       " 'QbKm',\n",
       " 'm7XV',\n",
       " 'EEhy',\n",
       " 'wK7d',\n",
       " 'XjfIEN',\n",
       " 'aLzc9S',\n",
       " 'CJlKQQ',\n",
       " 'NWOMEUc',\n",
       " 'X6bYYQB',\n",
       " 'ObtIDzo',\n",
       " 'd1H7HQ29',\n",
       " 'QF1mjds4',\n",
       " 'IaEsZdZd',\n",
       " 'hDJlC09jDo',\n",
       " 'Vhjb1UPxc3',\n",
       " '1XA68hBrl3']"
      ]
     },
     "execution_count": 36,
     "metadata": {},
     "output_type": "execute_result"
    }
   ],
   "source": [
    "sorted(lst, key= len)"
   ]
  },
  {
   "cell_type": "code",
   "execution_count": 61,
   "metadata": {},
   "outputs": [
    {
     "data": {
      "text/plain": [
       "['AzMNr', 'EfrS6hY', 'arPp']"
      ]
     },
     "execution_count": 61,
     "metadata": {},
     "output_type": "execute_result"
    }
   ],
   "source": [
    "list(filter(lambda x : 'r' in x, lst))"
   ]
  },
  {
   "cell_type": "code",
   "execution_count": 60,
   "metadata": {},
   "outputs": [
    {
     "data": {
      "text/plain": [
       "['AzMNr', 'EfrS6hY', 'arPp']"
      ]
     },
     "execution_count": 60,
     "metadata": {},
     "output_type": "execute_result"
    }
   ],
   "source": [
    "[ v for v in lst if 'r' in v ]"
   ]
  },
  {
   "cell_type": "code",
   "execution_count": 29,
   "metadata": {},
   "outputs": [
    {
     "name": "stdout",
     "output_type": "stream",
     "text": [
      "['0eea94', '95fe02', '3061e4', '4c3c52', '2c7868', 'a3f1c2', '3f40f0', 'c8109a', '7e8a38', '4d8941', '44f928', '6a496e', 'fs3s0e', 'ac2c74', 'c1fas6', '40s7c8', '06d313', '631915', 'a4ce51', '59c1c1', 'cdsf04', '3c60d5', '887018', '4c4283', 'ea061e', '0e69fc', '826f09', 'f474f5', 'd47d47', '022711']\n"
     ]
    }
   ],
   "source": [
    "import random\n",
    "\n",
    "chars = 'ascdef0123456789'  # 사용할 문자열\n",
    "lst = []  # 빈 리스트 생성\n",
    "\n",
    "# 30번 반복하는 for문\n",
    "for i in range(30):\n",
    "    rand_str = ''.join(random.choice(chars)  # chars에서 랜덤으로 문자 선택\n",
    "                       for j in range(6))  # 6번 반복하여 6자리 문자열 생성\n",
    "    lst.append(rand_str)  # 생성된 문자열을 리스트에 추가\n",
    "\n",
    "print(lst)  # 리스트 출력\n"
   ]
  },
  {
   "cell_type": "code",
   "execution_count": 25,
   "metadata": {},
   "outputs": [
    {
     "data": {
      "text/plain": [
       "['#42sd01',\n",
       " '#12a9c0',\n",
       " '#f5c894',\n",
       " '#36169f',\n",
       " '#987e5d',\n",
       " '#feaas7',\n",
       " '#758c75',\n",
       " '#6e7524',\n",
       " '#6672a1',\n",
       " '#sd3d0e',\n",
       " '#26598e',\n",
       " '#22204d',\n",
       " '#d890c4',\n",
       " '#e6se18',\n",
       " '#5sd7d5',\n",
       " '#0e9s6a',\n",
       " '#6d0376',\n",
       " '#652345',\n",
       " '#46d206',\n",
       " '#947e10',\n",
       " '#53854f',\n",
       " '#e34dc2',\n",
       " '#660134',\n",
       " '#67dc1f',\n",
       " '#7a8a54',\n",
       " '#e9e91s',\n",
       " '#s13d7c',\n",
       " '#a707a2',\n",
       " '#61e0ff',\n",
       " '#3s4466']"
      ]
     },
     "execution_count": 25,
     "metadata": {},
     "output_type": "execute_result"
    }
   ],
   "source": [
    "list(map(lambda x : '#' + x, lst))"
   ]
  },
  {
   "cell_type": "code",
   "execution_count": 43,
   "metadata": {},
   "outputs": [],
   "source": [
    "lst = list(range(0,10))"
   ]
  },
  {
   "cell_type": "code",
   "execution_count": 44,
   "metadata": {},
   "outputs": [
    {
     "data": {
      "text/plain": [
       "[0, 1, 4, 9, 16, 25, 36, 49, 64, 81]"
      ]
     },
     "execution_count": 44,
     "metadata": {},
     "output_type": "execute_result"
    }
   ],
   "source": [
    "list(map(lambda x : x**2, lst))"
   ]
  },
  {
   "cell_type": "code",
   "execution_count": 45,
   "metadata": {},
   "outputs": [
    {
     "data": {
      "text/plain": [
       "[0, 1, 4, 9, 16, 25, 36, 49, 64, 81]"
      ]
     },
     "execution_count": 45,
     "metadata": {},
     "output_type": "execute_result"
    }
   ],
   "source": [
    "[v ** 2 for v in lst]"
   ]
  },
  {
   "cell_type": "markdown",
   "metadata": {
    "slideshow": {
     "slide_type": "subslide"
    }
   },
   "source": [
    "# docstring\n",
    "- 함수에 대한 설명\n",
    "- 함수의 구현부의 첫번째에 여러줄 문자열로 작성한다.\n",
    "- 함수 매개변수/리턴타입에 대한 힌트(주석)"
   ]
  },
  {
   "cell_type": "code",
   "execution_count": 94,
   "metadata": {
    "slideshow": {
     "slide_type": "fragment"
    }
   },
   "outputs": [],
   "source": [
    "def power(num1 : int , num2 : int = 2) -> int:\n",
    "    \"\"\"\n",
    "    거듭제곱 num1^num2\n",
    "    Args:\n",
    "        num1 (int): 거듭제곱이 될 수\n",
    "        num2 (int, optional): 지수, 기본 = 2\n",
    "\n",
    "    Returns:\n",
    "        int: num1^num2\n",
    "    \n",
    "    Raise:\n",
    "        함수에서 발생 가능한 에러설명\n",
    "        이름 - 설명\n",
    "    \"\"\"\n",
    "    return num1 ** num2"
   ]
  },
  {
   "cell_type": "code",
   "execution_count": 95,
   "metadata": {},
   "outputs": [
    {
     "name": "stdout",
     "output_type": "stream",
     "text": [
      "\u001b[1;31mSignature:\u001b[0m \u001b[0mpower\u001b[0m\u001b[1;33m(\u001b[0m\u001b[0mnum1\u001b[0m\u001b[1;33m:\u001b[0m \u001b[0mint\u001b[0m\u001b[1;33m,\u001b[0m \u001b[0mnum2\u001b[0m\u001b[1;33m:\u001b[0m \u001b[0mint\u001b[0m \u001b[1;33m=\u001b[0m \u001b[1;36m2\u001b[0m\u001b[1;33m)\u001b[0m \u001b[1;33m->\u001b[0m \u001b[0mint\u001b[0m\u001b[1;33m\u001b[0m\u001b[1;33m\u001b[0m\u001b[0m\n",
      "\u001b[1;31mDocstring:\u001b[0m\n",
      "거듭제곱 num1^num2\n",
      "Args:\n",
      "    num1 (int): 거듭제곱이 될 수\n",
      "    num2 (int, optional): 지수, 기본 = 2\n",
      "\n",
      "Returns:\n",
      "    int: num1^num2\n",
      "\n",
      "Raise:\n",
      "    함수에서 발생 가능한 에러설명\n",
      "    이름 - 설명\n",
      "\u001b[1;31mFile:\u001b[0m      c:\\users\\hyenz\\appdata\\local\\temp\\ipykernel_28052\\2127284196.py\n",
      "\u001b[1;31mType:\u001b[0m      function"
     ]
    }
   ],
   "source": [
    "power?"
   ]
  },
  {
   "cell_type": "code",
   "execution_count": 71,
   "metadata": {},
   "outputs": [
    {
     "name": "stdout",
     "output_type": "stream",
     "text": [
      "1 5 25 125 625 3125 15625 78125 390625 1953125 9765625 "
     ]
    }
   ],
   "source": [
    "for i in range(11) :\n",
    "    print(power(5, i), end=' ')"
   ]
  },
  {
   "cell_type": "code",
   "execution_count": 93,
   "metadata": {},
   "outputs": [],
   "source": [
    "age:int = 0\n",
    "# 타입 힌트\n",
    "# 강제는 아님"
   ]
  },
  {
   "cell_type": "code",
   "execution_count": 101,
   "metadata": {},
   "outputs": [],
   "source": [
    "def name(a : int, b : int = None) -> int :\n",
    "    \"\"\"\n",
    "    a+b\n",
    "    Args:\n",
    "        a (int): a\n",
    "        b (int=0) : b\n",
    "    Returns:\n",
    "        int : a+b\n",
    "    Raise:\n",
    "        nothing\n",
    "    \"\"\"\n",
    "    return a + b"
   ]
  },
  {
   "cell_type": "code",
   "execution_count": 107,
   "metadata": {},
   "outputs": [],
   "source": [
    "def name(a : int|float, b : int|float|None = 0) -> int :\n",
    "    \"\"\"\n",
    "    a+b\n",
    "    Args:\n",
    "        a (int|float): a\n",
    "        b (int|float|None=0) : b\n",
    "    Returns:\n",
    "        int : a+b\n",
    "    Raise:\n",
    "        nothing\n",
    "    \"\"\"\n",
    "    return a + b"
   ]
  },
  {
   "cell_type": "code",
   "execution_count": 104,
   "metadata": {},
   "outputs": [
    {
     "name": "stdout",
     "output_type": "stream",
     "text": [
      "\u001b[1;31mSignature:\u001b[0m \u001b[0mname\u001b[0m\u001b[1;33m(\u001b[0m\u001b[0ma\u001b[0m\u001b[1;33m:\u001b[0m \u001b[1;34m'int a'\u001b[0m\u001b[1;33m,\u001b[0m \u001b[0mb\u001b[0m\u001b[1;33m:\u001b[0m \u001b[1;34m'int b = 0'\u001b[0m \u001b[1;33m=\u001b[0m \u001b[1;32mNone\u001b[0m\u001b[1;33m)\u001b[0m \u001b[1;33m->\u001b[0m \u001b[0mint\u001b[0m\u001b[1;33m\u001b[0m\u001b[1;33m\u001b[0m\u001b[0m\n",
      "\u001b[1;31mDocstring:\u001b[0m\n",
      "a+b\n",
      "Args:\n",
      "    a (int): a\n",
      "    b (int=0) : b\n",
      "Returns:\n",
      "    int : a+b\n",
      "Raise:\n",
      "    nothing\n",
      "\u001b[1;31mFile:\u001b[0m      c:\\users\\hyenz\\appdata\\local\\temp\\ipykernel_28052\\942128947.py\n",
      "\u001b[1;31mType:\u001b[0m      function"
     ]
    }
   ],
   "source": [
    "name?"
   ]
  },
  {
   "cell_type": "markdown",
   "metadata": {
    "slideshow": {
     "slide_type": "subslide"
    }
   },
   "source": [
    "### pass 키워드(예약어)\n",
    "- 빈 구현부를 만들때 사용\n",
    "    - 코드블럭을 하는 일 없이 채울 때 사용\n",
    "    - `...` 을 대신 사용할 수 있다."
   ]
  },
  {
   "cell_type": "markdown",
   "metadata": {
    "slideshow": {
     "slide_type": "skip"
    }
   },
   "source": [
    "# TODO"
   ]
  },
  {
   "cell_type": "code",
   "execution_count": 56,
   "metadata": {
    "slideshow": {
     "slide_type": "skip"
    }
   },
   "outputs": [],
   "source": [
    "# 1. 사용자가 입력한 단의 구구단을 출력하는 함수를 구현(매개변수로 단을 받는다.)\n",
    "def gugudan(n) :\n",
    "    for i in range(1, 10) :\n",
    "        print(f'{n} x {i} = {n*i}')"
   ]
  },
  {
   "cell_type": "code",
   "execution_count": 57,
   "metadata": {},
   "outputs": [
    {
     "name": "stdout",
     "output_type": "stream",
     "text": [
      "5 x 1 = 5\n",
      "5 x 2 = 10\n",
      "5 x 3 = 15\n",
      "5 x 4 = 20\n",
      "5 x 5 = 25\n",
      "5 x 6 = 30\n",
      "5 x 7 = 35\n",
      "5 x 8 = 40\n",
      "5 x 9 = 45\n"
     ]
    }
   ],
   "source": [
    "gugudan(int(input()))"
   ]
  },
  {
   "cell_type": "code",
   "execution_count": 72,
   "metadata": {},
   "outputs": [],
   "source": [
    "# |이 코드는 시작 정수와 끝 정수를 받아 그 사이의 모든 정수의 합을 구하는 함수를 구현한 것입니다.\n",
    "# |\n",
    "# |좋은 점:\n",
    "# |- 함수명이 명확하고 간결합니다.\n",
    "# |- 매개변수에 타입 힌트를 사용하여 함수 사용자가 인자의 자료형을 명확하게 알 수 있도록 하였습니다.\n",
    "# |- for문을 사용하여 시작 정수부터 끝 정수까지 반복하면서 합을 구하는 방식으로 구현하였습니다.\n",
    "# |\n",
    "# |나쁜 점:\n",
    "# |- 함수 내에서 변수명을 result로 사용하였는데, 좀 더 명확한 변수명을 사용하면 가독성이 더 좋아질 것입니다.\n",
    "# |- 함수의 반환값이 명확하게 주석으로 설명되어 있지 않습니다. 함수 사용자가 반환값의 의미를 명확하게 이해할 수 있도록 주석을 추가하는 것이 좋습니다.\n",
    "# |\n",
    "# 2. 시작 정수, 끝 정수를 받아 그 사이의 모든 정수의 합을 구해서 반환하는 함수를 구현(ex: 1, 20 => 1에서 20 사이의 모든 정수의 합계)\n",
    "def sum_range(min: type[int], max: type[int]):\n",
    "    \"\"\"\n",
    "    min과 max 사이의 모든 정수를 더해서 평균을 구하는 함수\n",
    "    Args:\n",
    "        min (type[int]): 시작값\n",
    "        max (type[int]): 종료값\n",
    "\n",
    "    Returns:\n",
    "        int: 평균\n",
    "    \"\"\"\n",
    "    result = 0  # 결과값을 저장할 변수 초기화\n",
    "    for n in range(min, max+1):  # min부터 max까지 반복\n",
    "        result += n  # 결과값에 n을 더함\n",
    "    return result  # 결과값 반환\n"
   ]
  },
  {
   "cell_type": "code",
   "execution_count": 73,
   "metadata": {},
   "outputs": [
    {
     "data": {
      "text/plain": [
       "55"
      ]
     },
     "execution_count": 73,
     "metadata": {},
     "output_type": "execute_result"
    }
   ],
   "source": [
    "sum_range(1, 10)"
   ]
  },
  {
   "cell_type": "code",
   "execution_count": 61,
   "metadata": {},
   "outputs": [],
   "source": [
    "# |이 코드는 기본값을 설정하여 시작 정수와 끝 정수를 받지 않아도 기본적으로 0부터 10까지의 합을 구하는 함수를 구현한 것입니다.\n",
    "# |\n",
    "# |좋은 점:\n",
    "# |- 기본값을 설정하여 함수를 호출할 때 인수를 생략할 수 있어 편리합니다.\n",
    "# |- 함수명이 명확하여 함수의 역할을 쉽게 이해할 수 있습니다.\n",
    "# |- 변수명이 명확하여 코드의 가독성이 좋습니다.\n",
    "# |\n",
    "# |나쁜 점:\n",
    "# |- 함수의 인수로 사용되는 변수명이 파이썬 내장 함수인 min과 max와 동일합니다. 이러한 경우 변수명을 변경하는 것이 좋습니다.\n",
    "# |\n",
    "# 3. 1번 문제에서 시작을 받지 않은 경우 0을, 끝 정수를 받지 않으면 10이 들어가도록 구현을 변경\n",
    "def sum_range(min: type[int] = 0, max: type[int] = 10):\n",
    "    result = 0\n",
    "    for n in range(min, max+1):  # 시작 정수부터 끝 정수까지 반복\n",
    "        result += n  # 반복되는 정수를 더함\n",
    "    return result  # 결과 반환\n"
   ]
  },
  {
   "cell_type": "code",
   "execution_count": 62,
   "metadata": {},
   "outputs": [
    {
     "data": {
      "text/plain": [
       "55"
      ]
     },
     "execution_count": 62,
     "metadata": {},
     "output_type": "execute_result"
    }
   ],
   "source": [
    "sum_range()"
   ]
  },
  {
   "cell_type": "code",
   "execution_count": 1,
   "metadata": {},
   "outputs": [],
   "source": [
    "def check_obesity(height: float, weight: float) -> str:\n",
    "    # 체질량 지수 계산\n",
    "    bmi = weight / (height ** 2)\n",
    "\n",
    "    # 비만도에 따른 분류\n",
    "    if bmi < 18.5:  # BMI가 18.5 미만이면 저체중\n",
    "        return \"저체중\"\n",
    "    elif bmi < 25:  # BMI가 18.5 이상 25 미만이면 정상\n",
    "        return \"정상\"\n",
    "    elif bmi < 30:  # BMI가 25 이상 30 미만이면 과체중\n",
    "        return \"과체중\"\n",
    "    else:  # BMI가 30 이상이면 비만\n",
    "        return \"비만\"\n"
   ]
  },
  {
   "cell_type": "code",
   "execution_count": 77,
   "metadata": {},
   "outputs": [],
   "source": [
    "# 4. 체질량 지수는 비만도를 나타내는 지수로 키가 a미터 이고 몸무게가 b kg일때 b/(a**2) 로 구한다.\n",
    "# 체질량 지수가\n",
    "#- 18.5 미만이면 저체중\n",
    "#- 18.5이상 25미만이면 정상 \n",
    "#- 25이상이면 과체중\n",
    "#- 30이상이면 비만으로 하는데\n",
    "#몸무게와 키를 매개변수로 받아 비만인지 과체중인지 반환하는 함수를 구현하시오.\n",
    "\n",
    "def bmi_check(tall: type[float], weight: type[float]):\n",
    "    \"\"\"\n",
    "    체질량 지수 계산\n",
    "    Args:\n",
    "        tall (type[float]): 키(cm단위)\n",
    "        weight (type[float]): 몸무게\n",
    "\n",
    "    Returns:\n",
    "        str: 비만도\n",
    "        \n",
    "    raise:\n",
    "        divide 0 error : tall == 0\n",
    "    \"\"\"\n",
    "    tall /= 100  # 키를 미터 단위로 변환\n",
    "    bmi = weight/(tall**2)  # BMI 계산\n",
    "    print(bmi)  # BMI 출력\n",
    "    if bmi < 18.5:  # BMI가 18.5 미만이면\n",
    "        return '저체중'  # '저체중' 반환\n",
    "    elif bmi < 25:  # BMI가 18.5 이상 25 미만이면\n",
    "        return '정상'  # '정상' 반환\n",
    "    elif bmi < 30:  # BMI가 25 이상 30 미만이면\n",
    "        return '과체중'  # '과체중' 반환\n",
    "    else:  # BMI가 30 이상이면\n",
    "        return '비만'  # '비만' 반환\n"
   ]
  },
  {
   "cell_type": "code",
   "execution_count": 85,
   "metadata": {},
   "outputs": [
    {
     "name": "stdout",
     "output_type": "stream",
     "text": [
      "\u001b[1;31mSignature:\u001b[0m \u001b[0mbmi_check\u001b[0m\u001b[1;33m(\u001b[0m\u001b[0mtall\u001b[0m\u001b[1;33m:\u001b[0m \u001b[0mtype\u001b[0m\u001b[1;33m[\u001b[0m\u001b[0mfloat\u001b[0m\u001b[1;33m]\u001b[0m\u001b[1;33m,\u001b[0m \u001b[0mweight\u001b[0m\u001b[1;33m:\u001b[0m \u001b[0mtype\u001b[0m\u001b[1;33m[\u001b[0m\u001b[0mfloat\u001b[0m\u001b[1;33m]\u001b[0m\u001b[1;33m)\u001b[0m\u001b[1;33m\u001b[0m\u001b[1;33m\u001b[0m\u001b[0m\n",
      "\u001b[1;31mDocstring:\u001b[0m\n",
      "체질량 지수 계산\n",
      "Args:\n",
      "    tall (type[float]): 키(cm단위)\n",
      "    weight (type[float]): 몸무게\n",
      "\n",
      "Returns:\n",
      "    str: 비만도\n",
      "    \n",
      "raise:\n",
      "    divide 0 error : tall == 0\n",
      "\u001b[1;31mFile:\u001b[0m      c:\\users\\hyenz\\appdata\\local\\temp\\ipykernel_28052\\1558806768.py\n",
      "\u001b[1;31mType:\u001b[0m      function"
     ]
    }
   ],
   "source": [
    "bmi_check?"
   ]
  },
  {
   "cell_type": "code",
   "execution_count": 89,
   "metadata": {},
   "outputs": [
    {
     "name": "stdout",
     "output_type": "stream",
     "text": [
      "24.691358024691358\n"
     ]
    },
    {
     "data": {
      "text/plain": [
       "'정상'"
      ]
     },
     "execution_count": 89,
     "metadata": {},
     "output_type": "execute_result"
    }
   ],
   "source": [
    "bmi_check(180, 80)"
   ]
  },
  {
   "cell_type": "code",
   "execution_count": 81,
   "metadata": {},
   "outputs": [
    {
     "name": "stdout",
     "output_type": "stream",
     "text": [
      "[1, 20, 3, 21]\n"
     ]
    }
   ],
   "source": [
    "# 람다식\n",
    "#5. filter()를 이용해 다음 리스트에서 양수만 추출히 리스트를 구현\n",
    "ex1 = [1, -10, -2, 20, 3, -5, -7, 21]\n",
    "\n",
    "rs1 = list(filter(lambda x : x >= 0, iter(ex1)))\n",
    "print(rs1)"
   ]
  },
  {
   "cell_type": "code",
   "execution_count": 82,
   "metadata": {},
   "outputs": [
    {
     "name": "stdout",
     "output_type": "stream",
     "text": [
      "[1, 20, 3, 21]\n"
     ]
    }
   ],
   "source": [
    "positive_checker = lambda x : x >= 0\n",
    "rs1 = list(filter(positive_checker, ex1))\n",
    "print(rs1)"
   ]
  },
  {
   "cell_type": "code",
   "execution_count": 83,
   "metadata": {},
   "outputs": [
    {
     "name": "stdout",
     "output_type": "stream",
     "text": [
      "[100, 4, 25, 49]\n"
     ]
    }
   ],
   "source": [
    "#6. filter()와 map()을 이용해 다음 리스트에서 음수만 추출한 뒤 그 2 제곱한 값들을 가지는 리스트를 구현\n",
    "ex2 = [1, -10, -2, 20, 3, -5, -7, 21]\n",
    "\n",
    "rs2 = list(map(lambda x : x ** 2, filter(lambda x : x < 0, ex2)))\n",
    "\n",
    "print(rs2)"
   ]
  },
  {
   "cell_type": "code",
   "execution_count": 84,
   "metadata": {},
   "outputs": [
    {
     "data": {
      "text/plain": [
       "[100, 4, 25, 49]"
      ]
     },
     "execution_count": 84,
     "metadata": {},
     "output_type": "execute_result"
    }
   ],
   "source": [
    "negative_checker = lambda x : x < 0\n",
    "power =  lambda x : x ** 2\n",
    "\n",
    "list(map(power, filter(negative_checker, ex2)))"
   ]
  },
  {
   "cell_type": "code",
   "execution_count": null,
   "metadata": {},
   "outputs": [],
   "source": []
  }
 ],
 "metadata": {
  "kernelspec": {
   "display_name": "Python 3 (ipykernel)",
   "language": "python",
   "name": "python3"
  },
  "language_info": {
   "codemirror_mode": {
    "name": "ipython",
    "version": 3
   },
   "file_extension": ".py",
   "mimetype": "text/x-python",
   "name": "python",
   "nbconvert_exporter": "python",
   "pygments_lexer": "ipython3",
   "version": "3.10.9"
  },
  "toc": {
   "base_numbering": 1,
   "nav_menu": {},
   "number_sections": true,
   "sideBar": true,
   "skip_h1_title": false,
   "title_cell": "Table of Contents",
   "title_sidebar": "Contents",
   "toc_cell": false,
   "toc_position": {},
   "toc_section_display": true,
   "toc_window_display": false
  },
  "varInspector": {
   "cols": {
    "lenName": 16,
    "lenType": 16,
    "lenVar": 40
   },
   "kernels_config": {
    "python": {
     "delete_cmd_postfix": "",
     "delete_cmd_prefix": "del ",
     "library": "var_list.py",
     "varRefreshCmd": "print(var_dic_list())"
    },
    "r": {
     "delete_cmd_postfix": ") ",
     "delete_cmd_prefix": "rm(",
     "library": "var_list.r",
     "varRefreshCmd": "cat(var_dic_list()) "
    }
   },
   "types_to_exclude": [
    "module",
    "function",
    "builtin_function_or_method",
    "instance",
    "_Feature"
   ],
   "window_display": false
  }
 },
 "nbformat": 4,
 "nbformat_minor": 4
}
