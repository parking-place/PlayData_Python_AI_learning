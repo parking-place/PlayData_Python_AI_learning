{
 "cells": [
  {
   "cell_type": "code",
   "execution_count": 1,
   "metadata": {},
   "outputs": [],
   "source": [
    "def rgb_to_hex(r, g, b):\n",
    "    # 10진수 R,G,B값을 16진수로 변환하여 문자열로 저장\n",
    "    hex_r = hex(r)[2:].zfill(2)\n",
    "    hex_g = hex(g)[2:].zfill(2)\n",
    "    hex_b = hex(b)[2:].zfill(2)\n",
    "    # 변환된 16진수 값을 #FFFFFF 형태로 반환\n",
    "    return f\"#{hex_r}{hex_g}{hex_b}\"\n"
   ]
  },
  {
   "cell_type": "code",
   "execution_count": 2,
   "metadata": {},
   "outputs": [],
   "source": [
    "def hex_to_rgb(hex_value):\n",
    "    # hex 값을 16진수로 변환하여 r, g, b 값으로 분리\n",
    "    r = int(hex_value[1:3], 16)\n",
    "    g = int(hex_value[3:5], 16)\n",
    "    b = int(hex_value[5:7], 16)\n",
    "    # r, g, b 값을 tuple 형태로 반환\n",
    "    return (r, g, b)\n"
   ]
  },
  {
   "cell_type": "code",
   "execution_count": 15,
   "metadata": {},
   "outputs": [
    {
     "name": "stdout",
     "output_type": "stream",
     "text": [
      "['#de5d9f', '#e3983c', '#919bab', '#761ee0', '#a092c9', '#c28336', '#4deb86', '#9900a1', '#ebbcf2', '#be0218', '#d1a8de', '#84c304', '#718653', '#7443f4', '#8e279e', '#fc932b', '#2626ab', '#0f0908', '#db66f4', '#bfa5bf']\n"
     ]
    }
   ],
   "source": [
    "# random 모듈을 불러온다.\n",
    "import random\n",
    "\n",
    "# 10개의 hex rgb값을 저장할 리스트를 생성한다.\n",
    "hex_list = []\n",
    "\n",
    "# 10번 반복하여 hex rgb값을 생성하고 리스트에 추가한다.\n",
    "for i in range(20):\n",
    "    # random 모듈의 randint 함수를 사용하여 0부터 255까지의 임의의 정수 3개를 생성한다.\n",
    "    r, g, b = random.randint(0, 255), random.randint(\n",
    "        0, 255), random.randint(0, 255)\n",
    "    # 생성한 정수를 16진수로 변환하여 '#'과 함께 문자열로 저장한다.\n",
    "    hex_value = '#' + format(r, '02x') + format(g, '02x') + format(b, '02x')\n",
    "    # 생성한 hex rgb값을 리스트에 추가한다.\n",
    "    hex_list.append(hex_value)\n",
    "\n",
    "# 생성한 hex rgb값이 저장된 리스트를 출력한다.\n",
    "print(hex_list)\n"
   ]
  },
  {
   "cell_type": "code",
   "execution_count": 16,
   "metadata": {},
   "outputs": [
    {
     "name": "stdout",
     "output_type": "stream",
     "text": [
      "#de5d9f :\t R-222\t G- 93\t B-159\n",
      "#e3983c :\t R-227\t G-152\t B- 60\n",
      "#919bab :\t R-145\t G-155\t B-171\n",
      "#761ee0 :\t R-118\t G- 30\t B-224\n",
      "#a092c9 :\t R-160\t G-146\t B-201\n",
      "#c28336 :\t R-194\t G-131\t B- 54\n",
      "#4deb86 :\t R- 77\t G-235\t B-134\n",
      "#9900a1 :\t R-153\t G-  0\t B-161\n",
      "#ebbcf2 :\t R-235\t G-188\t B-242\n",
      "#be0218 :\t R-190\t G-  2\t B- 24\n",
      "#d1a8de :\t R-209\t G-168\t B-222\n",
      "#84c304 :\t R-132\t G-195\t B-  4\n",
      "#718653 :\t R-113\t G-134\t B- 83\n",
      "#7443f4 :\t R-116\t G- 67\t B-244\n",
      "#8e279e :\t R-142\t G- 39\t B-158\n",
      "#fc932b :\t R-252\t G-147\t B- 43\n",
      "#2626ab :\t R- 38\t G- 38\t B-171\n",
      "#0f0908 :\t R- 15\t G-  9\t B-  8\n",
      "#db66f4 :\t R-219\t G-102\t B-244\n",
      "#bfa5bf :\t R-191\t G-165\t B-191\n"
     ]
    }
   ],
   "source": [
    "# hex_list에 있는 각각의 hex 값에 대해 반복문 실행\n",
    "for hex in hex_list :\n",
    "    # hex 값과 해당 hex 값의 RGB 값을 출력\n",
    "    print( '{} :\\t R-{:3d}\\t G-{:3d}\\t B-{:3d}'.format(hex,*hex_to_rgb(hex)))"
   ]
  },
  {
   "cell_type": "code",
   "execution_count": null,
   "metadata": {},
   "outputs": [],
   "source": []
  }
 ],
 "metadata": {
  "kernelspec": {
   "display_name": "base",
   "language": "python",
   "name": "python3"
  },
  "language_info": {
   "codemirror_mode": {
    "name": "ipython",
    "version": 3
   },
   "file_extension": ".py",
   "mimetype": "text/x-python",
   "name": "python",
   "nbconvert_exporter": "python",
   "pygments_lexer": "ipython3",
   "version": "3.10.9"
  },
  "orig_nbformat": 4
 },
 "nbformat": 4,
 "nbformat_minor": 2
}
