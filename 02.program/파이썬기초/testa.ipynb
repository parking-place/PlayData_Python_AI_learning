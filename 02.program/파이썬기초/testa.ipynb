{
 "cells": [
  {
   "cell_type": "code",
   "execution_count": 1,
   "metadata": {},
   "outputs": [],
   "source": [
    "def rgb_to_hex(r, g, b):\n",
    "    # 10진수 R,G,B값을 16진수로 변환하여 문자열로 저장\n",
    "    hex_r = hex(r)[2:].zfill(2)\n",
    "    hex_g = hex(g)[2:].zfill(2)\n",
    "    hex_b = hex(b)[2:].zfill(2)\n",
    "    # 변환된 16진수 값을 #FFFFFF 형태로 반환\n",
    "    return f\"#{hex_r}{hex_g}{hex_b}\"\n"
   ]
  },
  {
   "cell_type": "code",
   "execution_count": 2,
   "metadata": {},
   "outputs": [],
   "source": [
    "def hex_to_rgb(hex_value):\n",
    "    # hex 값을 16진수로 변환하여 r, g, b 값으로 분리\n",
    "    r = int(hex_value[1:3], 16)\n",
    "    g = int(hex_value[3:5], 16)\n",
    "    b = int(hex_value[5:7], 16)\n",
    "    # r, g, b 값을 tuple 형태로 반환\n",
    "    return (r, g, b)\n"
   ]
  },
  {
   "cell_type": "code",
   "execution_count": 15,
   "metadata": {},
   "outputs": [
    {
     "name": "stdout",
     "output_type": "stream",
     "text": [
      "['#de5d9f', '#e3983c', '#919bab', '#761ee0', '#a092c9', '#c28336', '#4deb86', '#9900a1', '#ebbcf2', '#be0218', '#d1a8de', '#84c304', '#718653', '#7443f4', '#8e279e', '#fc932b', '#2626ab', '#0f0908', '#db66f4', '#bfa5bf']\n"
     ]
    }
   ],
   "source": [
    "# random 모듈을 불러온다.\n",
    "import random\n",
    "\n",
    "# 10개의 hex rgb값을 저장할 리스트를 생성한다.\n",
    "hex_list = []\n",
    "\n",
    "# 10번 반복하여 hex rgb값을 생성하고 리스트에 추가한다.\n",
    "for i in range(20):\n",
    "    # random 모듈의 randint 함수를 사용하여 0부터 255까지의 임의의 정수 3개를 생성한다.\n",
    "    r, g, b = random.randint(0, 255), random.randint(\n",
    "        0, 255), random.randint(0, 255)\n",
    "    # 생성한 정수를 16진수로 변환하여 '#'과 함께 문자열로 저장한다.\n",
    "    hex_value = '#' + format(r, '02x') + format(g, '02x') + format(b, '02x')\n",
    "    # 생성한 hex rgb값을 리스트에 추가한다.\n",
    "    hex_list.append(hex_value)\n",
    "\n",
    "# 생성한 hex rgb값이 저장된 리스트를 출력한다.\n",
    "print(hex_list)\n"
   ]
  },
  {
   "cell_type": "code",
   "execution_count": 16,
   "metadata": {},
   "outputs": [
    {
     "name": "stdout",
     "output_type": "stream",
     "text": [
      "#de5d9f :\t R-222\t G- 93\t B-159\n",
      "#e3983c :\t R-227\t G-152\t B- 60\n",
      "#919bab :\t R-145\t G-155\t B-171\n",
      "#761ee0 :\t R-118\t G- 30\t B-224\n",
      "#a092c9 :\t R-160\t G-146\t B-201\n",
      "#c28336 :\t R-194\t G-131\t B- 54\n",
      "#4deb86 :\t R- 77\t G-235\t B-134\n",
      "#9900a1 :\t R-153\t G-  0\t B-161\n",
      "#ebbcf2 :\t R-235\t G-188\t B-242\n",
      "#be0218 :\t R-190\t G-  2\t B- 24\n",
      "#d1a8de :\t R-209\t G-168\t B-222\n",
      "#84c304 :\t R-132\t G-195\t B-  4\n",
      "#718653 :\t R-113\t G-134\t B- 83\n",
      "#7443f4 :\t R-116\t G- 67\t B-244\n",
      "#8e279e :\t R-142\t G- 39\t B-158\n",
      "#fc932b :\t R-252\t G-147\t B- 43\n",
      "#2626ab :\t R- 38\t G- 38\t B-171\n",
      "#0f0908 :\t R- 15\t G-  9\t B-  8\n",
      "#db66f4 :\t R-219\t G-102\t B-244\n",
      "#bfa5bf :\t R-191\t G-165\t B-191\n"
     ]
    }
   ],
   "source": [
    "# hex_list에 있는 각각의 hex 값에 대해 반복문 실행\n",
    "for hex in hex_list :\n",
    "    # hex 값과 해당 hex 값의 RGB 값을 출력\n",
    "    print( '{} :\\t R-{:3d}\\t G-{:3d}\\t B-{:3d}'.format(hex,*hex_to_rgb(hex)))"
   ]
  },
  {
   "cell_type": "code",
   "execution_count": 1,
   "metadata": {},
   "outputs": [],
   "source": [
    "# |이 코드는 딕셔너리를 입력받아 'price'를 기준으로 오름차순 또는 내림차순으로 정렬해주는 함수입니다.\n",
    "# |\n",
    "# |좋은 점:\n",
    "# |- 함수명과 매개변수명이 명확하게 지어져 있어 함수의 역할을 쉽게 이해할 수 있습니다.\n",
    "# |- 함수에 대한 설명이 주석으로 잘 달려 있어 다른 개발자들도 쉽게 이해할 수 있습니다.\n",
    "# |- sorted() 함수를 이용하여 간단하게 정렬할 수 있도록 구현되어 있습니다.\n",
    "# |\n",
    "# |나쁜 점:\n",
    "# |- 함수의 매개변수로 딕셔너리를 입력받는데, 이 딕셔너리가 'price'라는 키를 가지고 있어야만 정상적으로 동작합니다. 만약 'price' 키가 없는 딕셔너리를 입력하면 에러가 발생합니다. 이를 방지하기 위해서는 함수 내부에서 'price' 키가 있는지 먼저 확인하는 코드가 필요합니다.\n",
    "def sort_dict_by_price(my_dict, ascending=True):\n",
    "    \"\"\"\n",
    "    dict와 bool값을 입력받고 dict['prise']를 기준으로 bool값에 따라 오름차순, 내림차순으로 dict를 정렬해주는 함수\n",
    "    :param my_dict: 정렬할 딕셔너리\n",
    "    :param ascending: True면 오름차순, False면 내림차순\n",
    "    :return: 정렬된 딕셔너리\n",
    "    \"\"\"\n",
    "    # dict의 'price'를 기준으로 정렬\n",
    "    sorted_dict = sorted(my_dict.items(), key=lambda x: x[1]['price'])\n",
    "    # ascending이 False면 내림차순으로 정렬\n",
    "    if not ascending:\n",
    "        sorted_dict = sorted_dict[::-1]\n",
    "    # 정렬된 dict를 다시 딕셔너리 형태로 변환\n",
    "    return dict(sorted_dict)"
   ]
  },
  {
   "cell_type": "code",
   "execution_count": 2,
   "metadata": {},
   "outputs": [],
   "source": [
    "# |이 코드는 dict들이 들어가 있는 list와 bool값을 입력받아 dict['prise']를 기준으로 오름차순 또는 내림차순으로 정렬해주는 함수입니다.\n",
    "# |\n",
    "# |좋은 점:\n",
    "# |- 함수명과 매개변수, 반환값에 대한 설명이 상세하게 주석으로 달려 있어 코드를 이해하기 쉽습니다.\n",
    "# |- sorted() 함수를 이용하여 간단하게 정렬할 수 있도록 구현되어 있습니다.\n",
    "# |\n",
    "# |나쁜 점:\n",
    "# |- 함수명에서 'dict'라는 단어가 사용되었는데, 이는 파이썬 내장 자료형인 dict와 혼동될 수 있습니다. 따라서 함수명을 변경하는 것이 좋습니다.\n",
    "# |- 함수 내부에서 ascending이 False일 때 sorted_list를 역순으로 정렬하는 부분에서, 이미 sorted() 함수를 이용하여 정렬을 수행했기 때문에 불필요한 연산이 추가됩니다. 이를 개선하기 위해서는 sorted() 함수의 key 매개변수에 lambda 함수를 이용하여 내림차순 정렬을 수행하는 것이 좋습니다.\n",
    "# |\n",
    "def sort_list_of_dicts(list_of_dicts, ascending=True):\n",
    "    \"\"\"\n",
    "    dict들이 들어가 있는 list와 bool값을 입력받고 dict['prise']를 기준으로 bool값에 따라 오름차순, 내림차순으로 list를 정렬해주는 함수\n",
    "\n",
    "    :param list_of_dicts: dict들이 들어가 있는 list\n",
    "    :param ascending: bool값. True면 오름차순, False면 내림차순으로 정렬\n",
    "    :return: dict['prise']를 기준으로 정렬된 list\n",
    "    \"\"\"\n",
    "    # list_of_dicts를 dict['prise']를 기준으로 정렬\n",
    "    sorted_list = sorted(list_of_dicts, key=lambda x: x['prise'])\n",
    "    # ascending이 False면 역순으로 정렬\n",
    "    if not ascending:\n",
    "        sorted_list = sorted_list[::-1]\n",
    "    return sorted_list\n"
   ]
  },
  {
   "cell_type": "code",
   "execution_count": 7,
   "metadata": {},
   "outputs": [],
   "source": [
    "def find_complementary_color(hexcode):\n",
    "    # hexcode를 16진수로 변환하여 r, g, b 변수에 저장\n",
    "    r, g, b = int(hexcode[1:3], 16), int(\n",
    "        hexcode[3:5], 16), int(hexcode[5:], 16)\n",
    "    # 보색관계의 r, g, b 값을 계산하여 변수에 저장\n",
    "    comp_r, comp_g, comp_b = 255 - r, 255 - g, 255 - b\n",
    "    # 보색관계의 hexcode를 계산하여 변수에 저장\n",
    "    comp_hexcode = f\"#{comp_r:02x}{comp_g:02x}{comp_b:02x}\"\n",
    "    # 결과 문자열을 출력\n",
    "    print(f\"{hexcode} : R-{comp_r:03d}  G-{comp_g:03d}  B-{comp_b:03d}\")\n",
    "    # 보색관계의 hexcode를 반환\n",
    "    return comp_hexcode\n"
   ]
  },
  {
   "cell_type": "code",
   "execution_count": 8,
   "metadata": {},
   "outputs": [
    {
     "name": "stdout",
     "output_type": "stream",
     "text": [
      "#ff9984 : R-000  G-102  B-123\n"
     ]
    },
    {
     "data": {
      "text/plain": [
       "'#00667b'"
      ]
     },
     "execution_count": 8,
     "metadata": {},
     "output_type": "execute_result"
    }
   ],
   "source": [
    "find_complementary_color('#ff9984')"
   ]
  },
  {
   "cell_type": "code",
   "execution_count": 10,
   "metadata": {},
   "outputs": [],
   "source": [
    "def markdown_background_color(hex_code: str) -> str:\n",
    "    \"\"\"\n",
    "    입력받은 '#hex' 코드의 색상을 이용해 마크다운 문서에서 배경색을 해당 색으로 만드는 문법을 문자열로 반환하는 함수.\n",
    "    \"\"\"\n",
    "    # '#' 제거\n",
    "    hex_code = hex_code.replace(\"#\", \"\")\n",
    "    # RGB 값 추출\n",
    "    red = int(hex_code[:2], 16)\n",
    "    green = int(hex_code[2:4], 16)\n",
    "    blue = int(hex_code[4:], 16)\n",
    "    # RGB 값을 이용한 마크다운 문법 문자열 생성\n",
    "    markdown_syntax = f\"{{{{< highlight >}}}}\\n{{{{< /highlight >}}}}\\n{{{{< style \\\"background-color: rgb({red}, {green}, {blue})\\\" >}}}}\\n{{{{< /style >}}}}\"\n",
    "    return markdown_syntax\n"
   ]
  },
  {
   "cell_type": "code",
   "execution_count": 11,
   "metadata": {},
   "outputs": [
    {
     "data": {
      "text/plain": [
       "'{{< highlight >}}\\n{{< /highlight >}}\\n{{< style \"background-color: rgb(255, 153, 132)\" >}}\\n{{< /style >}}'"
      ]
     },
     "execution_count": 11,
     "metadata": {},
     "output_type": "execute_result"
    }
   ],
   "source": [
    "import re\n",
    "\n",
    "\n",
    "def is_email(email):\n",
    "    \"\"\"\n",
    "    이메일 형식인지 확인하는 함수\n",
    "    \"\"\"\n",
    "    # 이메일 정규식 패턴\n",
    "    pattern = r'^[a-zA-Z0-9+-_.]+@[a-zA-Z0-9-]+\\.[a-zA-Z0-9-.]+$'\n",
    "\n",
    "    # 이메일 정규식 패턴과 매칭되는지 확인\n",
    "    if re.match(pattern, email):\n",
    "        return True\n",
    "    else:\n",
    "        return False\n"
   ]
  },
  {
   "cell_type": "code",
   "execution_count": 12,
   "metadata": {},
   "outputs": [
    {
     "name": "stdout",
     "output_type": "stream",
     "text": [
      "A -> C\n",
      "A -> B\n",
      "C -> B\n",
      "A -> C\n",
      "B -> A\n",
      "B -> C\n",
      "A -> C\n"
     ]
    }
   ],
   "source": [
    "def hanoi(n, start, end, sub):\n",
    "    # 원판이 1개일 경우, 시작 기둥에서 끝 기둥으로 이동\n",
    "    if n == 1:\n",
    "        print(start, \"->\", end)\n",
    "    # 원판이 1개가 아닐 경우\n",
    "    else:\n",
    "        # n-1개의 원판을 시작 기둥에서 보조 기둥으로 이동\n",
    "        hanoi(n-1, start, sub, end)\n",
    "        # 마지막 원판을 시작 기둥에서 끝 기둥으로 이동\n",
    "        print(start, \"->\", end)\n",
    "        # 보조 기둥에 있는 n-1개의 원판을 끝 기둥으로 이동\n",
    "        hanoi(n-1, sub, end, start)\n",
    "\n",
    "\n",
    "# 예시 실행\n",
    "hanoi(3, \"A\", \"C\", \"B\")\n"
   ]
  },
  {
   "cell_type": "code",
   "execution_count": 14,
   "metadata": {},
   "outputs": [
    {
     "name": "stdout",
     "output_type": "stream",
     "text": [
      "A -> C\n",
      "A -> B\n",
      "C -> B\n",
      "A -> C\n",
      "B -> A\n",
      "B -> C\n",
      "A -> C\n",
      "A -> B\n",
      "C -> B\n",
      "C -> A\n",
      "B -> A\n",
      "C -> B\n",
      "A -> C\n",
      "A -> B\n",
      "C -> B\n"
     ]
    }
   ],
   "source": [
    "hanoi(4,'A', 'B', 'C')"
   ]
  },
  {
   "cell_type": "code",
   "execution_count": 15,
   "metadata": {},
   "outputs": [],
   "source": [
    "def hailstone(n):\n",
    "    # n이 1이 될 때까지 반복\n",
    "    while n != 1:\n",
    "        # n이 짝수인 경우\n",
    "        if n % 2 == 0:\n",
    "            n = n // 2\n",
    "        # n이 홀수인 경우\n",
    "        else:\n",
    "            n = n * 3 + 1\n",
    "        # 현재 수 출력\n",
    "        print(n, end=' ')\n",
    "    # 마지막 1 출력\n",
    "    print(1)\n"
   ]
  },
  {
   "cell_type": "code",
   "execution_count": 16,
   "metadata": {},
   "outputs": [
    {
     "name": "stdout",
     "output_type": "stream",
     "text": [
      "82 41 124 62 31 94 47 142 71 214 107 322 161 484 242 121 364 182 91 274 137 412 206 103 310 155 466 233 700 350 175 526 263 790 395 1186 593 1780 890 445 1336 668 334 167 502 251 754 377 1132 566 283 850 425 1276 638 319 958 479 1438 719 2158 1079 3238 1619 4858 2429 7288 3644 1822 911 2734 1367 4102 2051 6154 3077 9232 4616 2308 1154 577 1732 866 433 1300 650 325 976 488 244 122 61 184 92 46 23 70 35 106 53 160 80 40 20 10 5 16 8 4 2 1 1\n"
     ]
    }
   ],
   "source": [
    "hailstone(27)"
   ]
  },
  {
   "cell_type": "code",
   "execution_count": 11,
   "metadata": {},
   "outputs": [],
   "source": [
    "def hailstone_sequence(num):\n",
    "    \"\"\"\n",
    "    우박수의 경로를 리스트로 반환하는 함수\n",
    "    \"\"\"\n",
    "    sequence = [num]  # 입력받은 수를 리스트에 추가\n",
    "    while num != 1:  # num이 1이 될 때까지 반복\n",
    "        if num % 2 == 0:  # num이 짝수인 경우\n",
    "            num = num // 2  # num을 2로 나눈 몫으로 갱신\n",
    "        else:  # num이 홀수인 경우\n",
    "            num = num * 3 + 1  # num에 3을 곱하고 1을 더한 값을 갱신\n",
    "        sequence.append(num)  # 갱신된 num을 리스트에 추가\n",
    "    return sequence  # 우박수의 경로를 담은 리스트 반환\n"
   ]
  },
  {
   "cell_type": "code",
   "execution_count": 45,
   "metadata": {},
   "outputs": [],
   "source": [
    "import matplotlib.pyplot as plt\n",
    "\n",
    "\n",
    "def show_graph(data):\n",
    "    \"\"\"\n",
    "    리스트를 입력받아 그래프로 보여주는 함수\n",
    "    \"\"\"\n",
    "    # 그래프의 x축과 y축 데이터를 설정\n",
    "    x = range(len(data))\n",
    "    y = data\n",
    "\n",
    "    # 그래프의 크기를 설정\n",
    "    plt.figure(figsize=(10, 5))\n",
    "\n",
    "    # 그래프의 타이틀과 x축, y축 라벨을 설정\n",
    "    plt.title(\"Graph\")\n",
    "    plt.xlabel(\"X-axis\")\n",
    "    plt.ylabel(\"Y-axis\")\n",
    "\n",
    "    # 그래프를 그리고 보여줌\n",
    "    plt.plot(x, y)\n",
    "    plt.show()\n"
   ]
  },
  {
   "cell_type": "code",
   "execution_count": 46,
   "metadata": {},
   "outputs": [],
   "source": [
    "import random\n",
    "\n",
    "colors = []\n",
    "def generate_hex_colors(num):\n",
    "    \"\"\"\n",
    "    num: 생성할 색상코드의 개수\n",
    "    \"\"\"\n",
    "    global colors\n",
    "    colors = []  # 색상코드를 담을 리스트\n",
    "    for i in range(num):\n",
    "        color = '#' + ''.join(random.choice('0123456789ABCDEF')\n",
    "                              for j in range(6))  # 랜덤한 색상코드 생성\n",
    "        colors.append(color)  # 생성한 색상코드를 리스트에 추가\n",
    "    return colors  # 생성한 색상코드 리스트 반환\n"
   ]
  },
  {
   "cell_type": "code",
   "execution_count": 47,
   "metadata": {},
   "outputs": [],
   "source": [
    "import matplotlib.pyplot as plt  # matplotlib 라이브러리의 pyplot 모듈을 plt로 import\n",
    "\n",
    "def show_graph(data):\n",
    "    \"\"\"\n",
    "    실제스케일로 그래프들을 보여줌\n",
    "    Args:\n",
    "        data (_type_): 2차원 리스트\n",
    "    \"\"\"\n",
    "    # # 데이터의 길이에 따라 색상을 생성합니다.\n",
    "    # colors = generate_hex_colors(len(data))\n",
    "    global colors\n",
    "\n",
    "    # 데이터의 개수만큼 반복하며 그래프를 그립니다.\n",
    "    for i in range(len(data)):\n",
    "        # 색상을 지정하여 그래프를 그립니다.\n",
    "        plt.plot(data[i], color=colors[i % len(colors)])\n",
    "\n",
    "    # 그래프를 출력합니다.\n",
    "    plt.show()\n"
   ]
  },
  {
   "cell_type": "code",
   "execution_count": 48,
   "metadata": {},
   "outputs": [],
   "source": [
    "import matplotlib.pyplot as plt  # matplotlib 라이브러리의 pyplot 모듈을 plt로 import\n",
    "\n",
    "\n",
    "def show_graph_log(data):\n",
    "    \"\"\"\n",
    "    로그스케일로 그래프들을 보여줌\n",
    "    Args:\n",
    "        data (_type_): 2차원 리스트\n",
    "    \"\"\"\n",
    "    # # 데이터의 길이에 따라 색상을 생성합니다.\n",
    "    # colors = generate_hex_colors(len(data))\n",
    "    global colors\n",
    "    \n",
    "    # 데이터의 개수만큼 반복하며 그래프를 그립니다.\n",
    "    for i in range(len(data)):\n",
    "        # 색상을 지정하여 그래프를 그립니다.\n",
    "        plt.plot(data[i], color=colors[i % len(colors)])\n",
    "\n",
    "    # 로그스케일로 그래프를 그립니다.\n",
    "    # plt.xscale('log')\n",
    "    plt.yscale('log')\n",
    "\n",
    "    # 그래프를 출력합니다.\n",
    "    plt.show()\n"
   ]
  },
  {
   "cell_type": "code",
   "execution_count": 16,
   "metadata": {},
   "outputs": [],
   "source": [
    "hailstone_lst = []\n",
    "for i in range(50, 100) :\n",
    "    hailstone_lst.append(hailstone_sequence(i))"
   ]
  },
  {
   "cell_type": "code",
   "execution_count": 49,
   "metadata": {},
   "outputs": [],
   "source": [
    "def hailstone_range(start, end):\n",
    "    \"\"\"\n",
    "    입력받은 범위의 수들을 hailstone_sequence()를 이용해 hailstone_lst에 우박수 리스트를 넣어 \n",
    "    2차원 리스트를 만들어 반환하는 함수.\n",
    "    \"\"\"\n",
    "    hailstone_lst = []  # 빈 리스트 생성\n",
    "    for i in range(start, end+1):  # start부터 end까지 반복\n",
    "        # hailstone_sequence() 함수를 이용해 우박수 리스트를 hailstone_lst에 추가\n",
    "        hailstone_lst.append(hailstone_sequence(i))\n",
    "    return hailstone_lst  # 2차원 리스트 반환\n"
   ]
  },
  {
   "cell_type": "code",
   "execution_count": 50,
   "metadata": {},
   "outputs": [],
   "source": [
    "def show_gragh_both(start: type[int], end: type[int] = None):\n",
    "    \"\"\"\n",
    "    우박수를 실제 스케일 그래프와 로그 그래프로 보여주는 함수\n",
    "    Args:\n",
    "        start (type[int]): 시작\n",
    "        end (type[int]): 종료(기본은 시작과 같음)\n",
    "    \"\"\"\n",
    "    if not end:\n",
    "        end = start  # end가 None이 아닌 경우, end를 start로 설정\n",
    "        \n",
    "    # start부터 end까지의 hailstone 수열을 구한다.\n",
    "    hailstone_lst = hailstone_range(start, end)\n",
    "    # hailstone 수열의 길이만큼의 랜덤한 색상을 생성한다.\n",
    "    generate_hex_colors(len(hailstone_lst))\n",
    "    # hailstone 수열을 그래프로 출력한다.\n",
    "    show_graph(hailstone_lst)\n",
    "    # hailstone 수열의 로그값을 그래프로 출력한다.\n",
    "    show_graph_log(hailstone_lst)\n"
   ]
  },
  {
   "cell_type": "code",
   "execution_count": 51,
   "metadata": {},
   "outputs": [
    {
     "name": "stdout",
     "output_type": "stream",
     "text": [
      "\u001b[1;31mSignature:\u001b[0m \u001b[0mhailstone_sequence\u001b[0m\u001b[1;33m(\u001b[0m\u001b[0mnum\u001b[0m\u001b[1;33m)\u001b[0m\u001b[1;33m\u001b[0m\u001b[1;33m\u001b[0m\u001b[0m\n",
      "\u001b[1;31mDocstring:\u001b[0m 우박수의 경로를 리스트로 반환하는 함수\n",
      "\u001b[1;31mFile:\u001b[0m      c:\\users\\hyenz\\appdata\\local\\temp\\ipykernel_24972\\2971370124.py\n",
      "\u001b[1;31mType:\u001b[0m      function"
     ]
    }
   ],
   "source": [
    "hailstone_sequence?"
   ]
  },
  {
   "cell_type": "code",
   "execution_count": 52,
   "metadata": {},
   "outputs": [
    {
     "name": "stdout",
     "output_type": "stream",
     "text": [
      "\u001b[1;31mSignature:\u001b[0m \u001b[0mshow_gragh_both\u001b[0m\u001b[1;33m(\u001b[0m\u001b[0mstart\u001b[0m\u001b[1;33m:\u001b[0m \u001b[0mtype\u001b[0m\u001b[1;33m[\u001b[0m\u001b[0mint\u001b[0m\u001b[1;33m]\u001b[0m\u001b[1;33m,\u001b[0m \u001b[0mend\u001b[0m\u001b[1;33m:\u001b[0m \u001b[0mtype\u001b[0m\u001b[1;33m[\u001b[0m\u001b[0mint\u001b[0m\u001b[1;33m]\u001b[0m \u001b[1;33m=\u001b[0m \u001b[1;32mNone\u001b[0m\u001b[1;33m)\u001b[0m\u001b[1;33m\u001b[0m\u001b[1;33m\u001b[0m\u001b[0m\n",
      "\u001b[1;31mDocstring:\u001b[0m\n",
      "우박수를 실제 스케일 그래프와 로그 그래프로 보여주는 함수\n",
      "Args:\n",
      "    start (type[int]): 시작\n",
      "    end (type[int]): 종료(기본은 시작과 같음)\n",
      "\u001b[1;31mFile:\u001b[0m      c:\\users\\hyenz\\appdata\\local\\temp\\ipykernel_24972\\2225618692.py\n",
      "\u001b[1;31mType:\u001b[0m      function"
     ]
    }
   ],
   "source": [
    "show_gragh_both?"
   ]
  },
  {
   "cell_type": "code",
   "execution_count": 57,
   "metadata": {},
   "outputs": [
    {
     "data": {
      "image/png": "[encoded data removed]",
      "text/plain": [
       "<Figure size 640x480 with 1 Axes>"
      ]
     },
     "metadata": {},
     "output_type": "display_data"
    },
    {
     "data": {
      "image/png": "[encoded data removed]",
      "text/plain": [
       "<Figure size 640x480 with 1 Axes>"
      ]
     },
     "metadata": {},
     "output_type": "display_data"
    }
   ],
   "source": [
    "show_gragh_both(27)"
   ]
  },
  {
   "cell_type": "code",
   "execution_count": 30,
   "metadata": {},
   "outputs": [],
   "source": [
    "def is_leap_year(year):\n",
    "    # 윤년인지 아닌지 판단하는 함수\n",
    "    if year % 4 == 0 and (year % 100 != 0 or year % 400 == 0):\n",
    "        # 윤년이면 True 반환\n",
    "        return True\n",
    "    else:\n",
    "        # 윤년이 아니면 False 반환\n",
    "        return False\n"
   ]
  },
  {
   "cell_type": "code",
   "execution_count": 31,
   "metadata": {},
   "outputs": [
    {
     "data": {
      "text/plain": [
       "True"
      ]
     },
     "execution_count": 31,
     "metadata": {},
     "output_type": "execute_result"
    }
   ],
   "source": [
    "is_leap_year(2012)"
   ]
  },
  {
   "cell_type": "code",
   "execution_count": null,
   "metadata": {},
   "outputs": [],
   "source": []
  },
  {
   "cell_type": "code",
   "execution_count": 19,
   "metadata": {},
   "outputs": [],
   "source": [
    "def solution(s, n):\n",
    "    answer = ''\n",
    "    str_l = 'abcdefghijklmnopqrstuvwxyz'\n",
    "    str_u = 'ABCDEFGHIJKLMNOPQRSTUVWXYZ'\n",
    "    \n",
    "    for v in s :\n",
    "        is_lower = True\n",
    "        \n",
    "        if v == ' ' :\n",
    "            answer += ' '\n",
    "            continue\n",
    "        \n",
    "        i = str_l.find(v)\n",
    "        \n",
    "        if i == -1 :\n",
    "            is_lower = False\n",
    "            i = str_u.find(v)\n",
    "            \n",
    "        new_i = i+n\n",
    "        \n",
    "        new_i %= 26\n",
    "        \n",
    "        if is_lower :\n",
    "            answer += str_l[new_i]\n",
    "        else :\n",
    "            answer += str_u[new_i] \n",
    "            \n",
    "    return answer"
   ]
  },
  {
   "cell_type": "code",
   "execution_count": 25,
   "metadata": {},
   "outputs": [],
   "source": [
    "str_l = 'abcdefghijklmnopqrstuvwxyz'\n",
    "str_u = 'ABCDEFGHIJKLMNOPQRSTUVWXYZ'\n",
    "\n",
    "s = 'svafvdasvasASDd a'\n",
    "n = 10"
   ]
  },
  {
   "cell_type": "code",
   "execution_count": 26,
   "metadata": {},
   "outputs": [
    {
     "data": {
      "text/plain": [
       "'cfkpfnkcfkcKCNN K'"
      ]
     },
     "execution_count": 26,
     "metadata": {},
     "output_type": "execute_result"
    }
   ],
   "source": [
    "solution(s, n)"
   ]
  },
  {
   "cell_type": "code",
   "execution_count": 21,
   "metadata": {},
   "outputs": [
    {
     "data": {
      "text/plain": [
       "-1"
      ]
     },
     "execution_count": 21,
     "metadata": {},
     "output_type": "execute_result"
    }
   ],
   "source": [
    "def solution(participant, completion):\n",
    "    participant.sort()\n",
    "    completion.sort()\n",
    "    \n",
    "    for i in range(len(completion)):\n",
    "        if participant[i] != completion[i]:\n",
    "            return participant[i]\n",
    "    return participant[-1]"
   ]
  },
  {
   "cell_type": "code",
   "execution_count": 30,
   "metadata": {},
   "outputs": [
    {
     "data": {
      "text/plain": [
       "['asd', 'sfa']"
      ]
     },
     "execution_count": 30,
     "metadata": {},
     "output_type": "execute_result"
    }
   ],
   "source": [
    "list('afsda')\n",
    "a = 'asd/sfa/'.split('/')\n",
    "del a[-1]\n",
    "a"
   ]
  },
  {
   "cell_type": "code",
   "execution_count": 32,
   "metadata": {},
   "outputs": [],
   "source": [
    "n, arr1, arr2 = 5, [9, 20, 28, 18, 11], [30, 1, 21, 17, 28]\n",
    "n_2, arr1_2, arr2_2 = 6, [46, 33, 33 ,22, 31, 50], [27 ,56, 19, 14, 14, 10]"
   ]
  },
  {
   "cell_type": "code",
   "execution_count": 76,
   "metadata": {},
   "outputs": [],
   "source": [
    "def solution(n, arr1, arr2):\n",
    "    answer = []\n",
    "    # 맵별로 str\n",
    "    map1 = ''                                \n",
    "    map2 = ''\n",
    "    map_real = ''\n",
    "    \n",
    "    # f문자열로 '16자리 이진수+/' 문자열을 만들고 n에 맞게 자름\n",
    "    for i in range(n) :\n",
    "        map1 += f'{arr1[i]:016b}'[17-n-1:17]+'/'\n",
    "        map2 += f'{arr2[i]:016b}'[17-n-1:17]+'/'\n",
    "    \n",
    "    print(map1)\n",
    "    print(map2)\n",
    "    \n",
    "    for i in range(len(map1)) :\n",
    "        if ((map1[i] == '1') | (map2[i] == '1')):\n",
    "            map_real += '#'\n",
    "        elif map1[i] == '/' :\n",
    "            map_real += '/'\n",
    "        else :\n",
    "            map_real += ' '\n",
    "    \n",
    "    print(map_real)\n",
    "    \n",
    "    answer = map_real.split('/')\n",
    "    del answer[-1]\n",
    "        \n",
    "    return answer"
   ]
  },
  {
   "cell_type": "code",
   "execution_count": null,
   "metadata": {},
   "outputs": [],
   "source": [
    "def solution(n, arr1, arr2):\n",
    "    answer = []\n",
    "    # 맵별로 str\n",
    "    map1 = ''                                \n",
    "    map2 = ''\n",
    "    map_real = ''\n",
    "    \n",
    "    # f문자열로 '16자리 이진수+/' 문자열을 만들고 n에 맞게 자름\n",
    "    for i in range(n) :\n",
    "        map1 += f'{arr1[i]:016b}'[17-n-1:17]+'/'\n",
    "        map2 += f'{arr2[i]:016b}'[17-n-1:17]+'/'\n",
    "    \n",
    "    for i in range(len(map1)) :\n",
    "        if ((map1[i] == '1') | (map2[i] == '1')):   #둘중 하나라도 1일 경우 #\n",
    "            map_real += '#'\n",
    "        elif map1[i] == '/' :                       # /일 경우 / 그대로\n",
    "            map_real += '/'\n",
    "        else :                                      # 모두 아닐경우 공백\n",
    "            map_real += ' '\n",
    "    \n",
    "    answer = map_real.split('/')    # /를 기준으로 스플릿\n",
    "    del answer[-1]                  # 마지막은 빈 문자열이므로 삭제\n",
    "        \n",
    "    return answer"
   ]
  },
  {
   "cell_type": "code",
   "execution_count": 74,
   "metadata": {},
   "outputs": [
    {
     "name": "stdout",
     "output_type": "stream",
     "text": [
      "01001/10100/11100/10010/01011/\n",
      "11110/00001/10101/10001/11100/\n",
      "#####/# # #/### #/#  ##/#####/\n"
     ]
    },
    {
     "data": {
      "text/plain": [
       "['#####', '# # #', '### #', '#  ##', '#####']"
      ]
     },
     "execution_count": 74,
     "metadata": {},
     "output_type": "execute_result"
    }
   ],
   "source": [
    "solution(n,arr1,arr2)"
   ]
  },
  {
   "cell_type": "code",
   "execution_count": 75,
   "metadata": {},
   "outputs": [
    {
     "name": "stdout",
     "output_type": "stream",
     "text": [
      "101110/100001/100001/010110/011111/110010/\n",
      "011011/111000/010011/001110/001110/001010/\n",
      "######/###  #/##  ##/ #### / #####/### # /\n"
     ]
    },
    {
     "data": {
      "text/plain": [
       "['######', '###  #', '##  ##', ' #### ', ' #####', '### # ']"
      ]
     },
     "execution_count": 75,
     "metadata": {},
     "output_type": "execute_result"
    }
   ],
   "source": [
    "solution(n_2,arr1_2,arr2_2)"
   ]
  },
  {
   "cell_type": "code",
   "execution_count": 54,
   "metadata": {},
   "outputs": [
    {
     "data": {
      "text/plain": [
       "'00001001'"
      ]
     },
     "execution_count": 54,
     "metadata": {},
     "output_type": "execute_result"
    }
   ],
   "source": [
    "'0000000000001001'[17-8-1:17]"
   ]
  },
  {
   "cell_type": "code",
   "execution_count": 57,
   "metadata": {},
   "outputs": [
    {
     "data": {
      "text/plain": [
       "True"
      ]
     },
     "execution_count": 57,
     "metadata": {},
     "output_type": "execute_result"
    }
   ],
   "source": [
    "bool('0')"
   ]
  },
  {
   "cell_type": "code",
   "execution_count": null,
   "metadata": {},
   "outputs": [],
   "source": []
  }
 ],
 "metadata": {
  "kernelspec": {
   "display_name": "base",
   "language": "python",
   "name": "python3"
  },
  "language_info": {
   "codemirror_mode": {
    "name": "ipython",
    "version": 3
   },
   "file_extension": ".py",
   "mimetype": "text/x-python",
   "name": "python",
   "nbconvert_exporter": "python",
   "pygments_lexer": "ipython3",
   "version": "3.10.9"
  },
  "orig_nbformat": 4
 },
 "nbformat": 4,
 "nbformat_minor": 2
}
