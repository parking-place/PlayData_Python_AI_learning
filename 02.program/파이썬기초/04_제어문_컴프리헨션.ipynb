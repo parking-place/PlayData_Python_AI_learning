{
 "cells": [
  {
   "cell_type": "markdown",
   "id": "8c49cd8e",
   "metadata": {
    "slideshow": {
     "slide_type": "slide"
    }
   },
   "source": [
    "# 제어문(Control flow statement)\n",
    "기본적으로 프로그램은 순차구조를 가진다. 즉 작성한 순서대로 실행이 된다.  \n",
    "이런 실행흐름을 다른 순서로 제어하기 위한 구문을 만드는 문법이 제어문이다.  \n",
    "제어문은 **조건문** 과 **반복문** 두가지 문법이 있다.\n",
    "- 조건문\n",
    "    - if 문\n",
    "- 반복문\n",
    "    - while 문\n",
    "    - for in 문"
   ]
  },
  {
   "cell_type": "markdown",
   "id": "92c502ce",
   "metadata": {
    "slideshow": {
     "slide_type": "slide"
    }
   },
   "source": [
    "# 조건문/분기문 (conditional statement)\n",
    "- 프로그램이 명령문들을 실행하는 도중 특정 순서에서 **조건에 따라 흐름의 나눠져야 하는 경우 사용한다**\n",
    "- 파이썬은 조건문으로 **if문**이 있다.\n",
    "\n",
    "![조건문](images/ch03_01.png)\n",
    "\n",
    "<center>입력 받은 a 의 값이 0인지 여부에 따라 두가지 흐름으로 분기된다.</center>\n"
   ]
  },
  {
   "cell_type": "markdown",
   "id": "2a3c1835",
   "metadata": {
    "slideshow": {
     "slide_type": "subslide"
    }
   },
   "source": [
    "## 구문\n",
    "\n",
    "- 조건이 True일 경우만 특정 구문들을 실행 하는 조건문.\n",
    "```python\n",
    "if 조건:    # 조건은 bool 표현식을 기술한다. 조건선언 다음에 : 으로 선언해서 코드블록을 구분한다.\n",
    "    명령문1  # 조건이 True이면 실행할 구문들을 코드블럭에 기술한다.\n",
    "    명령문2  # 코드 블록은 들여쓰기를 이용해 묶어준다. 보통 공백 4칸으로 들여쓰기를 한다.\n",
    "    ...\n",
    "```\n",
    "> <b style='font-size:1.2em'>파이썬의 코드블록(code block)</b>  \n",
    "> 코드블록이란 여러개의 실행명령문들을 묶어놓은 것을 말한다. \n",
    "> 파이썬에서는 코드블록을 작성할 때 들여쓰기를 이용해 묶어준다. 같은 칸만큼 들여쓰기를 한 명령문들이 같은 블록으로 묶인다.\n",
    "> 들여쓰기는 관례적으로 공백 4칸을 사용한다. "
   ]
  },
  {
   "cell_type": "code",
   "execution_count": 2,
   "id": "75aaad4b",
   "metadata": {},
   "outputs": [
    {
     "data": {
      "text/plain": [
       "'12'"
      ]
     },
     "execution_count": 2,
     "metadata": {},
     "output_type": "execute_result"
    }
   ],
   "source": [
    "input_str = input()\n",
    "input_str"
   ]
  },
  {
   "cell_type": "code",
   "execution_count": 3,
   "id": "6ba4e917",
   "metadata": {},
   "outputs": [
    {
     "name": "stdout",
     "output_type": "stream",
     "text": [
      "yes\n"
     ]
    }
   ],
   "source": [
    "if input_str.isdigit():\n",
    "    print('yes')\n",
    "else:\n",
    "    print('no')"
   ]
  },
  {
   "cell_type": "code",
   "execution_count": 4,
   "id": "e7cb3730",
   "metadata": {},
   "outputs": [
    {
     "name": "stdout",
     "output_type": "stream",
     "text": [
      "a\n"
     ]
    }
   ],
   "source": [
    "if True:\n",
    "    pass    # 코드블럭에 아무것도 없으면 에러/ 구현 나중에 할때나 비워야할떄 사용가능한 pass\n",
    "elif True:\n",
    "    ...     # pass대신 ...사용 가능\n",
    "else:\n",
    "    pass\n",
    "print('a')"
   ]
  },
  {
   "cell_type": "markdown",
   "id": "09c79c35",
   "metadata": {
    "slideshow": {
     "slide_type": "subslide"
    }
   },
   "source": [
    "- 조건이 True일때 실행할 구문과 False일때 실행하는 조건문.\n",
    "```python\n",
    "if 조건:     \n",
    "    명령문1_1 # 조건이 True일 경우 실행할 구문들\n",
    "    명령문1_2\n",
    "    ...\n",
    "else:\n",
    "    명령문2_1 # 조건이 False일 경우 실행할 구문들\n",
    "    명령문2_2\n",
    "    ...\n",
    "```"
   ]
  },
  {
   "cell_type": "code",
   "execution_count": 8,
   "id": "87b51956",
   "metadata": {
    "slideshow": {
     "slide_type": "fragment"
    }
   },
   "outputs": [
    {
     "name": "stdout",
     "output_type": "stream",
     "text": [
      "대문자\n"
     ]
    }
   ],
   "source": [
    "input_str = input()\n",
    "if input_str.isalpha():\n",
    "    if input_str.isupper(): print('대문자')\n",
    "    else: print('소문자')\n",
    "else:\n",
    "    print('알파벳이 아님')"
   ]
  },
  {
   "cell_type": "markdown",
   "id": "621eae9a",
   "metadata": {
    "slideshow": {
     "slide_type": "subslide"
    }
   },
   "source": [
    "- 조건이 여러개인 조건문.\n",
    "```python\n",
    "if 조건1:\n",
    "    명령문1_1  # 조건1이 True일 경우 실행할 코드블록. \n",
    "    명령문1_2\n",
    "    ...\n",
    "elif 조건2:    # 다음 조건으로 앞의 조건들이 모드 False일 경우 비교한다.\n",
    "    명령문2_1  # 조건2가 True일 경우 실행할 코드블록.\n",
    "    명령문2_2\n",
    "    ...\n",
    "elif 조건3 :\n",
    "    명령문3_1\n",
    "    명령문3_2\n",
    "    ...\n",
    "else:         # 위의 모든 조건이 False일 경우 실행하는 코드블록. 생략 가능하다.\n",
    "    명령문4\n",
    "```"
   ]
  },
  {
   "cell_type": "code",
   "execution_count": 27,
   "id": "4c6a532d",
   "metadata": {
    "slideshow": {
     "slide_type": "fragment"
    }
   },
   "outputs": [
    {
     "name": "stdout",
     "output_type": "stream",
     "text": [
      "-11은/는 음수입니다.\n"
     ]
    }
   ],
   "source": [
    "num = input()\n",
    "result = '{}은/는 '.format(num)\n",
    "\n",
    "try:\n",
    "    num = int(num)\n",
    "    if num > 0:\n",
    "        result += '양수입니다.'\n",
    "    elif num == 0:\n",
    "        result += '0입니다.'\n",
    "    else :\n",
    "        result += '음수입니다.'\n",
    "except:\n",
    "    result += '숫자가 아닙니다.'\n",
    "\n",
    "print(result)\n"
   ]
  },
  {
   "cell_type": "code",
   "execution_count": 30,
   "id": "174c81b5",
   "metadata": {},
   "outputs": [
    {
     "name": "stdout",
     "output_type": "stream",
     "text": [
      "-100123은/는 음수이며 -100이하입니다.\n"
     ]
    }
   ],
   "source": [
    "num = input()\n",
    "result = '{}은/는 '.format(num)\n",
    "\n",
    "try:\n",
    "    num = int(num)\n",
    "    if num > 0 and num < 100:\n",
    "        result += '양수입니다.'\n",
    "    elif num >= 100 :\n",
    "        result += '양수이며 100이상입니다.'\n",
    "    elif num == 0:\n",
    "        result += '0입니다.'\n",
    "    elif num < 0 and num > -100 :\n",
    "        result += '음수입니다.'\n",
    "    else:\n",
    "        result += '음수이며 -100이하입니다.'\n",
    "except:\n",
    "    result += '숫자가 아닙니다.'\n",
    "\n",
    "print(result)"
   ]
  },
  {
   "cell_type": "markdown",
   "id": "2149b728",
   "metadata": {
    "slideshow": {
     "slide_type": "slide"
    }
   },
   "source": [
    "# 반복문 (Loop statement)\n",
    "\n",
    "특정 구문들을 반복해서 실행할 때 사용한다. 동일한 코드를 여러번 반복하거나 값이 일정하게 변하는 코드를 반복할 경우 사용한다.  \n",
    "단순 반복을 처리하는 **while문**과 iterable객체가 제공하는 값들을 반복 조회하는 **for in문** 두가지 문법이 있다.\n",
    "\n",
    "![반복문](images/ch03_02.png)\n",
    "<center>count의 값이 limit의 값보다 크거나 같을때 까지 count의 값을 1증가 후 출력하는 구문을 반복한다. </center>"
   ]
  },
  {
   "cell_type": "markdown",
   "id": "b4740a36",
   "metadata": {
    "slideshow": {
     "slide_type": "subslide"
    }
   },
   "source": [
    "## while문\n",
    "- 조건이 True인 동안 구문을 반복해서 실행한다.\n",
    "\n",
    "### 구문\n",
    "```python\n",
    "while 조건:       # 조건은 bool 표현식을 기술한다. 조건선언 다음에 : 으로 선언해서 코드블록을 구분한다\n",
    "    반복할 구문1  # 반복할 구문을 코드블록으로 작성한다.  \n",
    "    반복할 구문2\n",
    "    ...\n",
    "```"
   ]
  },
  {
   "cell_type": "code",
   "execution_count": 5,
   "id": "6b11bde6",
   "metadata": {
    "slideshow": {
     "slide_type": "fragment"
    }
   },
   "outputs": [
    {
     "name": "stdout",
     "output_type": "stream",
     "text": [
      "0\n",
      "1\n",
      "2\n",
      "3\n",
      "4\n",
      "5\n",
      "6\n",
      "7\n",
      "8\n",
      "9\n",
      "종료\n"
     ]
    }
   ],
   "source": [
    "i = 0\n",
    "while i < 10 :\n",
    "    print(i)\n",
    "    i+=1\n",
    "print('종료')"
   ]
  },
  {
   "cell_type": "code",
   "execution_count": 8,
   "id": "e3ab2c5b",
   "metadata": {},
   "outputs": [
    {
     "name": "stdout",
     "output_type": "stream",
     "text": [
      "0\n",
      "2\n",
      "4\n",
      "6\n",
      "8\n",
      "종료\n"
     ]
    }
   ],
   "source": [
    "i = 0\n",
    "while i < 10 :\n",
    "    if i%2!=0 :\n",
    "        i+=1\n",
    "        continue\n",
    "    print(i)\n",
    "    i+=1\n",
    "print('종료')"
   ]
  },
  {
   "cell_type": "markdown",
   "id": "04f12e55",
   "metadata": {
    "slideshow": {
     "slide_type": "subslide"
    }
   },
   "source": [
    "## for  in 문\n",
    "- Iterable 객체를 순환조회하는 구문\n",
    "    - for in문은 Iterable 타입의 객체가 가지고 있는 값들을 각각 조회하여 처리하는 구문을 작성할 때 사용한다.\n",
    "\n",
    "> - Iterable\n",
    ">    - 반복가능한 객체. 반복문(for in)을 이용해 일련의 값들을 반복적으로 각각 제공하는 객체를 말한다. \n",
    ">    - 대표적으로 List, Tuple, Dictionary, Set, 문자열 등이 있다.\n",
    "\n",
    "### 구문\n",
    "```python\n",
    "for 변수 in Iterable: # for in 선언후 : 으로 선언부와 구현부를 나눈다.\n",
    "    반복구문          # Iterable이 반복시 제공하는 값을 가지는 \"변수\"를 이용해 값들을 처리하는 구문을 코드블록으로 작성한다.\n",
    "    반복구문\n",
    "```"
   ]
  },
  {
   "cell_type": "code",
   "execution_count": 39,
   "id": "da0ce0f6",
   "metadata": {
    "slideshow": {
     "slide_type": "fragment"
    }
   },
   "outputs": [],
   "source": [
    "dict_1 = dict(\n",
    "    a='apple',\n",
    "    A='Art',\n",
    "    b='banana',\n",
    "    B='Band',\n",
    "    c='car',\n",
    "    C='Cool',\n",
    "    d='door',\n",
    "    D='Death',\n",
    "    e='error',\n",
    "    E='End',\n",
    "    f='fire'\n",
    ")"
   ]
  },
  {
   "cell_type": "code",
   "execution_count": 47,
   "id": "1f24e8ce",
   "metadata": {},
   "outputs": [
    {
     "name": "stdout",
     "output_type": "stream",
     "text": [
      "a : apple    A : Art    b : banana    B : Band    c : car    C : Cool    d : door    D : Death    e : error    E : End    f : fire    \n",
      "\n",
      "apple    Art    banana    Band    car    Cool    door    Death    error    End    fire    \n",
      "\n",
      "a : apple    A : Art    b : banana    B : Band    c : car    C : Cool    d : door    D : Death    e : error    E : End    f : fire    \n",
      "\n",
      "a : apple    A : Art    b : banana    B : Band    c : car    C : Cool    d : door    D : Death    e : error    E : End    f : fire    "
     ]
    }
   ],
   "source": [
    "for k in dict_1 :                               #키값조회\n",
    "    print(f'{k} : {dict_1[k]}', end= '    ')\n",
    "\n",
    "print('\\n')\n",
    "\n",
    "for v in dict_1.values() :                      #벨류 조회\n",
    "    print(f'{v}', end= '    ')\n",
    "    \n",
    "print('\\n')\n",
    "\n",
    "for i in dict_1.items() :                       # 키 벨류 합쳐서 tuple로 조회\n",
    "    print(f'{i[0]} : {i[1]}', end= '    ')\n",
    "\n",
    "print('\\n')\n",
    "\n",
    "for k , v in dict_1.items() :                   # 키 벨류 합쳐서 tuple로 조회, k, v로 튜플대입\n",
    "    print(f'{k} : {v}', end= '    ')"
   ]
  },
  {
   "cell_type": "code",
   "execution_count": null,
   "id": "fd9f74e5",
   "metadata": {},
   "outputs": [],
   "source": []
  },
  {
   "cell_type": "code",
   "execution_count": 35,
   "id": "32b8ea7c",
   "metadata": {},
   "outputs": [
    {
     "data": {
      "text/plain": [
       "list_iterator"
      ]
     },
     "execution_count": 35,
     "metadata": {},
     "output_type": "execute_result"
    }
   ],
   "source": [
    "list_1 = list(range(1,10))  # \n",
    "list_iter = iter(list_1)    # 이터타입에 리스트를 넣음\n",
    "type(list_iter)             # 이터레이트는 리스트를 보고 next() 함수가 호출되면 다음값을 찾아서 줌\n",
    "                            # 실제로 값을 가지고 있지 않음"
   ]
  },
  {
   "cell_type": "code",
   "execution_count": 17,
   "id": "74f6a193",
   "metadata": {},
   "outputs": [
    {
     "name": "stdout",
     "output_type": "stream",
     "text": [
      "123456789"
     ]
    },
    {
     "ename": "StopIteration",
     "evalue": "",
     "output_type": "error",
     "traceback": [
      "\u001b[1;31m---------------------------------------------------------------------------\u001b[0m",
      "\u001b[1;31mStopIteration\u001b[0m                             Traceback (most recent call last)",
      "Cell \u001b[1;32mIn[17], line 2\u001b[0m\n\u001b[0;32m      1\u001b[0m \u001b[39mwhile\u001b[39;00m i \u001b[39m<\u001b[39m\u001b[39m=\u001b[39m \u001b[39m10\u001b[39m :\n\u001b[1;32m----> 2\u001b[0m     i \u001b[39m=\u001b[39m \u001b[39mnext\u001b[39;49m(list_iter) \u001b[39m# 다음값 요청\u001b[39;00m\n\u001b[0;32m      3\u001b[0m     \u001b[39mprint\u001b[39m(i, end\u001b[39m=\u001b[39m\u001b[39m'\u001b[39m\u001b[39m'\u001b[39m)\n",
      "\u001b[1;31mStopIteration\u001b[0m: "
     ]
    }
   ],
   "source": [
    "while i <= 10 :\n",
    "    i = next(list_iter) # 다음값 요청\n",
    "    print(i, end='')\n",
    "                        # 다음값이 없을 경우 StopIteration 에러"
   ]
  },
  {
   "cell_type": "code",
   "execution_count": 34,
   "metadata": {},
   "outputs": [
    {
     "name": "stdout",
     "output_type": "stream",
     "text": [
      "123456789\n",
      "종료\n"
     ]
    }
   ],
   "source": [
    "while i <= 10 :\n",
    "    try :                       # 다음값 요청\n",
    "        i = next(list_iter)     \n",
    "        print(i, end='')\n",
    "    except :                    # 다음값이 없을\n",
    "        break                   # 루프를 탈출\n",
    "print('\\n종료')"
   ]
  },
  {
   "cell_type": "code",
   "execution_count": 36,
   "id": "b94ccd87",
   "metadata": {},
   "outputs": [
    {
     "name": "stdout",
     "output_type": "stream",
     "text": [
      "123456789\n",
      "종료\n"
     ]
    }
   ],
   "source": [
    "for i in list_iter :            # while + iter + try를 쉽게 만든게 for in 문 (C#에서 foreach와 비슷함)\n",
    "    print(i, end='')\n",
    "print('\\n종료')"
   ]
  },
  {
   "cell_type": "code",
   "execution_count": null,
   "id": "35a71e8f",
   "metadata": {},
   "outputs": [],
   "source": []
  },
  {
   "cell_type": "code",
   "execution_count": 27,
   "id": "259c9e9a",
   "metadata": {},
   "outputs": [
    {
     "name": "stdout",
     "output_type": "stream",
     "text": [
      "[2, 3, 4, 5, 6, 7, 8, 9, 10, 11, 12, 13, 14, 15, 16, 17, 18, 19, 20, 21, 22, 23, 24, 25, 26, 27, 28, 29, 30, 31, 32, 33, 34, 35, 36, 37, 38, 39, 40, 41, 42, 43, 44, 45, 46, 47, 48, 49, 50, 51, 52, 53, 54, 55, 56, 57, 58, 59, 60, 61, 62, 63, 64, 65, 66, 67, 68, 69, 70, 71, 72, 73, 74, 75, 76, 77, 78, 79, 80, 81, 82, 83, 84, 85, 86, 87, 88, 89, 90, 91, 92, 93, 94, 95, 96, 97, 98, 99]\n"
     ]
    }
   ],
   "source": [
    "prime_num = list(range(2,100))\n",
    "print(prime_num)"
   ]
  },
  {
   "cell_type": "code",
   "execution_count": 28,
   "id": "c7b1c65d",
   "metadata": {},
   "outputs": [
    {
     "name": "stdout",
     "output_type": "stream",
     "text": [
      "[2, 3, 5, 7, 11, 13, 17, 19, 23, 29, 31, 37, 41, 43, 47, 53, 59, 61, 67, 71, 73, 79, 83, 89, 97]\n"
     ]
    }
   ],
   "source": [
    "\n",
    "for i in prime_num:\n",
    "    for j in prime_num:\n",
    "        if i!=j and 0==(j%i):\n",
    "            prime_num.remove(j)\n",
    "\n",
    "print(prime_num)"
   ]
  },
  {
   "cell_type": "markdown",
   "id": "1f30cd6f",
   "metadata": {
    "slideshow": {
     "slide_type": "subslide"
    }
   },
   "source": [
    "## continue와 break를 이용한 반복문 제어\n",
    "- **continue**\n",
    "    - 현재 반복을 중단하고 다음 반복을 진행한다.\n",
    "    - 특정 조건에서 처리를 멈추고 다음 처리를 반복할 때 사용한다.\n",
    "- **break**\n",
    "    - 반복을 중단한다.\n",
    "    - 특정 조건에서 반복문을 중간에 중지할때 사용한다.\n",
    "- continue와 break는 특정 조건에서 실행되야 하는 경우가 대부분이므로 if문 안에 작성한다.    "
   ]
  },
  {
   "cell_type": "code",
   "execution_count": 37,
   "id": "90c41e9f",
   "metadata": {
    "slideshow": {
     "slide_type": "fragment"
    }
   },
   "outputs": [
    {
     "name": "stdout",
     "output_type": "stream",
     "text": [
      "0\n",
      "2\n",
      "4\n",
      "6\n",
      "8\n"
     ]
    }
   ],
   "source": [
    "for i in range(10) :\n",
    "    if (i % 2) == 0 :   #특정 조건의 답 걸러내기 -> 필터링/필터\n",
    "        print(i)"
   ]
  },
  {
   "cell_type": "code",
   "execution_count": 57,
   "id": "d4d8e1ad",
   "metadata": {},
   "outputs": [
    {
     "data": {
      "text/plain": [
       "17"
      ]
     },
     "execution_count": 57,
     "metadata": {},
     "output_type": "execute_result"
    }
   ],
   "source": [
    "import random           # random 사용법\n",
    "random.randint(1,50)    # random.radiant(범,위)"
   ]
  },
  {
   "cell_type": "code",
   "execution_count": 60,
   "id": "73e34596",
   "metadata": {},
   "outputs": [
    {
     "name": "stdout",
     "output_type": "stream",
     "text": [
      "[10, 26, 33, 14, 46, 14, 42, 20, 47, 47, 41, 49, 42, 17, 12, 11, 11, 50, 3, 30]\n"
     ]
    }
   ],
   "source": [
    "# rnadom 30이 나올때까지 돌리기 \n",
    "result_list = []\n",
    "n = 0\n",
    "while n != 30 :\n",
    "    n = random.randint(1,50)\n",
    "    result_list.append(n)\n",
    "print(result_list)"
   ]
  },
  {
   "cell_type": "code",
   "execution_count": 73,
   "id": "d5308d2a",
   "metadata": {},
   "outputs": [
    {
     "name": "stdout",
     "output_type": "stream",
     "text": [
      "!q\n"
     ]
    }
   ],
   "source": [
    "# !q를 입력받을떄까지 텍스트 계속 인풋\n",
    "in_str = ''\n",
    "while in_str != '!q' :\n",
    "    in_str = input()\n",
    "    print(in_str)"
   ]
  },
  {
   "cell_type": "code",
   "execution_count": 80,
   "id": "3dc0b12b",
   "metadata": {},
   "outputs": [
    {
     "name": "stdout",
     "output_type": "stream",
     "text": [
      "asd\n",
      "fasagfa\n"
     ]
    }
   ],
   "source": [
    "# !q를 입력받을떄까지 텍스트 계속 인풋\n",
    "in_str = ''\n",
    "while True :\n",
    "    in_str = input()\n",
    "    if in_str == '!q' :\n",
    "        break\n",
    "    print(in_str)"
   ]
  },
  {
   "cell_type": "code",
   "execution_count": 100,
   "id": "fa76ee74",
   "metadata": {},
   "outputs": [],
   "source": [
    "# 다차원 배열\n",
    "l = [\n",
    "    [1, 2, 3],\n",
    "    [10, 20, 30],\n",
    "    [100, 200, 300]\n",
    "]"
   ]
  },
  {
   "cell_type": "code",
   "execution_count": 101,
   "id": "46a3bddc",
   "metadata": {},
   "outputs": [
    {
     "name": "stdout",
     "output_type": "stream",
     "text": [
      "1 2 3 \n",
      "10 20 30 \n",
      "100 200 300 \n"
     ]
    }
   ],
   "source": [
    "# 다차원 배열 2중 for-in문 사용\n",
    "for l1 in l :\n",
    "    for l2 in l1 :\n",
    "        print(l2, end=' ')\n",
    "    print()"
   ]
  },
  {
   "cell_type": "code",
   "execution_count": 105,
   "id": "daae3ae8",
   "metadata": {},
   "outputs": [
    {
     "name": "stdout",
     "output_type": "stream",
     "text": [
      "1 2 3 \n",
      "10 "
     ]
    }
   ],
   "source": [
    "# 다차원 배열 2중 포문 빠져나오기\n",
    "is_finish = False\n",
    "for l1 in l :\n",
    "    for l2 in l1 :\n",
    "        if l2 == 20 :\n",
    "            is_finish = True    # 첫번째 ofr in문도 빠져나오기 위함\n",
    "            break               # 두번째 for in문만 빠져나옴\n",
    "        print(l2, end=' ')\n",
    "    if is_finish :\n",
    "        break\n",
    "    print()"
   ]
  },
  {
   "cell_type": "markdown",
   "id": "dc6099c5",
   "metadata": {
    "slideshow": {
     "slide_type": "slide"
    }
   },
   "source": [
    "## for in 문 연관 내장 함수\n",
    "\n",
    "### range()\n",
    "- 일정한 간격의 연속된 정수를 제공하는 반복가능 객체 생성한다.\n",
    "- 구문\n",
    "    - `range([시작값], 멈춤값, [증감값])`\n",
    "        - 시작값, 멈춤값, 증감값 모두 정수만 가능하다.\n",
    "        - 시작값 > 멈춤값 이고 증감값이 음수이면 내림차순으로 값을 제공한다.\n",
    "        1. 전달값이 **1개: 멈춤값**. \n",
    "            - 0 ~ (멈춤값-1)까지 1씩 증가하는 정수를 제공\n",
    "        2. 전달값이 **2개: 시작값, 멈춤값**. \n",
    "            - 시작값 ~ (멈춤값-1) 까지 1씩 증가하는 정수 제공\n",
    "        3. 전달값이 **3개: 시작값, 멈춤값, 증감값(간격)**. \n",
    "            - 시작값 ~ (멈춤값-1)까지 증감값만큼 증가하는 정수를 제공.\n"
   ]
  },
  {
   "cell_type": "code",
   "execution_count": 13,
   "id": "352d937b",
   "metadata": {
    "slideshow": {
     "slide_type": "fragment"
    }
   },
   "outputs": [
    {
     "name": "stdout",
     "output_type": "stream",
     "text": [
      "[3, 7, 11, 15, 19, 23, 27, 31, 35, 39, 43, 47, 51, 55, 59, 63, 67, 71, 75, 79, 83, 87]\n"
     ]
    }
   ],
   "source": [
    "# range(범,워,간격)\n",
    "range_list = list(range(3,90,4))\n",
    "print(range_list)"
   ]
  },
  {
   "cell_type": "code",
   "execution_count": 144,
   "id": "c5ceda44",
   "metadata": {},
   "outputs": [
    {
     "name": "stdout",
     "output_type": "stream",
     "text": [
      "0 0 0 0 0 0 0 0 0 0 "
     ]
    }
   ],
   "source": [
    "# for in문법을 따르지만 변수를 안 쓸 경우 관례쩍으로 _를 사용\n",
    "# 횟수가 정해진 while()을 쓸때 대신 사욜하면 편리\n",
    "for _ in range(10) :    \n",
    "    print(0,end = ' ')"
   ]
  },
  {
   "cell_type": "code",
   "execution_count": 20,
   "id": "76bb98cb",
   "metadata": {},
   "outputs": [
    {
     "ename": "TypeError",
     "evalue": "'float' object cannot be interpreted as an integer",
     "output_type": "error",
     "traceback": [
      "\u001b[1;31m---------------------------------------------------------------------------\u001b[0m",
      "\u001b[1;31mTypeError\u001b[0m                                 Traceback (most recent call last)",
      "Cell \u001b[1;32mIn[20], line 1\u001b[0m\n\u001b[1;32m----> 1\u001b[0m \u001b[39mrange\u001b[39;49m(\u001b[39m1\u001b[39;49m,\u001b[39m3\u001b[39;49m,\u001b[39m0.1\u001b[39;49m)\n",
      "\u001b[1;31mTypeError\u001b[0m: 'float' object cannot be interpreted as an integer"
     ]
    }
   ],
   "source": [
    "# int형만 가능\n",
    "range(1,3,0.1) "
   ]
  },
  {
   "cell_type": "code",
   "execution_count": 21,
   "id": "60c63ec1",
   "metadata": {},
   "outputs": [
    {
     "data": {
      "text/plain": [
       "array([0. , 0.1, 0.2, 0.3, 0.4, 0.5, 0.6, 0.7, 0.8, 0.9])"
      ]
     },
     "execution_count": 21,
     "metadata": {},
     "output_type": "execute_result"
    }
   ],
   "source": [
    "# numpy사용시 float형의 arange 사용가능\n",
    "import numpy as np\n",
    "\n",
    "np.arange(0, 1, 0.1)"
   ]
  },
  {
   "cell_type": "markdown",
   "id": "5de9d74e",
   "metadata": {
    "slideshow": {
     "slide_type": "subslide"
    }
   },
   "source": [
    "## enumerate()\n",
    "\n",
    "- 구문\n",
    "    - `enumerate(Iterable,  [, start=정수])`\n",
    "        - 현재 몇번째 값을 제공하는 지(현재 몇번째 반복인지)를 나타내는 **index**와 제공하는 **원소**를 tuple로 묶어서 반환\n",
    "        - Iterable\n",
    "            - 값을 제공할 Iterable객체\n",
    "        - start: 정수\n",
    "            - index 시작 값. 생략하면 0부터 시작한다."
   ]
  },
  {
   "cell_type": "code",
   "execution_count": 26,
   "id": "b0acff21",
   "metadata": {},
   "outputs": [
    {
     "name": "stdout",
     "output_type": "stream",
     "text": [
      "a\n",
      "b\n",
      "c\n",
      "d\n",
      "e\n"
     ]
    }
   ],
   "source": [
    "# 보통의 for-in문\n",
    "l = ['a', 'b', 'c', 'd', 'e']\n",
    "for v in l :\n",
    "    print(v)"
   ]
  },
  {
   "cell_type": "code",
   "execution_count": 27,
   "id": "cb673b74",
   "metadata": {},
   "outputs": [
    {
     "name": "stdout",
     "output_type": "stream",
     "text": [
      "(0, 'a')\n",
      "(1, 'b')\n",
      "(2, 'c')\n",
      "(3, 'd')\n",
      "(4, 'e')\n"
     ]
    }
   ],
   "source": [
    "# enumerate()사용시 tuple로 인덱스와 내용 반환\n",
    "for v in enumerate(l) :\n",
    "    print(v)"
   ]
  },
  {
   "cell_type": "code",
   "execution_count": 28,
   "id": "89dfdae9",
   "metadata": {},
   "outputs": [
    {
     "name": "stdout",
     "output_type": "stream",
     "text": [
      "0 : a\n",
      "1 : b\n",
      "2 : c\n",
      "3 : d\n",
      "4 : e\n"
     ]
    }
   ],
   "source": [
    "# 튜플대입 사용시 편리\n",
    "for i, v in enumerate(l) :\n",
    "    print(f'{i} : {v}')"
   ]
  },
  {
   "cell_type": "markdown",
   "id": "f5a5540f",
   "metadata": {
    "slideshow": {
     "slide_type": "subslide"
    }
   },
   "source": [
    "## zip()\n",
    "- 여러 개의 Iterable 객체를 받아 반복시 같은 index의 값끼리 튜플로 묶어 반환한다.\n",
    "- 구문\n",
    "    - `zip(Iterable1, Iterable2, Iterable3 [, .......])`\n",
    "        - Iterable 2개이상.전달한다.\n",
    "- 각 자료구조 객체의 크기가 다를 경우 크기가 작은 것의 개수에 맞춰 반복한다."
   ]
  },
  {
   "cell_type": "code",
   "execution_count": 12,
   "id": "33dd96c5",
   "metadata": {
    "slideshow": {
     "slide_type": "fragment"
    }
   },
   "outputs": [],
   "source": [
    "num_l1 = list(range(1,5))\n",
    "num_l2 = list(range(10,50,10))\n",
    "num_l3 = list(range(100,500,100))"
   ]
  },
  {
   "cell_type": "code",
   "execution_count": 17,
   "id": "e44aaa14",
   "metadata": {},
   "outputs": [
    {
     "name": "stdout",
     "output_type": "stream",
     "text": [
      "(0, 1)\n",
      "(1, 2)\n",
      "(2, 3)\n",
      "(3, 4)\n"
     ]
    }
   ],
   "source": [
    "for i in enumerate(num_l1) :\n",
    "    print(i)"
   ]
  },
  {
   "cell_type": "code",
   "execution_count": 22,
   "id": "1b99057f",
   "metadata": {
    "slideshow": {
     "slide_type": "fragment"
    }
   },
   "outputs": [
    {
     "name": "stdout",
     "output_type": "stream",
     "text": [
      "(1, 10, 100)\n",
      "(2, 20, 200)\n",
      "(3, 30, 300)\n",
      "(4, 40, 400)\n"
     ]
    }
   ],
   "source": [
    "# zip사용시 같은 인덱스의 값들을 묶어 tuple로 반환\n",
    "for v in zip(num_l1, num_l2, num_l3) :\n",
    "    print(v)"
   ]
  },
  {
   "cell_type": "code",
   "execution_count": 23,
   "id": "bb1ef4ce",
   "metadata": {},
   "outputs": [
    {
     "name": "stdout",
     "output_type": "stream",
     "text": [
      "(0, (1, 10, 100))\n",
      "(1, (2, 20, 200))\n",
      "(2, (3, 30, 300))\n",
      "(3, (4, 40, 400))\n"
     ]
    }
   ],
   "source": [
    "# index와 value묶음(tuple) 반환\n",
    "for v in enumerate(zip(num_l1, num_l2, num_l3)) :\n",
    "    print(v)"
   ]
  },
  {
   "cell_type": "markdown",
   "id": "2df89dae",
   "metadata": {
    "slideshow": {
     "slide_type": "subslide"
    }
   },
   "source": [
    "# 컴프리헨션(Comprehension)\n",
    "\n",
    "- 기존 Iterable의 원소들을 이용해서 새로운 자료구조(List, Dictionary, Set)를 생성하는 구문.\n",
    "    - 기존 Iterable의 **원소들을 처리한 결과**나  **특정 조건이 True인 값들을** 새로운 자료구조에 넣을때 사용.\n",
    "    - 결과를 넣을 새로운 자료구조에 따라 다음 세가지 구문이 있다.\n",
    "        - 리스트 컴프리헨션\n",
    "        - 딕셔너리  컴프리헨션\n",
    "        - 셋  컴프리헨션\n",
    "- 튜플 컴프리헨션은 없다.\n",
    "- 딕셔너리 컴프리헨션과 셋 컴프리헨션은 파이썬 3 에 새로 추가되었다."
   ]
  },
  {
   "cell_type": "code",
   "execution_count": 4,
   "id": "e04827d9",
   "metadata": {
    "slideshow": {
     "slide_type": "fragment"
    }
   },
   "outputs": [],
   "source": [
    "t_l = list(range(1,5))\n",
    "t_d = dict(a='apple',b='banana',c='car')\n",
    "t_s = {1,2,5,4,6,2,1}"
   ]
  },
  {
   "cell_type": "code",
   "execution_count": 37,
   "id": "4573b25e",
   "metadata": {},
   "outputs": [
    {
     "name": "stdout",
     "output_type": "stream",
     "text": [
      "[1, 2, 3, 4]\n",
      "[2, 4, 6, 8]\n"
     ]
    }
   ],
   "source": [
    "# 기존 for-in문 방식\n",
    "t_l2 = []\n",
    "for v in t_l :\n",
    "    t_l2.append(v*2)\n",
    "print(t_l)\n",
    "print(t_l2)"
   ]
  },
  {
   "cell_type": "code",
   "execution_count": 7,
   "id": "5f5ba09d",
   "metadata": {},
   "outputs": [
    {
     "name": "stdout",
     "output_type": "stream",
     "text": [
      "[1, 2, 3, 4]\n",
      "[2, 4, 6, 8]\n"
     ]
    }
   ],
   "source": [
    "# 리스트 컴프리헨션\n",
    "# 코드 압축 가능(더욱 편리)\n",
    "t_l2 = [v * 2 for v in t_l]  \n",
    "print(t_l)\n",
    "print(t_l2)"
   ]
  },
  {
   "cell_type": "code",
   "execution_count": 8,
   "id": "31b042bf",
   "metadata": {},
   "outputs": [
    {
     "name": "stdout",
     "output_type": "stream",
     "text": [
      "{'a': 'apple', 'b': 'banana', 'c': 'car'}\n",
      "{'apple': 'a', 'banana': 'b', 'car': 'c'}\n"
     ]
    }
   ],
   "source": [
    "# 기존 딕셔너리 for-in문 방식\n",
    "t_d2 = dict()\n",
    "for k, v in t_d.items() :\n",
    "    t_d2[v] = k\n",
    "print (t_d)\n",
    "print(t_d2)"
   ]
  },
  {
   "cell_type": "code",
   "execution_count": 17,
   "id": "5e568a2e",
   "metadata": {},
   "outputs": [
    {
     "name": "stdout",
     "output_type": "stream",
     "text": [
      "{'a': 'apple', 'b': 'banana', 'c': 'car'}\n",
      "{'apple': 'a', 'banana': 'b', 'car': 'c'}\n"
     ]
    }
   ],
   "source": [
    "# 딕셔너리 컴프리헨션\n",
    "\n",
    "t_d2 = { v:k for k,v in t_d.items()} \n",
    "print(t_d)\n",
    "print(t_d2)"
   ]
  },
  {
   "cell_type": "code",
   "execution_count": 13,
   "id": "466d3054",
   "metadata": {},
   "outputs": [
    {
     "name": "stdout",
     "output_type": "stream",
     "text": [
      "{1, 2, 4, 5, 6}\n",
      "{2, 4, 8, 10, 12}\n"
     ]
    }
   ],
   "source": [
    "# 기존 set for-in문 방식\n",
    "t_s2 = set()\n",
    "for v in t_s :\n",
    "    t_s2.add(v*2)\n",
    "print(t_s)\n",
    "print(t_s2)"
   ]
  },
  {
   "cell_type": "code",
   "execution_count": 21,
   "id": "7f0d0058",
   "metadata": {},
   "outputs": [
    {
     "name": "stdout",
     "output_type": "stream",
     "text": [
      "{1, 2, 4, 5, 6}\n",
      "{2, 4, 8, 10, 12}\n"
     ]
    }
   ],
   "source": [
    "# 셋 컴프리헨션\n",
    "\n",
    "t_s2 = { v*2 for v in t_s }     \n",
    "print(t_s)\n",
    "print(t_s2)"
   ]
  },
  {
   "cell_type": "code",
   "execution_count": 16,
   "id": "19b486e0",
   "metadata": {},
   "outputs": [
    {
     "name": "stdout",
     "output_type": "stream",
     "text": [
      "{'aa': 2, 'bsad': 4, 'csadfasdf': 9, 'asdfd': 5, 'asdeddsffsd': 11}\n"
     ]
    }
   ],
   "source": [
    "# tuple을 value과 length로 딕셔너리 컴프리헨션\n",
    "\n",
    "t_t = 'aa', 'bsad', 'csadfasdf', 'asdfd', 'asdeddsffsd'\n",
    "\n",
    "t_d3 = { v:len(v) for v in t_t }\n",
    "print(t_d3)"
   ]
  },
  {
   "cell_type": "code",
   "execution_count": 25,
   "id": "1d117eba",
   "metadata": {},
   "outputs": [
    {
     "name": "stdout",
     "output_type": "stream",
     "text": [
      "[10, 20, 30, 40, 50, 60, 70, 80, 90]\n"
     ]
    }
   ],
   "source": [
    "# 1~100 리스트 중 10의 배수만 옮기기\n",
    "# for-in\n",
    "l = list(range(1,100))\n",
    "\n",
    "result = []\n",
    "for v in l :\n",
    "    if v % 10 == 0 :\n",
    "        result.append(v)\n",
    "\n",
    "print(result)"
   ]
  },
  {
   "cell_type": "code",
   "execution_count": 26,
   "id": "b0b021d7",
   "metadata": {},
   "outputs": [
    {
     "name": "stdout",
     "output_type": "stream",
     "text": [
      "[10, 20, 30, 40, 50, 60, 70, 80, 90]\n"
     ]
    }
   ],
   "source": [
    "# 컴프리헨션\n",
    "# if 문과 같이 사용가능\n",
    "result = [v for v in l if v % 10 == 0]\n",
    "print(result)"
   ]
  },
  {
   "cell_type": "code",
   "execution_count": 31,
   "id": "905a874c",
   "metadata": {},
   "outputs": [],
   "source": [
    "# 다차원 배열\n",
    "l = [ \n",
    "    [1, 2, 3],\n",
    "    [10, 20, 30],\n",
    "    [100, 200, 300]\n",
    "]"
   ]
  },
  {
   "cell_type": "code",
   "execution_count": 33,
   "id": "2646f547",
   "metadata": {},
   "outputs": [
    {
     "name": "stdout",
     "output_type": "stream",
     "text": [
      "[-99, -98, -97, -90, -80, -70, 0, 100, 200]\n"
     ]
    }
   ],
   "source": [
    "# 다차원 배열에서의 컴프리헨션\n",
    "# 2중 컴프리헨션으로 사용\n",
    "# 가독성이 조금 안좋아짐.\n",
    "# 주석사용 필요할듯\n",
    "\n",
    "result = [ l2 - 100 for l1 in l for l2 in l1 ]\n",
    "print(result)"
   ]
  },
  {
   "cell_type": "markdown",
   "id": "092288d7",
   "metadata": {
    "slideshow": {
     "slide_type": "skip"
    }
   },
   "source": [
    "# TODO"
   ]
  },
  {
   "cell_type": "code",
   "execution_count": 143,
   "id": "a0cc04fa",
   "metadata": {
    "slideshow": {
     "slide_type": "skip"
    }
   },
   "outputs": [
    {
     "name": "stdout",
     "output_type": "stream",
     "text": [
      "90 : B\n"
     ]
    }
   ],
   "source": [
    "#(1) 다음 점수 구간에 맞게 학점을 출력하세요.\n",
    "# 91 ~ 100 : A학점\n",
    "# 81 ~ 90 :  B학점\n",
    "# 71 ~ 80 :  C학점\n",
    "# 61 ~ 70 :  D학점\n",
    "# 60이하   :  F학점\n",
    "while True :    \n",
    "    score = input()\n",
    "    try :\n",
    "        score =int(score)\n",
    "\n",
    "        if score <= 100 and score > 90 :\n",
    "            print(f'{score:02d} : A')\n",
    "        elif score > 80 :\n",
    "            print(f'{score:02d} : B')\n",
    "        elif score > 70 :\n",
    "            print(f'{score:02d} : C')\n",
    "        elif score > 60 :\n",
    "            print(f'{score:02d} : D')\n",
    "        elif score >= 0 :\n",
    "            print(f'{score:02d} : F')\n",
    "        else :\n",
    "            print('정상적인 점수가 아닙니다.')\n",
    "            continue\n",
    "        \n",
    "        break\n",
    "    except:\n",
    "        print('숫자로 입력해주세요.')"
   ]
  },
  {
   "cell_type": "code",
   "execution_count": 145,
   "id": "deb7e99b",
   "metadata": {},
   "outputs": [
    {
     "name": "stdout",
     "output_type": "stream",
     "text": [
      "67 : D\n",
      "94 : A\n",
      "08 : F\n",
      "25 : F\n",
      "74 : C\n",
      "98 : A\n",
      "53 : F\n",
      "74 : C\n",
      "90 : B\n",
      "94 : A\n",
      "22 : F\n",
      "95 : A\n",
      "99 : A\n",
      "07 : F\n",
      "11 : F\n",
      "33 : F\n",
      "72 : C\n",
      "88 : B\n",
      "39 : F\n",
      "67 : D\n"
     ]
    }
   ],
   "source": [
    "# 랜덤 점수들 학점 확인\n",
    "import random\n",
    "jumsu = []\n",
    "\n",
    "for _ in range(20) :\n",
    "    jumsu.append(random.randint(0,100))\n",
    "\n",
    "for score in jumsu :\n",
    "    if score <= 100 and score > 90 :\n",
    "        print(f'{score:02d} : A')\n",
    "    elif score > 80 :\n",
    "        print(f'{score:02d} : B')\n",
    "    elif score > 70 :\n",
    "        print(f'{score:02d} : C')\n",
    "    elif score > 60 :\n",
    "        print(f'{score:02d} : D')\n",
    "    else:\n",
    "        print(f'{score:02d} : F')"
   ]
  },
  {
   "cell_type": "code",
   "execution_count": 146,
   "id": "4d913551",
   "metadata": {},
   "outputs": [
    {
     "name": "stdout",
     "output_type": "stream",
     "text": [
      "hyenzzang은 사용가능한 아이디입니다.\n"
     ]
    }
   ],
   "source": [
    "#(2) 사용자로 부터 ID를 입력 받은 뒤 입력받은 ID가 5글자 이상이면 \"사용할 수 있습니다.\"를 5글자 미만이면 \"사용할 수 없는 ID입니다.\"를 출력하세요.\n",
    "id_str = input()\n",
    "if len(id_str) >= 5 :\n",
    "    print(f'{id_str}은 사용가능한 아이디입니다.')\n",
    "else :\n",
    "    print(f'{id_str}은 사용할 수 없는 아이디 입니다.')"
   ]
  },
  {
   "cell_type": "code",
   "execution_count": 43,
   "id": "e0b832ee",
   "metadata": {},
   "outputs": [
    {
     "name": "stdout",
     "output_type": "stream",
     "text": [
      "세종특별시\n"
     ]
    }
   ],
   "source": [
    "#(3) 사용자로부터 우리나라 도시명을 입력 받은 뒤 입력받은 도시명이 서울이면 \"특별시\"를 인천,부산,광주,대구,대전,울산 이면 \"광역시\"를 나머지는 \"특별시나 광역시가 아닙니다.\"를 출력하세요.\n",
    "city_str = input('도시명을 입력해 주세요 :')\n",
    "\n",
    "special_city = ('서울', '세종')\n",
    "great_city = ('인천', '부산', '광주', '대구', '대전', '울산')\n",
    "\n",
    "if city_str in special_city :\n",
    "    print(city_str + '특별시')\n",
    "elif city_str in great_city :\n",
    "    print(city_str + '광역시')\n",
    "else :\n",
    "    print(city_str + '시')"
   ]
  },
  {
   "cell_type": "code",
   "execution_count": 157,
   "id": "12a4ec86",
   "metadata": {},
   "outputs": [
    {
     "name": "stdout",
     "output_type": "stream",
     "text": [
      "[100, 1, 35, 97, 80, 16, 26, 17, 24, 38, 82, 27, 78, 75, 58, 41, 62, 83, 55, 60]\n",
      "52.75\n"
     ]
    }
   ],
   "source": [
    "#(4) 랜덤 리스트의 평균을 구하시오. \n",
    "import random\n",
    "jumsu = []\n",
    "\n",
    "for _ in range(20) :\n",
    "    jumsu.append(random.randint(0,100))\n",
    "\n",
    "score_total = 0\n",
    "\n",
    "for s in jumsu :\n",
    "    score_total += s\n",
    "    \n",
    "score_average = score_total / len(jumsu)\n",
    "\n",
    "print(jumsu)\n",
    "print(score_average)\n"
   ]
  },
  {
   "cell_type": "code",
   "execution_count": 216,
   "id": "27797f53",
   "metadata": {},
   "outputs": [
    {
     "name": "stdout",
     "output_type": "stream",
     "text": [
      "52.75\n"
     ]
    }
   ],
   "source": [
    "# sum()함수 이용\n",
    "score_average = sum(jumsu)/len(jumsu) \n",
    "print(score_average)"
   ]
  },
  {
   "cell_type": "code",
   "execution_count": 217,
   "id": "8ca093ca",
   "metadata": {},
   "outputs": [
    {
     "name": "stdout",
     "output_type": "stream",
     "text": [
      "average : 52.75\n",
      "0-Pass\n",
      "1-Fail\n",
      "2-Fail\n",
      "3-Pass\n",
      "4-Pass\n",
      "5-Fail\n",
      "6-Fail\n",
      "7-Fail\n",
      "8-Fail\n",
      "9-Fail\n",
      "10-Pass\n",
      "11-Fail\n",
      "12-Pass\n",
      "13-Pass\n",
      "14-Pass\n",
      "15-Fail\n",
      "16-Pass\n",
      "17-Pass\n",
      "18-Pass\n",
      "19-Pass\n"
     ]
    }
   ],
   "source": [
    "#(5) 위 jumsu리스트에서 평균점수이상은 pass, 미만은 fail을 index번호와 함께 출력하시오. (ex: 0-pass, 1-pass, 2-fail)\n",
    "\n",
    "# 평균 점수 표시\n",
    "print(f'average : {score_average}')\n",
    "\n",
    "# enumerate로 인덱스와 함께 합-패스\n",
    "for i, s in enumerate(jumsu) :\n",
    "    if s < score_average :\n",
    "        print(f'{i}-Fail')\n",
    "    else:\n",
    "        print(f'{i}-Pass')\n"
   ]
  },
  {
   "cell_type": "code",
   "execution_count": 159,
   "id": "3edbefbe",
   "metadata": {},
   "outputs": [
    {
     "name": "stdout",
     "output_type": "stream",
     "text": [
      "average : 52.75\n",
      "00 - 100 : Pass\n",
      "01 - 01 : Fail\n",
      "02 - 35 : Fail\n",
      "03 - 97 : Pass\n",
      "04 - 80 : Pass\n",
      "05 - 16 : Fail\n",
      "06 - 26 : Fail\n",
      "07 - 17 : Fail\n",
      "08 - 24 : Fail\n",
      "09 - 38 : Fail\n",
      "10 - 82 : Pass\n",
      "11 - 27 : Fail\n",
      "12 - 78 : Pass\n",
      "13 - 75 : Pass\n",
      "14 - 58 : Pass\n",
      "15 - 41 : Fail\n",
      "16 - 62 : Pass\n",
      "17 - 83 : Pass\n",
      "18 - 55 : Pass\n",
      "19 - 60 : Pass\n"
     ]
    }
   ],
   "source": [
    "# 평균 점수 표시\n",
    "print(f'average : {score_average}')\n",
    "\n",
    "# 딕셔너리 컴프리헨션으로 인덱스와 점수를 가져옴\n",
    "num_score_dict = { i: v for i, v in enumerate(jumsu) }\n",
    "\n",
    "# 인덱스 - 점수 : 합격여부\n",
    "for k, v in num_score_dict.items() :\n",
    "    if v < score_average :\n",
    "        print(f'{k:02d} - {v:02d} : Fail')\n",
    "    else :\n",
    "        print(f'{k:02d} - {v:02d} : Pass')"
   ]
  },
  {
   "cell_type": "code",
   "execution_count": 5,
   "id": "2580d267",
   "metadata": {},
   "outputs": [
    {
     "name": "stdout",
     "output_type": "stream",
     "text": [
      "[100, 2, 68, 41, 58, 21, 87, 38, 88, 74]\n",
      "{2, 100, 68, 38, 41, 74, 21, 87, 88, 58}\n",
      "100\n"
     ]
    }
   ],
   "source": [
    "#(6) 랜덤 리스트 값들 중 최대값을 조회해 출력\n",
    "import random\n",
    "jumsu = []\n",
    "\n",
    "for _ in range(10) :\n",
    "    jumsu.append(random.randint(0,100))\n",
    "print(jumsu)\n",
    "\n",
    "\n",
    "# set으로 변환해 중복값 제거\n",
    "num_l = set(jumsu)\n",
    "print(num_l)\n",
    "\n",
    "# 최댓값 판별\n",
    "num_max = 0\n",
    "for n in num_l :\n",
    "    if n > num_max :\n",
    "        num_max = n\n",
    "print(num_max)"
   ]
  },
  {
   "cell_type": "code",
   "execution_count": 6,
   "id": "82f7cc8f",
   "metadata": {},
   "outputs": [
    {
     "data": {
      "text/plain": [
       "100"
      ]
     },
     "execution_count": 6,
     "metadata": {},
     "output_type": "execute_result"
    }
   ],
   "source": [
    "# 리스트를 소팅(정렬)하고 음수 인덱스로 확인하는 방법\n",
    "jumsu.sort()\n",
    "jumsu[-1]"
   ]
  },
  {
   "cell_type": "code",
   "execution_count": 8,
   "id": "f8a4367c",
   "metadata": {},
   "outputs": [
    {
     "name": "stdout",
     "output_type": "stream",
     "text": [
      "100\n",
      "2\n"
     ]
    }
   ],
   "source": [
    "# 최댓값 판별 함수\n",
    "print(max(jumsu))\n",
    "\n",
    "# 최솟값 판별 함수또한 있음\n",
    "print(min(jumsu))"
   ]
  },
  {
   "cell_type": "code",
   "execution_count": 227,
   "id": "60e3a13c",
   "metadata": {},
   "outputs": [
    {
     "name": "stdout",
     "output_type": "stream",
     "text": [
      "소 호랑이 용 뱀 "
     ]
    }
   ],
   "source": [
    "#(7) 다음 리스트 중에서 \"쥐\"와 \"토끼\" 제외한 나머지를 출력하세요.\n",
    "str_list = [\"쥐\", \"소\", \"호랑이\", \"토끼\", \"용\", \"뱀\"]\n",
    "\n",
    "# 뺄 쥐와 토끼 리스트 생성\n",
    "baned_animals = ['쥐', '토끼']\n",
    "\n",
    "#비교\n",
    "for a in str_list :\n",
    "    if a in baned_animals :\n",
    "        continue\n",
    "    else :\n",
    "        print(a, end = ' ')\n"
   ]
  },
  {
   "cell_type": "code",
   "execution_count": 228,
   "id": "42457767",
   "metadata": {},
   "outputs": [
    {
     "name": "stdout",
     "output_type": "stream",
     "text": [
      "['소', '호랑이', '용', '뱀']\n"
     ]
    }
   ],
   "source": [
    "# 컴프리 헨션을 이용한 비교\n",
    "animals = [ v for v in str_list if v not in baned_animals]\n",
    "print(animals)"
   ]
  },
  {
   "cell_type": "code",
   "execution_count": 12,
   "id": "7ecf92c6",
   "metadata": {},
   "outputs": [],
   "source": [
    "#(8) 사용자로부터 정수를 입력받아 그 단의 구구단을 출력하시오. \n",
    "# ex) 단을 입력하시오 : 2  \n",
    "# 2 x 1 = 2\n",
    "# 2 x 2 = 4\n",
    "#..\n",
    "# 2 x 9 = 18\n",
    "\n",
    "# 자연수 입력 판별\n",
    "while True :\n",
    "    try :\n",
    "        num = int(input())\n",
    "        if num < 1 :\n",
    "            print('양수를 입력해 주세요')\n",
    "            continue\n",
    "        break\n",
    "    except :\n",
    "        print('양수를 입력해 주세요')"
   ]
  },
  {
   "cell_type": "code",
   "execution_count": 14,
   "id": "0de1d2a3",
   "metadata": {},
   "outputs": [
    {
     "name": "stdout",
     "output_type": "stream",
     "text": [
      "2 * 1 = 2\n",
      "2 * 2 = 4\n",
      "2 * 3 = 6\n",
      "2 * 4 = 8\n",
      "2 * 5 = 10\n",
      "2 * 6 = 12\n",
      "2 * 7 = 14\n",
      "2 * 8 = 16\n",
      "2 * 9 = 18\n"
     ]
    }
   ],
   "source": [
    "# 구구단\n",
    "for i in range(1,10) :\n",
    "    print(f'{num} * {i} = {num * i}')\n"
   ]
  },
  {
   "cell_type": "code",
   "execution_count": 18,
   "metadata": {},
   "outputs": [
    {
     "name": "stdout",
     "output_type": "stream",
     "text": [
      "2 * 1 = 2\n",
      "2 * 2 = 4\n",
      "2 * 3 = 6\n",
      "2 * 4 = 8\n",
      "2 * 5 = 10\n",
      "2 * 6 = 12\n",
      "2 * 7 = 14\n",
      "2 * 8 = 16\n",
      "2 * 9 = 18\n"
     ]
    }
   ],
   "source": [
    "# 컴프리헨션을 이용해 각 단별로 리스트 생성\n",
    "gugudan = [[num, i, num * i] for i in range(1,10)]\n",
    "\n",
    "for i in gugudan :\n",
    "    print(f'{i[0]} * {i[1]} = {i[2]}')"
   ]
  },
  {
   "cell_type": "code",
   "execution_count": 36,
   "id": "d1d09481",
   "metadata": {},
   "outputs": [
    {
     "name": "stdout",
     "output_type": "stream",
     "text": [
      "[10, 30, 70, 5, 120, 700, 1, 35]\n",
      "[20, 60, 140, 10, 240, 1400, 2, 70]\n"
     ]
    }
   ],
   "source": [
    "#컴프리헨션\n",
    "\n",
    "#(9) 다음 리스트가 가진 값에 두배(* 2)를 가지는 새로운 리스트를 만드시오. (리스트 컴프리헨션 이용)\n",
    "lst = [10, 30, 70, 5, 120, 700, 1, 35]\n",
    "print(lst)\n",
    "\n",
    "# 기존 방식\n",
    "# lst_2x = []\n",
    "# for l in lst :\n",
    "#     lst_2x.append(l*2)\n",
    "\n",
    "# 컴프리헨션 방식\n",
    "lst_2x = [ v * 2 for v in lst ]\n",
    "print(lst_2x)\n"
   ]
  },
  {
   "cell_type": "code",
   "execution_count": 37,
   "id": "804a9bc3",
   "metadata": {},
   "outputs": [
    {
     "name": "stdout",
     "output_type": "stream",
     "text": [
      "[10, 30, 70, 5, 5, 120, 700, 1, 35, 35]\n",
      "[100, 300, 700, 50, 50, 1200, 7000, 10, 350, 350]\n"
     ]
    }
   ],
   "source": [
    "#(10) 다음 리스트가 가진 값에 10배의 값을 가지는 값을 (원래값, 10배값) 의 튜플 묶음으로 가지는 리스트를 만드시오 (리스트 컴프리헨션 이용)\n",
    "# Ex) [(10,100), (30,300), .., (35, 350)]\n",
    "lst = [10, 30, 70, 5, 5, 120, 700, 1, 35, 35]\n",
    "print(lst)\n",
    "\n",
    "# 기존 방식\n",
    "# lst_10x = []\n",
    "# for l in lst :\n",
    "#     lst_10x.append((l, l*10))\n",
    "\n",
    "# 컴프리헨션 방식\n",
    "lst_10x = [ v * 10 for v in lst ]\n",
    "print(lst_10x)"
   ]
  },
  {
   "cell_type": "code",
   "execution_count": 38,
   "id": "74af0749",
   "metadata": {},
   "outputs": [
    {
     "name": "stdout",
     "output_type": "stream",
     "text": [
      "[10, 30, 70, 5, 5, 120, 700, 1, 35, 35]\n",
      "[3, 33, 21, 33, 60, 120]\n"
     ]
    }
   ],
   "source": [
    "#(11) 다음 리스트가 가진 값들 중 3의 배수만 가지는 리스트를 만드시오. (리스트 컴프리헨션 이용)\n",
    "lst2 = [ 3, 20, 33, 21, 33, 8, 11, 10, 7, 17, 60, 120, 2]\n",
    "print(lst)\n",
    "\n",
    "# 기존 방식\n",
    "# lst2_3 = []\n",
    "# for l in lst2 :\n",
    "#     if l%3 == 0 :\n",
    "#         lst2_3.append(l)\n",
    "\n",
    "# 컴프리헨션 방식\n",
    "lst2_3 = [ v for v in lst2 if v % 3 == 0 ]\n",
    "print(lst2_3)"
   ]
  },
  {
   "cell_type": "code",
   "execution_count": 39,
   "id": "ee0a1f0f",
   "metadata": {},
   "outputs": [
    {
     "name": "stdout",
     "output_type": "stream",
     "text": [
      "['a.exe', 'function.exe', 'b.exe', 'run.exe']\n"
     ]
    }
   ],
   "source": [
    "#(12) 다음 파일이름들을 담은 리스트에서 확장자가 exe인 파일만 골라서 새로운 리스트에 담으시오.(string의 endswith()함수 이용)\n",
    "file_name=[\"test.txt\", \"a.exe\", \"jupyter.bat\", \"function.exe\", \"b.exe\", \"cat.jpg\", \"dog.png\", \"run.exe\", \"i.dll\"]\n",
    "\n",
    "# 기존 방식\n",
    "# exe_files_l = []\n",
    "# for f in file_name :\n",
    "#     if f.endswith('.exe') :\n",
    "#         exe_files_l.append(f)\n",
    "\n",
    "# 컴프리헨션 방식\n",
    "exe_files_l = [ v for v in file_name if v.endswith('.exe') ]\n",
    "print(exe_files_l)"
   ]
  },
  {
   "cell_type": "code",
   "execution_count": 41,
   "id": "0b0501cd",
   "metadata": {},
   "outputs": [
    {
     "name": "stdout",
     "output_type": "stream",
     "text": [
      "['mystroy.txt', 'jupyter.bat', 'function.exe']\n"
     ]
    }
   ],
   "source": [
    "#(13) 다음 중 10글자 이상인 파일명(확장자포함)만 가지는 리스트를 만드시오.\n",
    "file_name=[\"mystroy.txt\", \"a.exe\", \"jupyter.bat\", \"function.exe\", \"b.exe\", \"cat.jpg\", \"dog.png\", \"run.exe\", \"i.dll\"]\n",
    "\n",
    "# 기존 방식\n",
    "# long_name_files_l = []\n",
    "# for f in file_name :\n",
    "#     if len(f) >= 10 :\n",
    "#         long_name_files_l.append(f)\n",
    "\n",
    "# 컴프리헨션 방식\n",
    "long_file_name_l = [ v for v in file_name if len(v) >= 10 ]\n",
    "print(long_file_name_l)"
   ]
  },
  {
   "cell_type": "code",
   "execution_count": 43,
   "metadata": {},
   "outputs": [
    {
     "name": "stdout",
     "output_type": "stream",
     "text": [
      "['c', 'g', 'h', 'k']\n"
     ]
    }
   ],
   "source": [
    "#(14) 다음 리스트에서 소문자만 가지는 새로운 리스트를 만드시오.\n",
    "str_list = [\"A\", \"B\", \"c\", \"D\", \"E\", \"F\", \"g\", \"h\", \"I\", \"J\", \"k\"]\n",
    "\n",
    "# 기존 방식\n",
    "# str_lower_l = []\n",
    "# for l in str_list :\n",
    "#     if l.islower() :\n",
    "#         str_lower_l.append(l)\n",
    "\n",
    "# 컴프리헨션 방식\n",
    "lower_str_list = [ v for v in str_list if v.islower() ]\n",
    "print(lower_str_list)"
   ]
  },
  {
   "cell_type": "code",
   "execution_count": 230,
   "id": "fb69ddde",
   "metadata": {},
   "outputs": [
    {
     "name": "stdout",
     "output_type": "stream",
     "text": [
      "2부터 31624 까지 숫자중 소수\n",
      "   2\t   3\t   5\t   7\t  11\t  13\t  17\t  19\t  23\t  29\t\n",
      "  31\t  37\t  41\t  43\t  47\t  53\t  59\t  61\t  67\t  71\t\n",
      "  73\t  79\t  83\t  89\t  97\t 101\t 103\t 107\t 109\t 113\t\n",
      " 127\t 131\t 137\t 139\t 149\t 151\t 157\t 163\t 167\t 173\t\n",
      " 179\t 181\t 191\t 193\t 197\t 199\t 211\t 223\t 227\t 229\t\n",
      " 233\t 239\t 241\t 251\t 257\t 263\t 269\t 271\t 277\t 281\t\n",
      " 283\t 293\t 307\t 311\t 313\t 317\t 331\t 337\t 347\t 349\t\n",
      " 353\t 359\t 367\t 373\t 379\t 383\t 389\t 397\t 401\t 409\t\n",
      " 419\t 421\t 431\t 433\t 439\t 443\t 449\t 457\t 461\t 463\t\n",
      " 467\t 479\t 487\t 491\t 499\t 503\t 509\t 521\t 523\t 541\t\n",
      " 547\t 557\t 563\t 569\t 571\t 577\t 587\t 593\t 599\t 601\t\n",
      " 607\t 613\t 617\t 619\t 631\t 641\t 643\t 647\t 653\t 659\t\n",
      " 661\t 673\t 677\t 683\t 691\t 701\t 709\t 719\t 727\t 733\t\n",
      " 739\t 743\t 751\t 757\t 761\t 769\t 773\t 787\t 797\t 809\t\n",
      " 811\t 821\t 823\t 827\t 829\t 839\t 853\t 857\t 859\t 863\t\n",
      " 877\t 881\t 883\t 887\t 907\t 911\t 919\t 929\t 937\t 941\t\n",
      " 947\t 953\t 967\t 971\t 977\t 983\t 991\t 997\t1009\t1013\t\n",
      "1019\t1021\t1031\t1033\t1039\t1049\t1051\t1061\t1063\t1069\t\n",
      "1087\t1091\t1093\t1097\t1103\t1109\t1117\t1123\t1129\t1151\t\n",
      "1153\t1163\t1171\t1181\t1187\t1193\t1201\t1213\t1217\t1223\t\n",
      "1229\t1231\t1237\t1249\t1259\t1277\t1279\t1283\t1289\t1291\t\n",
      "1297\t1301\t1303\t1307\t1319\t1321\t1327\t1361\t1367\t1373\t\n",
      "1381\t1399\t1409\t1423\t1427\t1429\t1433\t1439\t1447\t1451\t\n",
      "1453\t1459\t1471\t1481\t1483\t1487\t1489\t1493\t1499\t1511\t\n",
      "1523\t1531\t1543\t1549\t1553\t1559\t1567\t1571\t1579\t1583\t\n",
      "1597\t1601\t1607\t1609\t1613\t1619\t1621\t1627\t1637\t1657\t\n",
      "1663\t1667\t1669\t1693\t1697\t1699\t1709\t1721\t1723\t1733\t\n",
      "1741\t1747\t1753\t1759\t1777\t1783\t1787\t1789\t1801\t1811\t\n",
      "1823\t1831\t1847\t1861\t1867\t1871\t1873\t1877\t1879\t1889\t\n",
      "1901\t1907\t1913\t1931\t1933\t1949\t1951\t1973\t1979\t1987\t\n",
      "1993\t1997\t1999\t2003\t2011\t2017\t2027\t2029\t2039\t2053\t\n",
      "2063\t2069\t2081\t2083\t2087\t2089\t2099\t2111\t2113\t2129\t\n",
      "2131\t2137\t2141\t2143\t2153\t2161\t2179\t2203\t2207\t2213\t\n",
      "2221\t2237\t2239\t2243\t2251\t2267\t2269\t2273\t2281\t2287\t\n",
      "2293\t2297\t2309\t2311\t2333\t2339\t2341\t2347\t2351\t2357\t\n",
      "2371\t2377\t2381\t2383\t2389\t2393\t2399\t2411\t2417\t2423\t\n",
      "2437\t2441\t2447\t2459\t2467\t2473\t2477\t2503\t2521\t2531\t\n",
      "2539\t2543\t2549\t2551\t2557\t2579\t2591\t2593\t2609\t2617\t\n",
      "2621\t2633\t2647\t2657\t2659\t2663\t2671\t2677\t2683\t2687\t\n",
      "2689\t2693\t2699\t2707\t2711\t2713\t2719\t2729\t2731\t2741\t\n",
      "2749\t2753\t2767\t2777\t2789\t2791\t2797\t2801\t2803\t2819\t\n",
      "2833\t2837\t2843\t2851\t2857\t2861\t2879\t2887\t2897\t2903\t\n",
      "2909\t2917\t2927\t2939\t2953\t2957\t2963\t2969\t2971\t2999\t\n",
      "3001\t3011\t3019\t3023\t3037\t3041\t3049\t3061\t3067\t3079\t\n",
      "3083\t3089\t3109\t3119\t3121\t3137\t3163\t3167\t3169\t3181\t\n",
      "3187\t3191\t3203\t3209\t3217\t3221\t3229\t3251\t3253\t3257\t\n",
      "3259\t3271\t3299\t3301\t3307\t3313\t3319\t3323\t3329\t3331\t\n",
      "3343\t3347\t3359\t3361\t3371\t3373\t3389\t3391\t3407\t3413\t\n",
      "3433\t3449\t3457\t3461\t3463\t3467\t3469\t3491\t3499\t3511\t\n",
      "3517\t3527\t3529\t3533\t3539\t3541\t3547\t3557\t3559\t3571\t\n",
      "3581\t3583\t3593\t3607\t3613\t3617\t3623\t3631\t3637\t3643\t\n",
      "3659\t3671\t3673\t3677\t3691\t3697\t3701\t3709\t3719\t3727\t\n",
      "3733\t3739\t3761\t3767\t3769\t3779\t3793\t3797\t3803\t3821\t\n",
      "3823\t3833\t3847\t3851\t3853\t3863\t3877\t3881\t3889\t3907\t\n",
      "3911\t3917\t3919\t3923\t3929\t3931\t3943\t3947\t3967\t3989\t\n",
      "4001\t4003\t4007\t4013\t4019\t4021\t4027\t4049\t4051\t4057\t\n",
      "4073\t4079\t4091\t4093\t4099\t4111\t4127\t4129\t4133\t4139\t\n",
      "4153\t4157\t4159\t4177\t4201\t4211\t4217\t4219\t4229\t4231\t\n",
      "4241\t4243\t4253\t4259\t4261\t4271\t4273\t4283\t4289\t4297\t\n",
      "4327\t4337\t4339\t4349\t4357\t4363\t4373\t4391\t4397\t4409\t\n",
      "4421\t4423\t4441\t4447\t4451\t4457\t4463\t4481\t4483\t4493\t\n",
      "4507\t4513\t4517\t4519\t4523\t4547\t4549\t4561\t4567\t4583\t\n",
      "4591\t4597\t4603\t4621\t4637\t4639\t4643\t4649\t4651\t4657\t\n",
      "4663\t4673\t4679\t4691\t4703\t4721\t4723\t4729\t4733\t4751\t\n",
      "4759\t4783\t4787\t4789\t4793\t4799\t4801\t4813\t4817\t4831\t\n",
      "4861\t4871\t4877\t4889\t4903\t4909\t4919\t4931\t4933\t4937\t\n",
      "4943\t4951\t4957\t4967\t4969\t4973\t4987\t4993\t4999\t5003\t\n",
      "5009\t5011\t5021\t5023\t5039\t5051\t5059\t5077\t5081\t5087\t\n",
      "5099\t5101\t5107\t5113\t5119\t5147\t5153\t5167\t5171\t5179\t\n",
      "5189\t5197\t5209\t5227\t5231\t5233\t5237\t5261\t5273\t5279\t\n",
      "5281\t5297\t5303\t5309\t5323\t5333\t5347\t5351\t5381\t5387\t\n",
      "5393\t5399\t5407\t5413\t5417\t5419\t5431\t5437\t5441\t5443\t\n",
      "5449\t5471\t5477\t5479\t5483\t5501\t5503\t5507\t5519\t5521\t\n",
      "5527\t5531\t5557\t5563\t5569\t5573\t5581\t5591\t5623\t5639\t\n",
      "5641\t5647\t5651\t5653\t5657\t5659\t5669\t5683\t5689\t5693\t\n",
      "5701\t5711\t5717\t5737\t5741\t5743\t5749\t5779\t5783\t5791\t\n",
      "5801\t5807\t5813\t5821\t5827\t5839\t5843\t5849\t5851\t5857\t\n",
      "5861\t5867\t5869\t5879\t5881\t5897\t5903\t5923\t5927\t5939\t\n",
      "5953\t5981\t5987\t6007\t6011\t6029\t6037\t6043\t6047\t6053\t\n",
      "6067\t6073\t6079\t6089\t6091\t6101\t6113\t6121\t6131\t6133\t\n",
      "6143\t6151\t6163\t6173\t6197\t6199\t6203\t6211\t6217\t6221\t\n",
      "6229\t6247\t6257\t6263\t6269\t6271\t6277\t6287\t6299\t6301\t\n",
      "6311\t6317\t6323\t6329\t6337\t6343\t6353\t6359\t6361\t6367\t\n",
      "6373\t6379\t6389\t6397\t6421\t6427\t6449\t6451\t6469\t6473\t\n",
      "6481\t6491\t6521\t6529\t6547\t6551\t6553\t6563\t6569\t6571\t\n",
      "6577\t6581\t6599\t6607\t6619\t6637\t6653\t6659\t6661\t6673\t\n",
      "6679\t6689\t6691\t6701\t6703\t6709\t6719\t6733\t6737\t6761\t\n",
      "6763\t6779\t6781\t6791\t6793\t6803\t6823\t6827\t6829\t6833\t\n",
      "6841\t6857\t6863\t6869\t6871\t6883\t6899\t6907\t6911\t6917\t\n",
      "6947\t6949\t6959\t6961\t6967\t6971\t6977\t6983\t6991\t6997\t\n",
      "7001\t7013\t7019\t7027\t7039\t7043\t7057\t7069\t7079\t7103\t\n",
      "7109\t7121\t7127\t7129\t7151\t7159\t7177\t7187\t7193\t7207\t\n",
      "7211\t7213\t7219\t7229\t7237\t7243\t7247\t7253\t7283\t7297\t\n",
      "7307\t7309\t7321\t7331\t7333\t7349\t7351\t7369\t7393\t7411\t\n",
      "7417\t7433\t7451\t7457\t7459\t7477\t7481\t7487\t7489\t7499\t\n",
      "7507\t7517\t7523\t7529\t7537\t7541\t7547\t7549\t7559\t7561\t\n",
      "7573\t7577\t7583\t7589\t7591\t7603\t7607\t7621\t7639\t7643\t\n",
      "7649\t7669\t7673\t7681\t7687\t7691\t7699\t7703\t7717\t7723\t\n",
      "7727\t7741\t7753\t7757\t7759\t7789\t7793\t7817\t7823\t7829\t\n",
      "7841\t7853\t7867\t7873\t7877\t7879\t7883\t7901\t7907\t7919\t\n",
      "7927\t7933\t7937\t7949\t7951\t7963\t7993\t8009\t8011\t8017\t\n",
      "8039\t8053\t8059\t8069\t8081\t8087\t8089\t8093\t8101\t8111\t\n",
      "8117\t8123\t8147\t8161\t8167\t8171\t8179\t8191\t8209\t8219\t\n",
      "8221\t8231\t8233\t8237\t8243\t8263\t8269\t8273\t8287\t8291\t\n",
      "8293\t8297\t8311\t8317\t8329\t8353\t8363\t8369\t8377\t8387\t\n",
      "8389\t8419\t8423\t8429\t8431\t8443\t8447\t8461\t8467\t8501\t\n",
      "8513\t8521\t8527\t8537\t8539\t8543\t8563\t8573\t8581\t8597\t\n",
      "8599\t8609\t8623\t8627\t8629\t8641\t8647\t8663\t8669\t8677\t\n",
      "8681\t8689\t8693\t8699\t8707\t8713\t8719\t8731\t8737\t8741\t\n",
      "8747\t8753\t8761\t8779\t8783\t8803\t8807\t8819\t8821\t8831\t\n",
      "8837\t8839\t8849\t8861\t8863\t8867\t8887\t8893\t8923\t8929\t\n",
      "8933\t8941\t8951\t8963\t8969\t8971\t8999\t9001\t9007\t9011\t\n",
      "9013\t9029\t9041\t9043\t9049\t9059\t9067\t9091\t9103\t9109\t\n",
      "9127\t9133\t9137\t9151\t9157\t9161\t9173\t9181\t9187\t9199\t\n",
      "9203\t9209\t9221\t9227\t9239\t9241\t9257\t9277\t9281\t9283\t\n",
      "9293\t9311\t9319\t9323\t9337\t9341\t9343\t9349\t9371\t9377\t\n",
      "9391\t9397\t9403\t9413\t9419\t9421\t9431\t9433\t9437\t9439\t\n",
      "9461\t9463\t9467\t9473\t9479\t9491\t9497\t9511\t9521\t9533\t\n",
      "9539\t9547\t9551\t9587\t9601\t9613\t9619\t9623\t9629\t9631\t\n",
      "9643\t9649\t9661\t9677\t9679\t9689\t9697\t9719\t9721\t9733\t\n",
      "9739\t9743\t9749\t9767\t9769\t9781\t9787\t9791\t9803\t9811\t\n",
      "9817\t9829\t9833\t9839\t9851\t9857\t9859\t9871\t9883\t9887\t\n",
      "9901\t9907\t9923\t9929\t9931\t9941\t9949\t9967\t9973\t10007\t\n",
      "10009\t10037\t10039\t10061\t10067\t10069\t10079\t10091\t10093\t10099\t\n",
      "10103\t10111\t10133\t10139\t10141\t10151\t10159\t10163\t10169\t10177\t\n",
      "10181\t10193\t10211\t10223\t10243\t10247\t10253\t10259\t10267\t10271\t\n",
      "10273\t10289\t10301\t10303\t10313\t10321\t10331\t10333\t10337\t10343\t\n",
      "10357\t10369\t10391\t10399\t10427\t10429\t10433\t10453\t10457\t10459\t\n",
      "10463\t10477\t10487\t10499\t10501\t10513\t10529\t10531\t10559\t10567\t\n",
      "10589\t10597\t10601\t10607\t10613\t10627\t10631\t10639\t10651\t10657\t\n",
      "10663\t10667\t10687\t10691\t10709\t10711\t10723\t10729\t10733\t10739\t\n",
      "10753\t10771\t10781\t10789\t10799\t10831\t10837\t10847\t10853\t10859\t\n",
      "10861\t10867\t10883\t10889\t10891\t10903\t10909\t10937\t10939\t10949\t\n",
      "10957\t10973\t10979\t10987\t10993\t11003\t11027\t11047\t11057\t11059\t\n",
      "11069\t11071\t11083\t11087\t11093\t11113\t11117\t11119\t11131\t11149\t\n",
      "11159\t11161\t11171\t11173\t11177\t11197\t11213\t11239\t11243\t11251\t\n",
      "11257\t11261\t11273\t11279\t11287\t11299\t11311\t11317\t11321\t11329\t\n",
      "11351\t11353\t11369\t11383\t11393\t11399\t11411\t11423\t11437\t11443\t\n",
      "11447\t11467\t11471\t11483\t11489\t11491\t11497\t11503\t11519\t11527\t\n",
      "11549\t11551\t11579\t11587\t11593\t11597\t11617\t11621\t11633\t11657\t\n",
      "11677\t11681\t11689\t11699\t11701\t11717\t11719\t11731\t11743\t11777\t\n",
      "11779\t11783\t11789\t11801\t11807\t11813\t11821\t11827\t11831\t11833\t\n",
      "11839\t11863\t11867\t11887\t11897\t11903\t11909\t11923\t11927\t11933\t\n",
      "11939\t11941\t11953\t11959\t11969\t11971\t11981\t11987\t12007\t12011\t\n",
      "12037\t12041\t12043\t12049\t12071\t12073\t12097\t12101\t12107\t12109\t\n",
      "12113\t12119\t12143\t12149\t12157\t12161\t12163\t12197\t12203\t12211\t\n",
      "12227\t12239\t12241\t12251\t12253\t12263\t12269\t12277\t12281\t12289\t\n",
      "12301\t12323\t12329\t12343\t12347\t12373\t12377\t12379\t12391\t12401\t\n",
      "12409\t12413\t12421\t12433\t12437\t12451\t12457\t12473\t12479\t12487\t\n",
      "12491\t12497\t12503\t12511\t12517\t12527\t12539\t12541\t12547\t12553\t\n",
      "12569\t12577\t12583\t12589\t12601\t12611\t12613\t12619\t12637\t12641\t\n",
      "12647\t12653\t12659\t12671\t12689\t12697\t12703\t12713\t12721\t12739\t\n",
      "12743\t12757\t12763\t12781\t12791\t12799\t12809\t12821\t12823\t12829\t\n",
      "12841\t12853\t12889\t12893\t12899\t12907\t12911\t12917\t12919\t12923\t\n",
      "12941\t12953\t12959\t12967\t12973\t12979\t12983\t13001\t13003\t13007\t\n",
      "13009\t13033\t13037\t13043\t13049\t13063\t13093\t13099\t13103\t13109\t\n",
      "13121\t13127\t13147\t13151\t13159\t13163\t13171\t13177\t13183\t13187\t\n",
      "13217\t13219\t13229\t13241\t13249\t13259\t13267\t13291\t13297\t13309\t\n",
      "13313\t13327\t13331\t13337\t13339\t13367\t13381\t13397\t13399\t13411\t\n",
      "13417\t13421\t13441\t13451\t13457\t13463\t13469\t13477\t13487\t13499\t\n",
      "13513\t13523\t13537\t13553\t13567\t13577\t13591\t13597\t13613\t13619\t\n",
      "13627\t13633\t13649\t13669\t13679\t13681\t13687\t13691\t13693\t13697\t\n",
      "13709\t13711\t13721\t13723\t13729\t13751\t13757\t13759\t13763\t13781\t\n",
      "13789\t13799\t13807\t13829\t13831\t13841\t13859\t13873\t13877\t13879\t\n",
      "13883\t13901\t13903\t13907\t13913\t13921\t13931\t13933\t13963\t13967\t\n",
      "13997\t13999\t14009\t14011\t14029\t14033\t14051\t14057\t14071\t14081\t\n",
      "14083\t14087\t14107\t14143\t14149\t14153\t14159\t14173\t14177\t14197\t\n",
      "14207\t14221\t14243\t14249\t14251\t14281\t14293\t14303\t14321\t14323\t\n",
      "14327\t14341\t14347\t14369\t14387\t14389\t14401\t14407\t14411\t14419\t\n",
      "14423\t14431\t14437\t14447\t14449\t14461\t14479\t14489\t14503\t14519\t\n",
      "14533\t14537\t14543\t14549\t14551\t14557\t14561\t14563\t14591\t14593\t\n",
      "14621\t14627\t14629\t14633\t14639\t14653\t14657\t14669\t14683\t14699\t\n",
      "14713\t14717\t14723\t14731\t14737\t14741\t14747\t14753\t14759\t14767\t\n",
      "14771\t14779\t14783\t14797\t14813\t14821\t14827\t14831\t14843\t14851\t\n",
      "14867\t14869\t14879\t14887\t14891\t14897\t14923\t14929\t14939\t14947\t\n",
      "14951\t14957\t14969\t14983\t15013\t15017\t15031\t15053\t15061\t15073\t\n",
      "15077\t15083\t15091\t15101\t15107\t15121\t15131\t15137\t15139\t15149\t\n",
      "15161\t15173\t15187\t15193\t15199\t15217\t15227\t15233\t15241\t15259\t\n",
      "15263\t15269\t15271\t15277\t15287\t15289\t15299\t15307\t15313\t15319\t\n",
      "15329\t15331\t15349\t15359\t15361\t15373\t15377\t15383\t15391\t15401\t\n",
      "15413\t15427\t15439\t15443\t15451\t15461\t15467\t15473\t15493\t15497\t\n",
      "15511\t15527\t15541\t15551\t15559\t15569\t15581\t15583\t15601\t15607\t\n",
      "15619\t15629\t15641\t15643\t15647\t15649\t15661\t15667\t15671\t15679\t\n",
      "15683\t15727\t15731\t15733\t15737\t15739\t15749\t15761\t15767\t15773\t\n",
      "15787\t15791\t15797\t15803\t15809\t15817\t15823\t15859\t15877\t15881\t\n",
      "15887\t15889\t15901\t15907\t15913\t15919\t15923\t15937\t15959\t15971\t\n",
      "15973\t15991\t16001\t16007\t16033\t16057\t16061\t16063\t16067\t16069\t\n",
      "16073\t16087\t16091\t16097\t16103\t16111\t16127\t16139\t16141\t16183\t\n",
      "16187\t16189\t16193\t16217\t16223\t16229\t16231\t16249\t16253\t16267\t\n",
      "16273\t16301\t16319\t16333\t16339\t16349\t16361\t16363\t16369\t16381\t\n",
      "16411\t16417\t16421\t16427\t16433\t16447\t16451\t16453\t16477\t16481\t\n",
      "16487\t16493\t16519\t16529\t16547\t16553\t16561\t16567\t16573\t16603\t\n",
      "16607\t16619\t16631\t16633\t16649\t16651\t16657\t16661\t16673\t16691\t\n",
      "16693\t16699\t16703\t16729\t16741\t16747\t16759\t16763\t16787\t16811\t\n",
      "16823\t16829\t16831\t16843\t16871\t16879\t16883\t16889\t16901\t16903\t\n",
      "16921\t16927\t16931\t16937\t16943\t16963\t16979\t16981\t16987\t16993\t\n",
      "17011\t17021\t17027\t17029\t17033\t17041\t17047\t17053\t17077\t17093\t\n",
      "17099\t17107\t17117\t17123\t17137\t17159\t17167\t17183\t17189\t17191\t\n",
      "17203\t17207\t17209\t17231\t17239\t17257\t17291\t17293\t17299\t17317\t\n",
      "17321\t17327\t17333\t17341\t17351\t17359\t17377\t17383\t17387\t17389\t\n",
      "17393\t17401\t17417\t17419\t17431\t17443\t17449\t17467\t17471\t17477\t\n",
      "17483\t17489\t17491\t17497\t17509\t17519\t17539\t17551\t17569\t17573\t\n",
      "17579\t17581\t17597\t17599\t17609\t17623\t17627\t17657\t17659\t17669\t\n",
      "17681\t17683\t17707\t17713\t17729\t17737\t17747\t17749\t17761\t17783\t\n",
      "17789\t17791\t17807\t17827\t17837\t17839\t17851\t17863\t17881\t17891\t\n",
      "17903\t17909\t17911\t17921\t17923\t17929\t17939\t17957\t17959\t17971\t\n",
      "17977\t17981\t17987\t17989\t18013\t18041\t18043\t18047\t18049\t18059\t\n",
      "18061\t18077\t18089\t18097\t18119\t18121\t18127\t18131\t18133\t18143\t\n",
      "18149\t18169\t18181\t18191\t18199\t18211\t18217\t18223\t18229\t18233\t\n",
      "18251\t18253\t18257\t18269\t18287\t18289\t18301\t18307\t18311\t18313\t\n",
      "18329\t18341\t18353\t18367\t18371\t18379\t18397\t18401\t18413\t18427\t\n",
      "18433\t18439\t18443\t18451\t18457\t18461\t18481\t18493\t18503\t18517\t\n",
      "18521\t18523\t18539\t18541\t18553\t18583\t18587\t18593\t18617\t18637\t\n",
      "18661\t18671\t18679\t18691\t18701\t18713\t18719\t18731\t18743\t18749\t\n",
      "18757\t18773\t18787\t18793\t18797\t18803\t18839\t18859\t18869\t18899\t\n",
      "18911\t18913\t18917\t18919\t18947\t18959\t18973\t18979\t19001\t19009\t\n",
      "19013\t19031\t19037\t19051\t19069\t19073\t19079\t19081\t19087\t19121\t\n",
      "19139\t19141\t19157\t19163\t19181\t19183\t19207\t19211\t19213\t19219\t\n",
      "19231\t19237\t19249\t19259\t19267\t19273\t19289\t19301\t19309\t19319\t\n",
      "19333\t19373\t19379\t19381\t19387\t19391\t19403\t19417\t19421\t19423\t\n",
      "19427\t19429\t19433\t19441\t19447\t19457\t19463\t19469\t19471\t19477\t\n",
      "19483\t19489\t19501\t19507\t19531\t19541\t19543\t19553\t19559\t19571\t\n",
      "19577\t19583\t19597\t19603\t19609\t19661\t19681\t19687\t19697\t19699\t\n",
      "19709\t19717\t19727\t19739\t19751\t19753\t19759\t19763\t19777\t19793\t\n",
      "19801\t19813\t19819\t19841\t19843\t19853\t19861\t19867\t19889\t19891\t\n",
      "19913\t19919\t19927\t19937\t19949\t19961\t19963\t19973\t19979\t19991\t\n",
      "19993\t19997\t20011\t20021\t20023\t20029\t20047\t20051\t20063\t20071\t\n",
      "20089\t20101\t20107\t20113\t20117\t20123\t20129\t20143\t20147\t20149\t\n",
      "20161\t20173\t20177\t20183\t20201\t20219\t20231\t20233\t20249\t20261\t\n",
      "20269\t20287\t20297\t20323\t20327\t20333\t20341\t20347\t20353\t20357\t\n",
      "20359\t20369\t20389\t20393\t20399\t20407\t20411\t20431\t20441\t20443\t\n",
      "20477\t20479\t20483\t20507\t20509\t20521\t20533\t20543\t20549\t20551\t\n",
      "20563\t20593\t20599\t20611\t20627\t20639\t20641\t20663\t20681\t20693\t\n",
      "20707\t20717\t20719\t20731\t20743\t20747\t20749\t20753\t20759\t20771\t\n",
      "20773\t20789\t20807\t20809\t20849\t20857\t20873\t20879\t20887\t20897\t\n",
      "20899\t20903\t20921\t20929\t20939\t20947\t20959\t20963\t20981\t20983\t\n",
      "21001\t21011\t21013\t21017\t21019\t21023\t21031\t21059\t21061\t21067\t\n",
      "21089\t21101\t21107\t21121\t21139\t21143\t21149\t21157\t21163\t21169\t\n",
      "21179\t21187\t21191\t21193\t21211\t21221\t21227\t21247\t21269\t21277\t\n",
      "21283\t21313\t21317\t21319\t21323\t21341\t21347\t21377\t21379\t21383\t\n",
      "21391\t21397\t21401\t21407\t21419\t21433\t21467\t21481\t21487\t21491\t\n",
      "21493\t21499\t21503\t21517\t21521\t21523\t21529\t21557\t21559\t21563\t\n",
      "21569\t21577\t21587\t21589\t21599\t21601\t21611\t21613\t21617\t21647\t\n",
      "21649\t21661\t21673\t21683\t21701\t21713\t21727\t21737\t21739\t21751\t\n",
      "21757\t21767\t21773\t21787\t21799\t21803\t21817\t21821\t21839\t21841\t\n",
      "21851\t21859\t21863\t21871\t21881\t21893\t21911\t21929\t21937\t21943\t\n",
      "21961\t21977\t21991\t21997\t22003\t22013\t22027\t22031\t22037\t22039\t\n",
      "22051\t22063\t22067\t22073\t22079\t22091\t22093\t22109\t22111\t22123\t\n",
      "22129\t22133\t22147\t22153\t22157\t22159\t22171\t22189\t22193\t22229\t\n",
      "22247\t22259\t22271\t22273\t22277\t22279\t22283\t22291\t22303\t22307\t\n",
      "22343\t22349\t22367\t22369\t22381\t22391\t22397\t22409\t22433\t22441\t\n",
      "22447\t22453\t22469\t22481\t22483\t22501\t22511\t22531\t22541\t22543\t\n",
      "22549\t22567\t22571\t22573\t22613\t22619\t22621\t22637\t22639\t22643\t\n",
      "22651\t22669\t22679\t22691\t22697\t22699\t22709\t22717\t22721\t22727\t\n",
      "22739\t22741\t22751\t22769\t22777\t22783\t22787\t22807\t22811\t22817\t\n",
      "22853\t22859\t22861\t22871\t22877\t22901\t22907\t22921\t22937\t22943\t\n",
      "22961\t22963\t22973\t22993\t23003\t23011\t23017\t23021\t23027\t23029\t\n",
      "23039\t23041\t23053\t23057\t23059\t23063\t23071\t23081\t23087\t23099\t\n",
      "23117\t23131\t23143\t23159\t23167\t23173\t23189\t23197\t23201\t23203\t\n",
      "23209\t23227\t23251\t23269\t23279\t23291\t23293\t23297\t23311\t23321\t\n",
      "23327\t23333\t23339\t23357\t23369\t23371\t23399\t23417\t23431\t23447\t\n",
      "23459\t23473\t23497\t23509\t23531\t23537\t23539\t23549\t23557\t23561\t\n",
      "23563\t23567\t23581\t23593\t23599\t23603\t23609\t23623\t23627\t23629\t\n",
      "23633\t23663\t23669\t23671\t23677\t23687\t23689\t23719\t23741\t23743\t\n",
      "23747\t23753\t23761\t23767\t23773\t23789\t23801\t23813\t23819\t23827\t\n",
      "23831\t23833\t23857\t23869\t23873\t23879\t23887\t23893\t23899\t23909\t\n",
      "23911\t23917\t23929\t23957\t23971\t23977\t23981\t23993\t24001\t24007\t\n",
      "24019\t24023\t24029\t24043\t24049\t24061\t24071\t24077\t24083\t24091\t\n",
      "24097\t24103\t24107\t24109\t24113\t24121\t24133\t24137\t24151\t24169\t\n",
      "24179\t24181\t24197\t24203\t24223\t24229\t24239\t24247\t24251\t24281\t\n",
      "24317\t24329\t24337\t24359\t24371\t24373\t24379\t24391\t24407\t24413\t\n",
      "24419\t24421\t24439\t24443\t24469\t24473\t24481\t24499\t24509\t24517\t\n",
      "24527\t24533\t24547\t24551\t24571\t24593\t24611\t24623\t24631\t24659\t\n",
      "24671\t24677\t24683\t24691\t24697\t24709\t24733\t24749\t24763\t24767\t\n",
      "24781\t24793\t24799\t24809\t24821\t24841\t24847\t24851\t24859\t24877\t\n",
      "24889\t24907\t24917\t24919\t24923\t24943\t24953\t24967\t24971\t24977\t\n",
      "24979\t24989\t25013\t25031\t25033\t25037\t25057\t25073\t25087\t25097\t\n",
      "25111\t25117\t25121\t25127\t25147\t25153\t25163\t25169\t25171\t25183\t\n",
      "25189\t25219\t25229\t25237\t25243\t25247\t25253\t25261\t25301\t25303\t\n",
      "25307\t25309\t25321\t25339\t25343\t25349\t25357\t25367\t25373\t25391\t\n",
      "25409\t25411\t25423\t25439\t25447\t25453\t25457\t25463\t25469\t25471\t\n",
      "25523\t25537\t25541\t25561\t25577\t25579\t25583\t25589\t25601\t25603\t\n",
      "25609\t25621\t25633\t25639\t25643\t25657\t25667\t25673\t25679\t25693\t\n",
      "25703\t25717\t25733\t25741\t25747\t25759\t25763\t25771\t25793\t25799\t\n",
      "25801\t25819\t25841\t25847\t25849\t25867\t25873\t25889\t25903\t25913\t\n",
      "25919\t25931\t25933\t25939\t25943\t25951\t25969\t25981\t25997\t25999\t\n",
      "26003\t26017\t26021\t26029\t26041\t26053\t26083\t26099\t26107\t26111\t\n",
      "26113\t26119\t26141\t26153\t26161\t26171\t26177\t26183\t26189\t26203\t\n",
      "26209\t26227\t26237\t26249\t26251\t26261\t26263\t26267\t26293\t26297\t\n",
      "26309\t26317\t26321\t26339\t26347\t26357\t26371\t26387\t26393\t26399\t\n",
      "26407\t26417\t26423\t26431\t26437\t26449\t26459\t26479\t26489\t26497\t\n",
      "26501\t26513\t26539\t26557\t26561\t26573\t26591\t26597\t26627\t26633\t\n",
      "26641\t26647\t26669\t26681\t26683\t26687\t26693\t26699\t26701\t26711\t\n",
      "26713\t26717\t26723\t26729\t26731\t26737\t26759\t26777\t26783\t26801\t\n",
      "26813\t26821\t26833\t26839\t26849\t26861\t26863\t26879\t26881\t26891\t\n",
      "26893\t26903\t26921\t26927\t26947\t26951\t26953\t26959\t26981\t26987\t\n",
      "26993\t27011\t27017\t27031\t27043\t27059\t27061\t27067\t27073\t27077\t\n",
      "27091\t27103\t27107\t27109\t27127\t27143\t27179\t27191\t27197\t27211\t\n",
      "27239\t27241\t27253\t27259\t27271\t27277\t27281\t27283\t27299\t27329\t\n",
      "27337\t27361\t27367\t27397\t27407\t27409\t27427\t27431\t27437\t27449\t\n",
      "27457\t27479\t27481\t27487\t27509\t27527\t27529\t27539\t27541\t27551\t\n",
      "27581\t27583\t27611\t27617\t27631\t27647\t27653\t27673\t27689\t27691\t\n",
      "27697\t27701\t27733\t27737\t27739\t27743\t27749\t27751\t27763\t27767\t\n",
      "27773\t27779\t27791\t27793\t27799\t27803\t27809\t27817\t27823\t27827\t\n",
      "27847\t27851\t27883\t27893\t27901\t27917\t27919\t27941\t27943\t27947\t\n",
      "27953\t27961\t27967\t27983\t27997\t28001\t28019\t28027\t28031\t28051\t\n",
      "28057\t28069\t28081\t28087\t28097\t28099\t28109\t28111\t28123\t28151\t\n",
      "28163\t28181\t28183\t28201\t28211\t28219\t28229\t28277\t28279\t28283\t\n",
      "28289\t28297\t28307\t28309\t28319\t28349\t28351\t28387\t28393\t28403\t\n",
      "28409\t28411\t28429\t28433\t28439\t28447\t28463\t28477\t28493\t28499\t\n",
      "28513\t28517\t28537\t28541\t28547\t28549\t28559\t28571\t28573\t28579\t\n",
      "28591\t28597\t28603\t28607\t28619\t28621\t28627\t28631\t28643\t28649\t\n",
      "28657\t28661\t28663\t28669\t28687\t28697\t28703\t28711\t28723\t28729\t\n",
      "28751\t28753\t28759\t28771\t28789\t28793\t28807\t28813\t28817\t28837\t\n",
      "28843\t28859\t28867\t28871\t28879\t28901\t28909\t28921\t28927\t28933\t\n",
      "28949\t28961\t28979\t29009\t29017\t29021\t29023\t29027\t29033\t29059\t\n",
      "29063\t29077\t29101\t29123\t29129\t29131\t29137\t29147\t29153\t29167\t\n",
      "29173\t29179\t29191\t29201\t29207\t29209\t29221\t29231\t29243\t29251\t\n",
      "29269\t29287\t29297\t29303\t29311\t29327\t29333\t29339\t29347\t29363\t\n",
      "29383\t29387\t29389\t29399\t29401\t29411\t29423\t29429\t29437\t29443\t\n",
      "29453\t29473\t29483\t29501\t29527\t29531\t29537\t29567\t29569\t29573\t\n",
      "29581\t29587\t29599\t29611\t29629\t29633\t29641\t29663\t29669\t29671\t\n",
      "29683\t29717\t29723\t29741\t29753\t29759\t29761\t29789\t29803\t29819\t\n",
      "29833\t29837\t29851\t29863\t29867\t29873\t29879\t29881\t29917\t29921\t\n",
      "29927\t29947\t29959\t29983\t29989\t30011\t30013\t30029\t30047\t30059\t\n",
      "30071\t30089\t30091\t30097\t30103\t30109\t30113\t30119\t30133\t30137\t\n",
      "30139\t30161\t30169\t30181\t30187\t30197\t30203\t30211\t30223\t30241\t\n",
      "30253\t30259\t30269\t30271\t30293\t30307\t30313\t30319\t30323\t30341\t\n",
      "30347\t30367\t30389\t30391\t30403\t30427\t30431\t30449\t30467\t30469\t\n",
      "30491\t30493\t30497\t30509\t30517\t30529\t30539\t30553\t30557\t30559\t\n",
      "30577\t30593\t30631\t30637\t30643\t30649\t30661\t30671\t30677\t30689\t\n",
      "30697\t30703\t30707\t30713\t30727\t30757\t30763\t30773\t30781\t30803\t\n",
      "30809\t30817\t30829\t30839\t30841\t30851\t30853\t30859\t30869\t30871\t\n",
      "30881\t30893\t30911\t30931\t30937\t30941\t30949\t30971\t30977\t30983\t\n",
      "31013\t31019\t31033\t31039\t31051\t31063\t31069\t31079\t31081\t31091\t\n",
      "31121\t31123\t31139\t31147\t31151\t31153\t31159\t31177\t31181\t31183\t\n",
      "31189\t31193\t31219\t31223\t31231\t31237\t31247\t31249\t31253\t31259\t\n",
      "31267\t31271\t31277\t31307\t31319\t31321\t31327\t31333\t31337\t31357\t\n",
      "31379\t31387\t31391\t31393\t31397\t31469\t31477\t31481\t31489\t31511\t\n",
      "31513\t31517\t31531\t31541\t31543\t31547\t31567\t31573\t31583\t31601\t\n",
      "31607\t"
     ]
    }
   ],
   "source": [
    "# 루트 1,000000,000 이하의 소수 표\n",
    "n_min = 2\n",
    "n_max = 31624\n",
    "prime_num = list(range(n_min,n_max))\n",
    "\n",
    "# 소수판별 - 체 거르기\n",
    "for i in prime_num:\n",
    "    for j in prime_num:\n",
    "        if i!=j and 0==(j%i):   # i보다 크면서(같은수% = 0) %시 0(나우어떨어지는 수)\n",
    "            prime_num.remove(j) # 리스트에서 제거뒤 다음 리스트로\n",
    "\n",
    "            \n",
    "print(f'{n_min}부터 {n_max} 까지 숫자중 소수')\n",
    "for i, v in enumerate(prime_num) :\n",
    "    print('{:4d}'.format(v),end = '\\t')\n",
    "    if i % 10 == 9 and i > 0 :\n",
    "        print()"
   ]
  },
  {
   "cell_type": "code",
   "execution_count": 194,
   "id": "2f3a1c18",
   "metadata": {},
   "outputs": [
    {
     "name": "stdout",
     "output_type": "stream",
     "text": [
      "1347619 is not prime number\n"
     ]
    }
   ],
   "source": [
    "# 900,000,000 (30,000^2) 이하의 소수 찾기\n",
    "# math.sqrt()루트 계산시 필요\n",
    "import math\n",
    "\n",
    "# 2 < num < 1,000,000,000 판별 입력\n",
    "while True :\n",
    "    try :\n",
    "        num = int(input())\n",
    "        if num < 2 or num > 1_000_000_000 :\n",
    "            print('1보다 크고 1,000,000,000 보다 작은 양수를 입력해 주세요')\n",
    "            continue\n",
    "        break\n",
    "    except :\n",
    "        print('1보다 크고 1,000,000,000 보다 작은 양수를 입력해 주세요')\n",
    "\n",
    "# 소수확인용\n",
    "is_prime = True\n",
    "n_min = 2\n",
    "# 특정수의 소인수는 제곱근보다 작음\n",
    "n_max = int(math.sqrt(num))+1\n",
    "\n",
    "# \n",
    "if num > 10_000 :\n",
    "    prime_num_check = [v for v in list(range(n_min,n_max)) if v in prime_num]\n",
    "\n",
    "    for v in prime_num_check :\n",
    "        if num % v == 0 :\n",
    "            is_prime = False\n",
    "else : \n",
    "    if num not in prime_num :\n",
    "        is_prime = False\n",
    "\n",
    "if is_prime :\n",
    "    is_prime = 'prime number.'\n",
    "else :\n",
    "    is_prime = 'not prime number'\n",
    "\n",
    "print(f'{num} is {is_prime}')\n"
   ]
  },
  {
   "cell_type": "code",
   "execution_count": null,
   "id": "279ce071",
   "metadata": {},
   "outputs": [],
   "source": [
    "# 입력 - 실행부 분리"
   ]
  },
  {
   "cell_type": "code",
   "execution_count": 20,
   "id": "96e8b328",
   "metadata": {},
   "outputs": [
    {
     "name": "stdout",
     "output_type": "stream",
     "text": [
      "소수인지 확인할 값은 99999927입니다.\n"
     ]
    }
   ],
   "source": [
    "# 100,000,000 이하의 소수찾기\n",
    "\n",
    "#입력\n",
    "while True :\n",
    "    try :\n",
    "        num = int(input())\n",
    "        if num < 2 or num > 1_000_000_000 :\n",
    "            print('1보다 크고 100,000,000 보다 작은 양수를 입력해 주세요')\n",
    "            continue\n",
    "        break\n",
    "    except :\n",
    "        print('1보다 크고 100,000,000 보다 작은 양수를 입력해 주세요')\n",
    "    \n",
    "print(f'소수인지 확인할 값은 {num}입니다.')"
   ]
  },
  {
   "cell_type": "code",
   "execution_count": 21,
   "id": "2aa4f92c",
   "metadata": {},
   "outputs": [],
   "source": [
    "# 루트 num 이하의 소수 표\n",
    "import math\n",
    "\n",
    "n_min = 2\n",
    "# 모든 수는 자신의 제곱근보다 큰 소인수를 가지지 못함\n",
    "n_max = int(math.sqrt(num))+1\n",
    "\n",
    "# num의 제곱근보다 작은 모든 소수 리스트\n",
    "prime_num = list(range(n_min,n_max)) \n",
    "\n",
    "# '소수판별 체' 알고리즘\n",
    "# 가장 오래걸림\n",
    "for i in prime_num:\n",
    "    for j in prime_num:\n",
    "        if i!=j and 0==(j%i):\n",
    "            prime_num.remove(j)\n"
   ]
  },
  {
   "cell_type": "code",
   "execution_count": 22,
   "id": "0cf76c43",
   "metadata": {},
   "outputs": [
    {
     "name": "stdout",
     "output_type": "stream",
     "text": [
      "99999927은 소수가 아닙니다.\n"
     ]
    }
   ],
   "source": [
    "# num의 제곱근 이하의 소수들과 소인수 분해 시도\n",
    "for v in prime_num :\n",
    "    if num % v == 0 :\n",
    "        is_prime = False\n",
    "\n",
    "if is_prime :\n",
    "    is_prime = '소수입니다.'\n",
    "else :\n",
    "    is_prime = '소수가 아닙니다.'\n",
    "\n",
    "print(f'{num}은 {is_prime}')"
   ]
  },
  {
   "cell_type": "code",
   "execution_count": null,
   "id": "e08627c7",
   "metadata": {},
   "outputs": [],
   "source": []
  }
 ],
 "metadata": {
  "kernelspec": {
   "display_name": "base",
   "language": "python",
   "name": "python3"
  },
  "language_info": {
   "codemirror_mode": {
    "name": "ipython",
    "version": 3
   },
   "file_extension": ".py",
   "mimetype": "text/x-python",
   "name": "python",
   "nbconvert_exporter": "python",
   "pygments_lexer": "ipython3",
   "version": "3.10.9"
  },
  "toc": {
   "base_numbering": 1,
   "nav_menu": {},
   "number_sections": true,
   "sideBar": true,
   "skip_h1_title": false,
   "title_cell": "Table of Contents",
   "title_sidebar": "Contents",
   "toc_cell": false,
   "toc_position": {},
   "toc_section_display": true,
   "toc_window_display": false
  },
  "varInspector": {
   "cols": {
    "lenName": 16,
    "lenType": 16,
    "lenVar": 40
   },
   "kernels_config": {
    "python": {
     "delete_cmd_postfix": "",
     "delete_cmd_prefix": "del ",
     "library": "var_list.py",
     "varRefreshCmd": "print(var_dic_list())"
    },
    "r": {
     "delete_cmd_postfix": ") ",
     "delete_cmd_prefix": "rm(",
     "library": "var_list.r",
     "varRefreshCmd": "cat(var_dic_list()) "
    }
   },
   "types_to_exclude": [
    "module",
    "function",
    "builtin_function_or_method",
    "instance",
    "_Feature"
   ],
   "window_display": false
  },
  "vscode": {
   "interpreter": {
    "hash": "d32a22d5c022b117665198825dcc318ab3639e692eef5b20542b040403f35923"
   }
  }
 },
 "nbformat": 4,
 "nbformat_minor": 5
}
