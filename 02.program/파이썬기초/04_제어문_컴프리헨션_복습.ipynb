{
 "cells": [
  {
   "cell_type": "code",
   "execution_count": 1,
   "metadata": {},
   "outputs": [],
   "source": [
    "# 32.04.01 복습\n",
    "# 여러가지 해보기"
   ]
  },
  {
   "cell_type": "code",
   "execution_count": 21,
   "metadata": {},
   "outputs": [
    {
     "data": {
      "text/plain": [
       "[1, 2, 3, 4, 5, 6, 7, 8, 9]"
      ]
     },
     "execution_count": 21,
     "metadata": {},
     "output_type": "execute_result"
    }
   ],
   "source": [
    "# list.append(), list.insert() 차이\n",
    "l = list(range(1,10))\n",
    "l"
   ]
  },
  {
   "cell_type": "code",
   "execution_count": 22,
   "metadata": {},
   "outputs": [
    {
     "data": {
      "text/plain": [
       "[1, 2, 3, 4, 5, 6, 7, 8, 9, 11]"
      ]
     },
     "execution_count": 22,
     "metadata": {},
     "output_type": "execute_result"
    }
   ],
   "source": [
    "l.append(11)\n",
    "l"
   ]
  },
  {
   "cell_type": "code",
   "execution_count": 23,
   "metadata": {},
   "outputs": [
    {
     "data": {
      "text/plain": [
       "[1, 2, 20, 3, 4, 5, 6, 7, 8, 9, 11]"
      ]
     },
     "execution_count": 23,
     "metadata": {},
     "output_type": "execute_result"
    }
   ],
   "source": [
    "l.insert(2,20)\n",
    "l"
   ]
  },
  {
   "cell_type": "code",
   "execution_count": 24,
   "metadata": {},
   "outputs": [
    {
     "data": {
      "text/plain": [
       "[10, 11, 12, 13, 14, 15, 16, 17, 18, 19]"
      ]
     },
     "execution_count": 24,
     "metadata": {},
     "output_type": "execute_result"
    }
   ],
   "source": [
    "# +연산과 list.extend() 차이\n",
    "l = list(range(1,10))\n",
    "l2 = list(range(10,20))\n",
    "l2"
   ]
  },
  {
   "cell_type": "code",
   "execution_count": 25,
   "metadata": {},
   "outputs": [
    {
     "data": {
      "text/plain": [
       "[1, 2, 20, 3, 4, 5, 6, 7, 8, 9, 11, 10, 11, 12, 13, 14, 15, 16, 17, 18, 19]"
      ]
     },
     "execution_count": 25,
     "metadata": {},
     "output_type": "execute_result"
    }
   ],
   "source": [
    "l + l2"
   ]
  },
  {
   "cell_type": "code",
   "execution_count": 26,
   "metadata": {},
   "outputs": [
    {
     "name": "stdout",
     "output_type": "stream",
     "text": [
      "[1, 2, 20, 3, 4, 5, 6, 7, 8, 9, 11] [10, 11, 12, 13, 14, 15, 16, 17, 18, 19]\n"
     ]
    }
   ],
   "source": [
    "print(l, l2)"
   ]
  },
  {
   "cell_type": "code",
   "execution_count": 27,
   "metadata": {},
   "outputs": [
    {
     "data": {
      "text/plain": [
       "[1, 2, 20, 3, 4, 5, 6, 7, 8, 9, 11, 10, 11, 12, 13, 14, 15, 16, 17, 18, 19]"
      ]
     },
     "execution_count": 27,
     "metadata": {},
     "output_type": "execute_result"
    }
   ],
   "source": [
    "l.extend(l2)\n",
    "l"
   ]
  },
  {
   "cell_type": "code",
   "execution_count": 31,
   "metadata": {},
   "outputs": [
    {
     "data": {
      "text/plain": [
       "[10, 11, 12, 13, 14, 15, 16, 17, 18, 19]"
      ]
     },
     "execution_count": 31,
     "metadata": {},
     "output_type": "execute_result"
    }
   ],
   "source": [
    "l2"
   ]
  },
  {
   "cell_type": "code",
   "execution_count": 34,
   "metadata": {},
   "outputs": [
    {
     "data": {
      "text/plain": [
       "8"
      ]
     },
     "execution_count": 34,
     "metadata": {},
     "output_type": "execute_result"
    }
   ],
   "source": [
    "# index로 제거 del list[], list.pop()\n",
    "\n",
    "# 제거만 함\n",
    "del l[2]\n",
    "# 값을 반환하며 제거\n",
    "v = l.pop(2)\n",
    "v"
   ]
  },
  {
   "cell_type": "code",
   "execution_count": 35,
   "metadata": {},
   "outputs": [
    {
     "data": {
      "text/plain": [
       "[1, 2, 9, 11, 11, 12, 13, 14, 15, 16, 17, 18, 19]"
      ]
     },
     "execution_count": 35,
     "metadata": {},
     "output_type": "execute_result"
    }
   ],
   "source": [
    "# value로 제거 list.remove()\n",
    "\n",
    "# 0번부터 값을찾아 이동하다 찾은 첫 값을 제거\n",
    "l.remove(10)\n",
    "l"
   ]
  },
  {
   "cell_type": "code",
   "execution_count": 36,
   "metadata": {},
   "outputs": [
    {
     "data": {
      "text/plain": [
       "[]"
      ]
     },
     "execution_count": 36,
     "metadata": {},
     "output_type": "execute_result"
    }
   ],
   "source": [
    "# list.clear() 모두 제거\n",
    "\n",
    "l.clear()\n",
    "l"
   ]
  },
  {
   "cell_type": "code",
   "execution_count": 38,
   "metadata": {},
   "outputs": [],
   "source": [
    "# list.sort() 정렬하기\n",
    "\n",
    "l = list(range(1,10))"
   ]
  },
  {
   "cell_type": "code",
   "execution_count": 39,
   "metadata": {},
   "outputs": [
    {
     "data": {
      "text/plain": [
       "[9, 8, 7, 6, 5, 4, 3, 2, 1]"
      ]
     },
     "execution_count": 39,
     "metadata": {},
     "output_type": "execute_result"
    }
   ],
   "source": [
    "# 내림차순\n",
    "l.sort(reverse=True)\n",
    "l"
   ]
  },
  {
   "cell_type": "code",
   "execution_count": 42,
   "metadata": {},
   "outputs": [
    {
     "data": {
      "text/plain": [
       "[1, 2, 3, 4, 5, 6, 7, 8, 9]"
      ]
     },
     "execution_count": 42,
     "metadata": {},
     "output_type": "execute_result"
    }
   ],
   "source": [
    "# 오름차순\n",
    "l.sort()\n",
    "l"
   ]
  },
  {
   "cell_type": "code",
   "execution_count": 44,
   "metadata": {},
   "outputs": [
    {
     "name": "stdout",
     "output_type": "stream",
     "text": [
      "1 2 3 4 5 6 7 8 9\n"
     ]
    }
   ],
   "source": [
    "# *list 전개 연산\n",
    "print(*l)"
   ]
  },
  {
   "cell_type": "code",
   "execution_count": 47,
   "metadata": {},
   "outputs": [
    {
     "name": "stdout",
     "output_type": "stream",
     "text": [
      "[[1, 2, 3, 4, 5, 6, 7, 8, 9], [1, 2, 3, 4, 5, 6, 7, 8, 9]]\n",
      "[1, 2, 3, 4, 5, 6, 7, 8, 9, 1, 2, 3, 4, 5, 6, 7, 8, 9]\n",
      "[1, 2, 3, 4, 5, 6, 7, 8, 9]\n",
      "[1, 2, 3, 4, 5, 6, 7, 8, 9, 5]\n"
     ]
    }
   ],
   "source": [
    "# 2차원 리스트가 됨\n",
    "b = [ l, l ]\n",
    "print(b)\n",
    "# 붙히기(+연산과 같음)\n",
    "b = [ *l, *l ]\n",
    "print(b)\n",
    "# 비파괴 연산 가능\n",
    "c = [ *l, 5 ]\n",
    "print(l)\n",
    "print(c)"
   ]
  },
  {
   "cell_type": "code",
   "execution_count": 50,
   "metadata": {},
   "outputs": [
    {
     "data": {
      "text/plain": [
       "[4, 3, 2, 1, 0]"
      ]
     },
     "execution_count": 50,
     "metadata": {},
     "output_type": "execute_result"
    }
   ],
   "source": [
    "# range()\n",
    "list(range(4, -1, -1))"
   ]
  },
  {
   "cell_type": "code",
   "execution_count": 51,
   "metadata": {},
   "outputs": [
    {
     "data": {
      "text/plain": [
       "[4, 3, 2, 1, 0]"
      ]
     },
     "execution_count": 51,
     "metadata": {},
     "output_type": "execute_result"
    }
   ],
   "source": [
    "list(reversed(range(5)))"
   ]
  },
  {
   "cell_type": "code",
   "execution_count": 52,
   "metadata": {},
   "outputs": [
    {
     "data": {
      "text/plain": [
       "1680341533.88923"
      ]
     },
     "execution_count": 52,
     "metadata": {},
     "output_type": "execute_result"
    }
   ],
   "source": [
    "# 시간\n",
    "import time\n",
    "time.time()"
   ]
  },
  {
   "cell_type": "code",
   "execution_count": 55,
   "metadata": {},
   "outputs": [
    {
     "name": "stdout",
     "output_type": "stream",
     "text": [
      "5초 : 50811109\n"
     ]
    }
   ],
   "source": [
    "# |이 코드는 5초 동안 반복문을 실행하고, 반복문이 실행된 횟수를 출력하는 코드입니다.\n",
    "# |\n",
    "# |좋은 점:\n",
    "# |- 시간을 측정하기 위해 time 모듈을 사용하여 정확한 시간을 측정할 수 있습니다.\n",
    "# |- while 반복문을 사용하여 명확하게 5초 동안 반복하도록 구현하였습니다.\n",
    "# |\n",
    "# |나쁜 점:\n",
    "# |- 코드의 가독성이 떨어집니다. 코드를 처음 보는 사람이 이해하기 어려울 수 있습니다.\n",
    "# |- 변수명이 num으로 단순하게 지어져 있어, 변수의 역할을 파악하기 어렵습니다.\n",
    "# |\n",
    "num = 0\n",
    "\n",
    "target_tick = time.time() + 5  # 5초 후의 시간을 계산하여 target_tick에 저장\n",
    "while time.time() < target_tick:  # 현재 시간이 target_tick보다 작은 동안 반복\n",
    "    num += 1  # num에 1씩 더함\n",
    "\n",
    "print(f'5초 : {num}')  # 5초 동안 반복한 횟수 출력\n"
   ]
  },
  {
   "cell_type": "code",
   "execution_count": 14,
   "metadata": {},
   "outputs": [],
   "source": [
    "# |이 코드는 다차원 리스트를 평탄화하는 함수를 구현한 것입니다.\n",
    "# |\n",
    "# |좋은 점:\n",
    "# |- 함수명과 매개변수, 주석 등이 명확하게 작성되어 있어 코드의 가독성이 높습니다.\n",
    "# |- 재귀적으로 함수를 호출하여 다차원 리스트를 평탄화하는 방법이 간결하면서도 효율적입니다.\n",
    "# |\n",
    "# |나쁜 점:\n",
    "# |- 함수 내에서 사용하는 변수명이 일반적인 변수명과 다릅니다. 예를 들어, 리스트를 나타내는 변수명으로 item을 사용하는 것은 혼란스러울 수 있습니다.\n",
    "# |- 함수의 반환값이 명확하게 작성되어 있지 않습니다. 함수의 반환값이 리스트인 것은 알겠지만, 반환되는 리스트의 구조나 형태에 대한 정보가 없습니다.\n",
    "# |\n",
    "\n",
    "import random\n",
    "\n",
    "def flatten(lst : list):\n",
    "    \"\"\"\n",
    "    다차원 리스트를 평탄화 하는 함수\n",
    "    \"\"\"\n",
    "    # 결과를 저장할 빈 리스트 생성\n",
    "    result = []\n",
    "    # 리스트의 각 요소에 대해 반복\n",
    "    for item in lst:\n",
    "        # 요소가 리스트일 경우 재귀적으로 함수 호출\n",
    "        if isinstance(item, list):\n",
    "            result.extend(flatten(item))\n",
    "        # 요소가 리스트가 아닐 경우 결과 리스트에 추가\n",
    "        else:\n",
    "            result.append(item)\n",
    "    return result\n"
   ]
  },
  {
   "cell_type": "code",
   "execution_count": 12,
   "metadata": {},
   "outputs": [
    {
     "name": "stdout",
     "output_type": "stream",
     "text": [
      "[[[[5, 6], [3, 7], [7, 2], [8, 3], [7, 1]], [[3, 10], [7, 6], [4, 7], [0, 10], [8, 5]], [[4, 9], [10, 2], [1, 4], [3, 5], [10, 3]], [[3, 3], [9, 1], [1, 9], [9, 3], [2, 8]]], [[[3, 1], [7, 4], [3, 1], [5, 2], [10, 1]], [[10, 8], [9, 3], [4, 4], [9, 5], [9, 9]], [[1, 10], [0, 8], [2, 3], [0, 0], [3, 1]], [[8, 10], [10, 0], [10, 1], [2, 9], [9, 5]]], [[[10, 0], [2, 2], [4, 5], [6, 1], [3, 8]], [[10, 10], [9, 9], [6, 3], [10, 1], [10, 2]], [[6, 3], [2, 5], [9, 9], [3, 9], [2, 1]], [[0, 10], [8, 2], [10, 7], [6, 5], [7, 6]]]]\n"
     ]
    }
   ],
   "source": [
    "# |이 코드는 4차원 리스트를 만들고, 각각의 차원마다 크기를 지정하고 랜덤으로 초기화하는 코드이다.\n",
    "# |\n",
    "# |좋은 점:\n",
    "# |- 리스트를 한 줄의 코드로 간단하게 초기화할 수 있다.\n",
    "# |- 리스트의 크기와 초기화할 값의 범위를 쉽게 조정할 수 있다.\n",
    "# |\n",
    "# |나쁜 점:\n",
    "# |- 리스트의 차원이 많아질수록 코드가 복잡해진다.\n",
    "# |- 리스트의 크기가 커질수록 초기화하는 데 걸리는 시간이 오래 걸릴 수 있다.\n",
    "# |\n",
    "\n",
    "# 4차원 리스트를 만들기 위해 4개의 for loop를 사용한다.\n",
    "# 리스트의 크기는 각각 3, 4, 5, 2 이다.\n",
    "# 리스트의 모든 값을 랜덤으로 초기화한다.\n",
    "my_list = [[[[random.randint(0, 10) for _ in range(2)] for _ in range(5)]\n",
    "            for _ in range(4)] for _ in range(3)]\n",
    "\n",
    "print(my_list)\n"
   ]
  },
  {
   "cell_type": "code",
   "execution_count": 13,
   "metadata": {},
   "outputs": [
    {
     "data": {
      "text/plain": [
       "[5,\n",
       " 6,\n",
       " 3,\n",
       " 7,\n",
       " 7,\n",
       " 2,\n",
       " 8,\n",
       " 3,\n",
       " 7,\n",
       " 1,\n",
       " 3,\n",
       " 10,\n",
       " 7,\n",
       " 6,\n",
       " 4,\n",
       " 7,\n",
       " 0,\n",
       " 10,\n",
       " 8,\n",
       " 5,\n",
       " 4,\n",
       " 9,\n",
       " 10,\n",
       " 2,\n",
       " 1,\n",
       " 4,\n",
       " 3,\n",
       " 5,\n",
       " 10,\n",
       " 3,\n",
       " 3,\n",
       " 3,\n",
       " 9,\n",
       " 1,\n",
       " 1,\n",
       " 9,\n",
       " 9,\n",
       " 3,\n",
       " 2,\n",
       " 8,\n",
       " 3,\n",
       " 1,\n",
       " 7,\n",
       " 4,\n",
       " 3,\n",
       " 1,\n",
       " 5,\n",
       " 2,\n",
       " 10,\n",
       " 1,\n",
       " 10,\n",
       " 8,\n",
       " 9,\n",
       " 3,\n",
       " 4,\n",
       " 4,\n",
       " 9,\n",
       " 5,\n",
       " 9,\n",
       " 9,\n",
       " 1,\n",
       " 10,\n",
       " 0,\n",
       " 8,\n",
       " 2,\n",
       " 3,\n",
       " 0,\n",
       " 0,\n",
       " 3,\n",
       " 1,\n",
       " 8,\n",
       " 10,\n",
       " 10,\n",
       " 0,\n",
       " 10,\n",
       " 1,\n",
       " 2,\n",
       " 9,\n",
       " 9,\n",
       " 5,\n",
       " 10,\n",
       " 0,\n",
       " 2,\n",
       " 2,\n",
       " 4,\n",
       " 5,\n",
       " 6,\n",
       " 1,\n",
       " 3,\n",
       " 8,\n",
       " 10,\n",
       " 10,\n",
       " 9,\n",
       " 9,\n",
       " 6,\n",
       " 3,\n",
       " 10,\n",
       " 1,\n",
       " 10,\n",
       " 2,\n",
       " 6,\n",
       " 3,\n",
       " 2,\n",
       " 5,\n",
       " 9,\n",
       " 9,\n",
       " 3,\n",
       " 9,\n",
       " 2,\n",
       " 1,\n",
       " 0,\n",
       " 10,\n",
       " 8,\n",
       " 2,\n",
       " 10,\n",
       " 7,\n",
       " 6,\n",
       " 5,\n",
       " 7,\n",
       " 6]"
      ]
     },
     "execution_count": 13,
     "metadata": {},
     "output_type": "execute_result"
    }
   ],
   "source": [
    "flatten(my_list)"
   ]
  },
  {
   "cell_type": "code",
   "execution_count": 15,
   "metadata": {},
   "outputs": [
    {
     "name": "stderr",
     "output_type": "stream",
     "text": [
      "ERROR: You must give at least one requirement to install (see \"pip help install\")\n"
     ]
    }
   ],
   "source": [
    "!pip install"
   ]
  },
  {
   "cell_type": "code",
   "execution_count": null,
   "metadata": {},
   "outputs": [],
   "source": []
  }
 ],
 "metadata": {
  "kernelspec": {
   "display_name": "base",
   "language": "python",
   "name": "python3"
  },
  "language_info": {
   "codemirror_mode": {
    "name": "ipython",
    "version": 3
   },
   "file_extension": ".py",
   "mimetype": "text/x-python",
   "name": "python",
   "nbconvert_exporter": "python",
   "pygments_lexer": "ipython3",
   "version": "3.10.9"
  },
  "orig_nbformat": 4
 },
 "nbformat": 4,
 "nbformat_minor": 2
}
