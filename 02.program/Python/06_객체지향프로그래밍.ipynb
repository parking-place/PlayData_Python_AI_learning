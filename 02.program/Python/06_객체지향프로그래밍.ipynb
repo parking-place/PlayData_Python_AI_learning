{
 "cells": [
  {
   "cell_type": "markdown",
   "metadata": {
    "slideshow": {
     "slide_type": "slide"
    }
   },
   "source": [
    "# 객체지향 프로그래밍 (Object Oriented Programming)\n",
    "\n",
    "프로그램을 구성하는 변수와 함수들에서 서로 연관성있는 것 끼리 묶어서 모듈화하는 개발하는 언어들을 객체지향프로그래밍 언어라고 한다."
   ]
  },
  {
   "cell_type": "code",
   "execution_count": null,
   "metadata": {},
   "outputs": [],
   "source": [
    "프로그래밍의 방식.\n",
    " \n",
    "절차지향 -> 순서\n",
    "객체지향 -> 재사용성"
   ]
  },
  {
   "cell_type": "markdown",
   "metadata": {
    "slideshow": {
     "slide_type": "fragment"
    }
   },
   "source": [
    "# Instance(객체)\n",
    "- 연관성 있는 값들과 그 값들을 처리하는 함수(메소드)들을 묶어서 가지고 있는 것(값).\n",
    "- 객체의 구성요소\n",
    "    - 속성(Attribute)\n",
    "        - 객체의 데이터/상태로 객체를 구성하는 값들.\n",
    "    - 메소드(method)\n",
    "        - 객체가 제공하는 기능으로 주로 Attribute들을 처리한다.\n",
    "        "
   ]
  },
  {
   "cell_type": "code",
   "execution_count": 155,
   "metadata": {},
   "outputs": [],
   "source": [
    "class Person():\n",
    "    pass"
   ]
  },
  {
   "cell_type": "code",
   "execution_count": 162,
   "metadata": {},
   "outputs": [
    {
     "data": {
      "text/plain": [
       "{'name': 'kim', 'age': 30}"
      ]
     },
     "execution_count": 162,
     "metadata": {},
     "output_type": "execute_result"
    }
   ],
   "source": [
    "p = Person()\n",
    "#속성을 추가\n",
    "p.name = 'kim'\n",
    "p.age = 30  # 초기화\n",
    "p.__dict__  #딕셔너리로 가지고 있는 요소 반환\n",
    "p.age = 20  # 변경"
   ]
  },
  {
   "cell_type": "code",
   "execution_count": 161,
   "metadata": {},
   "outputs": [
    {
     "data": {
      "text/plain": [
       "{'name': 'Park', 'age': 25}"
      ]
     },
     "execution_count": 161,
     "metadata": {},
     "output_type": "execute_result"
    }
   ],
   "source": [
    "p2 = Person()\n",
    "p2.name = 'Park'\n",
    "p2.age = 25\n",
    "p2.__dict__"
   ]
  },
  {
   "cell_type": "code",
   "execution_count": null,
   "metadata": {},
   "outputs": [],
   "source": []
  },
  {
   "cell_type": "markdown",
   "metadata": {
    "slideshow": {
     "slide_type": "subslide"
    }
   },
   "source": [
    "## Class(클래스) 정의\n",
    "\n",
    "- class란: 객체의 설계도\n",
    "    - 동일한 형태의 객체들이 가져야 하는 Attribute와 Method들을 정의 한 것\n",
    "        - 클래스를 정의할 때 어떤 속성과 메소드를 가지는지 먼저 설계해야 한다.\n",
    "    - 클래스로 부터 객체(instance)를 생성한 뒤 사용한다.\n",
    "```python\n",
    "class 클래스이름:  #선언부\n",
    "    #클래스 구현\n",
    "    #메소드들을 정의\n",
    "```\n",
    "- 클래스 이름의 관례: 파스칼 표기법-각 단어의 첫글자는 대문자 나머진 소문자로 정의한다.\n",
    "    - ex) Person, Student, HighSchoolStudent\n",
    "    "
   ]
  },
  {
   "cell_type": "markdown",
   "metadata": {
    "slideshow": {
     "slide_type": "fragment"
    }
   },
   "source": [
    "## 클래스로부터 객체(Instance) 생성\n",
    "- 클래스는 데이터 타입 instance는 값이다.\n",
    "\n",
    "```python\n",
    "변수 = 클래스이름()\n",
    "```"
   ]
  },
  {
   "cell_type": "code",
   "execution_count": 1,
   "metadata": {},
   "outputs": [],
   "source": [
    "class Charicter() :\n",
    "    ..."
   ]
  },
  {
   "cell_type": "code",
   "execution_count": 8,
   "metadata": {
    "slideshow": {
     "slide_type": "fragment"
    }
   },
   "outputs": [],
   "source": [
    "class Charicter :\n",
    "    def __init__(self, nm_ : str , * , lv_ : int = 1, hp_ : int = 100, mp_ : int = 100 , of_ : int = 0, df_ : int = 0, is_death_ : bool = False):\n",
    "      self.name = nm_\n",
    "      self.lv = lv_\n",
    "      self.hp = hp_\n",
    "      self.mp = mp_\n",
    "      self.ofence = of_\n",
    "      self.defence = df_\n",
    "      self.is_death = is_death_\n",
    "\n",
    "    def defn(self, atck : int):\n",
    "      demage = (atck - self.defence)\n",
    "      if demage > 0 :\n",
    "        self.hp -= demage\n",
    "        \n",
    "      if self.hp <= 0 :\n",
    "        self.death()\n",
    "        \n",
    "    def atck(self, enemy : Charicter):\n",
    "      enemy.defn(self.ofence)\n",
    "    \n",
    "    \n",
    "    def death(self):\n",
    "      if not self.is_death:\n",
    "        print(self.name, '으악', self.hp)\n",
    "        self.is_death = True\n",
    "      else :\n",
    "        print(self.name, '은/는 이미 죽었습니다.')\n",
    "      \n",
    "\n",
    "        "
   ]
  },
  {
   "cell_type": "code",
   "execution_count": 9,
   "metadata": {},
   "outputs": [],
   "source": [
    "my_char = Charicter('나', lv_= 10, hp_= 100, mp_= 100, of_= 10, df_= 5)"
   ]
  },
  {
   "cell_type": "code",
   "execution_count": 10,
   "metadata": {},
   "outputs": [],
   "source": [
    "enemy_Char = Charicter('적', lv_=20 , hp_= 500, of_= 5)"
   ]
  },
  {
   "cell_type": "code",
   "execution_count": 11,
   "metadata": {},
   "outputs": [
    {
     "data": {
      "text/plain": [
       "100"
      ]
     },
     "execution_count": 11,
     "metadata": {},
     "output_type": "execute_result"
    }
   ],
   "source": [
    "my_char.hp"
   ]
  },
  {
   "cell_type": "code",
   "execution_count": 12,
   "metadata": {},
   "outputs": [
    {
     "data": {
      "text/plain": [
       "500"
      ]
     },
     "execution_count": 12,
     "metadata": {},
     "output_type": "execute_result"
    }
   ],
   "source": [
    "enemy_Char.hp"
   ]
  },
  {
   "cell_type": "code",
   "execution_count": 13,
   "metadata": {},
   "outputs": [
    {
     "name": "stdout",
     "output_type": "stream",
     "text": [
      "적 으악 0\n",
      "적 은/는 이미 죽었습니다.\n",
      "적 은/는 이미 죽었습니다.\n",
      "적 은/는 이미 죽었습니다.\n",
      "적 은/는 이미 죽었습니다.\n",
      "적 은/는 이미 죽었습니다.\n"
     ]
    }
   ],
   "source": [
    "for i in range(55) :\n",
    "    my_char.atck(enemy_Char) \n"
   ]
  },
  {
   "cell_type": "code",
   "execution_count": 150,
   "metadata": {},
   "outputs": [
    {
     "data": {
      "text/plain": [
       "-1"
      ]
     },
     "execution_count": 150,
     "metadata": {},
     "output_type": "execute_result"
    }
   ],
   "source": [
    "l = 'asdbiuabskf'\n",
    "\n",
    "l.find('A')"
   ]
  },
  {
   "cell_type": "code",
   "execution_count": 91,
   "metadata": {},
   "outputs": [],
   "source": [
    "l = ['asd','sdaf','asdf','qwe','vcx']\n"
   ]
  },
  {
   "cell_type": "code",
   "execution_count": 151,
   "metadata": {},
   "outputs": [],
   "source": []
  },
  {
   "cell_type": "code",
   "execution_count": 152,
   "metadata": {},
   "outputs": [],
   "source": []
  },
  {
   "cell_type": "code",
   "execution_count": 154,
   "metadata": {},
   "outputs": [],
   "source": []
  },
  {
   "cell_type": "code",
   "execution_count": null,
   "metadata": {},
   "outputs": [],
   "source": []
  },
  {
   "cell_type": "markdown",
   "metadata": {
    "slideshow": {
     "slide_type": "subslide"
    }
   },
   "source": [
    "## Attribute(속성) \n",
    "- attribute는 객체의 데이터, 객체가 가지는 값, 객체의 상태\n",
    "\n",
    "### 객체에 속성을 추가, 조회\n",
    "- 객체의 속성 추가(값 변경)\n",
    "    1. Initializer(생성자)를 통한 추가\n",
    "    2. 객체.속성명 = 값 (추가/변경)\n",
    "    3. 메소드를 통한 추가/변경\n",
    "    - 1(Initializer)은 초기화할 때. 2, 3은 속성값을 변경할 때 적용.\n",
    "- 속성 값 조회\n",
    "    - 객체.속성명\n",
    "- **객체.\\_\\_dict\\_\\_**\n",
    "    - 객체가 가지고 있는 Attribute들을 dictionary로 반환한다."
   ]
  },
  {
   "cell_type": "code",
   "execution_count": null,
   "metadata": {
    "slideshow": {
     "slide_type": "fragment"
    }
   },
   "outputs": [],
   "source": []
  },
  {
   "cell_type": "markdown",
   "metadata": {
    "slideshow": {
     "slide_type": "subslide"
    }
   },
   "source": [
    "### 생성자(Initializer)\n",
    "- 객체를 생성할 때 호출되는 특수메소드로 attribute들 초기화에 하는 코드를 구현한다.\n",
    "    - Inializer를 이용해 초기화하는 Attribute들이 그 클래스의 객체들이 가져야 하는 공통 Attribute가 된다.\n",
    "- 구문\n",
    "```python\n",
    "def __init__(self [,매개변수들 선언]):  #[ ] 옵션.\n",
    "    # 구현 -> attribute(instance변수) 초기화\n",
    "    self.속성명 = 값\n",
    "```\n",
    "> 변수 초기화: 처음 변수 만들어서 처음 값 대입.    "
   ]
  },
  {
   "cell_type": "markdown",
   "metadata": {
    "slideshow": {
     "slide_type": "fragment"
    }
   },
   "source": [
    "### self  parameter\n",
    "- 메소드는 반드시 한개 이상의 parameter를 선언해야 하고 그 첫번째 parameter를 말한다.\n",
    "- 메소드 호출시 그 메소드를 소유한 instance가 self parameter에 할당된다.\n",
    "- Initializer의 self\n",
    "    - 현재 만들어 지고 있는 객체를 받는다.\n",
    "- 메소드의 self\n",
    "    - 메소드를 소유한 객체를 받는다.\n",
    "- Caller에서 생성자/메소드에 전달된 argument들을 받을 parameter는 두번째 변수부터 선언한다.    "
   ]
  },
  {
   "cell_type": "code",
   "execution_count": 14,
   "metadata": {
    "slideshow": {
     "slide_type": "fragment"
    }
   },
   "outputs": [],
   "source": [
    "class AAA :\n",
    "    def __init__(self, name : str, age : int, email : str):\n",
    "        self.name = name\n",
    "        self.age = age\n",
    "        self.email = email\n",
    "        "
   ]
  },
  {
   "cell_type": "code",
   "execution_count": 15,
   "metadata": {},
   "outputs": [
    {
     "data": {
      "text/plain": [
       "{'name': 'kim', 'age': 30, 'email': 'hyenzzang@naver.com'}"
      ]
     },
     "execution_count": 15,
     "metadata": {},
     "output_type": "execute_result"
    }
   ],
   "source": [
    "a1 = AAA('kim', 30, 'hyenzzang@naver.com')\n",
    "a1.__dict__"
   ]
  },
  {
   "cell_type": "markdown",
   "metadata": {
    "slideshow": {
     "slide_type": "subslide"
    }
   },
   "source": [
    "### Instance 메소드(method)\n",
    "- 객체가 제공하는 기능\n",
    "- 객체의 attribute 값을 처리하는 기능을 구현한다.\n",
    "- 구문\n",
    "```python\n",
    "def 이름(self [, 매개변수들 선언]):\n",
    "    # 구현\n",
    "    # attribute 사용(조회/대입)\n",
    "    self.attribute \n",
    "```\n",
    "- self (첫번째 매개변수)\n",
    "    - 메소드를 소유한 객체를 받는 변수\n",
    "    - 호출할 때 전달하는 argument를 받는 매개변수는 두번째 부터 선언한다.\n",
    "![self](images/ch06_01.png)\n",
    "    \n",
    "- **메소드 호출**\n",
    "    - `객체.메소드이름([argument, ...])`"
   ]
  },
  {
   "cell_type": "code",
   "execution_count": null,
   "metadata": {
    "slideshow": {
     "slide_type": "fragment"
    }
   },
   "outputs": [],
   "source": []
  },
  {
   "cell_type": "markdown",
   "metadata": {
    "slideshow": {
     "slide_type": "slide"
    }
   },
   "source": [
    "## 정보 은닉 (Information Hiding)\n",
    "- Attribute의 값을 caller(객체 외부)가 마음대로 바꾸지 못하게 하기 위해 직접 호출을 막고 setter/getter 메소드를 통해 값을 변경/조회 하도록 한다.\n",
    "    - 데이터 보호가 주목적이다.\n",
    "    - 변경 메소드에 Attribube 변경 조건을 넣어 업무 규칙에 맞는 값들만 변경되도록 처리한다.\n",
    "    - **setter**\n",
    "        - Attribute의 값을 변경하는 메소드. 관례상 set 으로 시작\n",
    "    - **getter**\n",
    "        - Attribute의 값을 조회하는 메소드. 관례상 get 으로 시작\n",
    "- Attribute 직접 호출 막기\n",
    "    - Attribute의 이름을 \\_\\_(double underscore)로 시작한다. (\\_\\_로 끝나면 안된다.)\n",
    "    - 같은 클래스에서는 선언한 이름으로 사용가능하지만 외부에서는 그 이름으로 호출할 수 없게 된다.\n",
    "    "
   ]
  },
  {
   "cell_type": "code",
   "execution_count": 16,
   "metadata": {},
   "outputs": [],
   "source": [
    "# Infomaion Hiding을 적용한 클래스\n",
    "## instance 변수를 private으로 선언\n",
    "## setter, getter를 통해 접근/변경 가능"
   ]
  },
  {
   "cell_type": "code",
   "execution_count": 17,
   "metadata": {
    "slideshow": {
     "slide_type": "fragment"
    }
   },
   "outputs": [],
   "source": [
    "class Info :\n",
    "    def __init__(self, name : str, age : int, email : str):\n",
    "        self.__name = name                                  # __는 private\n",
    "        self.__age = age\n",
    "        self.__email = email\n",
    "    \n",
    "    def set_name(self, name : str):                         # setter\n",
    "        self.__name = name                                  # 같은 클래스 내에서는 __name으로 접근 가능\n",
    "                                                            # 외부에서는 set_name으로 접근 가능\n",
    "                                                            # 조건을 걸어서 제한 가능\n",
    "    \n",
    "    def set_age(self, age : int):\n",
    "        self.__age = age\n",
    "        \n",
    "    def set_email(self, email : str):\n",
    "        self.__email = email\n",
    "\n",
    "    def get_info(self):                                     # getter\n",
    "        return self.__name, self.__age, self.__email        # 같은 클래스 내에서는 __name으로 접근 가능\n",
    "    \n",
    "    def print_info(self):                                   # print_info\n",
    "        print(*self.get_info())"
   ]
  },
  {
   "cell_type": "code",
   "execution_count": 18,
   "metadata": {},
   "outputs": [
    {
     "name": "stdout",
     "output_type": "stream",
     "text": [
      "kim 30 hyenzzang@naver.com\n",
      "kim 30 hyenzzang94@mgail.com\n",
      "{'_Info__name': 'kim', '_Info__age': 30, '_Info__email': 'hyenzzang94@mgail.com', '__name': '김준현'}\n"
     ]
    }
   ],
   "source": [
    "my_info = Info('kim', 30, 'hyenzzang@naver.com')\n",
    "\n",
    "my_info.print_info()\n",
    "\n",
    "my_info.set_email('hyenzzang94@mgail.com')       # setter를 통해 변경\n",
    "\n",
    "my_info.print_info()\n",
    "\n",
    "my_info.__dict__                                 # __dict__는 private 변수도 출력 -> private 변수의 바뀐 이름으로는 접근/변경 가능\n",
    "\n",
    "my_info.__name = '김준현'\n",
    "\n",
    "print(my_info.__dict__)                          # private 변수를 억지로 바꾸려 해도 새 변수로 생성됨"
   ]
  },
  {
   "cell_type": "code",
   "execution_count": 19,
   "metadata": {},
   "outputs": [],
   "source": [
    "class Info :\n",
    "    def __init__(self, name : str, age : int, email : str):\n",
    "        self.__name = None                                  # __는 private\n",
    "        self.__age = None\n",
    "        self.__email = None\n",
    "        \n",
    "        self.set_name(name)                                 # setter를 통해 초기화\n",
    "        self.set_age(age)\n",
    "        self.set_email(email)\n",
    "        \n",
    "            \n",
    "    def set_name(self, name : str):                         # setter\n",
    "        self.__name = name                                  # 같은 클래스 내에서는 __name으로 접근 가능\n",
    "                                                            # 외부에서는 set_name으로 접근 가능\n",
    "                                                            # 조건을 걸어서 제한 가능\n",
    "    \n",
    "    def set_age(self, age : int):\n",
    "        self.__age = age\n",
    "        \n",
    "    def set_email(self, email : str):\n",
    "        self.__email = email\n",
    "    \n",
    "    def get_name(self):                                     # getter\n",
    "        return self.__name                                  # 같은 클래스 내에서는 __name으로 접근 가능\n",
    "    \n",
    "    def get_age(self):\n",
    "        return self.__age\n",
    "    \n",
    "    def get_email(self):\n",
    "        return self.__email\n",
    "    \n",
    "    def get_info(self):                                     \n",
    "        return self.__name, self.__age, self.__email        \n",
    "    \n",
    "    def print_info(self):                                   # print_info\n",
    "        print(*self.get_info())"
   ]
  },
  {
   "cell_type": "code",
   "execution_count": 20,
   "metadata": {},
   "outputs": [
    {
     "name": "stdout",
     "output_type": "stream",
     "text": [
      "kim 30 hyenzzang@naver.com\n"
     ]
    }
   ],
   "source": [
    "our_info = Info('kim', 30, 'hyenzzang@naver.com')\n",
    "our_info.print_info()"
   ]
  },
  {
   "cell_type": "code",
   "execution_count": 21,
   "metadata": {},
   "outputs": [
    {
     "data": {
      "text/plain": [
       "'kim'"
      ]
     },
     "execution_count": 21,
     "metadata": {},
     "output_type": "execute_result"
    }
   ],
   "source": [
    "our_info.get_name()"
   ]
  },
  {
   "cell_type": "markdown",
   "metadata": {
    "slideshow": {
     "slide_type": "subslide"
    }
   },
   "source": [
    "### property함수를 사용\n",
    "- 은닉된 instance 변수의 값을 사용할 때 getter/setter대신 변수를 사용하는 방식으로 호출할 수 있도록 한다.\n",
    "- 구현\n",
    "    1. getter/setter 메소드를 만든다.\n",
    "    2. 변수 = property(getter, setter) 를 등록한다.\n",
    "    3. 호출\n",
    "        - 값조회: 변수를 사용 => getter가 호출 된다.\n",
    "        - 값변경: 변수 = 변경할 값 => setter가 호출 된다."
   ]
  },
  {
   "cell_type": "code",
   "execution_count": 22,
   "metadata": {
    "slideshow": {
     "slide_type": "fragment"
    }
   },
   "outputs": [],
   "source": [
    "class Info :\n",
    "    def __init__(self, name : str, age : int):\n",
    "        self.__name = None                                  # __는 private\n",
    "        self.__age = None\n",
    "        \n",
    "        self.set_name(name)                                 \n",
    "        self.set_age(age)\n",
    "        \n",
    "            \n",
    "    def set_name(self, name : str):                         # setter\n",
    "        print(f'Info.set_name({name})')                     # setter가 호출되는지 확인\n",
    "        self.__name = name                                  \n",
    "    \n",
    "    def set_age(self, age : int):\n",
    "        print(f'Info.set_age({age})')\n",
    "        self.__age = age\n",
    "        \n",
    "    def get_name(self):                                     # getter\n",
    "        print(f'Info.get_name()')                           # getter가 호출되는지 확인\n",
    "        return self.__name                                  \n",
    "    \n",
    "    def get_age(self):\n",
    "        print(f'Info.get_age()')\n",
    "        return self.__age\n",
    "    \n",
    "    def get_info(self):                                     \n",
    "        return self.__name, self.__age      \n",
    "    \n",
    "    def print_info(self):                                   # print_info\n",
    "        print(*self.get_info())\n",
    "        \n",
    "    name = property(get_name, set_name)                     # property를 통해 getter, setter를 한번에 선언\n",
    "    age = property(get_age, set_age)"
   ]
  },
  {
   "cell_type": "code",
   "execution_count": 23,
   "metadata": {},
   "outputs": [
    {
     "name": "stdout",
     "output_type": "stream",
     "text": [
      "Info.set_name(kim)\n",
      "Info.set_age(30)\n",
      "Info.set_age(31)\n",
      "Info.get_age()\n",
      "31\n"
     ]
    }
   ],
   "source": [
    "my_info = Info('kim', 30)\n",
    "\n",
    "my_info.age = 31\n",
    "print(my_info.age)"
   ]
  },
  {
   "cell_type": "markdown",
   "metadata": {
    "slideshow": {
     "slide_type": "subslide"
    },
    "tags": []
   },
   "source": [
    "### 데코레이터(decorator)를 이용해 property 지정.\n",
    "- setter/getter 구현 + property()를 이용해 변수 등록 하는 것을 더 간단하게 구현하는 방식\n",
    "- setter/getter 메소드이름을 변수처럼 지정. (보통은 같은 이름으로 지정)\n",
    "- getter메소드: @property 데코레이터를 선언  \n",
    "- setter메소드: @getter메소드이름.setter  데코레이터를 선언.\n",
    "    - 반드시 getter 메소드를 먼저 정의한다.\n",
    "    - setter메소드 이름은 getter와 동일해야 한다.\n",
    "- getter/setter의 이름을 Attribute 변수처럼 사용한다.\n",
    "- 주의: getter/setter 메소드를 직접 호출 할 수 없다. 변수형식으로만 호출가능하다."
   ]
  },
  {
   "cell_type": "code",
   "execution_count": 24,
   "metadata": {
    "slideshow": {
     "slide_type": "fragment"
    }
   },
   "outputs": [],
   "source": [
    "class Info :\n",
    "    def __init__(self, name : str, age : int):\n",
    "        self.__name = None                                  # __는 private\n",
    "        self.__age = None\n",
    "        \n",
    "        self.name = name                                    # setter를 통해 초기화                                 \n",
    "        self.age = age\n",
    "    \n",
    "    @property                                               # decorator를 통해 getter 선언    \n",
    "    def name(self):                                         # decorator/ getter를 먼저 선언\n",
    "        print(f'Info.get_name()')                           # getter가 호출되는지 확인\n",
    "        return self.__name                                  \n",
    "    \n",
    "    @property\n",
    "    def age(self):\n",
    "        print(f'Info.get_age()')\n",
    "        return self.__age  \n",
    "            \n",
    "    @name.setter                                            # decorator/ setter를 선언\n",
    "    def name(self, name : str):                             # setter\n",
    "        print(f'Info.set_name({name})')                     # setter가 호출되는지 확인\n",
    "        self.__name = name                                  \n",
    "    \n",
    "    @age.setter\n",
    "    def age(self, age : int):\n",
    "        print(f'Info.set_age({age})')\n",
    "        self.__age = age\n",
    "    \n",
    "    def print_info(self):                                   # print_info\n",
    "        print(self.name, self.age)"
   ]
  },
  {
   "cell_type": "code",
   "execution_count": 26,
   "metadata": {},
   "outputs": [],
   "source": [
    "# decorator는 함수를 인자로 받아서 함수를 반환하는 함수\n",
    "# decorator를 통해 getter, setter 같은 이름으로 함수를 선언\n",
    "# getter를 먼저 @property로 선언\n",
    "# setter를 @property로 선언한 함수의 이름.setter로 선언"
   ]
  },
  {
   "cell_type": "code",
   "execution_count": 25,
   "metadata": {},
   "outputs": [
    {
     "name": "stdout",
     "output_type": "stream",
     "text": [
      "Info.set_name(kim)\n",
      "Info.set_age(30)\n",
      "Info.set_age(31)\n",
      "Info.get_age()\n",
      "31\n"
     ]
    }
   ],
   "source": [
    "your_info = Info('kim', 30) # init이 호출되면서 setter가 호출됨\n",
    "your_info.age = 31          # setter가 호출됨\n",
    "print(your_info.age)        # getter가 호출됨, setter를 통해 변경된 값이 출력됨"
   ]
  },
  {
   "cell_type": "code",
   "execution_count": 1,
   "metadata": {},
   "outputs": [],
   "source": [
    "class Person7:\n",
    "    \n",
    "    def __init__(self, name, age, address):\n",
    "        # instance 변수 초기 -> 변수명: `__이름`\n",
    "        self.__name = None\n",
    "        self.__age = None\n",
    "        \n",
    "        self.name = name  # setter name메소드(name)\n",
    "        self.age = age    # setter age메소드(age) 호출\n",
    "        self.address = address# 주소는 특별한 설정 규칙이 없다.\n",
    "    \n",
    "    @property\n",
    "    def name(self):\n",
    "        print(\"Peron7.name()-getter\")\n",
    "        return self.__name\n",
    "    \n",
    "    @property\n",
    "    def age(self):\n",
    "        print(\"Person7.age()-getter\")\n",
    "        return self.__age\n",
    "    \n",
    "    @name.setter\n",
    "    def name(self, name): \n",
    "        print(f\"Person7.name({name})-setter\")\n",
    "        if name != None and len(name) >= 2:\n",
    "            self.__name = name \n",
    "        else:\n",
    "            print(\"이름은 두글자 이상만 넣으세요.\")\n",
    "        \n",
    "    @age.setter\n",
    "    def age(self, age):\n",
    "        print(f\"Person7.age({age})-setter\")\n",
    "        if age >= 0:\n",
    "            self.__age = age\n",
    "        else:\n",
    "            print(\"나이는 양수만 가능합니다.\")\n",
    "            \n",
    "   "
   ]
  },
  {
   "cell_type": "markdown",
   "metadata": {
    "slideshow": {
     "slide_type": "subslide"
    }
   },
   "source": [
    "## TODO\n",
    "- 제품 클래스 구현\n",
    "- 속성 : 제품ID:str 제품이름: str, 제품가격:int, 제조사이름:str\n",
    "-       정보은닉에 맞춰서 작성. 값을 대입/조회 하는 것은 변수처리 방식을 할 수 있도록 구현.\n",
    "- 메소드: 전체 정보를 출력하는 메소드\n",
    "\n",
    "메소드 : setter-4개, getter-4개. 전체정보 출력하는 메소드-1개"
   ]
  },
  {
   "cell_type": "code",
   "execution_count": 34,
   "metadata": {
    "slideshow": {
     "slide_type": "fragment"
    }
   },
   "outputs": [],
   "source": [
    "class ProductInfo :\n",
    "    def __init__(self, p_id : str, p_name : str, p_price : int, p_company : str):\n",
    "        self.p_id = p_id\n",
    "        self.p_name = p_name\n",
    "        self.p_price = p_price\n",
    "        self.p_company = p_company\n",
    "        \n",
    "    @property\n",
    "    def p_id(self):\n",
    "        return self.__p_id\n",
    "    \n",
    "    @property\n",
    "    def p_name(self):\n",
    "        return self.__p_name\n",
    "    \n",
    "    @property\n",
    "    def p_price(self):\n",
    "        return self.__p_price\n",
    "    \n",
    "    @property\n",
    "    def p_company(self):\n",
    "        return self.__p_company\n",
    "    \n",
    "    @p_id.setter\n",
    "    def p_id(self, p_id : str):\n",
    "        self.__p_id = p_id\n",
    "    \n",
    "    @p_name.setter\n",
    "    def p_name(self, p_name : str):\n",
    "        self.__p_name = p_name\n",
    "        \n",
    "    @p_price.setter\n",
    "    def p_price(self, p_price : int):\n",
    "        self.__p_price = p_price\n",
    "    \n",
    "    @p_company.setter\n",
    "    def p_company(self, p_company : str):\n",
    "        self.__p_company = p_company\n",
    "    \n",
    "    @property\n",
    "    def p_info(self):\n",
    "        return self.p_id, self.__p_name, self.__p_price, self.__p_company\n",
    "    \n",
    "    def print_info(self):\n",
    "        print('p_ID : {}, p_name : {}, p_price : {}, p_company : {}'.format(*self.p_info))\n",
    "    \n",
    "        "
   ]
  },
  {
   "cell_type": "code",
   "execution_count": 36,
   "metadata": {},
   "outputs": [
    {
     "name": "stdout",
     "output_type": "stream",
     "text": [
      "p_ID : NX2024, p_name : Notebook, p_price : 1400000, p_company : Samsung\n"
     ]
    }
   ],
   "source": [
    "product_info = ProductInfo('NX2023', 'Notebook', 1_400_000, 'Samsung')  # init을 통해 초기화\n",
    "product_info.p_id = 'NX2024'                                            # setter를 통해 값을 변경\n",
    "product_info.print_info()                                               # getter를 통해 변경된 값을 출력"
   ]
  },
  {
   "cell_type": "markdown",
   "metadata": {
    "slideshow": {
     "slide_type": "slide"
    }
   },
   "source": [
    "## 상속 (Inheritance)\n",
    "\n",
    "- 기존 클래스를 확장하여 새로운 클래스를 구현한다.\n",
    "    - 생성된 객체(instance)가 기존 클래스에 정의된 Attribute나 method를 사용할 수있고 그 외의 추가적인 member들을 가질 수 있는 클래스를 구현하는 방법.\n",
    "- **기반(Base) 클래스, 상위(Super) 클래스, 부모(Parent) 클래스**\n",
    "    - 물려 주는 클래스.\n",
    "    - 상속하는 클래스에 비해 더 추상적인 클래스가 된다. \n",
    "    - 상속하는 클래스의 데이터 타입이 된다.\n",
    "- **파생(Derived) 클래스, 하위(Sub) 클래스, 자식(Child) 클래스**\n",
    "    - 상속하는 클래스.\n",
    "    - 상속을 해준 클래스 보다 좀더 구체적인 클래스가 된다.\n",
    "- 상위 클래스와 하위 클래스는 계층관계를 이룬다.\n",
    "    - 상위 클래스는 하위 클래스 객체의 타입이 된다."
   ]
  },
  {
   "cell_type": "code",
   "execution_count": 76,
   "metadata": {},
   "outputs": [],
   "source": [
    "class Unit :\n",
    "    ..."
   ]
  },
  {
   "cell_type": "code",
   "execution_count": 77,
   "metadata": {},
   "outputs": [],
   "source": [
    "class Unit :\n",
    "    def __init__(self, name : str, hp : int, damage : int, is_dead : bool = False):\n",
    "        self.name = name\n",
    "        self.hp = hp\n",
    "        self.damage = damage\n",
    "        print(f'{self.name} 유닛이 생성되었습니다.')\n",
    "        print(f'체력 {self.hp}, 공격력 {self.damage}\\n')\n",
    "        self.is_dead = is_dead\n",
    "        \n",
    "    @property\n",
    "    def name(self):\n",
    "        return self.__name\n",
    "    \n",
    "    @property\n",
    "    def hp(self):\n",
    "        return self.__hp\n",
    "    \n",
    "    @property\n",
    "    def damage(self):\n",
    "        return self.__damage\n",
    "    \n",
    "    @property\n",
    "    def is_dead(self):\n",
    "        return self.__is_dead\n",
    "    \n",
    "    @name.setter\n",
    "    def name(self, name : str):\n",
    "        self.__name = name\n",
    "    \n",
    "    @hp.setter\n",
    "    def hp(self, hp : int):\n",
    "        self.__hp = hp\n",
    "    \n",
    "    @damage.setter\n",
    "    def damage(self, damage : int):\n",
    "        self.__damage = damage\n",
    "        \n",
    "    @is_dead.setter\n",
    "    def is_dead(self, is_dead : bool):\n",
    "        self.__is_dead = is_dead\n",
    "                \n",
    "    def damaged(self, damage : int) :\n",
    "        if self.hp <= 0 :\n",
    "            self.death()\n",
    "        else :\n",
    "            self.hp -= damage\n",
    "            print(f'{self.name} 유닛이 {damage}만큼의 데미지를 입었습니다.')\n",
    "            print(f'{self.name} 유닛의 남은 체력은 {self.hp}입니다.\\n')\n",
    "    \n",
    "    def attack(self, enemy : Unit) :\n",
    "        if not self.__is_dead :\n",
    "            target = enemy\n",
    "        ...\n",
    "        \n",
    "    def move(self, location : str) :\n",
    "        if not self.__is_dead :\n",
    "            ...\n",
    "        \n",
    "    def death(self) :\n",
    "        if not self.__is_dead :\n",
    "            print(f'{self.name} 유닛이 파괴되었습니다.')\n",
    "            self.__is_dead = True\n",
    "        ...\n"
   ]
  },
  {
   "cell_type": "code",
   "execution_count": 82,
   "metadata": {},
   "outputs": [],
   "source": [
    "class AttackUnit(Unit) :\n",
    "    def __init__(self, name : str, hp : int, damage : int):\n",
    "        super().__init__(name, hp, damage)\n",
    "        \n",
    "    def attack(self, enemy : Unit) :\n",
    "        if not self.is_dead :\n",
    "            target = enemy\n",
    "            target.damaged(self.damage)\n",
    "        \n",
    "class MovableUnit(Unit) :\n",
    "    def __init__(self, name : str, hp : int, damage : int, speed : int):\n",
    "        super().__init__(name, hp, damage)\n",
    "        self.speed = speed\n",
    "        \n",
    "    @property\n",
    "    def speed(self):\n",
    "        return self.__speed\n",
    "    \n",
    "    @speed.setter\n",
    "    def speed(self, speed : int):\n",
    "        self.__speed = speed\n",
    "    \n",
    "    def move(self, location : str) :\n",
    "        if not self.is_dead :\n",
    "            print(f'{self.name}가 {location}로 이동합니다. 속도는 {self.speed}입니다.\\n')\n",
    "\n",
    "class FlyableUnit(Unit) :\n",
    "    def __init__(self, name : str, hp : int, damage : int, flying_speed : int):\n",
    "        super().__init__(name, hp, damage)\n",
    "        self.flying_speed = flying_speed\n",
    "        \n",
    "    @property\n",
    "    def flying_speed(self):\n",
    "        return self.__flying_speed\n",
    "    \n",
    "    @flying_speed.setter\n",
    "    def flying_speed(self, flying_speed : int):\n",
    "        self.__flying_speed = flying_speed\n",
    "    \n",
    "    def move(self, location : str) :\n",
    "        if not self.is_dead :\n",
    "            print(f'{self.name}가 {location}로 이동합니다. 속도는 {self.flying_speed}입니다.\\n')\n",
    "        "
   ]
  },
  {
   "cell_type": "code",
   "execution_count": 85,
   "metadata": {},
   "outputs": [
    {
     "name": "stdout",
     "output_type": "stream",
     "text": [
      "Marine 유닛이 생성되었습니다.\n",
      "체력 40, 공격력 5\n",
      "\n",
      "Marine 유닛이 생성되었습니다.\n",
      "체력 40, 공격력 5\n",
      "\n",
      "Marine 유닛이 생성되었습니다.\n",
      "체력 40, 공격력 5\n",
      "\n",
      "Mutalisk 유닛이 생성되었습니다.\n",
      "체력 80, 공격력 10\n",
      "\n",
      "Mutalisk 유닛이 생성되었습니다.\n",
      "체력 80, 공격력 10\n",
      "\n",
      "Mutalisk 유닛이 생성되었습니다.\n",
      "체력 80, 공격력 10\n",
      "\n",
      "Marine가 1시로 이동합니다. 속도는 1입니다.\n",
      "\n",
      "Mutalisk 유닛이 5만큼의 데미지를 입었습니다.\n",
      "Mutalisk 유닛의 남은 체력은 75입니다.\n",
      "\n",
      "Mutalisk 유닛이 5만큼의 데미지를 입었습니다.\n",
      "Mutalisk 유닛의 남은 체력은 70입니다.\n",
      "\n",
      "Mutalisk 유닛이 5만큼의 데미지를 입었습니다.\n",
      "Mutalisk 유닛의 남은 체력은 65입니다.\n",
      "\n",
      "Mutalisk 유닛이 5만큼의 데미지를 입었습니다.\n",
      "Mutalisk 유닛의 남은 체력은 60입니다.\n",
      "\n",
      "Mutalisk 유닛이 5만큼의 데미지를 입었습니다.\n",
      "Mutalisk 유닛의 남은 체력은 55입니다.\n",
      "\n",
      "Mutalisk 유닛이 5만큼의 데미지를 입었습니다.\n",
      "Mutalisk 유닛의 남은 체력은 50입니다.\n",
      "\n",
      "Marine가 1시로 이동합니다. 속도는 1입니다.\n",
      "\n",
      "Mutalisk 유닛이 5만큼의 데미지를 입었습니다.\n",
      "Mutalisk 유닛의 남은 체력은 45입니다.\n",
      "\n",
      "Mutalisk 유닛이 5만큼의 데미지를 입었습니다.\n",
      "Mutalisk 유닛의 남은 체력은 40입니다.\n",
      "\n",
      "Mutalisk 유닛이 5만큼의 데미지를 입었습니다.\n",
      "Mutalisk 유닛의 남은 체력은 35입니다.\n",
      "\n",
      "Mutalisk 유닛이 5만큼의 데미지를 입었습니다.\n",
      "Mutalisk 유닛의 남은 체력은 30입니다.\n",
      "\n",
      "Mutalisk 유닛이 5만큼의 데미지를 입었습니다.\n",
      "Mutalisk 유닛의 남은 체력은 25입니다.\n",
      "\n",
      "Mutalisk 유닛이 5만큼의 데미지를 입었습니다.\n",
      "Mutalisk 유닛의 남은 체력은 20입니다.\n",
      "\n",
      "Marine가 1시로 이동합니다. 속도는 1입니다.\n",
      "\n",
      "Mutalisk 유닛이 5만큼의 데미지를 입었습니다.\n",
      "Mutalisk 유닛의 남은 체력은 15입니다.\n",
      "\n",
      "Mutalisk 유닛이 5만큼의 데미지를 입었습니다.\n",
      "Mutalisk 유닛의 남은 체력은 10입니다.\n",
      "\n",
      "Mutalisk 유닛이 5만큼의 데미지를 입었습니다.\n",
      "Mutalisk 유닛의 남은 체력은 5입니다.\n",
      "\n",
      "Mutalisk 유닛이 5만큼의 데미지를 입었습니다.\n",
      "Mutalisk 유닛의 남은 체력은 0입니다.\n",
      "\n",
      "Mutalisk 유닛이 파괴되었습니다.\n",
      "Mutalisk가 1시로 이동합니다. 속도는 2입니다.\n",
      "\n",
      "Marine 유닛이 10만큼의 데미지를 입었습니다.\n",
      "Marine 유닛의 남은 체력은 30입니다.\n",
      "\n",
      "Marine 유닛이 10만큼의 데미지를 입었습니다.\n",
      "Marine 유닛의 남은 체력은 20입니다.\n",
      "\n",
      "Marine 유닛이 10만큼의 데미지를 입었습니다.\n",
      "Marine 유닛의 남은 체력은 10입니다.\n",
      "\n",
      "Mutalisk가 1시로 이동합니다. 속도는 2입니다.\n",
      "\n",
      "Marine 유닛이 10만큼의 데미지를 입었습니다.\n",
      "Marine 유닛의 남은 체력은 0입니다.\n",
      "\n",
      "Marine 유닛이 파괴되었습니다.\n"
     ]
    }
   ],
   "source": [
    "class Marine(MovableUnit, AttackUnit) :\n",
    "    def __init__(self):\n",
    "        super().__init__('Marine', 40, 5, 1)\n",
    "\n",
    "class Mutalisk(FlyableUnit, AttackUnit) :\n",
    "    def __init__(self):\n",
    "        super().__init__('Mutalisk', 80, 10, 2)\n",
    "\n",
    "t_u = [Marine() for _ in range(3)]\n",
    "z_u = [Mutalisk() for _ in range(3)]\n",
    "\n",
    "for u in t_u :\n",
    "    u.move('1시')\n",
    "    u.attack(z_u[0])\n",
    "    u.attack(z_u[0])\n",
    "    u.attack(z_u[0])\n",
    "    u.attack(z_u[0])\n",
    "    u.attack(z_u[0])\n",
    "    u.attack(z_u[0])\n",
    "    \n",
    "z_u = [u for u in z_u if not u.is_dead]\n",
    "for u in z_u :\n",
    "    u.move('1시')\n",
    "    u.attack(t_u[0])\n",
    "    u.attack(t_u[0])\n",
    "    u.attack(t_u[0])\n",
    "\n",
    "t_u = [u for u in t_u if not u.is_dead]"
   ]
  },
  {
   "cell_type": "code",
   "execution_count": 86,
   "metadata": {},
   "outputs": [
    {
     "name": "stdout",
     "output_type": "stream",
     "text": [
      "[<__main__.Marine object at 0x00000210335F2D70>, <__main__.Marine object at 0x00000210335F2F50>] [<__main__.Mutalisk object at 0x00000210335F3E50>, <__main__.Mutalisk object at 0x00000210335F0B80>]\n"
     ]
    }
   ],
   "source": [
    "print(t_u, z_u)"
   ]
  },
  {
   "cell_type": "code",
   "execution_count": 87,
   "metadata": {},
   "outputs": [],
   "source": [
    "class Person :\n",
    "    def eat(self) :\n",
    "        print('eat')\n",
    "        \n",
    "    def sleep(self) :\n",
    "        print('sleep')\n",
    "\n",
    "class Student(Person) :\n",
    "    def study(self) :\n",
    "        print('study')\n",
    "        \n",
    "class teacher(Person) :\n",
    "    def teach(self) :\n",
    "        print('teach')\n",
    "        \n",
    "class UniversityStudent(Student) :\n",
    "    def drink(self) :\n",
    "        print('drink')"
   ]
  },
  {
   "cell_type": "code",
   "execution_count": 89,
   "metadata": {},
   "outputs": [
    {
     "name": "stdout",
     "output_type": "stream",
     "text": [
      "eat\n",
      "sleep\n",
      "eat\n",
      "study\n",
      "eat\n",
      "teach\n",
      "eat\n",
      "sleep\n",
      "drink\n"
     ]
    }
   ],
   "source": [
    "p = Person()\n",
    "s = Student()\n",
    "t = teacher()\n",
    "us = UniversityStudent()\n",
    "\n",
    "p.eat()\n",
    "p.sleep()\n",
    "\n",
    "s.eat()\n",
    "s.study()\n",
    "\n",
    "t.eat()\n",
    "t.teach()\n",
    "\n",
    "us.eat()\n",
    "us.sleep()\n",
    "us.drink()"
   ]
  },
  {
   "cell_type": "code",
   "execution_count": 91,
   "metadata": {},
   "outputs": [
    {
     "data": {
      "text/plain": [
       "[__main__.UniversityStudent, __main__.Student, __main__.Person, object]"
      ]
     },
     "execution_count": 91,
     "metadata": {},
     "output_type": "execute_result"
    }
   ],
   "source": [
    "UniversityStudent.mro()"
   ]
  },
  {
   "cell_type": "code",
   "execution_count": null,
   "metadata": {},
   "outputs": [],
   "source": []
  },
  {
   "cell_type": "markdown",
   "metadata": {
    "slideshow": {
     "slide_type": "subslide"
    }
   },
   "source": [
    "### 다중상속과 단일 상속\n",
    "- 다중상속\n",
    "    - 여러 클래스로부터 상속할 수 있다\n",
    "- 단일상속\n",
    "    - 하나의 클래스로 부터만 상속할 수 있다.\n",
    "- 파이썬은 다중상속을 지원한다.\n",
    "- MRO (Method Resolution Order)\n",
    "    - 다중상속시 메소드 호출할 때 그 메소드를 찾는 순서. \n",
    "    1. 자기자신\n",
    "    2. 상위클래스(하위에서 상위로 올라간다)\n",
    "        - 다중상속의 경우 먼저 선언한 클래스 부터 찾는다. (왼쪽->오른쪽)\n",
    "- MRO 순서 조회 \n",
    "    - Class이름.mro()"
   ]
  },
  {
   "cell_type": "code",
   "execution_count": 96,
   "metadata": {
    "slideshow": {
     "slide_type": "fragment"
    }
   },
   "outputs": [],
   "source": [
    "class Person :\n",
    "    def eat(self) :\n",
    "        print('eat')\n",
    "\n",
    "class Worker(Person) :\n",
    "    def work(self) :\n",
    "        print('work')\n",
    "\n",
    "class UniversityStudent(Student, Worker) :\n",
    "    def drink(self) :\n",
    "        print('drink')\n",
    "        super().eat()"
   ]
  },
  {
   "cell_type": "code",
   "execution_count": 97,
   "metadata": {},
   "outputs": [
    {
     "name": "stdout",
     "output_type": "stream",
     "text": [
      "drink\n",
      "eat\n"
     ]
    }
   ],
   "source": [
    "us = UniversityStudent()\n",
    "us.drink()"
   ]
  },
  {
   "cell_type": "markdown",
   "metadata": {
    "slideshow": {
     "slide_type": "subslide"
    }
   },
   "source": [
    "### Method Overriding (메소드 재정의)\n",
    "상위 클래스의 메소드의 구현부를 하위 클래스에서 다시 구현하는 것을 말한다.  \n",
    "상위 클래스는 모든 하위 클래스들에 적용할 수 있는 추상적인 구현밖에는 못한다.  \n",
    "이 경우 하위 클래스에서 그 내용을 자신에 맞게 좀더 구체적으로 재구현할 수 있게 해주는 것을 Method Overriding이라고 한다.  \n",
    "방법은 하위 클래스에서 overriding할 메소드의 선언문은 그래로 사용하고 그 구현부는 재구현하면 된다.  \n",
    "\n",
    "### super() 내장함수\n",
    "- 하위 클래스에서 상위 클래스의 instance를 반환(return) 해주는 함수\n",
    "- 구문\n",
    "```python\n",
    "super().메소드명() \n",
    "```\n",
    "- 상위 클래스의 Instance 메소드를 호출할 때 – super().메소드()\n",
    "    - 특히 method overriding을 한 클래스에서 상위 클래스의 overriding한 메소드를 호출 할 경우 반드시 `super().메소드() `형식으로 호출해야 한다.\n",
    "- 같은 클래스의 Instance 메소드를 호출할 때 – self.메소드()"
   ]
  },
  {
   "cell_type": "code",
   "execution_count": 101,
   "metadata": {
    "slideshow": {
     "slide_type": "fragment"
    }
   },
   "outputs": [],
   "source": [
    "class Person :\n",
    "    def __init__(self, name : str, age : int, adress : str = None):\n",
    "        self.__name = self.__age = self.__adress = None\n",
    "        \n",
    "        self.name = name\n",
    "        self.age = age\n",
    "        self.adress = adress\n",
    "        \n",
    "    @property\n",
    "    def name(self):\n",
    "        return self.__name\n",
    "    \n",
    "    @property\n",
    "    def age(self):\n",
    "        return self.__age\n",
    "    \n",
    "    @property\n",
    "    def adress(self):\n",
    "        return self.__adress\n",
    "    \n",
    "    @name.setter\n",
    "    def name(self, name : str):\n",
    "        if len(name) >= 2 :\n",
    "            self.__name = name\n",
    "        \n",
    "    @age.setter\n",
    "    def age(self, age : int):\n",
    "        if age >= 0 :\n",
    "            self.__age = age\n",
    "    \n",
    "    @adress.setter\n",
    "    def adress(self, adress : str):\n",
    "        if adress :\n",
    "            self.__adress = adress\n",
    "            \n",
    "    def get_info(self):\n",
    "        return f'이름 : {self.name}, 나이 : {self.age}, 주소 : {self.adress}'"
   ]
  },
  {
   "cell_type": "code",
   "execution_count": 109,
   "metadata": {},
   "outputs": [],
   "source": [
    "class Student(Person) :\n",
    "    def __init__(self, name : str, age : int, grade : int, clazz : int, adress : str = None):\n",
    "        # 부모 클래스의 생성자 호출\n",
    "        super().__init__(name, age, adress)\n",
    "        # 자신의 속성 초기화\n",
    "        self.__grade = self.__clazz = None\n",
    "        self.grade = grade\n",
    "        self.clazz = clazz\n",
    "    \n",
    "    @property\n",
    "    def grade(self):\n",
    "        return self.__grade\n",
    "    \n",
    "    @property\n",
    "    def clazz(self):\n",
    "        return self.__clazz\n",
    "    \n",
    "    @grade.setter\n",
    "    def grade(self, grade : str):\n",
    "        if grade > 0 :\n",
    "            self.__grade = grade\n",
    "    \n",
    "    @clazz.setter\n",
    "    def clazz(self, clazz : str):\n",
    "        if clazz > 0 :\n",
    "            self.__clazz = clazz\n",
    "            \n",
    "    def get_info(self):\n",
    "        return super().get_info() + f', 학년 : {self.grade}, 반 : {self.clazz}'"
   ]
  },
  {
   "cell_type": "code",
   "execution_count": 110,
   "metadata": {},
   "outputs": [
    {
     "name": "stdout",
     "output_type": "stream",
     "text": [
      "김동현 30 서울\n",
      "이름 : 김동현, 나이 : 30, 주소 : 부산\n"
     ]
    }
   ],
   "source": [
    "p = Person('김동현', 30, '서울')\n",
    "print(p.name, p.age, p.adress)\n",
    "p.name= 'a'\n",
    "p.age = -1\n",
    "p.adress = '부산'\n",
    "print(p.get_info())"
   ]
  },
  {
   "cell_type": "code",
   "execution_count": 111,
   "metadata": {},
   "outputs": [
    {
     "name": "stdout",
     "output_type": "stream",
     "text": [
      "김동현 30 3 1 서울\n",
      "이름 : 김동현, 나이 : 30, 주소 : 서울, 학년 : 3, 반 : 1\n"
     ]
    }
   ],
   "source": [
    "s = Student('김동현', 30, 3, 1, '서울')\n",
    "print(s.name, s.age, s.grade, s.clazz, s.adress)\n",
    "p.grade = 0\n",
    "p.clazz = -2\n",
    "print(s.get_info())"
   ]
  },
  {
   "cell_type": "code",
   "execution_count": null,
   "metadata": {},
   "outputs": [],
   "source": []
  },
  {
   "cell_type": "code",
   "execution_count": null,
   "metadata": {},
   "outputs": [],
   "source": []
  },
  {
   "cell_type": "markdown",
   "metadata": {
    "slideshow": {
     "slide_type": "slide"
    }
   },
   "source": [
    "## 객체 관련 유용한 내장 함수, 특수 변수\n",
    "-  **`isinstance(객체, 클래스이름-datatype)`** : bool\n",
    "    - 객체가 두번째 매개변수로 지정한 클래스의 타입이면 True, 아니면 False 반환\n",
    "    - 여러개의 타입여부를 확인할 경우 class이름(type)들을 리스트로 묶어 준다.\n",
    "    - 상위 클래스는 하위 클래스객체의 타입이 되므로 객체와 그 객체의 상위 클래스 비교시 True가 나온다.\n",
    "- **`객체.__dict__`**\n",
    "     - 객체가 가지고 있는 Attribute 변수들과 대입된 값을 dictionary에 넣어 반환\n",
    "- **`객체.__class__`**\n",
    "    - 객체의 타입을 반환"
   ]
  },
  {
   "cell_type": "markdown",
   "metadata": {
    "slideshow": {
     "slide_type": "slide"
    }
   },
   "source": [
    "## 특수 메소드\n",
    "\n",
    "\n",
    "### 특수 메소드란\n",
    "- 특정한 상황에서 사용될 때 자동으로 호출되도록 파이썬 실행환경에 정의된 약속된 메소드들이다. 객체에 특정 기능들을 추가할 때 사용한다.\n",
    "    - 정의한 메소드와 그것을 호출하는 함수가 다르다.\n",
    "         - ex) `__init__()` => 객체 생성할 때 호출 된다.\n",
    "- 메소드 명이 더블 언더스코어로 시작하고 끝난다. \n",
    "    - ex) `__init__(), __str__()`\n",
    "- 매직 메소드(Magic Method), 던더(DUNDER) 메소드라고도 한다.\n",
    "- 특수메소드 종류\n",
    "    - https://docs.python.org/ko/3/reference/datamodel.html#special-method-names"
   ]
  },
  {
   "cell_type": "markdown",
   "metadata": {
    "slideshow": {
     "slide_type": "subslide"
    }
   },
   "source": [
    "### 주요 특수메소드\n",
    "- **`__init__(self [, …])`**\n",
    "    - Initializer\n",
    "    - 객체 생성시 호출 된다.\n",
    "    - 객체 생성시 Attribute의 값들을 초기화하는 것을 구현한다.\n",
    "    - self 변수로 받은 instance에 Attribute를 설정한다.\n",
    "- **`__call__(self [, …])`**\n",
    "- 객체를 함수처럼 호출 하면 실행되는 메소드\n",
    "    - Argument를 받을 Parameter 변수는 self 변수 다음에 필요한대로 선언한다.\n",
    "    - 처리결과를 반환하도록 구현할 경우 `return value` 구문을 넣는다. (필수는 아니다.)\n",
    "\n"
   ]
  },
  {
   "cell_type": "code",
   "execution_count": null,
   "metadata": {
    "slideshow": {
     "slide_type": "fragment"
    }
   },
   "outputs": [],
   "source": []
  },
  {
   "cell_type": "markdown",
   "metadata": {
    "slideshow": {
     "slide_type": "subslide"
    }
   },
   "source": [
    "- **`__repr__(self)`**\n",
    "    - Instance(객체) 자체를 표현할 수 있는 문자열을 반환한다.\n",
    "        - 보통 객체 생성하는 구문을 문자열로 반환한다.\n",
    "        - 반환된 문자열을 eval() 에 넣으면 동일한 attribute값들을 가진 객체를 생성할 수 있도록 정의한다.\n",
    "    - 내장함수 **repr(객체)** 호출할 때 이 메소드가 호출 된다.\n",
    "    - 대화형 IDE(REPL) 에서 객체를 참조하는 변수 출력할 때도 호출된다.\n",
    "> - eval(문자열)\n",
    ">     - 실행 가능한 구문의 문자열을 받아서 실행한다.\n",
    "\n",
    "- **`__str__(self)`**\n",
    "    - Instance(객체)의 Attribute들을 묶어서 문자열로 반환한다.\n",
    "    - 내장 함수 **str(객체)**  호출할 때 이 메소드가 호출 된다.\n",
    "        - str() 호출할 때 객체에 `__str__()`의 정의 안되 있으면 `__repr__()` 을 호출한다. `__repr__()`도 없으면 상위클래스에 정의된 `__str__()`을 호출한다.\n",
    "        - print() 함수는 값을 문자열로 변환해서 출력한다. 이때 그 값을 str() 에 넣어 문자열로 변환한다."
   ]
  },
  {
   "cell_type": "code",
   "execution_count": null,
   "metadata": {
    "slideshow": {
     "slide_type": "fragment"
    }
   },
   "outputs": [],
   "source": []
  },
  {
   "cell_type": "markdown",
   "metadata": {
    "slideshow": {
     "slide_type": "subslide"
    }
   },
   "source": [
    "#### 연산자 재정의(Operator overriding) 관련 특수 메소드\n",
    "- 연산자의 피연산자로 객체를 사용하면 호출되는 메소드들\n",
    "- 다항연산자일 경우 가장 왼쪽의 객체에 정의된 메소드가 호출된다.\n",
    "    - `a + b` 일경우 a의 `__add__()` 가 호출된다.\n",
    "- **비교 연산자**\n",
    "    - **`__eq__(self, other)`** : self == other\n",
    "        - == 로 객체의 내용을 비교할 때 정의 한다.\n",
    "    - **`__lt__(self, other)`** : self < other, __gt__(self, other): self > other\n",
    "        - min()이나 max()에서 인수로 사용할 경우 정의해야 한다.\n",
    "    - **`__le__(self, other)`**: self <= other\n",
    "    - **`__ge__(self, other)`**: self >= other\n",
    "    - **`__ne__(self, other)`**: self != other"
   ]
  },
  {
   "cell_type": "markdown",
   "metadata": {
    "slideshow": {
     "slide_type": "fragment"
    }
   },
   "source": [
    "- **산술 연산자**\n",
    "    - **`__add__(self, other)`**: self + other\n",
    "    - **`__sub__(self, other)`**: self - other\n",
    "    - **`__mul__(self, other)`**: self * other\n",
    "    - **`__truediv__(self, other)`**: self / other\n",
    "    - **`__floordiv__(self, other)`**: self // other\n",
    "    - **`__mod__(self, other)`**: self % other"
   ]
  },
  {
   "cell_type": "code",
   "execution_count": null,
   "metadata": {
    "slideshow": {
     "slide_type": "fragment"
    }
   },
   "outputs": [],
   "source": []
  },
  {
   "cell_type": "markdown",
   "metadata": {
    "slideshow": {
     "slide_type": "slide"
    }
   },
   "source": [
    "# class변수, class 메소드\n",
    "- **class변수**\n",
    "    - (Intance가 아닌) 클래스 자체의 데이터\n",
    "    - Attribute가 객체별로 생성된다면, class변수는 클래스당 하나가 생성된다.\n",
    "    - 구현\n",
    "        - class 블럭에 변수 선언.\n",
    "- **class 메소드**\n",
    "    - 클래스 변수를 처리하는 메소드\n",
    "    - 구현\n",
    "        - @classmethod 데코레이터를 붙인다.\n",
    "        - 첫번째 매개변수로 클래스를 받는 변수를 선언한다. 이 변수를 이용해 클래스 변수나 다른 클래스 메소드를 호출 한다."
   ]
  },
  {
   "cell_type": "markdown",
   "metadata": {
    "slideshow": {
     "slide_type": "subslide"
    }
   },
   "source": [
    "# static 메소드\n",
    "- 클래스의 메소드로 클래스 변수와 상관없는 단순기능을 정의한다.\n",
    "    - Caller 에서 받은 argument만 가지고 일하는 메소드를 구현한다.\n",
    "- 구현\n",
    "    - @staticmethod 데코레이터를 붙인다.\n",
    "    - Parameter에 대한 규칙은 없이 필요한 변수들만 선언한다.\n",
    "    "
   ]
  },
  {
   "cell_type": "markdown",
   "metadata": {
    "slideshow": {
     "slide_type": "fragment"
    }
   },
   "source": [
    "## class 메소드/변수, static 메소드 호출\n",
    "- 클래스이름.변수\n",
    "- 클래스이름.메소드() "
   ]
  },
  {
   "cell_type": "code",
   "execution_count": null,
   "metadata": {
    "slideshow": {
     "slide_type": "fragment"
    }
   },
   "outputs": [],
   "source": []
  }
 ],
 "metadata": {
  "kernelspec": {
   "display_name": "Python 3 (ipykernel)",
   "language": "python",
   "name": "python3"
  },
  "language_info": {
   "codemirror_mode": {
    "name": "ipython",
    "version": 3
   },
   "file_extension": ".py",
   "mimetype": "text/x-python",
   "name": "python",
   "nbconvert_exporter": "python",
   "pygments_lexer": "ipython3",
   "version": "3.10.9"
  },
  "toc": {
   "base_numbering": 1,
   "nav_menu": {},
   "number_sections": true,
   "sideBar": true,
   "skip_h1_title": false,
   "title_cell": "Table of Contents",
   "title_sidebar": "Contents",
   "toc_cell": false,
   "toc_position": {},
   "toc_section_display": true,
   "toc_window_display": false
  },
  "varInspector": {
   "cols": {
    "lenName": 16,
    "lenType": 16,
    "lenVar": 40
   },
   "kernels_config": {
    "python": {
     "delete_cmd_postfix": "",
     "delete_cmd_prefix": "del ",
     "library": "var_list.py",
     "varRefreshCmd": "print(var_dic_list())"
    },
    "r": {
     "delete_cmd_postfix": ") ",
     "delete_cmd_prefix": "rm(",
     "library": "var_list.r",
     "varRefreshCmd": "cat(var_dic_list()) "
    }
   },
   "types_to_exclude": [
    "module",
    "function",
    "builtin_function_or_method",
    "instance",
    "_Feature"
   ],
   "window_display": false
  }
 },
 "nbformat": 4,
 "nbformat_minor": 4
}
