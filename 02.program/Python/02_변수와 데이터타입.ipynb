{
 "cells": [
  {
   "cell_type": "markdown",
   "metadata": {
    "slideshow": {
     "slide_type": "slide"
    }
   },
   "source": [
    "# 변수와 함수/연산자"
   ]
  },
  {
   "cell_type": "markdown",
   "metadata": {
    "slideshow": {
     "slide_type": "fragment"
    }
   },
   "source": [
    "<strong style='color:red;font-size:1.5em'>프로그램이 하는 일</strong>\n",
    "<p>\n",
    "<span style=\"font-size:1.2em\">- 정보(데이터)를 처리한다.</span>  \n",
    "    "
   ]
  },
  {
   "cell_type": "markdown",
   "metadata": {
    "slideshow": {
     "slide_type": "fragment"
    }
   },
   "source": [
    "- <b style='font-size:1.2em'>정보(데이터)</b>: **변수(Variable)와 값(Value)** 로 프로그램에 표현한다.\n",
    "- <b style='font-size:1.2em'>처리한다</b>: **연산자(Operator)와 함수(Function)** 으로 프로그램에 표현한다.\n",
    "    \n",
    "> 표현(Expression): 어떤 것을 코드에 작성하는 방법을 표현(Expression)이라고 한다.  \n",
    "> 예를 들어 프로그램에 숫자 십을 표현할 때 `10` 이라고 한다. 이런 것을 정수의 표현/표현식 이라고 한다."
   ]
  },
  {
   "cell_type": "markdown",
   "metadata": {
    "slideshow": {
     "slide_type": "slide"
    }
   },
   "source": [
    "# 변수 (Variable)\n",
    "- 데이터를 저장하는 메모리 공간\n",
    "- 이 메모리 공간은 이름(변수이름)으로 관리된다.\n",
    "    - 그래서 변수이름은 우리가 사용하는 값의 이름으로 사용된다.\n",
    "    \n",
    "## 변수 선언및 초기화\n",
    "- 변수명 = 값\n",
    "    - 변수는 반드시 선언하면서 값을 대입 해야 한다.\n",
    "    - 선언시 대입할 값이 없으면 None을 대입 (`name = None`)"
   ]
  },
  {
   "cell_type": "code",
   "execution_count": 17,
   "metadata": {},
   "outputs": [
    {
     "name": "stdout",
     "output_type": "stream",
     "text": [
      "나이 : 30\n",
      "이름 : 동현\n",
      "키 : 180.2\n"
     ]
    }
   ],
   "source": [
    "age = 30 #주석\n",
    "name = '동현'\n",
    "tall = 180.2\n",
    "\n",
    "print('나이 : ' + str(age) + '\\n이름 : ' + name + '\\n키 : ' + str(tall))"
   ]
  },
  {
   "cell_type": "code",
   "execution_count": 24,
   "metadata": {},
   "outputs": [
    {
     "name": "stdout",
     "output_type": "stream",
     "text": [
      "나이:30 이름:동현 키:180.2"
     ]
    }
   ],
   "source": [
    "print('나이:', age , ' 이름:' , name, ' 키:', tall, sep='' , end='')\n",
    "#sep 변수사이 end 줄끝"
   ]
  },
  {
   "cell_type": "code",
   "execution_count": 10,
   "metadata": {},
   "outputs": [
    {
     "name": "stdout",
     "output_type": "stream",
     "text": [
      "40\n"
     ]
    }
   ],
   "source": [
    "age += 10\n",
    "print(age)"
   ]
  },
  {
   "cell_type": "code",
   "execution_count": 16,
   "metadata": {},
   "outputs": [
    {
     "name": "stdout",
     "output_type": "stream",
     "text": [
      "40\n",
      "50\n"
     ]
    }
   ],
   "source": [
    "age = 40\n",
    "print(age)\n",
    "print(age + 10)"
   ]
  },
  {
   "cell_type": "code",
   "execution_count": 27,
   "metadata": {},
   "outputs": [
    {
     "data": {
      "text/plain": [
       "30"
      ]
     },
     "execution_count": 27,
     "metadata": {},
     "output_type": "execute_result"
    }
   ],
   "source": [
    "#REPL 에디터 (대화형)\n",
    "#Read\n",
    "#Evaluate\n",
    "#Print\n",
    "#Loop\n",
    "\n",
    "#읽기->평가->출력->반복\n",
    "\n",
    "age1 = 10\n",
    "age2 = 20\n",
    "age3 = 30\n",
    "\n",
    "age1\n",
    "age2\n",
    "age3"
   ]
  },
  {
   "cell_type": "code",
   "execution_count": 30,
   "metadata": {},
   "outputs": [
    {
     "data": {
      "text/plain": [
       "'홍길동'"
      ]
     },
     "execution_count": 30,
     "metadata": {},
     "output_type": "execute_result"
    }
   ],
   "source": [
    "'홍길동'"
   ]
  },
  {
   "cell_type": "code",
   "execution_count": 31,
   "metadata": {},
   "outputs": [
    {
     "name": "stdout",
     "output_type": "stream",
     "text": [
      "홍길동\n"
     ]
    }
   ],
   "source": [
    "print('홍길동')"
   ]
  },
  {
   "cell_type": "markdown",
   "metadata": {
    "slideshow": {
     "slide_type": "subslide"
    }
   },
   "source": [
    "  \n",
    "### 식별자 규칙과 변수이름 주는 관례\n",
    "\n",
    "#### 식별자 규칙\n",
    "- 식별자란 파이썬에서 사용하는 것들을 구분하기 위해 주는 이름을 말한다. \n",
    "- 사용할 수 있는 문자는 **일반 문자**(영어 알파벳 뿐 만 아니라 한글 한자 등 모든 일반 문자를 사용할 수 있다.), **숫자, 특수 문자는  _(underscore) 만** 가능.\n",
    "- 숫자는 **두번째 글자** 부터 사용할 수 있다.\n",
    "- **예약어(keyword, reserved word)**는 사용할 수 없다.\n",
    "- 대소문자를 구별한다.\n",
    "\n",
    "> <b style='font-size:1.2em'>파이썬 키워드</b>\n",
    "> ```python\n",
    "> False      await      else       import     pass\n",
    "> None       break      except     in         raise\n",
    "> True       class      finally    is         return\n",
    "> and        continue   for        lambda     try\n",
    "> as         def        from       nonlocal   while\n",
    "> assert     del        global     not        with\n",
    "> async      elif       if         or         yield\n",
    "> ```"
   ]
  },
  {
   "cell_type": "markdown",
   "metadata": {
    "slideshow": {
     "slide_type": "fragment"
    }
   },
   "source": [
    "#### 변수이름 관례\n",
    "- 모든 글자를 소문자로 한다.\n",
    "- 여러단어를 조합할 경우 `_` 로 구분한다.\n",
    "- 예: `name`, `age`, `customer_name`, `product_id`, `sale_price`"
   ]
  },
  {
   "cell_type": "code",
   "execution_count": 36,
   "metadata": {
    "slideshow": {
     "slide_type": "fragment"
    }
   },
   "outputs": [
    {
     "name": "stdout",
     "output_type": "stream",
     "text": [
      "홍길동\n"
     ]
    }
   ],
   "source": [
    "name = '홍길동'\n",
    "print(name)\n"
   ]
  },
  {
   "cell_type": "markdown",
   "metadata": {
    "slideshow": {
     "slide_type": "subslide"
    }
   },
   "source": [
    "> **print()함수**\n",
    "> - ( ) 안에 전달해주는 값(Argument)을 문자열로 변환 후 화면(Teminal)에 출력하는 함수\n",
    ">     - 값에 엔터를 붙인뒤 출력한다.\n",
    "> - 여러개의 값을 출력할 경우 나열해서 전달하면 된다.\n",
    "> - 여러개의 값을 출력할 경우 구분자는 공백을 기본값으로 한다. 다른 구분자를 사용할 경우 `sep=구분자문자열`를 전달한다.\n",
    "> - 뒤에 엔터 대신 다른 값을 붙일 경우 `end=붙일문자열` 을 전달한다."
   ]
  },
  {
   "cell_type": "code",
   "execution_count": null,
   "metadata": {
    "slideshow": {
     "slide_type": "fragment"
    }
   },
   "outputs": [],
   "source": []
  },
  {
   "cell_type": "markdown",
   "metadata": {
    "slideshow": {
     "slide_type": "slide"
    }
   },
   "source": [
    "## 변수 사용\n",
    "- 변수를 사용하는 것은 변수에 값을 변경(대입)과 변수가 가진 값을 조회하는 두가지가 있다.\n",
    "\n",
    "### 변수에 값 대입/할당 (assignment)\n",
    "1. 변수명 = 값\n",
    "    - `=`을 기준으로 왼쪽은 변수, 오른쪽은 대입할 값\n",
    "    - 대입할 값으로 다음이 올 수 있다.\n",
    "        - Literal 값(값 표현식)\n",
    "        - 다른 변수\n",
    "        - 연산식\n",
    "    - 변수 초기화와 변수값 변경의 파이썬 구문은 동일하다. 변수를 처음 만들고 값을 대입하면 초기화이고 그 이후 할당하는 것들은 변경이 된다.\n",
    " "
   ]
  },
  {
   "cell_type": "markdown",
   "metadata": {
    "slideshow": {
     "slide_type": "fragment"
    }
   },
   "source": [
    "2. 여러 변수에 동일 한 값 대입\n",
    "    - a = b = c = 30"
   ]
  },
  {
   "cell_type": "markdown",
   "metadata": {
    "slideshow": {
     "slide_type": "fragment"
    }
   },
   "source": [
    "3. 여러 변수에 다른 값 대입을 한 구문으로 처리\n",
    "    - `a, b, c = 10, 20, 30`"
   ]
  },
  {
   "cell_type": "code",
   "execution_count": 37,
   "metadata": {
    "slideshow": {
     "slide_type": "fragment"
    }
   },
   "outputs": [
    {
     "name": "stdout",
     "output_type": "stream",
     "text": [
      "홍길동\n",
      "순신\n"
     ]
    }
   ],
   "source": [
    "print(name)\n",
    "name = '순신' #변수값을 변결\n",
    "print(name)"
   ]
  },
  {
   "cell_type": "code",
   "execution_count": 38,
   "metadata": {},
   "outputs": [
    {
     "name": "stdout",
     "output_type": "stream",
     "text": [
      "김동현\n"
     ]
    }
   ],
   "source": [
    "이름 = '김동현' #변수 정의(생성)\n",
    "print(이름)"
   ]
  },
  {
   "cell_type": "code",
   "execution_count": 39,
   "metadata": {},
   "outputs": [
    {
     "name": "stdout",
     "output_type": "stream",
     "text": [
      "순신\n"
     ]
    }
   ],
   "source": [
    "name2 = name  #name2 생성, 내용은 name 대입\n",
    "print(name)"
   ]
  },
  {
   "cell_type": "code",
   "execution_count": 42,
   "metadata": {},
   "outputs": [
    {
     "name": "stdout",
     "output_type": "stream",
     "text": [
      "10 10 10\n"
     ]
    }
   ],
   "source": [
    "#같은 내용으로 변수 정의\n",
    "num1 = num2 = num3 = 10\n",
    "print(num1, num2, num3)"
   ]
  },
  {
   "cell_type": "code",
   "execution_count": 45,
   "metadata": {},
   "outputs": [
    {
     "name": "stdout",
     "output_type": "stream",
     "text": [
      "김동현 30 hyenzzang 1q2w3e4r!@\n"
     ]
    }
   ],
   "source": [
    "#여러 변수 한번에 정의(튜플Tuple 대입)\n",
    "k_name, k_age, k_id, k_pw = '김동현', 30, 'hyenzzang', '1q2w3e4r!@'\n",
    "print(k_name, k_age, k_id, k_pw)"
   ]
  },
  {
   "cell_type": "code",
   "execution_count": 49,
   "metadata": {},
   "outputs": [],
   "source": [
    "# ctrl + / 한줄"
   ]
  },
  {
   "cell_type": "markdown",
   "metadata": {},
   "source": [
    "4. 대입(할당) 연산자(Assignment operator)\n",
    "\n",
    "- 변수의 값을 그 변수와 다른 값을 연산한 결과로 변경한다.\n",
    "|연산자|예|동일연산|\n",
    "|:-|-|-|\n",
    "|=|x = 1||\n",
    "|+=|x += 1|x = x + 1|\t\n",
    "|-=|x -= 1|x = x - 1|\t\n",
    "|*=|x *= 1|x = x * 1|\t\n",
    "|/=|x /= 1|x = x / 1|\t\n",
    "|%=|x %= 1|x = x % 1|\t\n",
    "|//=|x //= 1|x = x // 1|\t\n",
    "|\\*\\*=|x \\*\\*= 1|x = x \\*\\* 1|"
   ]
  },
  {
   "cell_type": "code",
   "execution_count": 51,
   "metadata": {
    "slideshow": {
     "slide_type": "fragment"
    }
   },
   "outputs": [
    {
     "name": "stdout",
     "output_type": "stream",
     "text": [
      "1\n",
      "6\n",
      "4\n"
     ]
    }
   ],
   "source": [
    "x  =  1\n",
    "print(x)\n",
    "x += 5\n",
    "print(x)\n",
    "x -= 2\n",
    "print(x)"
   ]
  },
  {
   "cell_type": "code",
   "execution_count": 53,
   "metadata": {},
   "outputs": [
    {
     "name": "stdout",
     "output_type": "stream",
     "text": [
      "100\n"
     ]
    }
   ],
   "source": [
    "y = 10\n",
    "y **= 2\n",
    "print(y)"
   ]
  },
  {
   "cell_type": "markdown",
   "metadata": {
    "slideshow": {
     "slide_type": "subslide"
    }
   },
   "source": [
    "### 변수값 조회\n",
    "- 값을 사용해야 하는 자리에 변수명을 표현하면된다.\n",
    "    - 변수명을 쓰면 그 변수가 가진 값을 조회해 사용한다."
   ]
  },
  {
   "cell_type": "code",
   "execution_count": null,
   "metadata": {
    "slideshow": {
     "slide_type": "fragment"
    }
   },
   "outputs": [],
   "source": []
  },
  {
   "cell_type": "markdown",
   "metadata": {
    "slideshow": {
     "slide_type": "subslide"
    }
   },
   "source": [
    "## 변수를 메모리에서 제거\n",
    "\n",
    "메모리에서 변수(데이터 저장공간)을 제거할 때는 `del 변수명` 명령어를 사용한다."
   ]
  },
  {
   "cell_type": "code",
   "execution_count": 54,
   "metadata": {
    "slideshow": {
     "slide_type": "fragment"
    }
   },
   "outputs": [
    {
     "name": "stdout",
     "output_type": "stream",
     "text": [
      "1\n"
     ]
    }
   ],
   "source": [
    "# 변수제거\n",
    "n = 1\n",
    "print(n)\n",
    "del n"
   ]
  },
  {
   "cell_type": "code",
   "execution_count": 55,
   "metadata": {},
   "outputs": [
    {
     "ename": "NameError",
     "evalue": "name 'n' is not defined",
     "output_type": "error",
     "traceback": [
      "\u001b[1;31m---------------------------------------------------------------------------\u001b[0m",
      "\u001b[1;31mNameError\u001b[0m                                 Traceback (most recent call last)",
      "Cell \u001b[1;32mIn[55], line 1\u001b[0m\n\u001b[1;32m----> 1\u001b[0m \u001b[39mprint\u001b[39m(n)\n",
      "\u001b[1;31mNameError\u001b[0m: name 'n' is not defined"
     ]
    }
   ],
   "source": [
    "print(n)"
   ]
  },
  {
   "cell_type": "markdown",
   "metadata": {
    "slideshow": {
     "slide_type": "slide"
    }
   },
   "source": [
    "# 데이터 타입 (Data Type)\n",
    "\n",
    "- 값들의 형태(type)에 따라 종류를 분류한 것\n",
    "- 데이터타입은 값을 표현하는 방식과 관련 연산자들을 익히도록 한다."
   ]
  },
  {
   "cell_type": "markdown",
   "metadata": {
    "slideshow": {
     "slide_type": "subslide"
    }
   },
   "source": [
    "## None 값\n",
    "- 아무 값도 없음을 나타내는 값"
   ]
  },
  {
   "cell_type": "code",
   "execution_count": 3,
   "metadata": {
    "slideshow": {
     "slide_type": "fragment"
    }
   },
   "outputs": [
    {
     "name": "stdout",
     "output_type": "stream",
     "text": [
      "None\n"
     ]
    }
   ],
   "source": [
    "this_is_none = None\n",
    "print(this_is_none)"
   ]
  },
  {
   "cell_type": "markdown",
   "metadata": {
    "slideshow": {
     "slide_type": "slide"
    }
   },
   "source": [
    "## 숫자형(Numeric) - 정수, 실수\n",
    "\n",
    "- 정수(int)와 실수(float) 형이 있다.\n",
    "    - **정수 표현식**\n",
    "        - 10, 20, -1, -20, 0\n",
    "        - 16진수 표기\n",
    "            - 0x 로 시작 (0xAF29)\n",
    "        - 8진수 표기\n",
    "            - 0O 으로 시작 (0o71)\n",
    "    - **실수**\n",
    "        - 20.1, 0.123411, 15.2321598\n",
    "        - 지수표기법\n",
    "            - $5e7$ -> $5.0\\times10^7$\n",
    "            - $3e-7$ -> $3\\times10^{-7}$"
   ]
  },
  {
   "cell_type": "code",
   "execution_count": 5,
   "metadata": {
    "slideshow": {
     "slide_type": "fragment"
    }
   },
   "outputs": [
    {
     "name": "stdout",
     "output_type": "stream",
     "text": [
      "10 <class 'int'>\n",
      "2.5 <class 'float'>\n",
      "abc <class 'str'>\n",
      "None <class 'NoneType'>\n",
      "True <class 'bool'>\n",
      "63 <class 'int'> 77\n",
      "255 <class 'int'> ff\n",
      "0.05 <class 'float'>\n"
     ]
    }
   ],
   "source": [
    "this_is_int = 10\n",
    "this_is_float = 2.5\n",
    "this_is_string = 'abc'\n",
    "this_is_none = None\n",
    "this_is_bool = True\n",
    "this_is_num16 = 0xFF\n",
    "this_is_num8 = 0o77\n",
    "this_is_numf = 5e-2\n",
    "\n",
    "print(this_is_int, type(this_is_int))\n",
    "print(this_is_float, type(this_is_float))\n",
    "print(this_is_string, type(this_is_string))\n",
    "print(this_is_none, type(this_is_none))\n",
    "print(this_is_bool, type(this_is_bool))\n",
    "print(this_is_num8, type(this_is_num8), '{:0o}'.format(this_is_num8))\n",
    "print(this_is_num16, type(this_is_num16), '{:0x}'.format(this_is_num16))\n",
    "print(this_is_numf, type(this_is_numf))"
   ]
  },
  {
   "cell_type": "markdown",
   "metadata": {
    "slideshow": {
     "slide_type": "subslide"
    }
   },
   "source": [
    "### 연산자\n",
    "<b style='font-size:1.2em'>산술연산자</b>\n",
    "\n",
    "|Operator(연산자)|설명|예|\n",
    "|-|-|-|\n",
    "|+|덧셈|x + y|\n",
    "|-|뺄셈|x - y|\n",
    "|*|곱셈|x * y|\n",
    "|/|나눗셈|x / y|\n",
    "|%|Modulus(나머지 나누기 연산자)|x % y|\n",
    "|//|Floor division(몫 나누기 연산자)|x // y|\n",
    "|**|제곱연산|x ** y|"
   ]
  },
  {
   "cell_type": "code",
   "execution_count": 21,
   "metadata": {
    "slideshow": {
     "slide_type": "fragment"
    }
   },
   "outputs": [
    {
     "name": "stdout",
     "output_type": "stream",
     "text": [
      "20\n",
      "0\n",
      "100\n",
      "3.3333333333333335\n",
      "3.33\n",
      "1\n",
      "3\n",
      "10000000000\n"
     ]
    }
   ],
   "source": [
    "num = 10\n",
    "print(num + 10)\n",
    "print(num - 10)\n",
    "print(num * 10)\n",
    "print(num / 3)\n",
    "print(round(10/3, 2)) #반올림\n",
    "print(num % 3)\n",
    "print(num // 3)\n",
    "print(num ** 10)"
   ]
  },
  {
   "cell_type": "code",
   "execution_count": 27,
   "metadata": {},
   "outputs": [
    {
     "name": "stdout",
     "output_type": "stream",
     "text": [
      "True\n",
      "False\n",
      "True\n"
     ]
    }
   ],
   "source": [
    "print(0.1 * 10 == 1.0)\n",
    "print(0.1+0.1+0.1+0.1+0.1+0.1+0.1+0.1+0.1+0.1 == 1.0)\n",
    "print(1e-1 * 10 == 1.0)\n",
    "#내부적으로 이진수로 계산되기 때문에 생기는 오차가 생김(0.1은 2진법으로 무한소수임)\n"
   ]
  },
  {
   "cell_type": "markdown",
   "metadata": {
    "slideshow": {
     "slide_type": "slide"
    }
   },
   "source": [
    "## 논리형(bool)\n",
    "- **참(True)과 거짓(False)을** 표현하는 데이터 타입\n",
    "    - 제어문에서 많이 사용된다.\n",
    "- 값 표현식\n",
    "    - True, False\n",
    "- bool 값이 들어가야 하는 구문에 다른 타입의 값을 작성하면 자동적으로 bool 타입으로 변환된다. (묵시적 형변환이라 한다.)\n",
    "    - **0글자의 문자열, 숫자 0, None, 원소가 하나도 없는 자료구조는** False로 변환되고 그 이외는 True로 변환된다."
   ]
  },
  {
   "cell_type": "code",
   "execution_count": 31,
   "metadata": {
    "slideshow": {
     "slide_type": "fragment"
    }
   },
   "outputs": [
    {
     "name": "stdout",
     "output_type": "stream",
     "text": [
      "<class 'bool'>\n",
      "False\n",
      "True\n"
     ]
    }
   ],
   "source": [
    "what_type = type(True)\n",
    "print(what_type)\n",
    "\n",
    "print(True) if 0 else print(False)\n",
    "print(True) if 1 else print(False)"
   ]
  },
  {
   "cell_type": "markdown",
   "metadata": {
    "slideshow": {
     "slide_type": "subslide"
    }
   },
   "source": [
    "- input(\\[label\\]) 함수\n",
    "    - 사용자로 부터 값을 입력받을 때 사용한다.\n",
    "    - 사용자의 입력을 기다렸다 사용자가 값을 입력하고 엔터를 치면 그 입력한 값을 읽어 반환한다.\n",
    "    - 어떤 값을 입력받을 것인지 Label을 문자열로 전달할 수 있다."
   ]
  },
  {
   "cell_type": "code",
   "execution_count": 42,
   "metadata": {
    "slideshow": {
     "slide_type": "fragment"
    }
   },
   "outputs": [
    {
     "name": "stdout",
     "output_type": "stream",
     "text": [
      "1 <class 'int'>\n",
      "2 <class 'int'>\n",
      "345\n"
     ]
    }
   ],
   "source": [
    "num1 = 0\n",
    "num2 = 0\n",
    "num1 = input('숫자 :')\n",
    "num2 = input('숫자 :')\n",
    "num1 = int(num1)\n",
    "num2 = int(num2)\n",
    "print(num1, type(num1))\n",
    "print(num2, type(num2))\n",
    "\n",
    "txt = input()\n",
    "txt += input()\n",
    "txt += input()\n",
    "print(txt)"
   ]
  },
  {
   "cell_type": "markdown",
   "metadata": {
    "slideshow": {
     "slide_type": "subslide"
    }
   },
   "source": [
    "### 논리형 관련 연산자\n",
    "<b style='font-size:1.2em'>비교 연산자</b>\n",
    "- 결과가 bool 타입\n",
    "- 기준은 왼쪽의 피연산자이다.\n",
    "|연산자|설명|예|\n",
    "|-|-|-|\n",
    "|==|같은가?|x == y|\t\n",
    "|!=|같지 않은가?|x != y|\t\n",
    "|>|x가 큰가?|x > y|\n",
    "|<|x가 작은가?|x < y|\t\n",
    "|>=|x가 크거나 같은가?|x >= y|\n",
    "|<=|x가 작거나 같은가?|x <= y|"
   ]
  },
  {
   "cell_type": "code",
   "execution_count": 65,
   "metadata": {
    "slideshow": {
     "slide_type": "fragment"
    }
   },
   "outputs": [
    {
     "name": "stdout",
     "output_type": "stream",
     "text": [
      "False\n",
      "True\n",
      "False\n",
      "True\n",
      "False\n",
      "True\n"
     ]
    }
   ],
   "source": [
    "print(0==1)\n",
    "print(0!=1)\n",
    "print(0>1)\n",
    "print(0<1)\n",
    "print(0>=1)\n",
    "print(0<=1)"
   ]
  },
  {
   "cell_type": "code",
   "execution_count": 67,
   "metadata": {},
   "outputs": [
    {
     "name": "stdout",
     "output_type": "stream",
     "text": [
      "\n",
      "a > b = False\n",
      "a > 가 = False\n",
      "a > A = True\n",
      "1 > A = False\n"
     ]
    }
   ],
   "source": [
    "\n",
    "print('\\na > b =', 'a' > 'b')     #사전순서\n",
    "print('a > 가 =', 'a' > '가')   #한글이 알파벳보다 크다\n",
    "print('a > A =', 'a' > 'A')     #소문자가 더 크다\n",
    "print('1 > A =', '1' > 'A')     #대문자가 더 크다\n",
    "# 특수문자들 < 숫자들 < 대문자들 < 소문자들 < 한글들 (유니코드 순서)"
   ]
  },
  {
   "cell_type": "code",
   "execution_count": 71,
   "metadata": {},
   "outputs": [
    {
     "name": "stdout",
     "output_type": "stream",
     "text": [
      "False\n"
     ]
    }
   ],
   "source": [
    "print('abcde' > 'abcef') #4번째 자리까지만 비교"
   ]
  },
  {
   "cell_type": "code",
   "execution_count": 73,
   "metadata": {},
   "outputs": [
    {
     "ename": "TypeError",
     "evalue": "'<' not supported between instances of 'str' and 'int'",
     "output_type": "error",
     "traceback": [
      "\u001b[1;31m---------------------------------------------------------------------------\u001b[0m",
      "\u001b[1;31mTypeError\u001b[0m                                 Traceback (most recent call last)",
      "Cell \u001b[1;32mIn[73], line 1\u001b[0m\n\u001b[1;32m----> 1\u001b[0m \u001b[39mprint\u001b[39m(\u001b[39m'\u001b[39;49m\u001b[39m1\u001b[39;49m\u001b[39m'\u001b[39;49m \u001b[39m<\u001b[39;49m \u001b[39m2\u001b[39;49m)\n",
      "\u001b[1;31mTypeError\u001b[0m: '<' not supported between instances of 'str' and 'int'"
     ]
    }
   ],
   "source": [
    "print('1' < 2) #다른 타입끼리는 비교(연산)불가능 int,float끼리는 가능"
   ]
  },
  {
   "cell_type": "code",
   "execution_count": 87,
   "metadata": {},
   "outputs": [],
   "source": [
    "name = input('이름 :')\n",
    "age = int(input('나이:'))"
   ]
  },
  {
   "cell_type": "code",
   "execution_count": 88,
   "metadata": {},
   "outputs": [
    {
     "name": "stdout",
     "output_type": "stream",
     "text": [
      "이름 : 김동현\n",
      "나이 : 30\n"
     ]
    }
   ],
   "source": [
    "print('이름 :', name)\n",
    "print('나이 :', age)"
   ]
  },
  {
   "cell_type": "code",
   "execution_count": 89,
   "metadata": {},
   "outputs": [
    {
     "name": "stdout",
     "output_type": "stream",
     "text": [
      "성인입니다\n",
      "20대가 아닙니다\n"
     ]
    }
   ],
   "source": [
    "print('성인입니다') if age >= 20 else print('미자입니다')\n",
    "print('20대입니다') if (age >= 20) & (age <30) else print('20대가 아닙니다')"
   ]
  },
  {
   "cell_type": "markdown",
   "metadata": {
    "slideshow": {
     "slide_type": "subslide"
    }
   },
   "source": [
    "<b style='font-size:1.2em'>논리 연산자</b>\n",
    "- 피연산자가 bool 타입이고 결과도 bool 타입이다.\n",
    "- &, |, ^ 기호를 연산자로 사용할 때는 피연산자를 ( )로 묶어 줘야 한다.\n",
    "|연산자|설명|예|\n",
    "|:-|-|-|\n",
    "|and, &|피연산자 모두 True이면 True를 하나라도 False이면 False를 반환.|x > 5 and  x < 10|\t\n",
    "|or, \\||피연산자 둘중 하나만 True이면 True를 둘다 False이면 False를 반환.|x > 5 or x < -4|\n",
    "|^|XOR 연산. 피연산자가 다를 경우 True, 같으면 False를 반환.|(x > 5) ^ (x < 4)|\n",
    "|not|단항연산자. 결과를 뒤바꾸어 반환. True는 False로 False는 True로 반환.|not(x < 5 and x < 10)|"
   ]
  },
  {
   "cell_type": "code",
   "execution_count": 5,
   "metadata": {
    "slideshow": {
     "slide_type": "fragment"
    }
   },
   "outputs": [
    {
     "name": "stdout",
     "output_type": "stream",
     "text": [
      "T&T\tT&F\tF&F\n",
      "True\tFalse\tFalse\n",
      "\n",
      "T|T\tT|F\tF|F\n",
      "True\tTrue\tFalse\n",
      "\n",
      "T^T\tT^F\tF^F\n",
      "False\tTrue\tFalse\n",
      "\n",
      "!True\t!False\n",
      "False\tTrue\n"
     ]
    }
   ],
   "source": [
    "t = True\n",
    "f= False\n",
    "\n",
    "print('T&T\\tT&F\\tF&F')\n",
    "print(t&t,t&f,f&f,sep='\\t')\n",
    "print('\\nT|T\\tT|F\\tF|F')\n",
    "print(t|t,t|f,f|f,sep='\\t')\n",
    "print('\\nT^T\\tT^F\\tF^F')\n",
    "print(t^t,t^f,f^f,sep='\\t')\n",
    "\n",
    "print('\\n!True\\t!False')\n",
    "print(not(t),not(f),sep='\\t')"
   ]
  },
  {
   "cell_type": "markdown",
   "metadata": {
    "slideshow": {
     "slide_type": "subslide"
    }
   },
   "source": [
    "<b style='font-size:1.2em'>조건 연산자</b>\n",
    "\n",
    "\n",
    "True일때 결과값 <b style='color:purple'>if</b> 조건식 <b style='color:purple'>else</b> False일때 결과값\n",
    "- 조건식이 True이면 앞의 값을 False이면 뒤의 값을 연산결과로 반환한다."
   ]
  },
  {
   "cell_type": "code",
   "execution_count": 6,
   "metadata": {
    "slideshow": {
     "slide_type": "fragment"
    }
   },
   "outputs": [
    {
     "name": "stdout",
     "output_type": "stream",
     "text": [
      "False\n",
      "True\n"
     ]
    }
   ],
   "source": [
    "print(True) if 0 else print(False)\n",
    "print(True) if 1 else print(False)"
   ]
  },
  {
   "cell_type": "code",
   "execution_count": 9,
   "metadata": {},
   "outputs": [
    {
     "name": "stdout",
     "output_type": "stream",
     "text": [
      "-15\n"
     ]
    }
   ],
   "source": [
    "num = int(input('정수:'))\n",
    "print(num)"
   ]
  },
  {
   "cell_type": "code",
   "execution_count": 10,
   "metadata": {},
   "outputs": [
    {
     "name": "stdout",
     "output_type": "stream",
     "text": [
      "음수\n"
     ]
    }
   ],
   "source": [
    "result = '양수' if num >= 0 else '음수'\n",
    "print(result)"
   ]
  },
  {
   "cell_type": "code",
   "execution_count": 12,
   "metadata": {},
   "outputs": [
    {
     "name": "stdout",
     "output_type": "stream",
     "text": [
      "음수\n"
     ]
    }
   ],
   "source": [
    "result = '양수' if num > 0 else ('0' if num == 0 else '음수')\n",
    "print(result)"
   ]
  },
  {
   "cell_type": "markdown",
   "metadata": {
    "slideshow": {
     "slide_type": "slide"
    }
   },
   "source": [
    "## 문자열 (string)\n",
    "\n",
    "- 0글자 이상의 문자열을 표현한다.\n",
    "- 파이썬 3.0 부터는 유니코드 문자열을 지원하므로 영문자 뿐 아니라 모든 나라의 철자들을 기본으로 사용할 수 있다.\n",
    "- 문자열 표현식\n",
    "    - **작은 따옴표 또는 큰 따옴표**로 감싼다.\n",
    "    - 여러줄 문자열(Multiline string)은 **3개 짜리 작은따옴표 또는 큰따옴표**로 감싼다.\n",
    "        - 문자열 데이터에 `엔터`가 들어갈 경우 편리하다.\n",
    "    - Escape 문자\n",
    "        - 키보드에는 있지만 글자로 표현할 수 없는 문자들을 표현할 때 사용한다. `예) 엔터, Tab, Back space 등`\n",
    "        - 사용하는 글자가 원래 의미에서 벗어나(escape) 다른 의미로 쓰인다고 해서 escape문자라고 한다.\n",
    "        - 파이썬 뿐 아니라 모든 프로그래밍 언어에서 사용하는 표준이다.\n",
    "        - 표현: `\\문자` \n",
    "  "
   ]
  },
  {
   "cell_type": "markdown",
   "metadata": {
    "slideshow": {
     "slide_type": "fragment"
    }
   },
   "source": [
    "      \n",
    "        \n",
    "<b style='font-size:1.2em'>주요 Escape 문자</b>\n",
    "\n",
    "|Escape문자|설명|\n",
    "|-|-|\n",
    "|\\n|엔터|\n",
    "|\\t|Tab|\n",
    "|\\b|Backspace|\n",
    "|\\\\\\\\|\\|\n",
    "|\\\\\\\"|\"|\n",
    "|\\\\\\'|'|\n",
    "\n",
    "\n",
    ">- r-string (raw string)\n",
    ">  - 문자열 앞에 r 접두어를 붙인다. (raw) \n",
    ">  - escape 문자구분자인 \\를 무시하여 escape 문자로 변환하지 않고 작성한 그대로 사용한다.\n",
    ">  - ex) r\"c:\\test\\example\\a.txt\"\n",
    "        "
   ]
  },
  {
   "cell_type": "code",
   "execution_count": 24,
   "metadata": {
    "slideshow": {
     "slide_type": "fragment"
    }
   },
   "outputs": [
    {
     "name": "stdout",
     "output_type": "stream",
     "text": [
      "안녕하세요 저는 김동현 입니다 \n",
      " ads\tad \n",
      "\\ \"'\n"
     ]
    }
   ],
   "source": [
    "print('안녕하세요 저는 김동현d\\b\\b\\b 입니다 \\n ads\\tads\\b \\n\\\\ \\\"\\'')\n"
   ]
  },
  {
   "cell_type": "code",
   "execution_count": 28,
   "metadata": {},
   "outputs": [
    {
     "name": "stdout",
     "output_type": "stream",
     "text": [
      "c:\tesackup\\DH\u0007.txt\n",
      "c:\\test\\backup\\DH\\a.txt\n",
      "c:\\test\\backup\\DH\\a.txt\n"
     ]
    }
   ],
   "source": [
    "path = 'c:\\test\\backup\\DH\\a.txt'\n",
    "print(path)\n",
    "path = 'c:\\\\test\\\\backup\\\\DH\\\\a.txt'\n",
    "print(path)\n",
    "path = r'c:\\test\\backup\\DH\\a.txt'\n",
    "print(path)"
   ]
  },
  {
   "cell_type": "markdown",
   "metadata": {
    "slideshow": {
     "slide_type": "subslide"
    }
   },
   "source": [
    "<b style='font-size:1.2em'>문자열 연산자</b>\n",
    "- 문자열 + 문자열\n",
    "    - 두 문자열을 합친다.\n",
    "    - 문자열은 문자열과만 `+` 연산을 할 수 있다. 다른 타입과 합칠 경우 다른 타입을 문자열로 변환한 뒤 연산해야 한다. (str() 함수이용)"
   ]
  },
  {
   "cell_type": "code",
   "execution_count": 25,
   "metadata": {
    "slideshow": {
     "slide_type": "fragment"
    }
   },
   "outputs": [
    {
     "name": "stdout",
     "output_type": "stream",
     "text": [
      "안녕하세요\n",
      "저는 김동현\n"
     ]
    }
   ],
   "source": [
    "txt = input() + '\\n'\n",
    "txt += input()\n",
    "print(txt)"
   ]
  },
  {
   "cell_type": "markdown",
   "metadata": {
    "slideshow": {
     "slide_type": "fragment"
    }
   },
   "source": [
    "- 문자열 * 정수\n",
    "    - 문자열을 정수번 반복해서 합친다."
   ]
  },
  {
   "cell_type": "code",
   "execution_count": 27,
   "metadata": {
    "slideshow": {
     "slide_type": "fragment"
    }
   },
   "outputs": [
    {
     "name": "stdout",
     "output_type": "stream",
     "text": [
      "안녕안녕안녕안녕안녕안녕안녕안녕안녕안녕\n"
     ]
    }
   ],
   "source": [
    "txt = input() * 10\n",
    "print(txt)"
   ]
  },
  {
   "cell_type": "markdown",
   "metadata": {
    "slideshow": {
     "slide_type": "fragment"
    }
   },
   "source": [
    "- `in`, `not in`\n",
    "    - 문자열A in 문자열B\n",
    "        - 문자열A가 문자열B에 **있**으면 True, 없으면 False를 반환\n",
    "    - 문자열A not in 문자열B\n",
    "        - 문자열A가 문자열B에 **없**으면 True, 있으면 False를 반환"
   ]
  },
  {
   "cell_type": "code",
   "execution_count": 4,
   "metadata": {
    "slideshow": {
     "slide_type": "fragment"
    }
   },
   "outputs": [],
   "source": [
    "txt = '안녕하세요 저는 김동현입니다'\n",
    "is_in = input()"
   ]
  },
  {
   "cell_type": "code",
   "execution_count": 5,
   "metadata": {},
   "outputs": [
    {
     "name": "stdout",
     "output_type": "stream",
     "text": [
      "True\n",
      "False\n"
     ]
    }
   ],
   "source": [
    "is_true = is_in in txt\n",
    "print(is_true)\n",
    "is_true = is_in not in txt\n",
    "print(is_true)"
   ]
  },
  {
   "cell_type": "markdown",
   "metadata": {
    "slideshow": {
     "slide_type": "fragment"
    }
   },
   "source": [
    "- len(문자열)\n",
    "    - 글자수를 반환한다."
   ]
  },
  {
   "cell_type": "code",
   "execution_count": 6,
   "metadata": {
    "slideshow": {
     "slide_type": "fragment"
    }
   },
   "outputs": [
    {
     "name": "stdout",
     "output_type": "stream",
     "text": [
      "15\n"
     ]
    }
   ],
   "source": [
    "print(len(txt))"
   ]
  },
  {
   "cell_type": "markdown",
   "metadata": {
    "slideshow": {
     "slide_type": "subslide"
    }
   },
   "source": [
    "### Indexing과 Slicing\n",
    "\n",
    "- Indexer 연산자\n",
    "    - `집합형태[식별자]`\n",
    "        - 여러개의 값이 모여있는 집합 형태의 데이터에서 그 중 일부를 조회할 때 사용하는 연산자.\n",
    "            - 문자열, 자료구조 등 다양한 데이터타입에 사용한다.\n",
    "        - 조회하고자 하는 일부를 식별할 수 있는 `식별자`를 \\[\\] 안에 넣어 조회한다.\n",
    "- indexing과 slicing\n",
    "    - **indexing**: 집합내에서 하나의 값을 조회하는 방법\n",
    "    - **slicing**: 집합내에서 여러개의 값들을 범위로 지정해 조회하는 방법"
   ]
  },
  {
   "cell_type": "markdown",
   "metadata": {
    "slideshow": {
     "slide_type": "subslide"
    }
   },
   "source": [
    "### Indexing과 Slicing을 이용해 문자열내의 일부 문자들(sub string) 조회\n",
    "- **문자열 내의 각 문자들은 식별자로 index를 가진다.**\n",
    "    - 양수 index\n",
    "        - 문자열 앞에서 부터 붙여주는 index\n",
    "        - 0부터 1씩 증가하는 값을 붙여준다.\n",
    "        - **앞에서 몇번째 글자 식**으로 조회할 때 사용한다.\n",
    "    - 음수 index\n",
    "        - 문자열 맨 뒤에서 부터 붙여주는 index\n",
    "        - -1 에서 1씩 감소하는 값을 붙여준다.\n",
    "        - **뒤에서 몇번째 글자 식**으로 조회할 때 사용한다.\n",
    "    - 모든 문자는 양수/음수 index 두개를 가진다.\n",
    "    ![index](images/ch02_01.png)"
   ]
  },
  {
   "cell_type": "markdown",
   "metadata": {
    "slideshow": {
     "slide_type": "subslide"
    }
   },
   "source": [
    "#### Indexing\n",
    "- 문자열\\[index\\]\n",
    "    - index의 문자를 조회\n",
    "    - 변경은 안된다.\n",
    "        - 문자열 값 안의 일부를 변경할 수 없다.\n",
    "        - 문자열처럼 내부의 값을 변경할 수 없는 데이터 타입을 불변(Immutable)이라고 한다. "
   ]
  },
  {
   "cell_type": "code",
   "execution_count": 86,
   "metadata": {
    "slideshow": {
     "slide_type": "fragment"
    }
   },
   "outputs": [
    {
     "name": "stdout",
     "output_type": "stream",
     "text": [
      "안다\n"
     ]
    }
   ],
   "source": [
    "print(txt[0] + txt[-1])"
   ]
  },
  {
   "cell_type": "markdown",
   "metadata": {
    "slideshow": {
     "slide_type": "fragment"
    }
   },
   "source": [
    "#### Slicing\n",
    "- 기본구문: **문자열 \\[ 시작 index : 종료 index : 간격\\]**\n",
    "    - 시작 index ~ (종료 index – 1)\n",
    "    - 간격을 지정하면 간격만큼 index를 증/감한다. (생략 시 1이 기본 간격)\n",
    "- **0번 index 부터 조회 할 경우 시작 index는 생략가능**\n",
    "    - str_value \\[ : 5\\] => 0 ~ 4 까지 조회\n",
    "- **마지막 index까지 (끝까지) 조회 할 경우 종료 index는 생략 가능**\n",
    "    - str_value\\[2 : \\] => 2번 index 에서 끝까지\n",
    "- **명시적으로 간격을 줄 경우**\n",
    "    - str_value\\[ : : 3 \\] => 0, 3, 6, 9.. index의 값 조회\n",
    "    - str_value\\[1 : 9 : 2\\] => 1, 3, 5, 7 index의 값 조회\n",
    "- **시작 index > 종료 index, 간격을 음수로 하면 역으로 반환한다.(Reverse)**\n",
    "    - str_value\\[5: 1: -1\\] => 5, 4, 3, 2 index의 값 조회\n",
    "    - str_value\\[: : -1\\]  => 마지막 index ~ 0번 index 까지 의미. Reverse 한다."
   ]
  },
  {
   "cell_type": "code",
   "execution_count": 64,
   "metadata": {
    "slideshow": {
     "slide_type": "fragment"
    }
   },
   "outputs": [
    {
     "name": "stdout",
     "output_type": "stream",
     "text": [
      "안녕하세요\n",
      "안하요저 동입다\n"
     ]
    }
   ],
   "source": [
    "print(txt[:5])\n",
    "print(txt[::2])"
   ]
  },
  {
   "cell_type": "markdown",
   "metadata": {
    "slideshow": {
     "slide_type": "slide"
    }
   },
   "source": [
    "### Format string (형식문자열) 생성\n",
    "- 문자열에 문장 형식/구성/Layout을  미리 만들어 놓고 값은 나중에 대입하는 방식으로 문자열을 만드는 것\n",
    "    - 여러 문자열이 같은 Layer에 특정 값들만 바뀌는 경우 사용한다.\n",
    "        - 이름 : XXX 나이 : XXX 성별 : XXX  \n",
    "        - 기본 형식은 같은데 XXX에 들어갈 값들은 그때 그때 다를 경우 사용\n",
    "1. format() 함수 이용\n",
    "    - 문자열을 만들 때 값을 나중에 넣을 위치 { } 로 표시하고 format() 메소드에서 { }에 들어갈 값을 순서대로 넣는다.\n",
    "\n",
    "> 값을 넣어줄 자리를 지정하는 것을 **placeholder** 라고 한다."
   ]
  },
  {
   "cell_type": "code",
   "execution_count": 108,
   "metadata": {
    "slideshow": {
     "slide_type": "fragment"
    }
   },
   "outputs": [
    {
     "name": "stdout",
     "output_type": "stream",
     "text": [
      "이름 : 김동현\n",
      "나이 : 30\n",
      "생년 : 19941012\n",
      "주소 : 서울시 마포구 합정동\n",
      "키 : 180.6\n",
      "몸무게 : 78.5\n",
      "성별 : male\n",
      "==================================================\n"
     ]
    }
   ],
   "source": [
    "name = '김동현'\n",
    "age = 30\n",
    "birth = 19941012\n",
    "adress = '서울시 마포구 합정동'\n",
    "tall = 180.6\n",
    "weight = 78.5\n",
    "sex = 'male'\n",
    "info = [name, age, birth, adress, tall, weight, sex]\n",
    "layout = '이름 : {}\\n나이 : {}\\n생년 : {}\\n주소 : {}\\n키 : {}\\n몸무게 : {}\\n성별 : {}'\n",
    "\n",
    "print(layout.format(*info))\n",
    "print('=' * 50)\n"
   ]
  },
  {
   "cell_type": "markdown",
   "metadata": {
    "slideshow": {
     "slide_type": "subslide"
    }
   },
   "source": [
    "2. % value 사용\n",
    "    - 타입을 지정하는 % value를 이용해 값을 넣어줄 자리를 지정한다.\n",
    "    - format 문자열과 넣어줄 값은 % 로 구분한다.\n",
    "    \n",
    "|% value|설명|\n",
    "|-|-|\n",
    "|%s|string|\n",
    "|%d|int-정수|\n",
    "|%f|float-실수|\n",
    "|%%|%|\n",
    "\n",
    "실수는 소수점자릿수를 6자리로 맞추기 때문에 정밀도를 표현하는 표현식을 지정하는 것이 좋다. `ex) %.2f`"
   ]
  },
  {
   "cell_type": "code",
   "execution_count": 113,
   "metadata": {},
   "outputs": [
    {
     "name": "stdout",
     "output_type": "stream",
     "text": [
      "이름 김동현, 나이: 30, 키: 180.60\n"
     ]
    }
   ],
   "source": [
    "layout2 = \"이름 %s, 나이: %d, 키: %.2f\"\n",
    "info2 = layout2 % (name, age, tall)\n",
    "print(info2)\n"
   ]
  },
  {
   "cell_type": "code",
   "execution_count": 10,
   "metadata": {
    "slideshow": {
     "slide_type": "fragment"
    }
   },
   "outputs": [
    {
     "name": "stdout",
     "output_type": "stream",
     "text": [
      "+3.141593\n",
      "+3\n",
      "3.14\n"
     ]
    }
   ],
   "source": [
    "pi = 3.1415926535\n",
    "print('{:+.6f}'.format(pi))\n",
    "print('{:+02d}'.format(int(pi)))\n",
    "print('{:s}'.format(str(pi)[:4]))\n"
   ]
  },
  {
   "cell_type": "markdown",
   "metadata": {
    "slideshow": {
     "slide_type": "subslide"
    }
   },
   "source": [
    "3. f-string (format string)\n",
    "    - 파이썬 3.6에서 추가된 형식\n",
    "    - 문자열 앞에 접두어 `f`를 사용한다.\n",
    "    - 값을 넣을 자리에 {변수명} 을 이용해 변수가 가진 값을 문자열에 추가한다."
   ]
  },
  {
   "cell_type": "code",
   "execution_count": 11,
   "metadata": {
    "slideshow": {
     "slide_type": "fragment"
    }
   },
   "outputs": [
    {
     "data": {
      "text/plain": [
       "'파이 : 3.1415926535'"
      ]
     },
     "execution_count": 11,
     "metadata": {},
     "output_type": "execute_result"
    }
   ],
   "source": [
    "f'파이 : {pi}'"
   ]
  },
  {
   "cell_type": "markdown",
   "metadata": {
    "slideshow": {
     "slide_type": "slide"
    }
   },
   "source": [
    "### string 주요 메소드\n",
    "\n",
    "|메소드|설명|\n",
    "|-|-|\n",
    "|split(구분문자열)|구분 문자열을 기준으로 나눈다.|\n",
    "|strip(), lstrip(), rstrip()|앞뒤(strip) 앞(lstrip) 뒤(rstrip) 공백 제거|\n",
    "|replace('바꿀 문자열', '새문자열')|바꿀 문자열을 새문자열로 변경|\n",
    "|count('세려는 문자열')|string안에 세려는 문자열이 몇개 있는지 반환|\n",
    "|index(문자열), find(문자열)|문자열이 몇번째 index에 있는지 반환|\n",
    "|upper(), lower()|모든 글자를 대문자(upper), 소문자(lower)로 변환|\n",
    "|capitalize()|문자열의 첫글자를 대문자로 변환|\n",
    "|islower(), isupper()|문자열이 모두 소문자(islower), 대문자(isupper)이면 True 아니면 False를 반환|\n",
    "|startswith(\"문자열\"), endswith(\"문자열\")|문자열로 시작하는지/끝나는지 여부 반환|"
   ]
  },
  {
   "cell_type": "code",
   "execution_count": 45,
   "metadata": {
    "slideshow": {
     "slide_type": "fragment"
    }
   },
   "outputs": [
    {
     "name": "stdout",
     "output_type": "stream",
     "text": [
      "['True']\n",
      "CPU GPU RAM HDD SSD\n",
      "['CPU', 'GPU', 'RAM', 'HDD', 'SSD']\n",
      "CPU,GPU,RAM,HDD,SSD\n",
      "['CPU', 'GPU', 'RAM', 'HDD', 'SSD']\n",
      "   김동현   9\n",
      "김동현3\n",
      "김동현   6\n",
      "   김동현6\n",
      "Hellow, World!\n",
      "4 -1\n",
      "HELLOW, WORLD! True\n",
      "hellow, world! True\n",
      "Hellow, world!\n",
      "True\n",
      "True\n",
      "https://www.parkingplace.co.kr\n",
      "True\n"
     ]
    }
   ],
   "source": [
    "print(str(pi).split('.'))\n",
    "txt = 'CPU GPU RAM HDD SSD'\n",
    "print(txt)\n",
    "result = txt.split()\n",
    "print(result)\n",
    "\n",
    "txt = txt.replace(' ',',')\n",
    "print(txt)\n",
    "result = txt.split(',')\n",
    "print(result)\n",
    "\n",
    "name = \"   김동현   \"\n",
    "print(name , len(name), sep='')\n",
    "print(name.strip(), len(name.strip()), sep='')\n",
    "print(name.lstrip(), len(name.lstrip()), sep='')\n",
    "print(name.rstrip(), len(name.rstrip()), sep='')\n",
    "\n",
    "hello = 'Hellow, World!'\n",
    "print(hello)\n",
    "print(hello.index('o'), hello.find('z')) #index는 없으면 err, find는 없으면 -1\n",
    "print(hello.upper(), hello.upper().isupper())\n",
    "print(hello.lower(), hello.lower().islower())\n",
    "print(hello.lower().capitalize())\n",
    "print(hello.startswith('H'))\n",
    "print(hello.endswith('!'))\n",
    "\n",
    "url = '  https://www.parkingplace.co.kr'.strip()\n",
    "print(url)\n",
    "print(url.startswith('https://'))"
   ]
  },
  {
   "cell_type": "markdown",
   "metadata": {
    "slideshow": {
     "slide_type": "slide"
    }
   },
   "source": [
    "## 데이터 타입 변환 (형변환) 함수\n",
    "- 값의 데이터타입을 확인하는 함수\n",
    "    - type(값)\n",
    "- 정수로 변환\n",
    "    - int(value)\n",
    "- 실수로 변환\n",
    "    - float(value)\n",
    "- 문자열로 변환\n",
    "    - str(value)\n",
    "- 논리형으로 변환\n",
    "    - bool(value)"
   ]
  },
  {
   "cell_type": "code",
   "execution_count": 55,
   "metadata": {
    "slideshow": {
     "slide_type": "fragment"
    }
   },
   "outputs": [
    {
     "name": "stdout",
     "output_type": "stream",
     "text": [
      "<class 'float'>\t\t3.1415926535\n",
      "<class 'str'>\t\t3.1415926535\n",
      "<class 'int'>\t\t3\n",
      "<class 'bool'>\t\tTrue\n"
     ]
    }
   ],
   "source": [
    "pi = 3.1415926535\n",
    "state = '{}\\t\\t{}'\n",
    "print(state.format(type(pi), pi))\n",
    "pi = str(pi)\n",
    "print(state.format(type(pi), pi))\n",
    "pi = int(float(pi))\n",
    "print(state.format(type(pi), pi))\n",
    "pi = bool(pi)\n",
    "print(state.format(type(pi), pi))\n"
   ]
  },
  {
   "cell_type": "code",
   "execution_count": 56,
   "metadata": {},
   "outputs": [
    {
     "name": "stdout",
     "output_type": "stream",
     "text": [
      "11111111\n",
      "377\n",
      "255\n",
      "ff\n"
     ]
    }
   ],
   "source": [
    "\n",
    "x = \"255\"\n",
    "print('{:0b}'.format(int(x,base=10)))\n",
    "print('{:0o}'.format(int(x,base=10)))\n",
    "print('{:0d}'.format(int(x,base=10)))\n",
    "print('{:0x}'.format(int(x,base=10)))"
   ]
  },
  {
   "cell_type": "markdown",
   "metadata": {
    "slideshow": {
     "slide_type": "slide"
    }
   },
   "source": [
    "## 동적타입 언어\n",
    "- 변수가 가질 수 있는 값의 타입을 고정하지 않는다. 그래서 같은 변수에 서로 다른 타입의 값을 저장할 수 있다.\n",
    "- 자유도는 높지만 프로그램의 규모가 커지면 오류의 원인이 될 수 있다. \n",
    "- 파이썬은 동적 타입 언어이다.\n",
    "\n",
    "> - **정적 타입 언어**\n",
    ">     - 변수를 선언할 때 그 변수에 저장할 수 있는 값의 타입을 고정시킨다."
   ]
  },
  {
   "cell_type": "code",
   "execution_count": 68,
   "metadata": {
    "slideshow": {
     "slide_type": "fragment"
    }
   },
   "outputs": [
    {
     "name": "stdout",
     "output_type": "stream",
     "text": [
      "a\n",
      "10\n",
      "0.005\n",
      "['ss', 10, 3.14]\n",
      "['ss', 10]\n"
     ]
    }
   ],
   "source": [
    "thing = 'a'\n",
    "print(thing)\n",
    "thing = 10\n",
    "print(thing)\n",
    "thing = .5e-2\n",
    "print(thing)\n",
    "thing = ['ss', 10, 3.14]\n",
    "print(thing)\n",
    "print(thing[:2])"
   ]
  },
  {
   "cell_type": "code",
   "execution_count": 70,
   "metadata": {},
   "outputs": [
    {
     "name": "stdout",
     "output_type": "stream",
     "text": [
      "0\n"
     ]
    }
   ],
   "source": [
    "age:int = 10\n",
    "#힌트개념\n",
    "\n",
    "age = '30'\n",
    "if type(age) == int:\n",
    "    age += 10\n",
    "else:\n",
    "    age = 0\n",
    "print(age)"
   ]
  },
  {
   "cell_type": "code",
   "execution_count": 75,
   "metadata": {},
   "outputs": [],
   "source": [
    "num1 = input('숫자:')"
   ]
  },
  {
   "cell_type": "code",
   "execution_count": 77,
   "metadata": {},
   "outputs": [
    {
     "name": "stdout",
     "output_type": "stream",
     "text": [
      "5\n",
      "10\n",
      "10\n"
     ]
    }
   ],
   "source": [
    "print(num1)\n",
    "print(num1 * 2)\n",
    "type(num1)\n",
    "num1 = int(num1)\n",
    "print(num1 * 2)"
   ]
  },
  {
   "cell_type": "code",
   "execution_count": 83,
   "metadata": {},
   "outputs": [
    {
     "name": "stdout",
     "output_type": "stream",
     "text": [
      "5.7 <class 'str'>\n",
      "5.7 <class 'float'>\n",
      "5 <class 'int'>\n"
     ]
    }
   ],
   "source": [
    "x = '5.7'\n",
    "print(x, type(x))\n",
    "print(float(x), type(float(x)))\n",
    "print(int(float(x)), type(int(float(x))))\n",
    "\n",
    "#str '5.7' -> int 는 Err\n",
    "#float 5.7 -> int 는 소숫점 버림"
   ]
  },
  {
   "cell_type": "code",
   "execution_count": 91,
   "metadata": {},
   "outputs": [
    {
     "name": "stdout",
     "output_type": "stream",
     "text": [
      "False False False False\n",
      "True True True\n",
      "\n",
      "1 1.0\n",
      "0 0.0\n"
     ]
    }
   ],
   "source": [
    "print(bool(0), bool(0.0), bool(None),bool(''))\n",
    "print(bool(1), bool(1.1), bool('a'))\n",
    "print()\n",
    "print(int(True),float(True))\n",
    "print(int(False),float(False))"
   ]
  },
  {
   "cell_type": "code",
   "execution_count": 93,
   "metadata": {},
   "outputs": [
    {
     "name": "stdout",
     "output_type": "stream",
     "text": [
      "0\n",
      "1\n",
      "2\n"
     ]
    }
   ],
   "source": [
    "print(False + False)\n",
    "print(True + False)\n",
    "print(True + True)"
   ]
  },
  {
   "cell_type": "code",
   "execution_count": 86,
   "metadata": {},
   "outputs": [
    {
     "name": "stdout",
     "output_type": "stream",
     "text": [
      "False\n",
      "1.0\n",
      "0.9999999999999999\n"
     ]
    }
   ],
   "source": [
    "num1 = 0.1\n",
    "print((num1*10) == (num1+num1+num1+num1+num1+num1+num1+num1+num1+num1))\n",
    "print(num1*10)\n",
    "print(num1+num1+num1+num1+num1+num1+num1+num1+num1+num1)"
   ]
  },
  {
   "cell_type": "markdown",
   "metadata": {
    "slideshow": {
     "slide_type": "skip"
    }
   },
   "source": [
    "# TODO"
   ]
  },
  {
   "cell_type": "code",
   "execution_count": 111,
   "metadata": {
    "slideshow": {
     "slide_type": "skip"
    }
   },
   "outputs": [
    {
     "name": "stdout",
     "output_type": "stream",
     "text": [
      "생년월일\t: 901211\n",
      "뒷자리\t: 1027213\n",
      "\n",
      "안녕하세요 안녕하세요 안녕하세요 안녕하세요 안녕하세요 안녕하세요 안녕하세요 안녕하세요 안녕하세요 안녕하세요 \n",
      "\n",
      "[akdlclkdkdlelql39du7마구0ㅌ]의 길이는 [24]입니다\n",
      "\n",
      "제품명 : TV, 가격 : 300000, 제조사 : LG\n",
      "\n",
      "[사과 복숭아 귤 배]중에 수박은 존재하지 않습니다\n",
      "\n",
      "[aldkjaldjfalfjlksajfladlkaalalkdjfa]에서 a는 [9]개 있습니다.\n",
      "\n",
      "255 * 255 = 65025\n"
     ]
    }
   ],
   "source": [
    "#1. 주민번호 \"901211-1027213\"의 앞 6자리만 조회해서 출력하시오.\n",
    "personal_number = '901211-1027213'\n",
    "birth_num, personal_code = personal_number.split('-')\n",
    "print(f'생년월일\\t: {birth_num}')\n",
    "print(f'뒷자리\\t: {personal_code}')\n",
    "print()\n",
    "\n",
    "#2. \"안녕하세요\" 를 10번 출력하시오.\n",
    "print('안녕하세요 ' *  10)\n",
    "print()\n",
    "\n",
    "#3. 다음 문자열의 글자수를 출력하시오.\n",
    "str_value = \"akdlclkdkdlelql39du7마구0ㅌ\"\n",
    "len_str = len(str_value)\n",
    "print(f'[{str_value}]의 길이는 [{len_str}]입니다')\n",
    "print()\n",
    "\n",
    "#4.\n",
    "name=\"TV\"\n",
    "price=300000\n",
    "maker = \"LG\"\n",
    "# 위 변수의 값을 다음과 같은 형태로 출력하시오.\n",
    "#\"제품명 : TV, 가격 : 300000, 제조사 : LG\"\n",
    "data = [name, price, maker]\n",
    "str_output = '제품명 : {}, 가격 : {}, 제조사 : {}'\n",
    "print(str_output.format(*data))\n",
    "print()\n",
    "\n",
    "#5.\n",
    "fruits = \"사과 복숭아 귤 배\"\n",
    "# 위 fruits에 \"수박\"이 있는지 확인하는 코드를 작성하시오.\n",
    "is_wm = '존재합니다' if '수박' in fruits else '존재하지 않습니다'\n",
    "print(f'[{fruits}]중에 수박은 {is_wm}')\n",
    "print()\n",
    "\n",
    "#6.\n",
    "str_value=\"aldkjaldjfalfjlksajfladlkaalalkdjfa\"\n",
    "# str_value 문자열안에 a가 몇개 있는지 출력하시오.\n",
    "count_a = str_value.count('a')\n",
    "print(f'[{str_value}]에서 a는 [{count_a}]개 있습니다.')\n",
    "print()\n",
    "\n",
    "#7. 두개의 정수를 입력받아서 곱한 결과를 출력하는 코드를 작성하세요.\n",
    "num1 = int(input(['정수 :']))\n",
    "num2 = int(input(['정수 :']))\n",
    "print(f'{num1} * {num2} = {num1*num2}')"
   ]
  },
  {
   "cell_type": "code",
   "execution_count": 1,
   "metadata": {},
   "outputs": [
    {
     "name": "stdout",
     "output_type": "stream",
     "text": [
      "\n",
      "#ff9984\n",
      "   |\n",
      "   V\n",
      "Red\t: 255\n",
      "Green\t: 153\n",
      "Blue\t: 132\n"
     ]
    }
   ],
   "source": [
    "rgb = input('16진수 색상코드 : #')\n",
    "print()\n",
    "r = int(rgb[0:2], base=16)\n",
    "g = int(rgb[2:4], base=16)\n",
    "b = int(rgb[4:6], base=16)\n",
    "print(f'#{rgb}')\n",
    "print('   |\\n   V')\n",
    "print(f'Red\\t: {r}\\nGreen\\t: {g}\\nBlue\\t: {b}')"
   ]
  },
  {
   "cell_type": "code",
   "execution_count": 2,
   "metadata": {},
   "outputs": [
    {
     "name": "stdout",
     "output_type": "stream",
     "text": [
      "\n",
      "r : 255\n",
      "g : 153\n",
      "b : 132\n",
      "   |\n",
      "   V\n",
      "#ff9984\n"
     ]
    }
   ],
   "source": [
    "r = int(input('red\\t:'))\n",
    "g = int(input('green\\t:'))\n",
    "b = int(input('blue\\t:'))\n",
    "print()\n",
    "print(f'r : {r}\\ng : {g}\\nb : {b}')\n",
    "print('   |\\n   V')\n",
    "print(f'#{r:0x}{g:0x}{b:0x}')"
   ]
  },
  {
   "cell_type": "code",
   "execution_count": 6,
   "metadata": {},
   "outputs": [
    {
     "name": "stdout",
     "output_type": "stream",
     "text": [
      "0b\t: 11111111\n",
      "0o\t: 377\n",
      "10\t: 255\n",
      "0x\t: ff\n"
     ]
    }
   ],
   "source": [
    "d = 255\n",
    "print(f'0b\\t: {d:0b}\\n0o\\t: {d:0o}\\n10\\t: {d:d}\\n0x\\t: {d:0x}')"
   ]
  }
 ],
 "metadata": {
  "kernelspec": {
   "display_name": "Python 3 (ipykernel)",
   "language": "python",
   "name": "python3"
  },
  "language_info": {
   "codemirror_mode": {
    "name": "ipython",
    "version": 3
   },
   "file_extension": ".py",
   "mimetype": "text/x-python",
   "name": "python",
   "nbconvert_exporter": "python",
   "pygments_lexer": "ipython3",
   "version": "3.10.9"
  },
  "toc": {
   "base_numbering": 1,
   "nav_menu": {},
   "number_sections": true,
   "sideBar": true,
   "skip_h1_title": false,
   "title_cell": "Table of Contents",
   "title_sidebar": "Contents",
   "toc_cell": false,
   "toc_position": {
    "height": "1005.33px",
    "left": "95px",
    "top": "112.233px",
    "width": "512px"
   },
   "toc_section_display": true,
   "toc_window_display": false
  },
  "varInspector": {
   "cols": {
    "lenName": 16,
    "lenType": 16,
    "lenVar": 40
   },
   "kernels_config": {
    "python": {
     "delete_cmd_postfix": "",
     "delete_cmd_prefix": "del ",
     "library": "var_list.py",
     "varRefreshCmd": "print(var_dic_list())"
    },
    "r": {
     "delete_cmd_postfix": ") ",
     "delete_cmd_prefix": "rm(",
     "library": "var_list.r",
     "varRefreshCmd": "cat(var_dic_list()) "
    }
   },
   "types_to_exclude": [
    "module",
    "function",
    "builtin_function_or_method",
    "instance",
    "_Feature"
   ],
   "window_display": false
  }
 },
 "nbformat": 4,
 "nbformat_minor": 4
}
