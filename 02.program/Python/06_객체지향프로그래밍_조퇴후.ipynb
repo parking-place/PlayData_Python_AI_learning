{
 "cells": [
  {
   "cell_type": "markdown",
   "metadata": {
    "slideshow": {
     "slide_type": "slide"
    }
   },
   "source": [
    "# 객체지향 프로그래밍 (Object Oriented Programming)\n",
    "\n",
    "프로그램을 구성하는 변수와 함수들에서 서로 연관성있는 것 끼리 묶어서 모듈화하는 개발하는 언어들을 객체지향프로그래밍 언어라고 한다."
   ]
  },
  {
   "cell_type": "markdown",
   "metadata": {
    "slideshow": {
     "slide_type": "fragment"
    }
   },
   "source": [
    "# Instance(객체)\n",
    "- 연관성 있는 값들과 그 값들을 처리하는 함수(메소드)들을 묶어서 가지고 있는 것(값).\n",
    "- 객체의 구성요소\n",
    "    - 속성(Attribute)\n",
    "        - 객체의 데이터/상태로 객체를 구성하는 값들.\n",
    "    - 메소드(method)\n",
    "        - 객체가 제공하는 기능으로 주로 Attribute들을 처리한다.\n",
    "        "
   ]
  },
  {
   "cell_type": "markdown",
   "metadata": {
    "slideshow": {
     "slide_type": "subslide"
    }
   },
   "source": [
    "## Class(클래스) 정의\n",
    "\n",
    "- class란: 객체의 설계도\n",
    "    - 동일한 형태의 객체들이 가져야 하는 Attribute와 Method들을 정의 한 것\n",
    "        - 클래스를 정의할 때 어떤 속성과 메소드를 가지는지 먼저 설계해야 한다.\n",
    "    - 클래스로 부터 객체(instance)를 생성한 뒤 사용한다.\n",
    "```python\n",
    "class 클래스이름:  #선언부\n",
    "    #클래스 구현\n",
    "    #메소드들을 정의\n",
    "```\n",
    "- 클래스 이름의 관례: 파스칼 표기법-각 단어의 첫글자는 대문자 나머진 소문자로 정의한다.\n",
    "    - ex) Person, Student, HighSchoolStudent\n",
    "    "
   ]
  },
  {
   "cell_type": "markdown",
   "metadata": {
    "slideshow": {
     "slide_type": "fragment"
    }
   },
   "source": [
    "## 클래스로부터 객체(Instance) 생성\n",
    "- 클래스는 데이터 타입 instance는 값이다.\n",
    "\n",
    "```python\n",
    "변수 = 클래스이름()\n",
    "```"
   ]
  },
  {
   "cell_type": "code",
   "execution_count": null,
   "metadata": {},
   "outputs": [],
   "source": [
    "#Person class -> data type\n",
    "\n",
    "class Person:    #선언부\n",
    "    #구현\n",
    "    pass"
   ]
  },
  {
   "cell_type": "code",
   "execution_count": null,
   "metadata": {},
   "outputs": [],
   "source": [
    "#Person class의 instance(객체)를 생성 -> 값을 생성\n",
    "p = Person()     #Person()객체를 생성해서 변수 p에 대입"
   ]
  },
  {
   "cell_type": "code",
   "execution_count": null,
   "metadata": {},
   "outputs": [],
   "source": []
  },
  {
   "cell_type": "code",
   "execution_count": null,
   "metadata": {
    "slideshow": {
     "slide_type": "fragment"
    }
   },
   "outputs": [],
   "source": []
  },
  {
   "cell_type": "markdown",
   "metadata": {
    "slideshow": {
     "slide_type": "subslide"
    }
   },
   "source": [
    "## Attribute(속성) \n",
    "- attribute는 객체의 데이터, 객체가 가지는 값, 객체의 상태\n",
    "\n",
    "### 객체에 속성을 추가, 조회\n",
    "- 객체의 속성 추가(값 변경)\n",
    "    1. Initializer(생성자)를 통한 추가\n",
    "    2. 객체.속성명 = 값 (추가/변경)\n",
    "    3. 메소드를 통한 추가/변경\n",
    "    - 1(Initializer)은 초기화할 때. 2, 3은 속성값을 변경할 때 적용.\n",
    "- 속성 값 조회\n",
    "    - 객체.속성명\n",
    "- **객체.\\_\\_dict\\_\\_**\n",
    "    - 객체가 가지고 있는 Attribute들을 dictionary로 반환한다."
   ]
  },
  {
   "cell_type": "code",
   "execution_count": null,
   "metadata": {},
   "outputs": [],
   "source": [
    "p = Person()\n"
   ]
  },
  {
   "cell_type": "markdown",
   "metadata": {
    "slideshow": {
     "slide_type": "subslide"
    }
   },
   "source": [
    "### 생성자(Initializer)\n",
    "- 객체를 생성할 때 호출되는 특수메소드로 attribute들 초기화에 하는 코드를 구현한다.\n",
    "    - Inializer를 이용해 초기화하는 Attribute들이 그 클래스의 객체들이 가져야 하는 공통 Attribute가 된다.\n",
    "- 구문\n",
    "```python\n",
    "def __init__(self [,매개변수들 선언]):  #[ ] 옵션.\n",
    "    # 구현 -> attribute(instance변수) 초기화\n",
    "    self.속성명 = 값\n",
    "```\n",
    "> 변수 초기화: 처음 변수 만들어서 처음 값 대입.    "
   ]
  },
  {
   "cell_type": "code",
   "execution_count": 5,
   "metadata": {},
   "outputs": [],
   "source": [
    "#initializer를 이용해 attribute들을 초기화하는 class\n",
    "#Person class -> 생성된 객체는 반드시 name, age, email 세 개의 attribute를 가져야 한다.\n",
    "\n",
    "class Person2:\n",
    "    \n",
    "    def __init__(self):\n",
    "        print(\"Person2.__init__()\")\n",
    "        self.name = \"홍길동\"\n",
    "        self.age = 20\n",
    "        self.email = None"
   ]
  },
  {
   "cell_type": "code",
   "execution_count": 6,
   "metadata": {},
   "outputs": [
    {
     "name": "stdout",
     "output_type": "stream",
     "text": [
      "Person2.__init__()\n",
      "홍길동 20 None\n"
     ]
    }
   ],
   "source": [
    "p = Person2()\n",
    "print(p.name, p.age, p.email)"
   ]
  },
  {
   "cell_type": "code",
   "execution_count": 7,
   "metadata": {},
   "outputs": [
    {
     "name": "stdout",
     "output_type": "stream",
     "text": [
      "Person2.__init__()\n",
      "홍길동 20 None\n"
     ]
    }
   ],
   "source": [
    "p2 = Person2()\n",
    "print(p2.name, p2.age, p2.email)"
   ]
  },
  {
   "cell_type": "code",
   "execution_count": 8,
   "metadata": {},
   "outputs": [
    {
     "data": {
      "text/plain": [
       "{'name': '홍길동', 'age': 40, 'email': None}"
      ]
     },
     "execution_count": 8,
     "metadata": {},
     "output_type": "execute_result"
    }
   ],
   "source": [
    "p.age = 40\n",
    "p.__dict__"
   ]
  },
  {
   "cell_type": "code",
   "execution_count": 9,
   "metadata": {},
   "outputs": [
    {
     "data": {
      "text/plain": [
       "{'name': '홍길동', 'age': 20, 'email': None}"
      ]
     },
     "execution_count": 9,
     "metadata": {},
     "output_type": "execute_result"
    }
   ],
   "source": [
    "p2.__dict__"
   ]
  },
  {
   "cell_type": "code",
   "execution_count": 11,
   "metadata": {},
   "outputs": [
    {
     "data": {
      "text/plain": [
       "{'name': '이순신', 'age': 32, 'email': 'xxx@xxx.com'}"
      ]
     },
     "execution_count": 11,
     "metadata": {},
     "output_type": "execute_result"
    }
   ],
   "source": [
    "#객체 생성 시 원하는 곳에서 지정한 값으로 attribute를 초기화\n",
    "\n",
    "class Person3:\n",
    "    \n",
    "    def __init__(self, name:str, age:int, email:str = None):\n",
    "        self.name = name\n",
    "        self.age = age\n",
    "        self.email = email\n",
    "        \n",
    "    def print_name(self):\n",
    "        print(self.name)\n",
    "        \n",
    "        #self.name: attribute/instance variable (self.변수)\n",
    "        #name: __init__()의 local variable (지역변수)\n",
    "        \n",
    "p = Person3(\"이순신\", 32, \"xxx@xxx.com\") #class 뒤의 (): __init__() 호출\n",
    "p.__dict__"
   ]
  },
  {
   "cell_type": "code",
   "execution_count": 12,
   "metadata": {},
   "outputs": [
    {
     "name": "stdout",
     "output_type": "stream",
     "text": [
      "이순신\n"
     ]
    }
   ],
   "source": [
    "p.print_name()"
   ]
  },
  {
   "cell_type": "code",
   "execution_count": 13,
   "metadata": {},
   "outputs": [
    {
     "name": "stdout",
     "output_type": "stream",
     "text": [
      "이순신\n",
      "홍길동\n",
      "유관순\n"
     ]
    }
   ],
   "source": [
    "p2 = Person3(\"홍길동\", 32, \"xxx@xxx.com\")\n",
    "p3 = Person3(\"유관순\", 32, \"xxx@xxx.com\")\n",
    "\n",
    "p.print_name()\n",
    "p2.print_name()\n",
    "p3.print_name()"
   ]
  },
  {
   "cell_type": "code",
   "execution_count": 15,
   "metadata": {},
   "outputs": [
    {
     "name": "stdout",
     "output_type": "stream",
     "text": [
      "유관순\n"
     ]
    }
   ],
   "source": [
    "Person3(\"유관순\", 32, \"xxx@xxx.com\").print_name()"
   ]
  },
  {
   "cell_type": "markdown",
   "metadata": {
    "slideshow": {
     "slide_type": "fragment"
    }
   },
   "source": [
    "### self  parameter\n",
    "- 메소드는 반드시 한개 이상의 parameter를 선언해야 하고 그 첫번째 parameter를 말한다.\n",
    "- 메소드 호출시 그 메소드를 소유한 instance가 self parameter에 할당된다.\n",
    "- Initializer의 self\n",
    "    - 현재 만들어 지고 있는 객체를 받는다.\n",
    "- 메소드의 self\n",
    "    - 메소드를 소유한 객체를 받는다.\n",
    "- Caller에서 생성자/메소드에 전달된 argument들을 받을 parameter는 두번째 변수부터 선언한다.    "
   ]
  },
  {
   "cell_type": "markdown",
   "metadata": {
    "slideshow": {
     "slide_type": "subslide"
    }
   },
   "source": [
    "### Instance 메소드(method)\n",
    "- 객체가 제공하는 기능\n",
    "- 객체의 attribute 값을 처리하는 기능을 구현한다.\n",
    "- 구문\n",
    "```python\n",
    "def 이름(self [, 매개변수들 선언]):\n",
    "    # 구현\n",
    "    # attribute 사용(조회/대입)\n",
    "    self.attribute \n",
    "```\n",
    "- self (첫번째 매개변수)\n",
    "    - 메소드를 소유한 객체를 받는 변수\n",
    "    - 호출할 때 전달하는 argument를 받는 매개변수는 두번째 부터 선언한다.\n",
    "![self](images/ch06_01.png)\n",
    "    \n",
    "- **메소드 호출**\n",
    "    - `객체.메소드이름([argument, ...])`"
   ]
  },
  {
   "cell_type": "code",
   "execution_count": 56,
   "metadata": {},
   "outputs": [],
   "source": [
    "class Person4:\n",
    "    \n",
    "    #instance 변수(attribute)를 초기화 -> __init__()에서 한다.\n",
    "    \n",
    "    def __init__(self, name, age, address, email=None, *args, **kwargs):\n",
    "        self.name = name\n",
    "        self.age = age\n",
    "        self.address = address\n",
    "        self.email = email\n",
    "        self.hobby = []    #instance변수를 꼭 파라미터로 받아서 정의할 필요는 없다.\n",
    "        \n",
    "    #method\n",
    "    #모든 attribute를 출력하는 method\n",
    "    \n",
    "    def print_info(self):      #객체를 받는 변수를 반드시 선언해야 함. 그래야 method\n",
    "        info = f\"이름: {self.name}, 나이: {self.age}, 주소: {self.address}, Email: {self.email}\"\n",
    "        #hobby가 있으면 추가\n",
    "        if self.hobby:     #자료구조는 원소가 없으면 False, 한 개 이상  있으면 True\n",
    "            info += \", 취미: \"\n",
    "            for h in self.hobby:\n",
    "                info += h + \", \"\n",
    "        print(info)\n",
    "        #return info\n",
    "        \n",
    "    #취미를 추가하는 method -> 취미는 최대 3개까지 추가 가능.\n",
    "    def add_hobby(self, hob):\n",
    "        #hob: 추가할 취미\n",
    "        if len(self.hobby) < 3:\n",
    "            self.hobby.append(hob)\n",
    "        else:\n",
    "            print(\"3개까지만 추가할 수 있습니다.\")"
   ]
  },
  {
   "cell_type": "code",
   "execution_count": 57,
   "metadata": {},
   "outputs": [],
   "source": [
    "p1 = Person4(\"홍길동\", 30, \"서울\", \"vvv@vvv.com\")\n",
    "p2 = Person4(\"이순신\", age=40, address=\"인천\", email=\"bbb@bbb.com\")"
   ]
  },
  {
   "cell_type": "code",
   "execution_count": 58,
   "metadata": {},
   "outputs": [
    {
     "name": "stdout",
     "output_type": "stream",
     "text": [
      "이름: 홍길동, 나이: 30, 주소: 서울, Email: vvv@vvv.com\n"
     ]
    }
   ],
   "source": [
    "p1.print_info()"
   ]
  },
  {
   "cell_type": "code",
   "execution_count": 59,
   "metadata": {},
   "outputs": [
    {
     "name": "stdout",
     "output_type": "stream",
     "text": [
      "이름: 이순신, 나이: 40, 주소: 인천, Email: bbb@bbb.com\n"
     ]
    }
   ],
   "source": [
    "p2.print_info()"
   ]
  },
  {
   "cell_type": "code",
   "execution_count": 60,
   "metadata": {},
   "outputs": [],
   "source": [
    "p1.add_hobby(\"축구\")"
   ]
  },
  {
   "cell_type": "code",
   "execution_count": 61,
   "metadata": {},
   "outputs": [
    {
     "name": "stdout",
     "output_type": "stream",
     "text": [
      "이름: 홍길동, 나이: 30, 주소: 서울, Email: vvv@vvv.com, 취미: 축구, \n"
     ]
    }
   ],
   "source": [
    "p1.print_info()"
   ]
  },
  {
   "cell_type": "code",
   "execution_count": 62,
   "metadata": {},
   "outputs": [
    {
     "name": "stdout",
     "output_type": "stream",
     "text": [
      "3개까지만 추가할 수 있습니다.\n"
     ]
    }
   ],
   "source": [
    "p1.add_hobby(\"농구\")\n",
    "p1.add_hobby(\"수영\")\n",
    "p1.add_hobby(\"야구\")"
   ]
  },
  {
   "cell_type": "code",
   "execution_count": 63,
   "metadata": {},
   "outputs": [
    {
     "name": "stdout",
     "output_type": "stream",
     "text": [
      "이름: 홍길동, 나이: 30, 주소: 서울, Email: vvv@vvv.com, 취미: 축구, 농구, 수영, \n"
     ]
    }
   ],
   "source": [
    "p1.print_info()"
   ]
  },
  {
   "cell_type": "markdown",
   "metadata": {
    "slideshow": {
     "slide_type": "slide"
    }
   },
   "source": [
    "## 정보 은닉 (Information Hiding)\n",
    "- Attribute의 값을 caller(객체 외부)가 마음대로 바꾸지 못하게 하기 위해 직접 호출을 막고 setter/getter 메소드를 통해 값을 변경/조회 하도록 한다.\n",
    "    - 데이터 보호가 주목적이다.\n",
    "    - 변경 메소드에 Attribube 변경 조건을 넣어 업무 규칙에 맞는 값들만 변경되도록 처리한다.\n",
    "    - **setter**\n",
    "        - Attribute의 값을 변경하는 메소드. 관례상 set 으로 시작\n",
    "    - **getter**\n",
    "        - Attribute의 값을 조회하는 메소드. 관례상 get 으로 시작\n",
    "- Attribute 직접 호출 막기\n",
    "    - Attribute의 이름을 \\_\\_(double underscore)로 시작한다. (\\_\\_로 끝나면 안된다.)\n",
    "    - 같은 클래스에서는 선언한 이름으로 사용가능하지만 외부에서는 그 이름으로 호출할 수 없게 된다.\n",
    "    "
   ]
  },
  {
   "cell_type": "code",
   "execution_count": 64,
   "metadata": {},
   "outputs": [
    {
     "name": "stdout",
     "output_type": "stream",
     "text": [
      "이름: 홍길동, 나이: 30, 주소: 서울, Email: vvv@vvv.com, 취미: 축구, 농구, 수영, \n"
     ]
    }
   ],
   "source": [
    "p1.print_info()"
   ]
  },
  {
   "cell_type": "code",
   "execution_count": 68,
   "metadata": {},
   "outputs": [
    {
     "data": {
      "text/plain": [
       "['축구', '농구', '수영']"
      ]
     },
     "execution_count": 68,
     "metadata": {},
     "output_type": "execute_result"
    }
   ],
   "source": [
    "p1.hobby"
   ]
  },
  {
   "cell_type": "code",
   "execution_count": 69,
   "metadata": {},
   "outputs": [],
   "source": [
    "p1.hobby.extend([\"게임\", \"십자수\", \"등산\", \"서핑\"])"
   ]
  },
  {
   "cell_type": "code",
   "execution_count": 70,
   "metadata": {},
   "outputs": [
    {
     "name": "stdout",
     "output_type": "stream",
     "text": [
      "이름: 홍길동, 나이: 30, 주소: 서울, Email: vvv@vvv.com, 취미: 축구, 농구, 수영, 게임, 십자수, 등산, 서핑, \n"
     ]
    }
   ],
   "source": [
    "p1.print_info()"
   ]
  },
  {
   "cell_type": "code",
   "execution_count": 71,
   "metadata": {},
   "outputs": [
    {
     "name": "stdout",
     "output_type": "stream",
     "text": [
      "이름: 홍길동, 나이: -100, 주소: 서울, Email: vvv@vvv.com, 취미: 축구, 농구, 수영, 게임, 십자수, 등산, 서핑, \n"
     ]
    }
   ],
   "source": [
    "p1.age = -100\n",
    "p1.print_info()"
   ]
  },
  {
   "cell_type": "code",
   "execution_count": 72,
   "metadata": {},
   "outputs": [
    {
     "name": "stdout",
     "output_type": "stream",
     "text": [
      "이름: None, 나이: 40, 주소: 인천, Email: bbb@bbb.com\n"
     ]
    }
   ],
   "source": [
    "p2.name = None\n",
    "p2.print_info()"
   ]
  },
  {
   "cell_type": "code",
   "execution_count": null,
   "metadata": {},
   "outputs": [],
   "source": [
    "#변수에 직접 접근하여 수정하면 마구 변경 가능 -> 이를 방지하기 위한 방법: 정보 은닉"
   ]
  },
  {
   "cell_type": "code",
   "execution_count": 102,
   "metadata": {},
   "outputs": [],
   "source": [
    "# Information Hiding을 적용하여 class 구현\n",
    "# instance 변수에 값을 직접 변경하지 못하게 한다.\n",
    "# setter/getter 메소드를 통해 변수의 값을 변경/조회 할 수 있게 한다.\n",
    "# name은 두 글자 이상만 변경 가능.\n",
    "# age는 양수만 가능.\n",
    "\n",
    "class Person5:\n",
    "    \n",
    "    def __init__(self, name, age):\n",
    "        #instance 변수 초기 -> 변수명: \"__이름\"\n",
    "        self.__name = None\n",
    "        self.__age = None\n",
    "        self.address = None    #주소는 특별한 설정 규칙이 없다.  -> 은닉할 필요 X\n",
    "        \n",
    "        self.set_name(name)\n",
    "        self.set_age(age)\n",
    "        \n",
    "    # instance 변수의 값을 변경하는 메소드 - setter\n",
    "    def set_name(self, name):   #set_변수명   #self.name = \"홍길동\"\n",
    "        if name and len(name) >= 2:\n",
    "                self.__name = name       #같은 class 안에선 \"__이름\"으로 호출 가능.\n",
    "        else:\n",
    "            print(\"이름은 두 글자 이상만 넣으세요.\")\n",
    "    \n",
    "    def set_age(self, age):\n",
    "        if age >= 0:\n",
    "            self.__age = age\n",
    "        else:\n",
    "            print(\"나이는 양수만 가능합니다.\")\n",
    "            \n",
    "            \n",
    "    #instance 변수의 값을 반환하는 메소드 - getter\n",
    "    def get_name(self):   #get_변수명\n",
    "        return self.__name\n",
    "    \n",
    "    def get_age(self):\n",
    "        return self.__age"
   ]
  },
  {
   "cell_type": "code",
   "execution_count": 103,
   "metadata": {},
   "outputs": [
    {
     "ename": "AttributeError",
     "evalue": "'Person5' object has no attribute '__name'",
     "output_type": "error",
     "traceback": [
      "\u001b[1;31m---------------------------------------------------------------------------\u001b[0m",
      "\u001b[1;31mAttributeError\u001b[0m                            Traceback (most recent call last)",
      "Cell \u001b[1;32mIn[103], line 2\u001b[0m\n\u001b[0;32m      1\u001b[0m p1 \u001b[38;5;241m=\u001b[39m Person5(\u001b[38;5;124m\"\u001b[39m\u001b[38;5;124m홍길동\u001b[39m\u001b[38;5;124m\"\u001b[39m, \u001b[38;5;241m20\u001b[39m)\n\u001b[1;32m----> 2\u001b[0m \u001b[43mp1\u001b[49m\u001b[38;5;241;43m.\u001b[39;49m\u001b[43m__name\u001b[49m, p1\u001b[38;5;241m.\u001b[39m__age\n",
      "\u001b[1;31mAttributeError\u001b[0m: 'Person5' object has no attribute '__name'"
     ]
    }
   ],
   "source": [
    "p1 = Person5(\"홍길동\", 20)\n",
    "p1.__name, p1.__age         #정보가 은닉되어 접근 X"
   ]
  },
  {
   "cell_type": "code",
   "execution_count": 104,
   "metadata": {},
   "outputs": [
    {
     "data": {
      "text/plain": [
       "{'_Person5__name': '홍길동', '_Person5__age': 20, 'address': None}"
      ]
     },
     "execution_count": 104,
     "metadata": {},
     "output_type": "execute_result"
    }
   ],
   "source": [
    "p1.__dict__"
   ]
  },
  {
   "cell_type": "code",
   "execution_count": 105,
   "metadata": {},
   "outputs": [
    {
     "data": {
      "text/plain": [
       "{'_Person5__name': None, '_Person5__age': 20, 'address': None}"
      ]
     },
     "execution_count": 105,
     "metadata": {},
     "output_type": "execute_result"
    }
   ],
   "source": [
    "p1._Person5__name = None\n",
    "p1.__dict__                    #사실 변경 가능.... 파이썬은 interpreter언어이므로 변경을 막아 놓을 수가 없음."
   ]
  },
  {
   "cell_type": "code",
   "execution_count": 106,
   "metadata": {
    "slideshow": {
     "slide_type": "fragment"
    }
   },
   "outputs": [],
   "source": [
    "p1.__age = None"
   ]
  },
  {
   "cell_type": "code",
   "execution_count": 107,
   "metadata": {},
   "outputs": [
    {
     "data": {
      "text/plain": [
       "{'_Person5__name': None, '_Person5__age': 20, 'address': None, '__age': None}"
      ]
     },
     "execution_count": 107,
     "metadata": {},
     "output_type": "execute_result"
    }
   ],
   "source": [
    "p1.__dict__      #위에 언급됐던 __age가 바뀌는 것이 아니라 __age가 새로 생김."
   ]
  },
  {
   "cell_type": "code",
   "execution_count": 108,
   "metadata": {},
   "outputs": [
    {
     "data": {
      "text/plain": [
       "(None, 20)"
      ]
     },
     "execution_count": 108,
     "metadata": {},
     "output_type": "execute_result"
    }
   ],
   "source": [
    "p1.get_name(), p1.get_age()"
   ]
  },
  {
   "cell_type": "code",
   "execution_count": 110,
   "metadata": {},
   "outputs": [],
   "source": [
    "p1.set_name(\"이순신\")\n",
    "p1.set_age(22)"
   ]
  },
  {
   "cell_type": "code",
   "execution_count": 111,
   "metadata": {},
   "outputs": [],
   "source": [
    "p1.name = \"이순\""
   ]
  },
  {
   "cell_type": "code",
   "execution_count": null,
   "metadata": {},
   "outputs": [],
   "source": []
  },
  {
   "cell_type": "markdown",
   "metadata": {
    "slideshow": {
     "slide_type": "subslide"
    }
   },
   "source": [
    "### property함수를 사용\n",
    "- 은닉된 instance 변수의 값을 사용할 때 getter/setter대신 변수를 사용하는 방식으로 호출할 수 있도록 한다.\n",
    "- 구현\n",
    "    1. getter/setter 메소드를 만든다.\n",
    "    2. 변수 = property(getter, setter) 를 등록한다.\n",
    "    3. 호출\n",
    "        - 값조회: 변수를 사용 => getter가 호출 된다.\n",
    "        - 값변경: 변수 = 변경할 값 => setter가 호출 된다."
   ]
  },
  {
   "cell_type": "code",
   "execution_count": 118,
   "metadata": {
    "slideshow": {
     "slide_type": "fragment"
    }
   },
   "outputs": [],
   "source": [
    "class Person6:\n",
    "    \n",
    "    def __init__(self, name, age, address):\n",
    "        #instance 변수 초기 -> 변수명: \"__이름\"\n",
    "        self.__name = None\n",
    "        self.__age = None\n",
    "        self.address =address    #주소는 특별한 설정 규칙이 없다.  -> 은닉할 필요 X\n",
    "        \n",
    "        self.set_name(name)\n",
    "        self.set_age(age)\n",
    "        \n",
    "    # instance 변수의 값을 변경하는 메소드 - setter\n",
    "    def set_name(self, name):   #set_변수명   #self.name = \"홍길동\"\n",
    "        print(f\"Person6.set_name({name})\")\n",
    "        if name != None and len(name) >= 2:\n",
    "                self.__name = name       #같은 class 안에선 \"__이름\"으로 호출 가능.\n",
    "        else:\n",
    "            print(\"이름은 두 글자 이상만 넣으세요.\")\n",
    "    \n",
    "    def set_age(self, age):\n",
    "        print(f\"Person6.set_age({age})\")\n",
    "        \n",
    "        if age >= 0:\n",
    "            self.__age = age\n",
    "        else:\n",
    "            print(\"나이는 양수만 가능합니다.\")\n",
    "            \n",
    "            \n",
    "    #instance 변수의 값을 반환하는 메소드 - getter\n",
    "    def get_name(self):   #get_변수명\n",
    "        print(\"Person6.get_name()\")\n",
    "        return self.__name\n",
    "    \n",
    "    def get_age(self):\n",
    "        print(\"Person6.get_age()\")\n",
    "        return self.__age\n",
    "    \n",
    "    #setter/getter를 변수를 이용하여 변수를 호출할 수 있다.\n",
    "    #호출할 때 사용할 변수 = property(getter, setter)\n",
    "    \n",
    "    name = property(get_name, set_name)   #property(getter함수, setter함수)\n",
    "    age = property(get_age, set_age)"
   ]
  },
  {
   "cell_type": "code",
   "execution_count": 119,
   "metadata": {},
   "outputs": [
    {
     "name": "stdout",
     "output_type": "stream",
     "text": [
      "Person6.set_name(유관순)\n",
      "Person6.set_age(10)\n"
     ]
    },
    {
     "data": {
      "text/plain": [
       "{'_Person6__name': '유관순', '_Person6__age': 10, 'address': '서울'}"
      ]
     },
     "execution_count": 119,
     "metadata": {},
     "output_type": "execute_result"
    }
   ],
   "source": [
    "p = Person6(\"유관순\", 10, \"서울\")\n",
    "p.__dict__"
   ]
  },
  {
   "cell_type": "code",
   "execution_count": null,
   "metadata": {},
   "outputs": [],
   "source": []
  },
  {
   "cell_type": "markdown",
   "metadata": {
    "slideshow": {
     "slide_type": "subslide"
    },
    "tags": []
   },
   "source": [
    "### 데코레이터(decorator)를 이용해 property 지정.\n",
    "- setter/getter 구현 + property()를 이용해 변수 등록 하는 것을 더 간단하게 구현하는 방식\n",
    "- setter/getter 메소드이름을 변수처럼 지정. (보통은 같은 이름으로 지정)\n",
    "- getter메소드: @property 데코레이터를 선언  \n",
    "- setter메소드: @getter메소드이름.setter  데코레이터를 선언.\n",
    "    - 반드시 getter 메소드를 먼저 정의한다.\n",
    "    - setter메소드 이름은 getter와 동일해야 한다.\n",
    "- getter/setter의 이름을 Attribute 변수처럼 사용한다.\n",
    "- 주의: getter/setter 메소드를 직접 호출 할 수 없다. 변수형식으로만 호출가능하다."
   ]
  },
  {
   "cell_type": "code",
   "execution_count": 126,
   "metadata": {
    "slideshow": {
     "slide_type": "fragment"
    }
   },
   "outputs": [],
   "source": [
    "class Person7:\n",
    "    \n",
    "    def __init__(self, name, age, address):\n",
    "       \n",
    "        self.__name = None\n",
    "        self.__age = None\n",
    "        \n",
    "        self.name = name          #setter name method(name)\n",
    "        self.age = age            #setter age method(age) 호출\n",
    "        self.address =address     \n",
    "    \n",
    "    #getter를 setter 위로 변경함.\n",
    "    @property\n",
    "    def name(self):   \n",
    "        print(\"Person7.get_name()\")\n",
    "        return self.__name\n",
    "    \n",
    "    @property\n",
    "    def age(self):\n",
    "        print(\"Person7.get_age()\")\n",
    "        return self.__age\n",
    "    \n",
    "    @name.setter\n",
    "    def name(self, name):  \n",
    "        print(f\"Person7.set_name({name})\")\n",
    "        if name != None and len(name) >= 2:\n",
    "                self.__name = name      \n",
    "        else:\n",
    "            print(\"이름은 두 글자 이상만 넣으세요.\")\n",
    "    \n",
    "    @age.setter\n",
    "    def age(self, age):\n",
    "        print(f\"Person7.set_age({age})\")\n",
    "        \n",
    "        if age >= 0:\n",
    "            self.__age = age\n",
    "        else:\n",
    "            print(\"나이는 양수만 가능합니다.\")\n",
    "            "
   ]
  },
  {
   "cell_type": "code",
   "execution_count": 127,
   "metadata": {},
   "outputs": [
    {
     "name": "stdout",
     "output_type": "stream",
     "text": [
      "Person7.set_name(홍길동)\n",
      "Person7.set_age(30)\n"
     ]
    }
   ],
   "source": [
    "p = Person7(\"홍길동\", 30, \"인천\")"
   ]
  },
  {
   "cell_type": "code",
   "execution_count": 128,
   "metadata": {},
   "outputs": [
    {
     "name": "stdout",
     "output_type": "stream",
     "text": [
      "Person7.get_age()\n",
      "Person7.get_name()\n"
     ]
    },
    {
     "data": {
      "text/plain": [
       "(30, '홍길동')"
      ]
     },
     "execution_count": 128,
     "metadata": {},
     "output_type": "execute_result"
    }
   ],
   "source": [
    "p.age, p.name"
   ]
  },
  {
   "cell_type": "code",
   "execution_count": 129,
   "metadata": {},
   "outputs": [
    {
     "name": "stdout",
     "output_type": "stream",
     "text": [
      "Person7.set_age(100)\n",
      "Person7.set_name(이순신)\n"
     ]
    }
   ],
   "source": [
    "p.age = 100\n",
    "p.name = \"이순신\""
   ]
  },
  {
   "cell_type": "markdown",
   "metadata": {
    "slideshow": {
     "slide_type": "subslide"
    }
   },
   "source": [
    "## TODO\n",
    "- 제품 클래스 구현\n",
    "- 속성 : 제품ID:str 제품이름: str, 제품가격:int, 제조사이름:str\n",
    "-       정보은닉에 맞춰서 작성. 값을 대입/조회 하는 것은 변수처리 방식을 할 수 있도록 구현.\n",
    "- 메소드: 전체 정보를 출력하는 메소드\n",
    "\n",
    "메소드 : setter-4개, getter-4개. 전체정보 출력하는 메소드-1개"
   ]
  },
  {
   "cell_type": "code",
   "execution_count": 153,
   "metadata": {
    "slideshow": {
     "slide_type": "fragment"
    }
   },
   "outputs": [],
   "source": [
    "class Product:\n",
    "    \n",
    "    def __init__(self, ID:str, name:str, price:int, c_name:str):\n",
    "       \n",
    "        self.ID = ID            #self.ID(ID)\n",
    "        self.name = name        #self.name(name)\n",
    "        self.price = price      #self.price(price) \n",
    "        self.c_name = c_name    #self.c_name(c_name)\n",
    "        \n",
    "    @property\n",
    "    def ID(self):   \n",
    "        print(\"Product.get_ID()\")\n",
    "        return self.__ID\n",
    "    \n",
    "    @property\n",
    "    def name(self):   \n",
    "        print(\"Product.get_name()\")\n",
    "        return self.__name\n",
    "    \n",
    "    @property\n",
    "    def price(self):   \n",
    "        print(\"Product.get_price()\")\n",
    "        return self.__price\n",
    "    \n",
    "    @property\n",
    "    def c_name(self):   \n",
    "        print(\"Product.get_c_name()\")\n",
    "        return self.__c_name\n",
    "    \n",
    "    @ID.setter\n",
    "    def ID(self, ID):   \n",
    "        print(\"Product.set_ID()\")\n",
    "        self.__ID = ID\n",
    "    \n",
    "    @name.setter\n",
    "    def name(self, name):   \n",
    "        print(\"Product.set_name()\")\n",
    "        self.__name = name\n",
    "    \n",
    "    @price.setter\n",
    "    def price(self, price):   \n",
    "        print(\"Product.set_price()\")\n",
    "        self.__price = price\n",
    "    \n",
    "    @c_name.setter\n",
    "    def c_name(self, c_name):   \n",
    "        print(\"Product.set_c_name()\")\n",
    "        self.__c_name = c_name\n",
    "        \n",
    "    #property로 등록\n",
    "#     id = property(??id, ??id)\n",
    "#     name = property()\n",
    "#     price = property()\n",
    "#     c_name = property()\n",
    "        \n",
    "    def print_product(self):      \n",
    "        print(f\"제품ID: {self.ID}\\n제품이름: {self.name}\\n제품가격: {self.price}\\n제조사이름: {self.c_name}\")"
   ]
  },
  {
   "cell_type": "code",
   "execution_count": 154,
   "metadata": {},
   "outputs": [
    {
     "name": "stdout",
     "output_type": "stream",
     "text": [
      "Product.set_ID()\n",
      "Product.set_name()\n",
      "Product.set_price()\n",
      "Product.set_c_name()\n"
     ]
    }
   ],
   "source": [
    "a = Product(\"제과류\", \"꽈배기\", 3000, \"빵가게\")"
   ]
  },
  {
   "cell_type": "code",
   "execution_count": 155,
   "metadata": {},
   "outputs": [
    {
     "name": "stdout",
     "output_type": "stream",
     "text": [
      "Product.get_ID()\n",
      "Product.get_name()\n",
      "Product.get_price()\n",
      "Product.get_c_name()\n",
      "제품ID: 제과류\n",
      "제품이름: 꽈배기\n",
      "제품가격: 3000\n",
      "제조사이름: 빵가게\n"
     ]
    }
   ],
   "source": [
    "a.print_product()"
   ]
  },
  {
   "cell_type": "code",
   "execution_count": 156,
   "metadata": {},
   "outputs": [
    {
     "name": "stdout",
     "output_type": "stream",
     "text": [
      "Product.set_name()\n",
      "Product.set_price()\n",
      "Product.get_ID()\n",
      "Product.get_name()\n",
      "Product.get_price()\n",
      "Product.get_c_name()\n",
      "제품ID: 제과류\n",
      "제품이름: 식빵\n",
      "제품가격: 5000\n",
      "제조사이름: 빵가게\n"
     ]
    }
   ],
   "source": [
    "a.name = \"식빵\"\n",
    "a.price = 5000\n",
    "\n",
    "a.print_product()"
   ]
  },
  {
   "cell_type": "code",
   "execution_count": 157,
   "metadata": {},
   "outputs": [
    {
     "name": "stdout",
     "output_type": "stream",
     "text": [
      "Product.get_price()\n",
      "5000\n",
      "Product.get_name()\n",
      "식빵\n"
     ]
    }
   ],
   "source": [
    "print(a.price)\n",
    "print(a.name)"
   ]
  },
  {
   "cell_type": "markdown",
   "metadata": {
    "slideshow": {
     "slide_type": "slide"
    }
   },
   "source": [
    "## 상속 (Inheritance)\n",
    "\n",
    "- 기존 클래스를 확장하여 새로운 클래스를 구현한다.\n",
    "    - 생성된 객체(instance)가 기존 클래스에 정의된 Attribute나 method를 사용할 수있고 그 외의 추가적인 member들을 가질 수 있는 클래스를 구현하는 방법.\n",
    "- **기반(Base) 클래스, 상위(Super) 클래스, 부모(Parent) 클래스**\n",
    "    - 물려 주는 클래스.\n",
    "    - 상속하는 클래스에 비해 더 추상적인 클래스가 된다. \n",
    "    - 상속하는 클래스의 데이터 타입이 된다.\n",
    "- **파생(Derived) 클래스, 하위(Sub) 클래스, 자식(Child) 클래스**\n",
    "    - 상속하는 클래스.\n",
    "    - 상속을 해준 클래스 보다 좀더 구체적인 클래스가 된다.\n",
    "- 상위 클래스와 하위 클래스는 계층관계를 이룬다.\n",
    "    - 상위 클래스는 하위 클래스 객체의 타입이 된다."
   ]
  },
  {
   "cell_type": "markdown",
   "metadata": {
    "slideshow": {
     "slide_type": "subslide"
    }
   },
   "source": [
    "### 다중상속과 단일 상속\n",
    "- 다중상속\n",
    "    - 여러 클래스로부터 상속할 수 있다\n",
    "- 단일상속\n",
    "    - 하나의 클래스로 부터만 상속할 수 있다.\n",
    "- 파이썬은 다중상속을 지원한다.\n",
    "- MRO (Method Resolution Order)\n",
    "    - 다중상속시 메소드 호출할 때 그 메소드를 찾는 순서. \n",
    "    1. 자기자신\n",
    "    2. 상위클래스(하위에서 상위로 올라간다)\n",
    "        - 다중상속의 경우 먼저 선언한 클래스 부터 찾는다. (왼쪽->오른쪽)\n",
    "- MRO 순서 조회 \n",
    "    - Class이름.mro()"
   ]
  },
  {
   "cell_type": "markdown",
   "metadata": {
    "slideshow": {
     "slide_type": "subslide"
    }
   },
   "source": [
    "### Method Overriding (메소드 재정의)\n",
    "상위 클래스의 메소드의 구현부를 하위 클래스에서 다시 구현하는 것을 말한다.  \n",
    "상위 클래스는 모든 하위 클래스들에 적용할 수 있는 추상적인 구현밖에는 못한다.  \n",
    "이 경우 하위 클래스에서 그 내용을 자신에 맞게 좀더 구체적으로 재구현할 수 있게 해주는 것을 Method Overriding이라고 한다.  \n",
    "방법은 하위 클래스에서 overriding할 메소드의 선언문은 그래로 사용하고 그 구현부는 재구현하면 된다.  \n",
    "\n",
    "### super() 내장함수\n",
    "- 하위 클래스에서 상위 클래스의 instance를 반환(return) 해주는 함수\n",
    "- 구문\n",
    "```python\n",
    "super().메소드명() \n",
    "```\n",
    "- 상위 클래스의 Instance 메소드를 호출할 때 – super().메소드()\n",
    "    - 특히 method overriding을 한 클래스에서 상위 클래스의 overriding한 메소드를 호출 할 경우 반드시 `super().메소드() `형식으로 호출해야 한다.\n",
    "- 같은 클래스의 Instance 메소드를 호출할 때 – self.메소드()"
   ]
  },
  {
   "cell_type": "code",
   "execution_count": 18,
   "metadata": {},
   "outputs": [],
   "source": [
    "class Person:                                  #class Person(object):\n",
    "    \n",
    "    def eat(self):\n",
    "        print(\"점심을 먹는다.\")"
   ]
  },
  {
   "cell_type": "code",
   "execution_count": 31,
   "metadata": {},
   "outputs": [],
   "source": [
    "class Worker:\n",
    "    \n",
    "    def work(self):\n",
    "        print(\"일을 한다.\")"
   ]
  },
  {
   "cell_type": "code",
   "execution_count": 48,
   "metadata": {},
   "outputs": [],
   "source": [
    "#Person을 상속한 Student/Teacher 클래스를 정의\n",
    "\n",
    "class Student(Person):                         #class 클래스이름(부모클래스이름):\n",
    "    \n",
    "    def study(self):\n",
    "        print(\"공부한다.\")\n",
    "        super().eat()                          #상위 클래스의 Instance 메소드를 호출\n",
    "#         self.eat() 도 가능. 본인 클래스에 없으므로 self.으로도 상위 클래스의 메소드 호출. but 좋은 방법은 아님."
   ]
  },
  {
   "cell_type": "code",
   "execution_count": 49,
   "metadata": {},
   "outputs": [],
   "source": [
    "#Person -> Student -> UniversityStudent\n",
    "#Worker ->            UniversityStudent\n",
    "\n",
    "class UniversityStudent(Student,Worker):       #다중상속\n",
    "    \n",
    "    def drink(self):\n",
    "        self.work()                            #'파트타임으로 일을 한다.' 호출. Worker의 것을 호출하려면 super.으로 호출.\n",
    "        print(\"술을 마신다.\")\n",
    "        \n",
    "    def work(self):                            #Method Overriding 메소드 재정의\n",
    "        print(\"파트타임으로 일을 한다.\")"
   ]
  },
  {
   "cell_type": "code",
   "execution_count": 50,
   "metadata": {},
   "outputs": [],
   "source": [
    "class Teacher(Person, Worker):\n",
    "    \n",
    "    def teach(self):\n",
    "        print(\"수업을 가르친다.\")\n",
    "        \n",
    "    def work(self):\n",
    "        self.teach()                           #같은 클래스에서 호출 시에는 항상 self. 붙이기\n",
    "        print(\"학생 관리를 한다.\")             #상위클래스에서 정의된 메소드를 하위클래스에서 구현을 변경->더 구체화 (메소드 재정의)"
   ]
  },
  {
   "cell_type": "code",
   "execution_count": 51,
   "metadata": {},
   "outputs": [
    {
     "name": "stdout",
     "output_type": "stream",
     "text": [
      "공부한다.\n",
      "점심을 먹는다.\n",
      "점심을 먹는다.\n"
     ]
    }
   ],
   "source": [
    "s = Student()\n",
    "s.study()\n",
    "s.eat()"
   ]
  },
  {
   "cell_type": "code",
   "execution_count": 52,
   "metadata": {},
   "outputs": [
    {
     "name": "stdout",
     "output_type": "stream",
     "text": [
      "술을 마신다.\n",
      "공부한다.\n",
      "점심을 먹는다.\n",
      "점심을 먹는다.\n",
      "파트타임으로 일을 한다.\n",
      "점심을 먹는다.\n"
     ]
    }
   ],
   "source": [
    "u = UniversityStudent()\n",
    "u.drink()                                      #UniversityStudent\n",
    "u.study()                                      #Student\n",
    "u.eat()                                        #Person\n",
    "u.work()                                       #Woker -> UniversityStudent\n",
    "UniversityStudent().eat()"
   ]
  },
  {
   "cell_type": "code",
   "execution_count": 53,
   "metadata": {},
   "outputs": [
    {
     "data": {
      "text/plain": [
       "[__main__.UniversityStudent,\n",
       " __main__.Student,\n",
       " __main__.Person,\n",
       " __main__.Worker,\n",
       " object]"
      ]
     },
     "execution_count": 53,
     "metadata": {},
     "output_type": "execute_result"
    }
   ],
   "source": [
    "UniversityStudent.mro()           #object: 파이썬에서 모든 것은 사실 객체임. 따라서 가장 최상위. but 신경쓰지 않아도 괜찮다."
   ]
  },
  {
   "cell_type": "code",
   "execution_count": 54,
   "metadata": {},
   "outputs": [
    {
     "name": "stdout",
     "output_type": "stream",
     "text": [
      "수업을 가르친다.\n",
      "점심을 먹는다.\n",
      "수업을 가르친다.\n",
      "학생 관리를 한다.\n"
     ]
    }
   ],
   "source": [
    "t = Teacher()\n",
    "t.teach()\n",
    "t.eat()\n",
    "t.work()"
   ]
  },
  {
   "cell_type": "code",
   "execution_count": 57,
   "metadata": {},
   "outputs": [],
   "source": [
    "class Person:\n",
    "    \n",
    "    def __init__(self, name, age, address=None):\n",
    "        \n",
    "        self.__name = self.__age = self.__address = None      #아래의 이유로 None을 미리 지정하기.\n",
    "        \n",
    "        self.name = name\n",
    "        self.age = age                                        #setter의 값들이 들어감\n",
    "        self.address = address\n",
    "        \n",
    "    @property\n",
    "    def name(self):\n",
    "        return self.__name\n",
    "    \n",
    "    @property\n",
    "    def age(self):\n",
    "        return self.__age\n",
    "    \n",
    "    @property\n",
    "    def address(self):\n",
    "        return self.__address\n",
    "    \n",
    "    @name.setter                                #원하는 조건이 있을 때 setter, getter를 만든다.\n",
    "    def name(self, name):\n",
    "        if len(name) >= 2:\n",
    "            self.__name = name\n",
    "            \n",
    "    @age.setter\n",
    "    def age(self, age):\n",
    "        if age >= 0:\n",
    "            self.__age = age\n",
    "            \n",
    "    @address.setter\n",
    "    def address(self, address):\n",
    "        if address:\n",
    "            self.__address = address\n",
    "            \n",
    "    #Person의 모든 attribute를 하나의 문자열로 묶어서 반환하는 메소드\n",
    "    def get_info(self):\n",
    "        return f\"이름: {self.name}, 나이: {self.age}, 주소: {self.address}\""
   ]
  },
  {
   "cell_type": "code",
   "execution_count": 81,
   "metadata": {},
   "outputs": [],
   "source": [
    "class Student(Person):\n",
    "    \n",
    "    def __init__(self, name, age, address, grade:\"학생 속성\", clazz:\"학생 속성\"):\n",
    "        \n",
    "        #name, age, address는 부모클래스의 __init__()을 호출해서 초기화.\n",
    "        super().__init__(name, age, address)\n",
    "        \n",
    "        self.__grade = self.__clazz = None\n",
    "        self.__grade = grade\n",
    "        self.__clazz = clazz\n",
    "        \n",
    "    @property\n",
    "    def grade(self):\n",
    "        return self.__grade\n",
    "    \n",
    "    @property\n",
    "    def clazz(self):\n",
    "        return self.__clazz\n",
    "    \n",
    "    @grade.setter\n",
    "    def grade(self, grade):\n",
    "        if grade > 0:\n",
    "            self.__grade = grade\n",
    "            \n",
    "    @clazz.setter\n",
    "    def clazz(self, clazz):\n",
    "        if clazz > 0:\n",
    "            self.__clazz = clazz\n",
    "    \n",
    "    #학년, 반 출력을 위해 추가.\n",
    "    def get_info(self):\n",
    "#         return f\"이름: {super().name}, 나이: {super().age}, 주소: {super().address}, 학년: {self.grade}, 반: {self.clazz}\"\n",
    "        txt = super().get_info() + f\", 학년: {self.grade}, 반: {self.clazz}\"\n",
    "        return txt"
   ]
  },
  {
   "cell_type": "code",
   "execution_count": 82,
   "metadata": {},
   "outputs": [
    {
     "name": "stdout",
     "output_type": "stream",
     "text": [
      "홍길동 20 서울\n",
      "이름: 홍길동, 나이: 20, 주소: 부산\n"
     ]
    }
   ],
   "source": [
    "p = Person(\"홍길동\", 20, \"서울\")\n",
    "print(p.name, p.age, p.address)\n",
    "p.name = \"a\"\n",
    "p.age = -30\n",
    "p.address = \"부산\"\n",
    "info = p.get_info()\n",
    "print(info)"
   ]
  },
  {
   "cell_type": "code",
   "execution_count": 83,
   "metadata": {},
   "outputs": [
    {
     "name": "stdout",
     "output_type": "stream",
     "text": [
      "김학생 15 서울 3 2\n"
     ]
    }
   ],
   "source": [
    "s = Student(\"김학생\", 15, \"서울\", 3, 2)\n",
    "print(s.name, s.age, s.address, s.grade, s.clazz)"
   ]
  },
  {
   "cell_type": "code",
   "execution_count": 84,
   "metadata": {},
   "outputs": [
    {
     "name": "stdout",
     "output_type": "stream",
     "text": [
      "이름: 김학생, 나이: 15, 주소: 서울, 학년: 3, 반: 2\n"
     ]
    }
   ],
   "source": [
    "print(s.get_info())         #grade, clazz 정보는 빠짐.  ->  수정 후 추가 됨."
   ]
  },
  {
   "cell_type": "markdown",
   "metadata": {
    "slideshow": {
     "slide_type": "slide"
    }
   },
   "source": [
    "## 객체 관련 유용한 내장 함수, 특수 변수\n",
    "-  **`isinstance(객체, 클래스이름-datatype)`** : bool\n",
    "    - 객체가 두번째 매개변수로 지정한 클래스의 타입이면 True, 아니면 False 반환\n",
    "    - 여러개의 타입여부를 확인할 경우 class이름(type)들을 리스트로 묶어 준다.\n",
    "    - 상위 클래스는 하위 클래스객체의 타입이 되므로 객체와 그 객체의 상위 클래스 비교시 True가 나온다.\n",
    "- **`객체.__dict__`**\n",
    "     - 객체가 가지고 있는 Attribute 변수들과 대입된 값을 dictionary에 넣어 반환\n",
    "- **`객체.__class__`**\n",
    "    - 객체의 타입을 반환"
   ]
  },
  {
   "cell_type": "code",
   "execution_count": 89,
   "metadata": {},
   "outputs": [
    {
     "data": {
      "text/plain": [
       "(True, True)"
      ]
     },
     "execution_count": 89,
     "metadata": {},
     "output_type": "execute_result"
    }
   ],
   "source": [
    "s = Student(\"이학생\", 16, \"서울\", 2, 1)\n",
    "#객체 s의 타입 찾기\n",
    "isinstance(s, Student), type(s) == Student"
   ]
  },
  {
   "cell_type": "code",
   "execution_count": 90,
   "metadata": {},
   "outputs": [
    {
     "data": {
      "text/plain": [
       "(False, False)"
      ]
     },
     "execution_count": 90,
     "metadata": {},
     "output_type": "execute_result"
    }
   ],
   "source": [
    "isinstance(s, Teacher), type(s) == Teacher"
   ]
  },
  {
   "cell_type": "code",
   "execution_count": 88,
   "metadata": {},
   "outputs": [
    {
     "data": {
      "text/plain": [
       "__main__.Student"
      ]
     },
     "execution_count": 88,
     "metadata": {},
     "output_type": "execute_result"
    }
   ],
   "source": [
    "type(s)"
   ]
  },
  {
   "cell_type": "code",
   "execution_count": 91,
   "metadata": {},
   "outputs": [
    {
     "data": {
      "text/plain": [
       "True"
      ]
     },
     "execution_count": 91,
     "metadata": {},
     "output_type": "execute_result"
    }
   ],
   "source": [
    "isinstance(s, Person)    #상위클래스는 하위클래스의 객체의 타입이 된다."
   ]
  },
  {
   "cell_type": "code",
   "execution_count": 92,
   "metadata": {},
   "outputs": [
    {
     "data": {
      "text/plain": [
       "(True, False)"
      ]
     },
     "execution_count": 92,
     "metadata": {},
     "output_type": "execute_result"
    }
   ],
   "source": [
    "value = \"abc\"\n",
    "isinstance(value, str), isinstance(value, int) "
   ]
  },
  {
   "cell_type": "code",
   "execution_count": 94,
   "metadata": {},
   "outputs": [
    {
     "name": "stdout",
     "output_type": "stream",
     "text": [
      "<class 'str'> <class 'float'>\n"
     ]
    }
   ],
   "source": [
    "print(type(\"abc\"), type(1.5))"
   ]
  },
  {
   "cell_type": "code",
   "execution_count": 98,
   "metadata": {},
   "outputs": [
    {
     "data": {
      "text/plain": [
       "True"
      ]
     },
     "execution_count": 98,
     "metadata": {},
     "output_type": "execute_result"
    }
   ],
   "source": [
    "#value가 str 또는 int 타입인지 확인\n",
    "value = 100\n",
    "isinstance(value, (str, int))"
   ]
  },
  {
   "cell_type": "code",
   "execution_count": 102,
   "metadata": {},
   "outputs": [],
   "source": [
    "def func(value):\n",
    "    #숫자를 받아서 10을 더하는 함수\n",
    "    \n",
    "    if isinstance(value, (int, float)):      \n",
    "        return value + 10\n",
    "    else:\n",
    "        print(\"숫자를 주세요.\")"
   ]
  },
  {
   "cell_type": "code",
   "execution_count": 103,
   "metadata": {},
   "outputs": [
    {
     "data": {
      "text/plain": [
       "110"
      ]
     },
     "execution_count": 103,
     "metadata": {},
     "output_type": "execute_result"
    }
   ],
   "source": [
    "func(100)"
   ]
  },
  {
   "cell_type": "code",
   "execution_count": 104,
   "metadata": {},
   "outputs": [
    {
     "name": "stdout",
     "output_type": "stream",
     "text": [
      "숫자를 주세요.\n"
     ]
    }
   ],
   "source": [
    "func(\"abc\")"
   ]
  },
  {
   "cell_type": "code",
   "execution_count": 109,
   "metadata": {},
   "outputs": [],
   "source": [
    "#Person 객체를 받아서 그 사람의 정보를 출력하는 메소드\n",
    "\n",
    "def print_person_info(person:Person):\n",
    "    \n",
    "    if isinstance(person, Person):\n",
    "        info = person.get_info()\n",
    "        print(info)\n",
    "    else:\n",
    "        print(\"Person 객체를 전달하세요.\")"
   ]
  },
  {
   "cell_type": "code",
   "execution_count": 110,
   "metadata": {},
   "outputs": [
    {
     "name": "stdout",
     "output_type": "stream",
     "text": [
      "이름: 홍길동, 나이: 40, 주소: 부산\n"
     ]
    }
   ],
   "source": [
    "p = Person(\"홍길동\", 40, \"부산\")\n",
    "print_person_info(p)"
   ]
  },
  {
   "cell_type": "code",
   "execution_count": 111,
   "metadata": {},
   "outputs": [
    {
     "name": "stdout",
     "output_type": "stream",
     "text": [
      "이름: 박학생, 나이: 11, 주소: 인천, 학년: 1, 반: 10\n"
     ]
    }
   ],
   "source": [
    "s = Student(\"박학생\", 11, \"인천\", 1, 10)\n",
    "print_person_info(s)"
   ]
  },
  {
   "cell_type": "code",
   "execution_count": 112,
   "metadata": {},
   "outputs": [
    {
     "name": "stdout",
     "output_type": "stream",
     "text": [
      "Person 객체를 전달하세요.\n"
     ]
    }
   ],
   "source": [
    "print_person_info(\"adfs\")"
   ]
  },
  {
   "cell_type": "code",
   "execution_count": 113,
   "metadata": {},
   "outputs": [
    {
     "data": {
      "text/plain": [
       "{'_Person__name': '박학생',\n",
       " '_Person__age': 11,\n",
       " '_Person__address': '인천',\n",
       " '_Student__grade': 1,\n",
       " '_Student__clazz': 10}"
      ]
     },
     "execution_count": 113,
     "metadata": {},
     "output_type": "execute_result"
    }
   ],
   "source": [
    "s.__dict__"
   ]
  },
  {
   "cell_type": "code",
   "execution_count": 114,
   "metadata": {},
   "outputs": [
    {
     "data": {
      "text/plain": [
       "__main__.Student"
      ]
     },
     "execution_count": 114,
     "metadata": {},
     "output_type": "execute_result"
    }
   ],
   "source": [
    "s.__class__"
   ]
  },
  {
   "cell_type": "markdown",
   "metadata": {
    "slideshow": {
     "slide_type": "slide"
    }
   },
   "source": [
    "## 특수 메소드\n",
    "\n",
    "\n",
    "### 특수 메소드란\n",
    "- 특정한 상황에서 사용될 때 자동으로 호출되도록 파이썬 실행환경에 정의된 약속된 메소드들이다. 객체에 특정 기능들을 추가할 때 사용한다.\n",
    "    - 정의한 메소드와 그것을 호출하는 함수가 다르다.\n",
    "         - ex) `__init__()` => 객체 생성할 때 호출 된다.\n",
    "- 메소드 명이 더블 언더스코어로 시작하고 끝난다. \n",
    "    - ex) `__init__(), __str__()`\n",
    "- 매직 메소드(Magic Method), 던더(DUNDER) 메소드라고도 한다.\n",
    "- 특수메소드 종류\n",
    "    - https://docs.python.org/ko/3/reference/datamodel.html#special-method-names"
   ]
  },
  {
   "cell_type": "markdown",
   "metadata": {
    "slideshow": {
     "slide_type": "subslide"
    }
   },
   "source": [
    "### 주요 특수메소드\n",
    "- **`__init__(self [, …])`**\n",
    "    - Initializer\n",
    "    - 객체 생성시 호출 된다.\n",
    "    - 객체 생성시 Attribute의 값들을 초기화하는 것을 구현한다.\n",
    "    - self 변수로 받은 instance에 Attribute를 설정한다.\n",
    "- **`__call__(self [, …])`**\n",
    "- 객체를 함수처럼 호출 하면 실행되는 메소드\n",
    "    - Argument를 받을 Parameter 변수는 self 변수 다음에 필요한대로 선언한다.\n",
    "    - 처리결과를 반환하도록 구현할 경우 `return value` 구문을 넣는다. (필수는 아니다.)\n",
    "\n"
   ]
  },
  {
   "cell_type": "code",
   "execution_count": 121,
   "metadata": {},
   "outputs": [],
   "source": [
    "class Plus:\n",
    "    \n",
    "    def __init__(self, num1, num2):\n",
    "        self.num1 = num1\n",
    "        self.num2 = num2\n",
    "        \n",
    "#     def calc(self):\n",
    "#         result = self.num1 + self.num2\n",
    "#         return result\n",
    "\n",
    "    def __call__(self, num):\n",
    "        result = (self.num1 + self.num2) ** num\n",
    "        return result"
   ]
  },
  {
   "cell_type": "code",
   "execution_count": 122,
   "metadata": {},
   "outputs": [
    {
     "name": "stdout",
     "output_type": "stream",
     "text": [
      "900\n"
     ]
    }
   ],
   "source": [
    "p = Plus(10, 20)\n",
    "# p.calc()\n",
    "v = p(2)  #Plus.__call__()이 실행\n",
    "print(v)  #30 ** 2"
   ]
  },
  {
   "cell_type": "markdown",
   "metadata": {
    "slideshow": {
     "slide_type": "subslide"
    }
   },
   "source": [
    "- **`__repr__(self)`**\n",
    "    - Instance(객체) 자체를 표현할 수 있는 문자열을 반환한다.\n",
    "        - 보통 객체 생성하는 구문을 문자열로 반환한다.\n",
    "        - 반환된 문자열을 eval() 에 넣으면 동일한 attribute값들을 가진 객체를 생성할 수 있도록 정의한다.\n",
    "    - 내장함수 **repr(객체)** 호출할 때 이 메소드가 호출 된다.\n",
    "    - 대화형 IDE(REPL) 에서 객체를 참조하는 변수 출력할 때도 호출된다.\n",
    "> - eval(문자열)\n",
    ">     - 실행 가능한 구문의 문자열을 받아서 실행한다.\n",
    "\n",
    "- **`__str__(self)`**\n",
    "    - Instance(객체)의 Attribute들을 묶어서 문자열로 반환한다.\n",
    "    - 내장 함수 **str(객체)**  호출할 때 이 메소드가 호출 된다.\n",
    "        - str() 호출할 때 객체에 `__str__()`의 정의 안되 있으면 `__repr__()` 을 호출한다. `__repr__()`도 없으면 상위클래스에 정의된 `__str__()`을 호출한다.\n",
    "        - print() 함수는 값을 문자열로 변환해서 출력한다. 이때 그 값을 str() 에 넣어 문자열로 변환한다."
   ]
  },
  {
   "cell_type": "code",
   "execution_count": 125,
   "metadata": {},
   "outputs": [],
   "source": [
    "class Person:\n",
    "    def __repr__(self):\n",
    "        return \"Person()\""
   ]
  },
  {
   "cell_type": "code",
   "execution_count": null,
   "metadata": {},
   "outputs": [],
   "source": [
    "#Read Evaluate Print Loop"
   ]
  },
  {
   "cell_type": "code",
   "execution_count": 127,
   "metadata": {},
   "outputs": [
    {
     "name": "stdout",
     "output_type": "stream",
     "text": [
      "Person()\n"
     ]
    }
   ],
   "source": [
    "p = Person()\n",
    "v = repr(p)   # --> p의 __repr__() 메소드를 호출\n",
    "print(v)"
   ]
  },
  {
   "cell_type": "code",
   "execution_count": 193,
   "metadata": {},
   "outputs": [],
   "source": [
    "class Person:\n",
    "    def __init__(self, name, age):\n",
    "        self.name = name\n",
    "        self.age = age\n",
    "        \n",
    "    def __repr__(self):\n",
    "        return f\"Person('{self.name}', {self.age})\"\n",
    "    \n",
    "    def __str__(self):          #보기 좋게 만들어주는 역할\n",
    "        return f\"이름: {self.name}, 나이: {self.age}\"\n",
    "    \n",
    "    #연산자 overriding\n",
    "    #덧셈, 뺄셈 -> 정수를 받아서 age 속성의 값에 덧셈/뺄셈을 하도록 재정의\n",
    "    def __add__(self, other):\n",
    "        return self.age + other\n",
    "    \n",
    "    def __sub__(self, other):\n",
    "        return self.age - other\n",
    "    \n",
    "    #==, >,  <\n",
    "    #나이와 other 비교한 결과를 반환. other는 정수 또는 다른 Person 객체(나이).\n",
    "    def __gt__(self, other):\n",
    "        if isinstance(other, int):\n",
    "            return self.age > other\n",
    "        elif isinstance(other, Person):\n",
    "            return self.age > other\n",
    "        else:\n",
    "            raise Exception(f\"Person과 {type(other)}는 비교할 수 없습니다.\")\n",
    "    \n",
    "    def  __eq__(self, other):\n",
    "        if isinstance(other, int):\n",
    "            return self.age == other\n",
    "        elif isinstance(other, Person):\n",
    "            return self.age == other.age\n",
    "        else:\n",
    "            return False\n",
    "    \n",
    "    def __lt__(self, other):\n",
    "        if isinstance(other, int):\n",
    "            return self.age < other\n",
    "        elif isinstance(other, Person):\n",
    "            return self.age < other\n",
    "        else:\n",
    "            raise Exception(f\"Person과 {type(other)}는 비교할 수 없습니다.\")"
   ]
  },
  {
   "cell_type": "code",
   "execution_count": 195,
   "metadata": {},
   "outputs": [
    {
     "name": "stdout",
     "output_type": "stream",
     "text": [
      "50\n",
      "20\n",
      "True\n",
      "False\n",
      "False\n"
     ]
    }
   ],
   "source": [
    "p = Person(\"이름\", 30)\n",
    "print(p + 20)   #30: 20: 50\n",
    "print(p - 10)   #30-10: 20\n",
    "print(p > 5)    #30 > 5\n",
    "print(p == 10)  #30 == 10\n",
    "print(p < 10)   #30 < 10"
   ]
  },
  {
   "cell_type": "code",
   "execution_count": 197,
   "metadata": {},
   "outputs": [
    {
     "name": "stdout",
     "output_type": "stream",
     "text": [
      "True\n",
      "False\n",
      "False\n"
     ]
    }
   ],
   "source": [
    "p2 = Person(\"이름2\", 20)\n",
    "\n",
    "#p와 p2의 나이를 비교\n",
    "print(p > p2)\n",
    "print(p == p2)\n",
    "print(p < p2)"
   ]
  },
  {
   "cell_type": "code",
   "execution_count": 198,
   "metadata": {},
   "outputs": [
    {
     "ename": "TypeError",
     "evalue": "'<=' not supported between instances of 'Person' and 'Person'",
     "output_type": "error",
     "traceback": [
      "\u001b[1;31m---------------------------------------------------------------------------\u001b[0m",
      "\u001b[1;31mTypeError\u001b[0m                                 Traceback (most recent call last)",
      "Cell \u001b[1;32mIn[198], line 1\u001b[0m\n\u001b[1;32m----> 1\u001b[0m \u001b[38;5;28mprint\u001b[39m(\u001b[43mp\u001b[49m\u001b[43m \u001b[49m\u001b[38;5;241;43m<\u001b[39;49m\u001b[38;5;241;43m=\u001b[39;49m\u001b[43m \u001b[49m\u001b[43mp2\u001b[49m)\n",
      "\u001b[1;31mTypeError\u001b[0m: '<=' not supported between instances of 'Person' and 'Person'"
     ]
    }
   ],
   "source": [
    "print(p <= p2)     #구현 안되어있는 표현이므로 에러발생"
   ]
  },
  {
   "cell_type": "code",
   "execution_count": 199,
   "metadata": {},
   "outputs": [
    {
     "data": {
      "text/plain": [
       "Person('홍길동', 20)"
      ]
     },
     "execution_count": 199,
     "metadata": {},
     "output_type": "execute_result"
    }
   ],
   "source": [
    "p = Person(\"홍길동\", 20)\n",
    "p                               #__repr__호출"
   ]
  },
  {
   "cell_type": "code",
   "execution_count": 164,
   "metadata": {},
   "outputs": [
    {
     "name": "stdout",
     "output_type": "stream",
     "text": [
      "이름: 홍길동, 나이: 20\n"
     ]
    },
    {
     "data": {
      "text/plain": [
       "'이름: 홍길동, 나이: 20'"
      ]
     },
     "execution_count": 164,
     "metadata": {},
     "output_type": "execute_result"
    }
   ],
   "source": [
    "print(p)                        #__str__호출 (print는 항상 안의 값을 문자열로 처리하므로 __str__ 호출됨.)\n",
    "str(p)                          #객체를 문자열(str) 타입으로 변환 -> __str__"
   ]
  },
  {
   "cell_type": "code",
   "execution_count": 165,
   "metadata": {},
   "outputs": [
    {
     "data": {
      "text/plain": [
       "Person('이순신', 30)"
      ]
     },
     "execution_count": 165,
     "metadata": {},
     "output_type": "execute_result"
    }
   ],
   "source": [
    "p2 = Person(\"이순신\", 30)\n",
    "p2"
   ]
  },
  {
   "cell_type": "code",
   "execution_count": 158,
   "metadata": {},
   "outputs": [
    {
     "data": {
      "text/plain": [
       "21"
      ]
     },
     "execution_count": 158,
     "metadata": {},
     "output_type": "execute_result"
    }
   ],
   "source": [
    "#파이썬 실행코드를 문자열로 전달하면 실행시켜준다.\n",
    "eval(\"1 + 20\")"
   ]
  },
  {
   "cell_type": "code",
   "execution_count": 159,
   "metadata": {},
   "outputs": [
    {
     "data": {
      "text/plain": [
       "(__main__.Person, '이순신', 30)"
      ]
     },
     "execution_count": 159,
     "metadata": {},
     "output_type": "execute_result"
    }
   ],
   "source": [
    "a = eval(\"Person('이순신', 30)\")\n",
    "type(a), a.name, a.age"
   ]
  },
  {
   "cell_type": "code",
   "execution_count": 160,
   "metadata": {},
   "outputs": [
    {
     "data": {
      "text/plain": [
       "('이순신', 30)"
      ]
     },
     "execution_count": 160,
     "metadata": {},
     "output_type": "execute_result"
    }
   ],
   "source": [
    "v = repr(p2)\n",
    "obj = eval(v)\n",
    "obj.name, obj.age"
   ]
  },
  {
   "cell_type": "markdown",
   "metadata": {
    "slideshow": {
     "slide_type": "subslide"
    }
   },
   "source": [
    "#### 연산자 재정의(Operator overriding) 관련 특수 메소드\n",
    "- 연산자의 피연산자로 객체를 사용하면 호출되는 메소드들\n",
    "- 다항연산자일 경우 가장 왼쪽의 객체에 정의된 메소드가 호출된다.\n",
    "    - `a + b` 일경우 a의 `__add__()` 가 호출된다.\n",
    "- **비교 연산자**\n",
    "    - **`__eq__(self, other)`** : self == other\n",
    "        - == 로 객체의 내용을 비교할 때 정의 한다.\n",
    "    - **`__lt__(self, other)`** : self < other, \n",
    "    - **`__gt__(self, other)`** : self > other\n",
    "        - min()이나 max()에서 인수로 사용할 경우 정의해야 한다.\n",
    "    - **`__le__(self, other)`**: self <= other\n",
    "    - **`__ge__(self, other)`**: self >= other\n",
    "    - **`__ne__(self, other)`**: self != other"
   ]
  },
  {
   "cell_type": "markdown",
   "metadata": {
    "slideshow": {
     "slide_type": "fragment"
    }
   },
   "source": [
    "- **산술 연산자**\n",
    "    - **`__add__(self, other)`**: self + other\n",
    "    - **`__sub__(self, other)`**: self - other\n",
    "    - **`__mul__(self, other)`**: self * other\n",
    "    - **`__truediv__(self, other)`**: self / other\n",
    "    - **`__floordiv__(self, other)`**: self // other\n",
    "    - **`__mod__(self, other)`**: self % other"
   ]
  },
  {
   "cell_type": "code",
   "execution_count": 183,
   "metadata": {},
   "outputs": [],
   "source": [
    "class Nums:\n",
    "    \n",
    "    def __init__(self, num):\n",
    "        self.num = num\n",
    "        \n",
    "    def __eq__(self, n):                               # n:self == 10:n\n",
    "        return self.num == n\n",
    "    \n",
    "    def __add__(self, other):                          # n + 10이 실행되도록 해줌 + 'n1 + n2'가 실행되도록 해줌\n",
    "        if isinstance(other, (int, float)):\n",
    "            return self.num + other\n",
    "        elif isinstance(other, Nums):\n",
    "            return self.num + other.num\n",
    "        else:\n",
    "            print(\"더할 수 없다. -----오류발생\")\n",
    "#             raise Exception(\"더할 수 없는 값입니다.\")"
   ]
  },
  {
   "cell_type": "code",
   "execution_count": 184,
   "metadata": {},
   "outputs": [
    {
     "data": {
      "text/plain": [
       "True"
      ]
     },
     "execution_count": 184,
     "metadata": {},
     "output_type": "execute_result"
    }
   ],
   "source": [
    "n = Nums(10)\n",
    "n == 10\n",
    "#n.__eq__(10)"
   ]
  },
  {
   "cell_type": "code",
   "execution_count": 185,
   "metadata": {},
   "outputs": [
    {
     "data": {
      "text/plain": [
       "20"
      ]
     },
     "execution_count": 185,
     "metadata": {},
     "output_type": "execute_result"
    }
   ],
   "source": [
    "n + 10\n",
    "#n.__add__(10)"
   ]
  },
  {
   "cell_type": "code",
   "execution_count": 186,
   "metadata": {},
   "outputs": [
    {
     "data": {
      "text/plain": [
       "300"
      ]
     },
     "execution_count": 186,
     "metadata": {},
     "output_type": "execute_result"
    }
   ],
   "source": [
    "n1 = Nums(100)\n",
    "n2 = Nums(200)\n",
    "n1 + n2\n",
    "#n1.__add__(n2)"
   ]
  },
  {
   "cell_type": "markdown",
   "metadata": {
    "slideshow": {
     "slide_type": "slide"
    }
   },
   "source": [
    "# class변수, class 메소드\n",
    "- **class변수**\n",
    "    - (Intance가 아닌) 클래스 자체의 데이터\n",
    "    - Attribute가 객체별로 생성된다면, class변수는 클래스당 하나가 생성된다.\n",
    "    - 구현\n",
    "        - class 블럭에 변수 선언.\n",
    "- **class 메소드**\n",
    "    - 클래스 변수를 처리하는 메소드\n",
    "    - 구현\n",
    "        - @classmethod 데코레이터를 붙인다.\n",
    "        - 첫번째 매개변수로 클래스를 받는 변수를 선언한다. 이 변수를 이용해 클래스 변수나 다른 클래스 메소드를 호출 한다."
   ]
  },
  {
   "cell_type": "markdown",
   "metadata": {
    "slideshow": {
     "slide_type": "subslide"
    }
   },
   "source": [
    "# static 메소드\n",
    "- 클래스의 메소드로 클래스 변수와 상관없는 단순기능을 정의한다.\n",
    "    - Caller 에서 받은 argument만 가지고 일하는 메소드를 구현한다.\n",
    "- 구현\n",
    "    - @staticmethod 데코레이터를 붙인다.\n",
    "    - Parameter에 대한 규칙은 없이 필요한 변수들만 선언한다.\n",
    "    "
   ]
  },
  {
   "cell_type": "markdown",
   "metadata": {
    "slideshow": {
     "slide_type": "fragment"
    }
   },
   "source": [
    "## class 메소드/변수, static 메소드 호출\n",
    "- 클래스이름.변수\n",
    "- 클래스이름.메소드() "
   ]
  },
  {
   "cell_type": "code",
   "execution_count": 207,
   "metadata": {},
   "outputs": [],
   "source": [
    "class Calculator:\n",
    "    \n",
    "    PI = 3.14159    #값을 변경하지 않았으면하는 변수(상수)는 대문자로 쓴다. #클래스 변수\n",
    "    \n",
    "    #원의 넓이를 구한는 메소드\n",
    "    @classmethod\n",
    "    def circle_area(clazz, radius):\n",
    "        return radius * radius * clazz.PI\n",
    "    \n",
    "    #사각형의 넓이를 구하는 메소드\n",
    "    @staticmethod\n",
    "    def square_area(width, height):     #static 메소드, 두 변수 모두 받는 변수\n",
    "        return width * height"
   ]
  },
  {
   "cell_type": "code",
   "execution_count": 208,
   "metadata": {},
   "outputs": [
    {
     "data": {
      "text/plain": [
       "(78.53975, 78.53975)"
      ]
     },
     "execution_count": 208,
     "metadata": {},
     "output_type": "execute_result"
    }
   ],
   "source": [
    "Calculator.circle_area(5), 5*5*3.14159"
   ]
  },
  {
   "cell_type": "code",
   "execution_count": 209,
   "metadata": {},
   "outputs": [
    {
     "data": {
      "text/plain": [
       "3.14159"
      ]
     },
     "execution_count": 209,
     "metadata": {},
     "output_type": "execute_result"
    }
   ],
   "source": [
    "Calculator.PI"
   ]
  },
  {
   "cell_type": "code",
   "execution_count": 210,
   "metadata": {},
   "outputs": [
    {
     "data": {
      "text/plain": [
       "50"
      ]
     },
     "execution_count": 210,
     "metadata": {},
     "output_type": "execute_result"
    }
   ],
   "source": [
    "Calculator.square_area(10, 5)"
   ]
  }
 ],
 "metadata": {
  "kernelspec": {
   "display_name": "Python 3 (ipykernel)",
   "language": "python",
   "name": "python3"
  },
  "language_info": {
   "codemirror_mode": {
    "name": "ipython",
    "version": 3
   },
   "file_extension": ".py",
   "mimetype": "text/x-python",
   "name": "python",
   "nbconvert_exporter": "python",
   "pygments_lexer": "ipython3",
   "version": "3.10.9"
  },
  "toc": {
   "base_numbering": 1,
   "nav_menu": {},
   "number_sections": true,
   "sideBar": true,
   "skip_h1_title": false,
   "title_cell": "Table of Contents",
   "title_sidebar": "Contents",
   "toc_cell": false,
   "toc_position": {},
   "toc_section_display": true,
   "toc_window_display": false
  },
  "varInspector": {
   "cols": {
    "lenName": 16,
    "lenType": 16,
    "lenVar": 40
   },
   "kernels_config": {
    "python": {
     "delete_cmd_postfix": "",
     "delete_cmd_prefix": "del ",
     "library": "var_list.py",
     "varRefreshCmd": "print(var_dic_list())"
    },
    "r": {
     "delete_cmd_postfix": ") ",
     "delete_cmd_prefix": "rm(",
     "library": "var_list.r",
     "varRefreshCmd": "cat(var_dic_list()) "
    }
   },
   "types_to_exclude": [
    "module",
    "function",
    "builtin_function_or_method",
    "instance",
    "_Feature"
   ],
   "window_display": false
  }
 },
 "nbformat": 4,
 "nbformat_minor": 4
}
