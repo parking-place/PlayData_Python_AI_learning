{
 "cells": [
  {
   "cell_type": "markdown",
   "metadata": {
    "slideshow": {
     "slide_type": "slide"
    }
   },
   "source": [
    "# Path (경로)\n",
    "\n",
    "- **경로(Path)**\n",
    "    - 프로그램에서 사용할 **자원의 위치를 path(경로)** 라고 한다.\n",
    "    - **파일 시스템**에서는 파일이나 디렉토리가 있는 위치의 경로를 말한다.\n",
    "    "
   ]
  },
  {
   "cell_type": "markdown",
   "metadata": {
    "slideshow": {
     "slide_type": "slide"
    }
   },
   "source": [
    "- **절대경로**\n",
    "    - 자원의 전체 경로를 표현하는 방식\n",
    "    - 시작 경로부터 자원(파일, 디렉토리)이 있는 위치까지 표현한다.\n",
    "        - 시작 경로: Root Path\n",
    "            - windows: `c:`, `d:`\n",
    "            - Unix, Linux: `/`"
   ]
  },
  {
   "cell_type": "markdown",
   "metadata": {
    "slideshow": {
     "slide_type": "fragment"
    }
   },
   "source": [
    "- **상대경로**\n",
    "    - 현재 작업 경로(위치)에서 부터 자원이 있는 위치까지 표현한다.\n",
    "        - 시작 경로: 현재 작업경로\n",
    "    - 구문\n",
    "        - `.` : 현재 디렉토리\n",
    "        - `..`: 상위 디렉토리\n",
    "        - `/` : 경로 구분자,  상위경로/하위경로"
   ]
  },
  {
   "cell_type": "markdown",
   "metadata": {
    "slideshow": {
     "slide_type": "fragment"
    }
   },
   "source": [
    "- 운영체제(O/S)별 경로구분자\n",
    "    - 윈도우즈: `\\` (역슬래쉬)\n",
    "    - 리눅스/유닉스: `/` (슬래쉬)"
   ]
  },
  {
   "cell_type": "code",
   "execution_count": 1,
   "metadata": {
    "slideshow": {
     "slide_type": "fragment"
    }
   },
   "outputs": [
    {
     "name": "stdout",
     "output_type": "stream",
     "text": [
      "<class 'str'> e:\\Python\\PlayData_Python_AI_learning\\02.program\\Python\n"
     ]
    }
   ],
   "source": [
    "import os               # os 모듈 임포트\n",
    "wd = os.getcwd()        # 현재 작업 디렉토리 경로\n",
    "print(type(wd), wd)     # 경로의 자료형과 내용 출력"
   ]
  },
  {
   "cell_type": "code",
   "execution_count": 2,
   "metadata": {},
   "outputs": [
    {
     "data": {
      "text/plain": [
       "'c:\\\\temp'"
      ]
     },
     "execution_count": 2,
     "metadata": {},
     "output_type": "execute_result"
    }
   ],
   "source": [
    "os.chdir(r'c:\\temp')    # 작업 디렉토리 변경\n",
    "os.getcwd()             # 변경된 작업 디렉토리 경로"
   ]
  },
  {
   "cell_type": "code",
   "execution_count": 3,
   "metadata": {},
   "outputs": [
    {
     "data": {
      "text/plain": [
       "'E:\\\\Python\\\\PlayData_Python_AI_learning\\\\02.program\\\\Python'"
      ]
     },
     "execution_count": 3,
     "metadata": {},
     "output_type": "execute_result"
    }
   ],
   "source": [
    "# 절대 경로\n",
    "os.chdir(r'E:\\Python\\PlayData_Python_AI_learning\\02.program\\Python')\n",
    "os.getcwd()"
   ]
  },
  {
   "cell_type": "markdown",
   "metadata": {
    "slideshow": {
     "slide_type": "slide"
    }
   },
   "source": [
    "# 입출력 (IO)\n",
    "\n",
    "## 입출력이란\n",
    "- 프로그램이 사용하려는 외부 자원을 연결하여 데이터를 입력 받거나 출력하는 작업을 IO라고 한다.\n",
    "- 외부 자원\n",
    "    - 파일, 원격지 컴퓨터(Network으로 연결된 컴퓨터의 자원), 데이터베이스 등.\n",
    "- **Stream**\n",
    "    - 입출력 시 **데이터의 흐름을 stream** 이라고 한다.\n",
    "- InputStream \n",
    "    - Program이 외부로 부터 데이터를 읽어 들이는 흐름.\n",
    "- OutputStream \n",
    "    - Program이 외부로 데이터를 써주는 흐름.\n",
    "\n",
    "\n",
    "![io](images/ch09_01.png)"
   ]
  },
  {
   "cell_type": "markdown",
   "metadata": {
    "slideshow": {
     "slide_type": "subslide"
    }
   },
   "source": [
    "## IO 코딩 순서\n",
    "![순서](images/ch09_02.png)"
   ]
  },
  {
   "attachments": {},
   "cell_type": "markdown",
   "metadata": {
    "slideshow": {
     "slide_type": "subslide"
    }
   },
   "source": [
    "### 파일 열기(연결)\n",
    "- open() 함수 사용\n",
    "    - 연결된 파일과 입출력 메소드를 제공하는 객체(Stream)를 리턴\n",
    "- 구문\n",
    "    - `open(file, mode='r', encoding=None)`\n",
    "    - 함수 주요 매개변수\n",
    "        - file : 연결할 파일 경로\n",
    "        - mode : 열기 모드\n",
    "            - mode는 목적, 데이터종류를 조합한 문자열을 사용한다.\n",
    "        - encoding \n",
    "            - 텍스트 파일일 경우 인코딩 방식\n",
    "            - None 또는 생략하면  os 기본 encoding방식을 따른다.\n",
    "                - Windows: cp949/euckr\n",
    "                - Linux, Unix: utf-8\n",
    "    "
   ]
  },
  {
   "attachments": {
    "image.png": {
     "image/png": "[encoded data removed]"
    }
   },
   "cell_type": "markdown",
   "metadata": {},
   "source": [
    "![image.png](attachment:image.png)"
   ]
  },
  {
   "cell_type": "markdown",
   "metadata": {
    "slideshow": {
     "slide_type": "subslide"
    }
   },
   "source": [
    "### 출력 메소드\n",
    "\n",
    "- write(출력할 Data)\n",
    "    - 연결된 파일에 `출력할 Data` 출력한다.\n",
    "- writelines(문자열을 가진 컬렉션)\n",
    "    - 리스트, 튜플, 집합이 원소로 가진 문자열들을 한번에 출력한다.\n",
    "    - text 출력일 경우에만 사용가능.\n",
    "    - 원소에 문자열 이외의 타입의 값이 있을 경우 TypeError 발생"
   ]
  },
  {
   "cell_type": "code",
   "execution_count": 4,
   "metadata": {},
   "outputs": [
    {
     "name": "stdout",
     "output_type": "stream",
     "text": [
      "<class '_io.TextIOWrapper'>\n"
     ]
    }
   ],
   "source": [
    "# a.txt 파일에 문자열을 쓰기\n",
    "\n",
    "# 1. a.txt 파일을 연결\n",
    "# open('a.txt의 경로', 'wt', encoding='utf-8') -> 파일을 쓰기 모드로 연결,  인코딩은 utf-8 \n",
    "# wt: 텍스트 파일을 새로 쓰기 모드로 연결\n",
    "# fw객체: 파일을 쓰기 위한 객체\n",
    "# 절대 경로\n",
    "fw = open(r'E:\\Python\\PlayData_Python_AI_learning\\02.program\\Python\\iotest\\a.txt', 'wt')\n",
    "print(type(fw))\n",
    "\n",
    "# 2. 문자열을 쓰기\n",
    "fw.write(r'https://www.google.co.kr/')\n",
    "fw.write('\\n')\n",
    "fw.write(r'''안녕하세요.\n",
    "반갑습니다.''')\n",
    "\n",
    "# 3. 파일을 닫기\n",
    "fw.close()"
   ]
  },
  {
   "cell_type": "code",
   "execution_count": 5,
   "metadata": {},
   "outputs": [],
   "source": [
    "txt = r'''asdf\n",
    "가나다라마바사\n",
    "1234567890'''\n",
    "# 상대 경로\n",
    "fw = open('.\\\\iotest\\\\b.txt', 'wt')\n",
    "fw.write(txt)\n",
    "fw.flush() # 버퍼에 남아있는 내용을 파일에 쓰기\n",
    "fw.close()"
   ]
  },
  {
   "cell_type": "code",
   "execution_count": 6,
   "metadata": {},
   "outputs": [
    {
     "data": {
      "text/plain": [
       "'E:\\\\Python\\\\PlayData_Python_AI_learning\\\\02.program\\\\Python'"
      ]
     },
     "execution_count": 6,
     "metadata": {},
     "output_type": "execute_result"
    }
   ],
   "source": [
    "os.getcwd()"
   ]
  },
  {
   "cell_type": "code",
   "execution_count": 7,
   "metadata": {
    "slideshow": {
     "slide_type": "fragment"
    }
   },
   "outputs": [],
   "source": [
    "txt = r'''123\n",
    "321\n",
    "231'''\n",
    "l_txt = txt.splitlines()\n",
    "fw = open('.\\\\iotest\\\\c.txt', 'wt')\n",
    "# 리스트 형태의 문자열을 파일에 쓰기\n",
    "# writelines() 메소드는 리스트 형태의 문자열을 파일에 쓸 때 사용\n",
    "# (엔터 없이 써짐)\n",
    "fw.writelines(l_txt)\n",
    "fw.close()"
   ]
  },
  {
   "cell_type": "code",
   "execution_count": 11,
   "metadata": {},
   "outputs": [],
   "source": [
    "# aw: 텍스트 파일을 추가 모드로 연결\n",
    "fw = open('.\\\\iotest\\\\c.txt', 'at')\n",
    "fw.writelines(l_txt)\n",
    "fw.close()"
   ]
  },
  {
   "cell_type": "code",
   "execution_count": 13,
   "metadata": {},
   "outputs": [],
   "source": [
    "fw = open('.\\\\iotest\\\\d.txt', 'wt', encoding='utf-8')\n",
    "str_l = '안녕 hello 1234'.split()\n",
    "\n",
    "# for s in str_l:\n",
    "#     fw.write(s)\n",
    "# 반복문을 사용하지 않고 한 번에 쓰기\n",
    "fw.writelines(str_l)\n",
    "fw.close()"
   ]
  },
  {
   "cell_type": "markdown",
   "metadata": {
    "slideshow": {
     "slide_type": "slide"
    }
   },
   "source": [
    "### 입력 메소드\n",
    "- read() : 문자열(text mode), bytes(binary mode) \n",
    "    - 연결된 파일의 내용을 한번에 모두 읽어 들인다.\n",
    "- readline() : 문자열(text mode), bytes(binary mode)\n",
    "    - 한 줄만 읽는다.\n",
    "    - text 입력일 경우만 사용가능\n",
    "    - 읽은 라인이 없으면 `None`을 리턴한다.\n",
    "- readlines() : 리스트\n",
    "    - 한번에 다 읽은 뒤 각각의 라인을 리스트에 원소로 담아 반환한다.\n",
    "- Input Stream (TextIOWrapper, BufferedReader)는 Iterable 타입\n",
    "    - for문을 이용한 라인단위 순차 조회할 수 있다."
   ]
  },
  {
   "cell_type": "code",
   "execution_count": 47,
   "metadata": {},
   "outputs": [
    {
     "name": "stdout",
     "output_type": "stream",
     "text": [
      " 1| 1233212311233\n",
      " 2| 21231123321231123321231\n",
      " 3| asdjbkasdjb\n",
      " 4| qwieqwoudtgasdl\n",
      " 5| sajkdnjk\n",
      " 6| 189239\n",
      " 7| 하이\n",
      " 8| 안녕\n",
      " 9| hello\n",
      "10| im fine Thack you\n",
      "11| ?\n",
      "12| 1!\n",
      "13| adssda\n",
      "14| sdafasdf\n",
      "15| fasdfasfafqwfdr\n",
      "16| asfafqwfdr\n",
      "17| asd\n",
      "18| sad\n",
      "19| sad123ㅂ1\n",
      "20| 123\n",
      "21| 456\n",
      "22| wqedw\n",
      "23| 1\n",
      "24| 1\n",
      "25| 1\n",
      "26| hand-on\n",
      "27| 핸즈온\n",
      "28| !ㅂ"
     ]
    }
   ],
   "source": [
    "memo = open('.\\\\iotest\\\\c.txt', 'rt')   # 파일을 읽기 모드로 연결\n",
    "l_txt = memo.readlines()                # 파일의 내용을 한 줄씩 읽어서 리스트에 저장\n",
    "# print(*l_txt, sep='') \n",
    "for i, t in enumerate(l_txt, start=1):  # 리스트의 내용을 출력\n",
    "    print(f'{i:2d}| {t}', end='')\n",
    "memo.close()                            # 파일을 닫기\n",
    "\n",
    "memo = open('.\\\\iotest\\\\c.txt', 'wt')   # 파일을 쓰기 모드로 연결\n",
    "while True:\n",
    "    t = input('메모를 입력하세요: ')     # 키보드로 입력한 내용을 t에 저장\n",
    "    if t == '!q':                       # 입력한 내용이 !q이면 반복문을 빠져나감\n",
    "        break\n",
    "    print(t)\n",
    "    l_txt.append('\\n' + t)                     # 입력한 내용을 리스트에 추가\n",
    "for t in l_txt:                         # 리스트의 내용을 파일에 쓰기\n",
    "    memo.write(t)\n",
    "memo.close()                            # 파일을 닫기"
   ]
  },
  {
   "cell_type": "code",
   "execution_count": 33,
   "metadata": {},
   "outputs": [
    {
     "name": "stdout",
     "output_type": "stream",
     "text": [
      "asdf\n",
      "가나다라마바사\n",
      "1234567890\n"
     ]
    }
   ],
   "source": [
    "# 파일을 읽기 모드로 연결\n",
    "fr = open('.\\\\iotest\\\\b.txt', 'rt', encoding='utf-8')\n",
    "# 파일의 내용을 읽어서 result에 저장 \n",
    "result = fr.read()                  \n",
    "print(result) \n",
    "# 파일을 닫기\n",
    "fr.close()                          "
   ]
  },
  {
   "cell_type": "code",
   "execution_count": 27,
   "metadata": {},
   "outputs": [
    {
     "ename": "UnicodeDecodeError",
     "evalue": "'cp949' codec can't decode byte 0x80 in position 8: illegal multibyte sequence",
     "output_type": "error",
     "traceback": [
      "\u001b[1;31m---------------------------------------------------------------------------\u001b[0m",
      "\u001b[1;31mUnicodeDecodeError\u001b[0m                        Traceback (most recent call last)",
      "Cell \u001b[1;32mIn[27], line 4\u001b[0m\n\u001b[0;32m      2\u001b[0m fr \u001b[39m=\u001b[39m \u001b[39mopen\u001b[39m(\u001b[39m'\u001b[39m\u001b[39m.\u001b[39m\u001b[39m\\\\\u001b[39;00m\u001b[39miotest\u001b[39m\u001b[39m\\\\\u001b[39;00m\u001b[39mb.txt\u001b[39m\u001b[39m'\u001b[39m, \u001b[39m'\u001b[39m\u001b[39mrt\u001b[39m\u001b[39m'\u001b[39m, encoding\u001b[39m=\u001b[39m\u001b[39m'\u001b[39m\u001b[39mcp949\u001b[39m\u001b[39m'\u001b[39m)\n\u001b[0;32m      3\u001b[0m \u001b[39m# 파일의 내용을 읽어서 result에 저장 \u001b[39;00m\n\u001b[1;32m----> 4\u001b[0m result \u001b[39m=\u001b[39m fr\u001b[39m.\u001b[39;49mread()                  \n\u001b[0;32m      5\u001b[0m \u001b[39mprint\u001b[39m(result) \n\u001b[0;32m      6\u001b[0m \u001b[39m# 파일을 닫기\u001b[39;00m\n",
      "\u001b[1;31mUnicodeDecodeError\u001b[0m: 'cp949' codec can't decode byte 0x80 in position 8: illegal multibyte sequence"
     ]
    }
   ],
   "source": [
    "# 파일을 읽기 모드로 연결\n",
    "fr = open('.\\\\iotest\\\\b.txt', 'rt', encoding='cp949')\n",
    "# 파일의 내용을 읽어서 result에 저장 \n",
    "result = fr.read()                  \n",
    "print(result) \n",
    "# 파일을 닫기\n",
    "fr.close()                          "
   ]
  },
  {
   "cell_type": "code",
   "execution_count": 36,
   "metadata": {},
   "outputs": [
    {
     "name": "stdout",
     "output_type": "stream",
     "text": [
      "asdf\n",
      "\n",
      "가나다라마바사\n",
      "\n",
      "1234567890\n",
      "\n"
     ]
    }
   ],
   "source": [
    "fr = open('.\\\\iotest\\\\b.txt')\n",
    "\n",
    "result = fr.readline() # 파일의 내용을 한 줄씩 읽어서 result에 저장 (엔터 포함)\n",
    "print(result)\n",
    "result = fr.readline()\n",
    "print(result)\n",
    "result = fr.readline()\n",
    "print(result)\n",
    "result = fr.readline() # 파일의 끝에 도달하면 빈 문자열을 반환\n",
    "print(result)\n",
    "fr.close()"
   ]
  },
  {
   "cell_type": "code",
   "execution_count": 37,
   "metadata": {},
   "outputs": [
    {
     "name": "stdout",
     "output_type": "stream",
     "text": [
      "asdf\n",
      " 가나다라마바사\n",
      " 1234567890\n"
     ]
    }
   ],
   "source": [
    "fr = open('.\\\\iotest\\\\b.txt')\n",
    "result = fr.readlines() # 파일의 전체 내용을 한 줄씩 리스트에 저장\n",
    "print(*result, sep='')\n",
    "fr.close()"
   ]
  },
  {
   "cell_type": "code",
   "execution_count": 43,
   "metadata": {},
   "outputs": [
    {
     "name": "stdout",
     "output_type": "stream",
     "text": [
      "<class '_io.TextIOWrapper'> r\n",
      "1|asdf\n",
      "2|가나다라마바사\n",
      "3|1234567890"
     ]
    }
   ],
   "source": [
    "fr = open('.\\\\iotest\\\\b.txt')\n",
    "print(type(fr), fr.mode)\n",
    "for i, t in enumerate(fr, start=1):\n",
    "    print(f'{i}|{t}', end='')\n",
    "fr.close()"
   ]
  },
  {
   "cell_type": "code",
   "execution_count": 51,
   "metadata": {},
   "outputs": [
    {
     "name": "stdout",
     "output_type": "stream",
     "text": [
      "[Errno 2] No such file or directory: '.\\\\iotest\\\\x.txt'\n"
     ]
    },
    {
     "ename": "NameError",
     "evalue": "name 'fr_' is not defined",
     "output_type": "error",
     "traceback": [
      "\u001b[1;31m---------------------------------------------------------------------------\u001b[0m",
      "\u001b[1;31mNameError\u001b[0m                                 Traceback (most recent call last)",
      "Cell \u001b[1;32mIn[51], line 7\u001b[0m\n\u001b[0;32m      5\u001b[0m     \u001b[39mprint\u001b[39m(e)\n\u001b[0;32m      6\u001b[0m \u001b[39mfinally\u001b[39;00m:\n\u001b[1;32m----> 7\u001b[0m     fr_\u001b[39m.\u001b[39mclose()\n",
      "\u001b[1;31mNameError\u001b[0m: name 'fr_' is not defined"
     ]
    }
   ],
   "source": [
    "try: \n",
    "    # fr_ 을 None으로 초기화\n",
    "    fr_ = None\n",
    "    # 파일을 읽기 모드로 연결\n",
    "    fr_ = open('.\\\\iotest\\\\x.txt', 'rt', encoding='utf-8')\n",
    "    print(fr_)\n",
    "except Exception as e:\n",
    "    # 예외가 발생하면 예외 내용을 출력\n",
    "    print(e)\n",
    "finally:\n",
    "    # 예외 발생 여부와 상관없이\n",
    "    # 파일이 열려 있으면 파일을 닫음\n",
    "    if fr_:\n",
    "        fr_.close()"
   ]
  },
  {
   "cell_type": "code",
   "execution_count": null,
   "metadata": {
    "slideshow": {
     "slide_type": "fragment"
    }
   },
   "outputs": [],
   "source": []
  },
  {
   "cell_type": "markdown",
   "metadata": {
    "slideshow": {
     "slide_type": "slide"
    }
   },
   "source": [
    "## with block\n",
    "\n",
    "파일과 입출력 작업이 다 끝나면 반드시 연결을 닫아야 한다. 매번 연결을 닫는 작업을 하는 것이 번거롭고 실수로 안 닫을 경우 문제가 생길 수 있다. **with block은 block을 벗어나면 자동으로 연결을 닫아 준다.** 그래서 연결을 닫는 코드를 생략할 수 있다.\n",
    "\n",
    "- 구문\n",
    "```python\n",
    "with open() as 변수: # `변수`는 open()이 반환하는 Stream객체를 참조한다.\n",
    "    입출력 작업      # 변수를 이용해 입출력 작업을 처리한다.\n",
    "# with block을 빠져 나오면 close()가 자동으로 실행된다.\n",
    "```"
   ]
  },
  {
   "cell_type": "code",
   "execution_count": 55,
   "metadata": {},
   "outputs": [
    {
     "name": "stdout",
     "output_type": "stream",
     "text": [
      "asdf\n",
      "가나다라마바사\n",
      "1234567890\n"
     ]
    }
   ],
   "source": [
    "fr = open('.\\\\iotest\\\\b.txt', 'rt', encoding='utf-8')\n",
    "print(*fr, sep='')\n",
    "fr.close()"
   ]
  },
  {
   "cell_type": "code",
   "execution_count": 57,
   "metadata": {
    "slideshow": {
     "slide_type": "fragment"
    }
   },
   "outputs": [
    {
     "name": "stdout",
     "output_type": "stream",
     "text": [
      "False\n",
      "asdf\n",
      "가나다라마바사\n",
      "1234567890\n",
      "True\n"
     ]
    }
   ],
   "source": [
    "# 위쪽 코드를 아래와 같이 with문을 사용하여 간단하게 작성 가능\n",
    "# 오류로 close()를 호출하지 않아도 자동으로 파일을 닫음\n",
    "with open('.\\\\iotest\\\\b.txt', 'rt', encoding='utf-8') as fr:\n",
    "    print(fr.closed)\n",
    "    print(*fr, sep='')\n",
    "print(fr.closed)"
   ]
  },
  {
   "cell_type": "code",
   "execution_count": null,
   "metadata": {},
   "outputs": [],
   "source": []
  },
  {
   "cell_type": "code",
   "execution_count": null,
   "metadata": {},
   "outputs": [],
   "source": [
    "class MyContextManager:\n",
    "    def __init__(self):\n",
    "        print('init : 객체 생성시 호출')\n",
    "        \n",
    "    def __enter__(self):\n",
    "        print('enter : with block에 진입했을 때 호출')\n",
    "        return self\n",
    "    \n",
    "    def __exit__(self, exc_type, exc_value, exc_traceback):\n",
    "        # 파라미터들을 with block 구문에서 Exception 발생시\n",
    "        # Exception 정보를 담고 있는 객체들을 전달받음\n",
    "        print('exit : with block을 빠져나오기 직전에 호출')"
   ]
  },
  {
   "cell_type": "code",
   "execution_count": null,
   "metadata": {},
   "outputs": [
    {
     "name": "stdout",
     "output_type": "stream",
     "text": [
      "init : 객체 생성시 호출\n",
      "enter : with block에 진입했을 때 호출\n",
      "with block의 실행 코드\n",
      "exit : with block을 빠져나오기 직전에 호출\n"
     ]
    }
   ],
   "source": [
    "with MyContextManager() as mng:\n",
    "    print('with block의 실행 코드')"
   ]
  },
  {
   "cell_type": "code",
   "execution_count": 6,
   "metadata": {},
   "outputs": [],
   "source": [
    "class FileContextManager:\n",
    "    def __init__(self, file_path, mode = 'rt', enmocing = 'utf-8'):\n",
    "        self.file_path = file_path\n",
    "        self.mode = mode\n",
    "        self.encoding = enmocing\n",
    "    \n",
    "    def __enter__(self):\n",
    "        self.stream = open(self.file_path, self.mode, self.encoding)\n",
    "        return self.stream\n",
    "    \n",
    "    def __exit__(self, exc_type, exc_value, exc_traceback):\n",
    "        self.stream.close()\n",
    "    "
   ]
  },
  {
   "cell_type": "code",
   "execution_count": 7,
   "metadata": {},
   "outputs": [
    {
     "ename": "TypeError",
     "evalue": "'str' object cannot be interpreted as an integer",
     "output_type": "error",
     "traceback": [
      "\u001b[1;31m---------------------------------------------------------------------------\u001b[0m",
      "\u001b[1;31mTypeError\u001b[0m                                 Traceback (most recent call last)",
      "Cell \u001b[1;32mIn[7], line 1\u001b[0m\n\u001b[1;32m----> 1\u001b[0m \u001b[39mwith\u001b[39;00m FileContextManager(\u001b[39m'\u001b[39m\u001b[39mtest.txt\u001b[39m\u001b[39m'\u001b[39m) \u001b[39mas\u001b[39;00m fr:\n\u001b[0;32m      2\u001b[0m     txt \u001b[39m=\u001b[39m fr\u001b[39m.\u001b[39mread()\n",
      "Cell \u001b[1;32mIn[6], line 8\u001b[0m, in \u001b[0;36mFileContextManager.__enter__\u001b[1;34m(self)\u001b[0m\n\u001b[0;32m      7\u001b[0m \u001b[39mdef\u001b[39;00m \u001b[39m__enter__\u001b[39m(\u001b[39mself\u001b[39m):\n\u001b[1;32m----> 8\u001b[0m     \u001b[39mself\u001b[39m\u001b[39m.\u001b[39mstream \u001b[39m=\u001b[39m \u001b[39mopen\u001b[39;49m(\u001b[39mself\u001b[39;49m\u001b[39m.\u001b[39;49mfile_path, \u001b[39mself\u001b[39;49m\u001b[39m.\u001b[39;49mmode, \u001b[39mself\u001b[39;49m\u001b[39m.\u001b[39;49mencoding)\n\u001b[0;32m      9\u001b[0m     \u001b[39mreturn\u001b[39;00m \u001b[39mself\u001b[39m\u001b[39m.\u001b[39mstream\n",
      "File \u001b[1;32mc:\\Users\\hyenz\\anaconda3\\lib\\site-packages\\IPython\\core\\interactiveshell.py:282\u001b[0m, in \u001b[0;36m_modified_open\u001b[1;34m(file, *args, **kwargs)\u001b[0m\n\u001b[0;32m    275\u001b[0m \u001b[39mif\u001b[39;00m file \u001b[39min\u001b[39;00m {\u001b[39m0\u001b[39m, \u001b[39m1\u001b[39m, \u001b[39m2\u001b[39m}:\n\u001b[0;32m    276\u001b[0m     \u001b[39mraise\u001b[39;00m \u001b[39mValueError\u001b[39;00m(\n\u001b[0;32m    277\u001b[0m         \u001b[39mf\u001b[39m\u001b[39m\"\u001b[39m\u001b[39mIPython won\u001b[39m\u001b[39m'\u001b[39m\u001b[39mt let you open fd=\u001b[39m\u001b[39m{\u001b[39;00mfile\u001b[39m}\u001b[39;00m\u001b[39m by default \u001b[39m\u001b[39m\"\u001b[39m\n\u001b[0;32m    278\u001b[0m         \u001b[39m\"\u001b[39m\u001b[39mas it is likely to crash IPython. If you know what you are doing, \u001b[39m\u001b[39m\"\u001b[39m\n\u001b[0;32m    279\u001b[0m         \u001b[39m\"\u001b[39m\u001b[39myou can use builtins\u001b[39m\u001b[39m'\u001b[39m\u001b[39m open.\u001b[39m\u001b[39m\"\u001b[39m\n\u001b[0;32m    280\u001b[0m     )\n\u001b[1;32m--> 282\u001b[0m \u001b[39mreturn\u001b[39;00m io_open(file, \u001b[39m*\u001b[39margs, \u001b[39m*\u001b[39m\u001b[39m*\u001b[39mkwargs)\n",
      "\u001b[1;31mTypeError\u001b[0m: 'str' object cannot be interpreted as an integer"
     ]
    }
   ],
   "source": [
    "with FileContextManager('test.txt') as fr:\n",
    "    txt = fr.read()"
   ]
  },
  {
   "cell_type": "code",
   "execution_count": null,
   "metadata": {},
   "outputs": [],
   "source": []
  },
  {
   "cell_type": "code",
   "execution_count": 1,
   "metadata": {},
   "outputs": [],
   "source": [
    "# 정수, 실수, 객체, ...... (str을 제외한 모든 타입) 을 출력하기 위해서는 \n",
    "# bytes 타입으로 변환한다.\n",
    "# 변환된 bytes 값을 출력한다.\n",
    "\n",
    "\n",
    "# 저장된 bytes 값을 읽어들이기.\n",
    "# 읽으면 bytes 타입의 값으로 읽어온다.\n",
    "# 읽어온 bytes 타입 값을 원래 타입으로 변환 한 뒤 사용."
   ]
  },
  {
   "cell_type": "code",
   "execution_count": 9,
   "metadata": {},
   "outputs": [],
   "source": [
    "data = 10 # int\n",
    "# int -> bytes\n",
    "\n",
    "# 1 : length -> 정수중 저장하려는 크기 (1 byte)\n",
    "# little: byteorder -> 1010 -> 00001010 (유효한 데이터가 뒤에 있음)\n",
    "# big   : byteorder -> 1010 -> 10100000 (유효한 데이터가 앞에 있음)\n",
    "# signed : 부호가 있는 정수 (음수, 양수) -> True\n",
    "# unsigned : 부호가 없는 정수 (양수) -> False\n",
    "bytes_data = data.to_bytes(1, byteorder='little', signed=True)\n",
    "\n",
    "with open('.\\\\iotest\\\\int_data.bin', 'wb') as fw:\n",
    "    fw.write(bytes_data)"
   ]
  },
  {
   "cell_type": "code",
   "execution_count": 11,
   "metadata": {},
   "outputs": [
    {
     "name": "stdout",
     "output_type": "stream",
     "text": [
      "b'\\n' <class 'bytes'>\n",
      "10 <class 'int'>\n"
     ]
    }
   ],
   "source": [
    "# 읽기\n",
    "with open('.\\\\iotest\\\\int_data.bin', 'rb') as fr:\n",
    "    bytes_data = fr.read()\n",
    "    print(bytes_data, type(bytes_data))\n",
    "    \n",
    "    # bytes -> int로 변환\n",
    "    data = int.from_bytes(bytes_data, byteorder='little', signed=True)\n",
    "    print(data, type(data))"
   ]
  },
  {
   "cell_type": "code",
   "execution_count": 13,
   "metadata": {},
   "outputs": [],
   "source": [
    "# 객체마다 변환과정의 불편함을 해결하기 위해 pickle 모듈을 사용한다."
   ]
  },
  {
   "cell_type": "markdown",
   "metadata": {
    "slideshow": {
     "slide_type": "slide"
    }
   },
   "source": [
    "# pickle 모듈을 이용한 객체 직렬화\n",
    "\n",
    "## 객체 직렬화(Object Serialization)\n",
    "- 객체의 속성값들을 bytes로 변환해 출력하는 것을 객체 직렬화(Object Serialization) 이라고 한다.\n",
    "- bytes로 출력된 데이터를 읽어 객체화 하는 것을 객체 역직렬화(Object Deserialization) 이라고 한다."
   ]
  },
  {
   "cell_type": "markdown",
   "metadata": {
    "slideshow": {
     "slide_type": "fragment"
    }
   },
   "source": [
    "### pickle\n",
    "- 객체 파일 입출력을 위한 파이썬 모듈\n",
    "- open() 시 **binary mode**로 설정한다.\n",
    "- 저장시 파일 확장자는 보통 `pkl` 이나 `pickle` 로 한다.\n",
    "- ex)\n",
    "```python\n",
    "fw = open(\"data.pkl\", \"wb\") # 객체를 pickle에 저장하기 위한 output stream 생성\n",
    "fr = open(\"data.pkl\", \"rb\") # 파일에 저장된 객체를 읽어오기 위한 input stream 생성\n",
    "```\n",
    "- **메소드**\n",
    "    - dump(저장할 객체, fw) : 출력\n",
    "    - load(fr): 입력 - 읽은 객체를 반환한다."
   ]
  },
  {
   "cell_type": "code",
   "execution_count": 1,
   "metadata": {},
   "outputs": [],
   "source": [
    "import pickle"
   ]
  },
  {
   "cell_type": "code",
   "execution_count": 2,
   "metadata": {
    "slideshow": {
     "slide_type": "fragment"
    }
   },
   "outputs": [],
   "source": [
    "num = 10\n",
    "with open('.\\\\iotest\\\\int_data.pkl', 'wb') as fw:\n",
    "    # 출력\n",
    "    # pickle.dump(출력할 값, 파일객체)\n",
    "    pickle.dump(num, fw)"
   ]
  },
  {
   "cell_type": "code",
   "execution_count": 3,
   "metadata": {},
   "outputs": [
    {
     "name": "stdout",
     "output_type": "stream",
     "text": [
      "10 <class 'int'>\n"
     ]
    }
   ],
   "source": [
    "with open('.\\\\iotest\\\\int_data.pkl', 'rb') as fr:\n",
    "    num = pickle.load(fr)\n",
    "    print(num, type(num))"
   ]
  },
  {
   "cell_type": "code",
   "execution_count": 7,
   "metadata": {},
   "outputs": [],
   "source": [
    "class Person:\n",
    "    \n",
    "    def __init__(self, name, age):\n",
    "        self.name = name\n",
    "        self.age = age\n",
    "        \n",
    "    def __str__(self):\n",
    "        return f\"name: {self.name}, age: {self.age}\""
   ]
  },
  {
   "cell_type": "code",
   "execution_count": 8,
   "metadata": {},
   "outputs": [
    {
     "name": "stdout",
     "output_type": "stream",
     "text": [
      "name: 홍길동, age: 20\n"
     ]
    }
   ],
   "source": [
    "p = Person('홍길동', 20)\n",
    "print(p)"
   ]
  },
  {
   "cell_type": "code",
   "execution_count": 11,
   "metadata": {},
   "outputs": [],
   "source": [
    "with open('.\\\\iotest\\\\person_data.pkl', 'wb') as fw:\n",
    "    pickle.dump(p, fw)"
   ]
  },
  {
   "cell_type": "code",
   "execution_count": 15,
   "metadata": {},
   "outputs": [
    {
     "name": "stdout",
     "output_type": "stream",
     "text": [
      "name: 홍길동, age: 20 <class '__main__.Person'>\n"
     ]
    }
   ],
   "source": [
    "with open('.\\\\iotest\\\\person_data.pkl', 'rb') as fr:\n",
    "    p = pickle.load(fr)\n",
    "    print(p, type(p))"
   ]
  },
  {
   "cell_type": "code",
   "execution_count": 16,
   "metadata": {},
   "outputs": [],
   "source": [
    "l = [Person('홍길동', 20), Person('김철수', 30), Person('박영희', 40)]\n",
    "with open('.\\\\iotest\\\\person_list.pkl', 'wb') as fw:\n",
    "    pickle.dump(l, fw)"
   ]
  },
  {
   "cell_type": "code",
   "execution_count": 18,
   "metadata": {},
   "outputs": [
    {
     "name": "stdout",
     "output_type": "stream",
     "text": [
      "[<__main__.Person object at 0x000002DD5864AB30>, <__main__.Person object at 0x000002DD58653430>, <__main__.Person object at 0x000002DD58652680>] <class 'list'>\n",
      "name: 홍길동, age: 20 <class '__main__.Person'>\n",
      "name: 김철수, age: 30 <class '__main__.Person'>\n",
      "name: 박영희, age: 40 <class '__main__.Person'>\n"
     ]
    }
   ],
   "source": [
    "with open('.\\\\iotest\\\\person_list.pkl', 'rb') as fr:\n",
    "    l = pickle.load(fr)\n",
    "    print(l, type(l))\n",
    "    for p in l:\n",
    "        print(p, type(p))"
   ]
  },
  {
   "cell_type": "code",
   "execution_count": 1,
   "metadata": {},
   "outputs": [
    {
     "name": "stdout",
     "output_type": "stream",
     "text": [
      "Overwriting .\\\\mypackage\\\\person_class.py\n"
     ]
    }
   ],
   "source": [
    "%%writefile .\\\\mypackage\\\\person_class.py\n",
    "\n",
    "class Person:\n",
    "    \n",
    "    def __init__(self, name, age):\n",
    "        self.name = name\n",
    "        self.age = age\n",
    "        \n",
    "    def __str__(self):\n",
    "        return f\"name: {self.name}, age: {self.age}\""
   ]
  },
  {
   "cell_type": "code",
   "execution_count": 3,
   "metadata": {},
   "outputs": [],
   "source": [
    "from mypackage.person_class import Person\n",
    "import pickle"
   ]
  },
  {
   "cell_type": "code",
   "execution_count": 4,
   "metadata": {},
   "outputs": [],
   "source": [
    "l = [Person('홍길동', 20), Person('김철수', 30), Person('박영희', 40)]\n",
    "with open('.\\\\iotest\\\\person_list.pkl', 'wb') as fw:\n",
    "    pickle.dump(l, fw)"
   ]
  },
  {
   "cell_type": "code",
   "execution_count": 5,
   "metadata": {},
   "outputs": [
    {
     "name": "stdout",
     "output_type": "stream",
     "text": [
      "[<mypackage.person_class.Person object at 0x000001E4677277C0>, <mypackage.person_class.Person object at 0x000001E4676FAB90>, <mypackage.person_class.Person object at 0x000001E467742EF0>] <class 'list'>\n",
      "name: 홍길동, age: 20 <class 'mypackage.person_class.Person'>\n",
      "name: 김철수, age: 30 <class 'mypackage.person_class.Person'>\n",
      "name: 박영희, age: 40 <class 'mypackage.person_class.Person'>\n"
     ]
    }
   ],
   "source": [
    "with open('.\\\\iotest\\\\person_list.pkl', 'rb') as fr:\n",
    "    l = pickle.load(fr)\n",
    "    print(l, type(l))\n",
    "    for p in l:\n",
    "        print(p, type(p))"
   ]
  },
  {
   "cell_type": "markdown",
   "metadata": {
    "slideshow": {
     "slide_type": "skip"
    }
   },
   "source": [
    "# TODO"
   ]
  },
  {
   "cell_type": "markdown",
   "metadata": {
    "slideshow": {
     "slide_type": "skip"
    }
   },
   "source": [
    "- 간단한 터미널 기반 메모장\n",
    "    1. 사용자로부터 파일명을 입력받는다.\n",
    "    2. 사용자로부터 파일에 저장할 문장을 입력받아서 파일에 저장한다.\n",
    "        - 한줄씩 입력받는다.\n",
    "        - 사용자가 !q 를 입력하면 저장후 종료한다.\n",
    "    3. 사용자가 저장한 파일을 읽어서 출력한다.\n"
   ]
  },
  {
   "cell_type": "code",
   "execution_count": 2,
   "metadata": {
    "slideshow": {
     "slide_type": "skip"
    }
   },
   "outputs": [
    {
     "name": "stdout",
     "output_type": "stream",
     "text": [
      "입력 :hi\n",
      "입력 :my name is Kim\n",
      "입력 :bye\n",
      " 1 |hi\n",
      " 2 |my name is Kim\n",
      " 3 |bye\n"
     ]
    }
   ],
   "source": [
    "file_name = input('파일 이름을 입력하세요: ')\n",
    "lines = []\n",
    "with open(f'.\\\\iotest\\\\{file_name}.txt', 'wt', encoding='utf-8') as memo:\n",
    "    while True:\n",
    "        line = input('메모를 입력하세요: ')\n",
    "        if line == '!q':\n",
    "            break\n",
    "        lines.append(line + '\\n')\n",
    "        print(f'입력 :{line}')\n",
    "    memo.writelines(lines)\n",
    "    \n",
    "with open(f'.\\\\iotest\\\\{file_name}.txt', 'rt', encoding='utf-8') as memo:\n",
    "    for i, t in enumerate(memo, start=1):\n",
    "        print(f'{i:2d} |{t}', end='')\n"
   ]
  },
  {
   "cell_type": "code",
   "execution_count": 13,
   "metadata": {},
   "outputs": [],
   "source": [
    "import pickle"
   ]
  },
  {
   "cell_type": "code",
   "execution_count": 14,
   "metadata": {},
   "outputs": [
    {
     "name": "stdout",
     "output_type": "stream",
     "text": [
      " 1 |hi\n",
      " 2 |my name is Kim\n",
      " 3 |\n"
     ]
    }
   ],
   "source": [
    "file_name = input('파일 이름을 입력하세요: ')\n",
    "\n",
    "with open(f'.\\\\iotest\\\\{file_name}.pkl', 'wb') as fw:\n",
    "    lines = []\n",
    "    while True:\n",
    "        line = input('메모를 입력하세요: ')\n",
    "        if line == '!q':\n",
    "            break\n",
    "        lines.append(line + '\\n')\n",
    "    pickle.dump(lines, fw)\n",
    "\n",
    "with open(f'.\\\\iotest\\\\{file_name}.pkl', 'rb') as fr:\n",
    "    lines = pickle.load(fr)\n",
    "    for i, t in enumerate(lines, start=1):\n",
    "        print(f'{i:2d} |{t}', end='')\n",
    "        "
   ]
  },
  {
   "cell_type": "markdown",
   "metadata": {
    "slideshow": {
     "slide_type": "skip"
    }
   },
   "source": [
    "- member.csv 파일을 읽어서 각 열의 값을 배열에 담는다.    \n",
    "이름,나이,주소  형태의 csv를 읽어    \n",
    "```python\n",
    "names = []\n",
    "ages =[]\n",
    "address =[]    \n",
    "```\n",
    "배열에 넣는다. \n",
    "    - 단 첫줄은 head이므로 읽지 않는다.\n",
    "    - 참고 함수: 문자열 split(), for문 관련 enumerate()\n",
    "\n"
   ]
  },
  {
   "cell_type": "markdown",
   "metadata": {
    "slideshow": {
     "slide_type": "skip"
    }
   },
   "source": [
    "> **CSV (Comma Separated Value)** 파일\n",
    "> - 데이터들을 정형화(표)된 형태로 텍스트파일에 저장하는 방식\n",
    "> - 하나의 데이터는 한줄에 표시. (데이터 구분자는 엔터)\n",
    "> - 하나의 데이터를 구성하는 값들(속성)들은 , 로 구분\n",
    ">     - tab으로 구분하는 경우 TSV \n",
    ">     - 각 속성값들은 \" \" 로 감싸기도 한다.\n",
    "> - 텍스트기반\n",
    "> - 파일 확장자는 `.csv`, `.tsv` 로 준다."
   ]
  }
 ],
 "metadata": {
  "kernelspec": {
   "display_name": "Python 3 (ipykernel)",
   "language": "python",
   "name": "python3"
  },
  "language_info": {
   "codemirror_mode": {
    "name": "ipython",
    "version": 3
   },
   "file_extension": ".py",
   "mimetype": "text/x-python",
   "name": "python",
   "nbconvert_exporter": "python",
   "pygments_lexer": "ipython3",
   "version": "3.10.9"
  },
  "toc": {
   "base_numbering": 1,
   "nav_menu": {},
   "number_sections": true,
   "sideBar": true,
   "skip_h1_title": false,
   "title_cell": "Table of Contents",
   "title_sidebar": "Contents",
   "toc_cell": false,
   "toc_position": {},
   "toc_section_display": true,
   "toc_window_display": false
  },
  "varInspector": {
   "cols": {
    "lenName": 16,
    "lenType": 16,
    "lenVar": 40
   },
   "kernels_config": {
    "python": {
     "delete_cmd_postfix": "",
     "delete_cmd_prefix": "del ",
     "library": "var_list.py",
     "varRefreshCmd": "print(var_dic_list())"
    },
    "r": {
     "delete_cmd_postfix": ") ",
     "delete_cmd_prefix": "rm(",
     "library": "var_list.r",
     "varRefreshCmd": "cat(var_dic_list()) "
    }
   },
   "types_to_exclude": [
    "module",
    "function",
    "builtin_function_or_method",
    "instance",
    "_Feature"
   ],
   "window_display": false
  }
 },
 "nbformat": 4,
 "nbformat_minor": 4
}
