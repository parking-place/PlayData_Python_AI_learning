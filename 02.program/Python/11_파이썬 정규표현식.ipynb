{
 "cells": [
  {
   "cell_type": "code",
   "execution_count": 1,
   "metadata": {},
   "outputs": [
    {
     "data": {
      "text/plain": [
       "True"
      ]
     },
     "execution_count": 1,
     "metadata": {},
     "output_type": "execute_result"
    }
   ],
   "source": [
    "txt = '111-222-3333'\n",
    "# txt에 111이 포함되어 있는지 확인\n",
    "'111' in txt"
   ]
  },
  {
   "cell_type": "code",
   "execution_count": 2,
   "metadata": {},
   "outputs": [
    {
     "data": {
      "text/plain": [
       "'111-이이이-3333'"
      ]
     },
     "execution_count": 2,
     "metadata": {},
     "output_type": "execute_result"
    }
   ],
   "source": [
    "# 222를 이이이로 변경\n",
    "txt.replace('222', '이이이')"
   ]
  },
  {
   "cell_type": "code",
   "execution_count": 3,
   "metadata": {},
   "outputs": [
    {
     "data": {
      "text/plain": [
       "'111-222-****'"
      ]
     },
     "execution_count": 3,
     "metadata": {},
     "output_type": "execute_result"
    }
   ],
   "source": [
    "# 마지막 4자리를 *로 변경\n",
    "txt[:-4] + '****'"
   ]
  },
  {
   "cell_type": "code",
   "execution_count": null,
   "metadata": {},
   "outputs": [],
   "source": []
  },
  {
   "cell_type": "code",
   "execution_count": null,
   "metadata": {},
   "outputs": [],
   "source": []
  },
  {
   "cell_type": "markdown",
   "metadata": {
    "slideshow": {
     "slide_type": "slide"
    }
   },
   "source": [
    "# <font size=50>정규 표현식 (Regular Expression)</font>"
   ]
  },
  {
   "cell_type": "markdown",
   "metadata": {
    "slideshow": {
     "slide_type": "fragment"
    }
   },
   "source": [
    "# 정규 표현식(Regular Expression) 개요\n",
    "\n",
    "## 정규 표현식이란\n",
    "- 텍스트에서 특정한 형태나 규칙을 가지는 문자열을 찾기 위해 그 형태나 규칙을 정의하는 것.\n",
    "- 파이썬 뿐만 아니라 문자열을 다루는 모든 곳에서 사용된다.\n",
    "- **정규식, Regexp**이라고도 한다."
   ]
  },
  {
   "cell_type": "markdown",
   "metadata": {
    "slideshow": {
     "slide_type": "fragment"
    }
   },
   "source": [
    "## 기본개념\n",
    "- **패턴** \n",
    "    - 정규 표현식이라고 한다.\n",
    "    - 문장내에서 찾기위한 문구의 형태에 대한 표현식.\n",
    "- **메타문자**\n",
    "    - 패턴을 기술하기 위해 사용되는 특별한 의미를 가지는 문자\n",
    "    - 예) `a*` : a가 0회 이상 반복을 뜻한다. a, aa, aaaa\n",
    "- **리터럴**\n",
    "    - 표현식이 값 자체를 의미하는 것\n",
    "    - 예) `a`는 `a` 자체를 의미한다.    "
   ]
  },
  {
   "cell_type": "markdown",
   "metadata": {
    "slideshow": {
     "slide_type": "slide"
    }
   },
   "source": [
    "# 정규 표현식 메타 문자\n",
    "- 패턴을 기술하기 위한 문자"
   ]
  },
  {
   "cell_type": "markdown",
   "metadata": {
    "slideshow": {
     "slide_type": "fragment"
    }
   },
   "source": [
    "## 문자 클래스 :  [  ]\n",
    "- `[ ]` 사이의 문자들과 매칭\n",
    "    - `[abc]` : a, b, c 중 **하나의 문자**와 매치\n",
    "- `-`를 이용해 범위로 설정할 수 있다.\n",
    "    - `[a-z]` : 알파벳소문자중 하나의 문자와 매치\n",
    "    - `[a-zA-Z0-9]` : 알파벳대소문자와 숫자 중 하나의 문자와 매치\n",
    "- `[^ 패턴]` : ^ 으로 시작하는 경우 반대의 의미\n",
    "    - `[^abc]` : a, b, c를 제외한 나머지 문자들 중 하나와 매치.\n",
    "    - `[^a-z]` : 알파벳 소문자를 제외한 나머지 문자들 중 하나와 매치"
   ]
  },
  {
   "cell_type": "markdown",
   "metadata": {
    "slideshow": {
     "slide_type": "subslide"
    }
   },
   "source": [
    "## 미리 정의된 문자 클래스\n",
    "- 자주 사용되는 문자클래스를 미리 정의된 별도 표기법으로 제공한다.\n",
    "- `\\d` : 숫자와 매치. [0-9]와 동일\n",
    "- `\\D` : `\\d`의 반대. 숫자가 아닌 문자와 매치.  [^0-9]와 동일\n",
    "- `\\w` : 문자와 숫자, _(underscore)와 매치. `[a-zA-Z가-힣0-9_]`와 동일  (문자는 특수문자 제외한 일반문자-언어상관없는-들을 말한다.\n",
    "- `\\W` : `\\w`의 반대. 문자와 숫자와 _ 가 아닌 문자와 매치.  `[^a-zA-Z가-힣0-9_]`와 동일\n",
    "- `\\s` : 공백문자와 매치. tab,줄바꿈,공백문자와 일치\n",
    "- `\\S` : `\\s`와 반대. 공백을 제외한 문자열과 매치.\n",
    "- `\\b` : 단어 경계(word boundary) 표시. 보통 단어 경계로 빈문자열\n",
    "    - 단어경계: 단어(글자- `\\w`)와 단어가 아닌 문자사이를 가리킨다.\n",
    "    - `\\b가족\\b` => 우리 가족 만세(O), 우리가족만세 (X)\n",
    "- `\\B` : `\\b`의 반대. 단어 경계로 구분된 단어가 아닌 경우\n",
    "    - `\\B가족\\B` => 우리 가족 만세(X), 우리가족만세 (O)"
   ]
  },
  {
   "cell_type": "markdown",
   "metadata": {
    "slideshow": {
     "slide_type": "subslide"
    }
   },
   "source": [
    "## 글자수와 관련된 메타문자\n",
    "- `*` : 앞의 문자(패턴)과 일치하는 문자가 0개 이상인 경우. (`a*b`)\n",
    "- `+` : 앞의 문자(패턴)과 일치하는 문자가 1개이상인 경우.  (`a+b`)\n",
    "- `?` :  앞의 문자(패턴)과 일치하는 문자가 한개 있거나 없는 경우. (`a?b`)\n",
    "- `{m}` : 앞의 문자(패턴)가 m개. (`a{3}b`)\n",
    "- `{m,}` : 앞의 문자(패턴)이 m개 이상. (`a{3,}b`)\n",
    "    - , 뒤에 공백이 들어오지 않도록 한다.\n",
    "- `{m,n}` : 앞의 문자(패턴)이 m개이상 n개 이하. (`a{2,5}b`)    \n",
    "- `.`, `*`, `+`, `?` 를 리터럴로 표현할 경우 `\\`를 붙인다."
   ]
  },
  {
   "cell_type": "markdown",
   "metadata": {
    "ExecuteTime": {
     "end_time": "2019-05-15T10:08:16.413433Z",
     "start_time": "2019-05-15T10:08:16.407394Z"
    },
    "slideshow": {
     "slide_type": "subslide"
    }
   },
   "source": [
    "## 문장의 시작과 끝 표현\n",
    "- `^` 문자열의 시작 (`^abc`)\n",
    "    - 문자 클래스([ ])의 ^와는 의미가 다르다.\n",
    "- `$` : 문자열의 끝 (`abc$`)"
   ]
  },
  {
   "cell_type": "markdown",
   "metadata": {
    "ExecuteTime": {
     "end_time": "2019-05-15T10:08:16.413433Z",
     "start_time": "2019-05-15T10:08:16.407394Z"
    },
    "slideshow": {
     "slide_type": "fragment"
    }
   },
   "source": [
    "## 기타\n",
    "- `.` : 한개의 모든 문자(\\n-줄바꿈 제외) (`a.b`)\n",
    "- `|` : 둘중 하나(OR) (?:010|011|016|019)\n",
    "    - 010|016-111 : 010 또는 016-111 이 된다. \n",
    "- `(  )` : 패턴내 하위그룹을 만들때 사용"
   ]
  },
  {
   "cell_type": "markdown",
   "metadata": {
    "slideshow": {
     "slide_type": "slide"
    }
   },
   "source": [
    "# re 모듈\n",
    "- 파이썬에서 정규 표현식을 지원하기 위한 모듈\n",
    "- 파이썬 기본 라이브러리"
   ]
  },
  {
   "cell_type": "markdown",
   "metadata": {
    "slideshow": {
     "slide_type": "subslide"
    }
   },
   "source": [
    "## 코딩패턴\n",
    "- 모듈 import\n",
    "    - import re\n",
    "1. 객체지향형\n",
    "    - 패턴 객체를 생성후 메소드를 호출해 원하는 처리를 한다.\n",
    "     ```python\n",
    "        p = re.compile(r'\\d+')\n",
    "        p.search('abc123def')\n",
    "    ```\n",
    "2. 함수형\n",
    "    - `re` 모듈의 원하는 작업을 하는 함수를 호출한다. Argument로 패턴과 처리할 값을 전달한다.\n",
    "    ```python\n",
    "        re.search(r'\\d+', 'abc123def')\n",
    "    ```\n",
    "    \n",
    "> ### raw string\n",
    "> - 패턴문자중 `\\`로 시작하는 것들을 사용할 경우 `escape` 문자와의 구분을 위해 `\\\\` 두개씩 작성해야한다.  그래서 패턴을 지정할 때는 raw string을 사용하는 것이 편리하다.\n",
    ">    - `re.compile('\\b가족\\b')` : `\\b`를 escape 문자 b(백스페이스)로 인식\n",
    ">    - `re.compile(r'\\b가족\\b')` : `\\b`가 일반문자가 되어 컴파일시 정규식 메타문자로 처리된다.\n"
   ]
  },
  {
   "cell_type": "code",
   "execution_count": 23,
   "metadata": {
    "slideshow": {
     "slide_type": "fragment"
    }
   },
   "outputs": [
    {
     "data": {
      "text/plain": [
       "<re.Match object; span=(0, 20), match='http://www.naver.com'>"
      ]
     },
     "execution_count": 23,
     "metadata": {},
     "output_type": "execute_result"
    }
   ],
   "source": [
    "import re\n",
    "\n",
    "# 객체 지향 방식\n",
    "txt = r'http://www.naver.com'\n",
    "# 패턴 객체를 생성해 사용\n",
    "https_p = re.compile(r'^https?://\\w+\\.\\w+\\.(?:com|net|co\\.kr|org|edu|co|kr)$')\n",
    "# 패턴 객체의 search 메서드를 사용\n",
    "https_p.search(txt)"
   ]
  },
  {
   "cell_type": "code",
   "execution_count": 24,
   "metadata": {},
   "outputs": [
    {
     "data": {
      "text/plain": [
       "<re.Match object; span=(0, 20), match='http://www.naver.com'>"
      ]
     },
     "execution_count": 24,
     "metadata": {},
     "output_type": "execute_result"
    }
   ],
   "source": [
    "txt = r'http://www.naver.com'\n",
    "# 함수 방식\n",
    "# 패턴 객체를 생성하지 않고\n",
    "# 모듈의 search 함수를 사용\n",
    "re.search(r'^https?://\\w+\\.\\w+\\.(?:com|net|co\\.kr|org|edu|co|kr)$', txt)"
   ]
  },
  {
   "cell_type": "markdown",
   "metadata": {
    "slideshow": {
     "slide_type": "slide"
    }
   },
   "source": [
    "## 검색함수\n",
    "- match(), search() : 패턴과 일치하는 문장이 **있는지 여부**를 확인할 때 사용\n",
    "- findall() : 패턴과 일치하는 문장을 **찾을 때** 사용"
   ]
  },
  {
   "cell_type": "code",
   "execution_count": 25,
   "metadata": {},
   "outputs": [
    {
     "name": "stdout",
     "output_type": "stream",
     "text": [
      "<re.Match object; span=(0, 20), match='http://www.naver.com'>\n",
      "<re.Match object; span=(0, 20), match='http://www.naver.com'>\n"
     ]
    }
   ],
   "source": [
    "txt = r'http://www.naver.com'\n",
    "https_p = re.compile(r'^https?://\\w+\\.\\w+\\.(?:com|net|co\\.kr|org|edu|co|kr)$')\n",
    "print(https_p.search(txt))\n",
    "print(https_p.match(txt))"
   ]
  },
  {
   "cell_type": "code",
   "execution_count": 26,
   "metadata": {},
   "outputs": [
    {
     "name": "stdout",
     "output_type": "stream",
     "text": [
      "['http://www.naver.com']\n"
     ]
    }
   ],
   "source": [
    "print(https_p.findall(txt))"
   ]
  },
  {
   "cell_type": "markdown",
   "metadata": {
    "slideshow": {
     "slide_type": "subslide"
    }
   },
   "source": [
    "### Match 객체\n",
    "- **검색 결과를** 담아 반환되는 객체\n",
    "    - match(), search() 의 반환타입\n",
    "- 패턴과 일치한 문자열과 대상문자열 내에서의 위치를 가지고 있는 객체\n",
    "- 주요 메소드\n",
    "    - **group()** : 매치된 문자열들을 튜플로 반환\n",
    "    - **group(subgroup 번호)** : 패턴에 하위그룹이 지정된 경우 특정 그룹의 문자열 반환\n",
    "    - **start(), end()** : 대상 문자열내에서 시작, 끝 index 반환\n",
    "    - **span()** : 대상 문자열 내에서 시작, 끝 index를 tuple로 반환"
   ]
  },
  {
   "cell_type": "code",
   "execution_count": 27,
   "metadata": {},
   "outputs": [
    {
     "name": "stdout",
     "output_type": "stream",
     "text": [
      "http://www.naver.com\n",
      "0 20\n",
      "(0, 20)\n"
     ]
    }
   ],
   "source": [
    "https_match_obj = https_p.search(txt)\n",
    "print(https_match_obj.group())\n",
    "print(https_match_obj.start(), https_match_obj.end())\n",
    "print(https_match_obj.span())"
   ]
  },
  {
   "cell_type": "markdown",
   "metadata": {
    "slideshow": {
     "slide_type": "subslide"
    }
   },
   "source": [
    "### match(대상문자열 [, pos=0])\n",
    "- 대상 문자열의 시작 부터 정규식과 일치하는 것이 있는지 조회\n",
    "- pos : 시작 index 지정\n",
    "- 반환값\n",
    "    - Match 객체: 일치하는 문자열이 있는 경우\n",
    "    - None: 일치하는 문자열이 없는 경우"
   ]
  },
  {
   "cell_type": "code",
   "execution_count": 54,
   "metadata": {},
   "outputs": [],
   "source": [
    "import re\n",
    "\n",
    "txt = r'''C:\\Users\\hyenz\\Downloads\n",
    "C:\\Users\\hyenz\\Downloads\\Compressed\n",
    "E:\\WSA\n",
    "E:\\Python\\PlayData_Python_AI_learning\n",
    "D:\\Driver\\BASW-A0362A\\Lang'''\n",
    "\n",
    "path_p = r'(?:\\b|^)[A-Z]:(?:\\\\[a-zA-Z0-9_-]+)+(?:\\b|$)'\n",
    "path_p = re.compile(path_p)"
   ]
  },
  {
   "cell_type": "code",
   "execution_count": 55,
   "metadata": {},
   "outputs": [
    {
     "name": "stdout",
     "output_type": "stream",
     "text": [
      "group\t : C:\\Users\\hyenz\\Downloads\n",
      "start\t : 0\n",
      "end\t : 24\n",
      "span\t : (0, 24)\n",
      "txt[s:e] : C:\\Users\\hyenz\\Downloads\n"
     ]
    }
   ],
   "source": [
    "# match\n",
    "# match는 문자열의 처음부터 패턴과 일치하는지 확인\n",
    "# match 객체를 반환\n",
    "path_m = path_p.match(txt)\n",
    "print(f'group\\t : {path_m.group()}')\n",
    "print(f'start\\t : {path_m.start()}')\n",
    "print(f'end\\t : {path_m.end()}')\n",
    "print(f'span\\t : {path_m.span()}')\n",
    "print(f'txt[s:e] : {txt[path_m.start():path_m.end()]}')"
   ]
  },
  {
   "cell_type": "markdown",
   "metadata": {
    "slideshow": {
     "slide_type": "subslide"
    }
   },
   "source": [
    "### search(대상문자열 [, pos=0])\n",
    "- 대상문자열 전체 안에서 정규식과 일치하는 것이 있는지 조회\n",
    "- pos: 찾기 시작하는 index 지정\n",
    "- 반환값\n",
    "    - Match 객체: 일치하는 문자열이 있는 경우\n",
    "    - None: 일치하는 문자열이 없는 경우|"
   ]
  },
  {
   "cell_type": "code",
   "execution_count": 56,
   "metadata": {
    "slideshow": {
     "slide_type": "fragment"
    }
   },
   "outputs": [
    {
     "name": "stdout",
     "output_type": "stream",
     "text": [
      "group\t : D:\\Driver\\BASW-A0362A\\Lang\n",
      "start\t : 106\n",
      "end\t : 132\n",
      "span\t : (106, 132)\n",
      "txt[s:e] : D:\\Driver\\BASW-A0362A\\Lang\n"
     ]
    }
   ],
   "source": [
    "# search\n",
    "# match와 다르게 문자열 전체를 검색\n",
    "# match 객체를 반환\n",
    "path_m = path_p.search(txt,104)\n",
    "print(f'group\\t : {path_m.group()}')\n",
    "print(f'start\\t : {path_m.start()}')\n",
    "print(f'end\\t : {path_m.end()}')\n",
    "print(f'span\\t : {path_m.span()}')\n",
    "print(f'txt[s:e] : {txt[path_m.start():path_m.end()]}')"
   ]
  },
  {
   "attachments": {},
   "cell_type": "markdown",
   "metadata": {
    "slideshow": {
     "slide_type": "subslide"
    }
   },
   "source": [
    "### findall(대상문자열)\n",
    "- 대상문자열에서 정규식과 매칭되는 문자열들을 리스트로 반환\n",
    "- 반환값\n",
    "    - 리스트(List) : 일치하는 문자열들을 가진 리스트를 반환\n",
    "    - 일치하는 문자열이 없는 경우 빈 리스트 반환"
   ]
  },
  {
   "cell_type": "code",
   "execution_count": 61,
   "metadata": {
    "slideshow": {
     "slide_type": "fragment"
    }
   },
   "outputs": [
    {
     "name": "stdout",
     "output_type": "stream",
     "text": [
      "\\Downloads\n",
      "\\Compressed\n",
      "\\WSA\n",
      "\\PlayData_Python_AI_learning\n",
      "\\Lang"
     ]
    }
   ],
   "source": [
    "path_p = r'(?:\\b|^)[A-Z]:(\\\\[a-zA-Z0-9_-]+)+(?:\\b|$)'\n",
    "path_p = re.compile(path_p)\n",
    "\n",
    "# ()로 묶은 부분을 서브그룹이라고 함\n",
    "# match 객체에서는 정상적으로 인식하나,\n",
    "# findall 메서드는 서브그룹 인식에 문제가 있음.\n",
    "# 찾은 전체 문자열에서 서브그룹을 다시 찾아서 반환\n",
    "# (?:)을 통해 정확히 알려줘야 함.\n",
    "\n",
    "# findall\n",
    "# 매치된 모든 문자열을 리스트로 반환\n",
    "paths = path_p.findall(txt)\n",
    "print(*paths, sep='\\n', end='')"
   ]
  },
  {
   "cell_type": "code",
   "execution_count": 62,
   "metadata": {},
   "outputs": [
    {
     "name": "stdout",
     "output_type": "stream",
     "text": [
      "C:\\Users\\hyenz\\Downloads\n",
      "C:\\Users\\hyenz\\Downloads\\Compressed\n",
      "E:\\WSA\n",
      "E:\\Python\\PlayData_Python_AI_learning\n",
      "D:\\Driver\\BASW-A0362A\\Lang"
     ]
    }
   ],
   "source": [
    "path_p = r'(?:\\b|^)[A-Z]:(?:\\\\[a-zA-Z0-9_-]+)+(?:\\b|$)'\n",
    "path_p = re.compile(path_p)\n",
    "\n",
    "# findall\n",
    "# 매치된 모든 문자열을 리스트로 반환\n",
    "paths = path_p.findall(txt)\n",
    "print(*paths, sep='\\n', end='')"
   ]
  },
  {
   "cell_type": "markdown",
   "metadata": {
    "slideshow": {
     "slide_type": "slide"
    }
   },
   "source": [
    "### finditer(대상문자열)\n",
    "- 패턴에 일치하는 모든 문자열을 찾아주는 Iterator => for문, list()\n",
    "- 찾은 문자열을 Match 객체로 반환."
   ]
  },
  {
   "cell_type": "code",
   "execution_count": 63,
   "metadata": {},
   "outputs": [
    {
     "name": "stdout",
     "output_type": "stream",
     "text": [
      "group\t : C:\\Users\\hyenz\\Downloads\n",
      "start\t : 0\n",
      "end\t : 24\n",
      "span\t : (0, 24)\n",
      "txt[s:e] : C:\\Users\\hyenz\\Downloads\n",
      "\n",
      "group\t : C:\\Users\\hyenz\\Downloads\\Compressed\n",
      "start\t : 25\n",
      "end\t : 60\n",
      "span\t : (25, 60)\n",
      "txt[s:e] : C:\\Users\\hyenz\\Downloads\\Compressed\n",
      "\n",
      "group\t : E:\\WSA\n",
      "start\t : 61\n",
      "end\t : 67\n",
      "span\t : (61, 67)\n",
      "txt[s:e] : E:\\WSA\n",
      "\n",
      "group\t : E:\\Python\\PlayData_Python_AI_learning\n",
      "start\t : 68\n",
      "end\t : 105\n",
      "span\t : (68, 105)\n",
      "txt[s:e] : E:\\Python\\PlayData_Python_AI_learning\n",
      "\n",
      "group\t : D:\\Driver\\BASW-A0362A\\Lang\n",
      "start\t : 106\n",
      "end\t : 132\n",
      "span\t : (106, 132)\n",
      "txt[s:e] : D:\\Driver\\BASW-A0362A\\Lang\n",
      "\n"
     ]
    }
   ],
   "source": [
    "# finditer\n",
    "# 매치된 모든 문자열을 반복 가능한 객체로 반환\n",
    "# 반복 가능한 객체의 요소는 match 객체\n",
    "paths = path_p.finditer(txt)\n",
    "for p in paths:\n",
    "    print(f'group\\t : {p.group()}')\n",
    "    print(f'start\\t : {p.start()}')\n",
    "    print(f'end\\t : {p.end()}')\n",
    "    print(f'span\\t : {p.span()}')\n",
    "    print(f'txt[s:e] : {txt[p.start():p.end()]}')\n",
    "    print()"
   ]
  },
  {
   "cell_type": "markdown",
   "metadata": {
    "slideshow": {
     "slide_type": "subslide"
    }
   },
   "source": [
    "# TODO\n",
    "- info 변수는 한줄에 한사람의 data가 있고 구성은 **`이름 이메일주소 주민번호`** 순서로 되어있다."
   ]
  },
  {
   "cell_type": "code",
   "execution_count": 29,
   "metadata": {
    "ExecuteTime": {
     "end_time": "2020-05-17T13:22:23.684099Z",
     "start_time": "2020-05-17T13:22:23.679112Z"
    },
    "slideshow": {
     "slide_type": "skip"
    }
   },
   "outputs": [],
   "source": [
    "infos ='''김정수 kjs@gmail.com 801023-1010221\n",
    "박영수 pys.abc@gmail.com 700121-1120212\n",
    "이민영 lmy-abc@naver.com 820301-2020122\n",
    "김순희 ksh@daum.net 781223-2012212\n",
    "오주연 ojy@daum.net 900522-1023218\n",
    "'''"
   ]
  },
  {
   "cell_type": "code",
   "execution_count": 65,
   "metadata": {
    "slideshow": {
     "slide_type": "skip"
    }
   },
   "outputs": [
    {
     "name": "stdout",
     "output_type": "stream",
     "text": [
      "kjs@gmail.com\n",
      "pys.abc@gmail.com\n",
      "lmy-abc@naver.com\n",
      "ksh@daum.net\n",
      "ojy@daum.net"
     ]
    }
   ],
   "source": [
    "# Email 주소만 추출 해서 출력\n",
    "email_p = r'\\b[a-zA-Z0-9+-_.]+@[a-zA-Z0-9-]+\\.[a-zA-Z0-9-.]{2,5}\\b'\n",
    "email_p = re.compile(email_p)\n",
    "emails = email_p.findall(infos)\n",
    "print(*emails, sep='\\n', end='')"
   ]
  },
  {
   "cell_type": "code",
   "execution_count": 66,
   "metadata": {
    "slideshow": {
     "slide_type": "skip"
    }
   },
   "outputs": [
    {
     "name": "stdout",
     "output_type": "stream",
     "text": [
      "801023-1010221\n",
      "700121-1120212\n",
      "820301-2020122\n",
      "781223-2012212\n",
      "900522-1023218"
     ]
    }
   ],
   "source": [
    "# 주민번호들만 조회해서 출력\n",
    "pnum_p = r'\\d{6}-(?:1|2|3|4)\\d{6}'\n",
    "pnum_p = re.compile(pnum_p)\n",
    "pnums = pnum_p.findall(infos)\n",
    "print(*pnums, sep='\\n', end='')"
   ]
  },
  {
   "cell_type": "markdown",
   "metadata": {
    "slideshow": {
     "slide_type": "slide"
    }
   },
   "source": [
    "## 문자열 변경\n",
    "- sub(): 변경된 문자열 반환\n",
    "- subn(): 변경된 문자열, 변경개수 반환"
   ]
  },
  {
   "cell_type": "markdown",
   "metadata": {
    "slideshow": {
     "slide_type": "subslide"
    }
   },
   "source": [
    "### sub(바꿀문자열, 대상문자열 [, count=양수])\n",
    "- 대상문자열에서 패턴과 일치하는 것을 바꿀문자열로 변경한다.\n",
    "- count: 변경할 개수를 지정. 기본: 매칭되는 문자열은 다 변경\n",
    "- 반환값: 변경된 문자열\n",
    "\n",
    "### subn(바꿀문자열, 대상문자열 [, count=양수])\n",
    "- sub()와 동일한 역할.\n",
    "- 반환값 : (변경된 문자열, 변경된문자열개수) 를 tuple로 반환"
   ]
  },
  {
   "cell_type": "code",
   "execution_count": 43,
   "metadata": {
    "slideshow": {
     "slide_type": "fragment"
    }
   },
   "outputs": [],
   "source": [
    "infos ='''김정수 kjs@gmail.com 801023-1010221\n",
    "박영수 pys.abc@gmail.com 700121-1120212\n",
    "이민영 lmy-abc@naver.com 820301-2020122\n",
    "김순희 ksh@daum.net 781223-2012212\n",
    "오주연 ojy@daum.net 900522-1023218\n",
    "'''"
   ]
  },
  {
   "cell_type": "code",
   "execution_count": 64,
   "metadata": {},
   "outputs": [
    {
     "name": "stdout",
     "output_type": "stream",
     "text": [
      "김정수 kjs@gmail.com 801023-1******\n",
      "박영수 pys.abc@gmail.com 700121-1******\n",
      "이민영 lmy-abc@naver.com 820301-2******\n",
      "김순희 ksh@daum.net 781223-2******\n",
      "오주연 ojy@daum.net 900522-1******\n",
      "\n",
      "김정수 kjs@gmail.com 801023-1******\n",
      "박영수 pys.abc@gmail.com 700121-1******\n",
      "이민영 lmy-abc@naver.com 820301-2******\n",
      "김순희 ksh@daum.net 781223-2******\n",
      "오주연 ojy@daum.net 900522-1******\n",
      " 5\n"
     ]
    }
   ],
   "source": [
    "# \\B[0-9]{6}\\b -> 6자리 숫자, 앞쪽은 문자열과 붙어있고, 뒤쪽은 문자열과 붙어있지 않음\n",
    "# 생년월일은 6자리 숫자이므로, 이를 이용하여 예외처리\n",
    "pnum_p = r'\\B[0-9]{6}\\b'\n",
    "pnum_p = re.compile(pnum_p)\n",
    "\n",
    "infos_blind_pnum = pnum_p.sub('******', infos)\n",
    "print(infos_blind_pnum)\n",
    "\n",
    "infos_blind_pnum = pnum_p.subn('******', infos)\n",
    "print(infos_blind_pnum[0], infos_blind_pnum[1])"
   ]
  },
  {
   "cell_type": "code",
   "execution_count": 67,
   "metadata": {},
   "outputs": [
    {
     "name": "stdout",
     "output_type": "stream",
     "text": [
      "김** kjs@gmail.com 801023-1010221\n",
      "박** pys.abc@gmail.com 700121-1120212\n",
      "이** lmy-abc@naver.com 820301-2020122\n",
      "김** ksh@daum.net 781223-2012212\n",
      "오** ojy@daum.net 900522-1023218\n",
      "\n",
      "김** kjs@gmail.com 801023-1010221\n",
      "박** pys.abc@gmail.com 700121-1120212\n",
      "이** lmy-abc@naver.com 820301-2020122\n",
      "김** ksh@daum.net 781223-2012212\n",
      "오** ojy@daum.net 900522-1023218\n",
      " 5\n"
     ]
    }
   ],
   "source": [
    "# 앞쪽이 문자열과 붙어있고 글자수가 1~3인 한글만 추출(성을 제외한 이름)\n",
    "# \\B[가-힣]{1,3}\\b -> 앞쪽이 문자열과 붙어있고 글자수가 1~3인 한글\n",
    "name_p = r'\\B[가-힣]{1,3}\\b'\n",
    "name_p = re.compile(name_p)\n",
    "\n",
    "infos_blind_name = name_p.sub('**', infos)\n",
    "print(infos_blind_name)\n",
    "infos_blind_name = name_p.subn('**', infos)\n",
    "print(infos_blind_name[0], infos_blind_name[1])"
   ]
  },
  {
   "cell_type": "code",
   "execution_count": 51,
   "metadata": {},
   "outputs": [
    {
     "name": "stdout",
     "output_type": "stream",
     "text": [
      "김정수 k**@gmail.com 801023-1010221\n",
      "박영수 p**@gmail.com 700121-1120212\n",
      "이민영 l**@naver.com 820301-2020122\n",
      "김순희 k**@daum.net 781223-2012212\n",
      "오주연 o**@daum.net 900522-1023218\n",
      "\n",
      "김정수 k**@gmail.com 801023-1010221\n",
      "박영수 p**@gmail.com 700121-1120212\n",
      "이민영 l**@naver.com 820301-2020122\n",
      "김순희 k**@daum.net 781223-2012212\n",
      "오주연 o**@daum.net 900522-1023218\n",
      " 5\n"
     ]
    }
   ],
   "source": [
    "# email중 아이디의 앞글자 한자리만 남기고 나머지는 *로 변경\n",
    "# \\B[a-zA-Z0-9+-_.]+@ -> 앞쪽이 문자열과 붙어있고, 알파벳, 숫자, +, -, _, .이 1개 이상이며, @가 붙어있는 문자열.\n",
    "email_p = r'\\B[a-zA-Z0-9+-_.]+@'\n",
    "email_p = re.compile(email_p)\n",
    "\n",
    "infos_blind_mail = email_p.sub('**@', infos)\n",
    "print(infos_blind_mail)\n",
    "infos_blind_mail = email_p.subn('**@', infos)\n",
    "print(infos_blind_mail[0], infos_blind_mail[1])"
   ]
  },
  {
   "cell_type": "code",
   "execution_count": 68,
   "metadata": {},
   "outputs": [],
   "source": [
    "def blind_name(info):\n",
    "    name_p = r'\\B[가-힣]{2,}\\b'\n",
    "    name_p = re.compile(name_p)\n",
    "    result = name_p.sub('**', info)\n",
    "    return result\n",
    "\n",
    "def blind_mail(info):\n",
    "    email_p = r'\\B[a-zA-Z0-9+-_.]+@'\n",
    "    email_p = re.compile(email_p)\n",
    "    result = email_p.sub('*@', info)\n",
    "    return result\n",
    "\n",
    "def blind_pnum(info):\n",
    "    pnum_p = r'\\B[0-9]{6}\\b'\n",
    "    pnum_p = re.compile(pnum_p)\n",
    "    result = pnum_p.sub('******', info)\n",
    "    return result\n",
    "\n",
    "def blind_person_info(info):\n",
    "    \n",
    "    result = blind_name(info)\n",
    "    result = blind_mail(result)\n",
    "    result = blind_pnum(result)\n",
    "    \n",
    "    return result"
   ]
  },
  {
   "cell_type": "code",
   "execution_count": 70,
   "metadata": {},
   "outputs": [
    {
     "name": "stdout",
     "output_type": "stream",
     "text": [
      "김** k*@gmail.com 801023-1******\n",
      "박** p*@gmail.com 700121-1******\n",
      "이** l*@naver.com 820301-2******\n",
      "김** k*@daum.net 781223-2******\n",
      "오** o*@daum.net 900522-1******\n",
      "\n"
     ]
    }
   ],
   "source": [
    "print(blind_person_info(infos))"
   ]
  },
  {
   "cell_type": "markdown",
   "metadata": {
    "slideshow": {
     "slide_type": "subslide"
    }
   },
   "source": [
    "## 나누기(토큰화)\n",
    "### split(대상문자열)\n",
    "- pattern을 구분자로 문장을 나눈다.\n",
    "- 반환: 나눈 문자열을 원소로 하는 리스트"
   ]
  },
  {
   "cell_type": "code",
   "execution_count": 47,
   "metadata": {
    "slideshow": {
     "slide_type": "fragment"
    }
   },
   "outputs": [],
   "source": [
    "space_enter = r'\\s+'\n",
    "se_p = re.compile(space_enter)\n",
    "\n",
    "infos_l = se_p.split(infos)"
   ]
  },
  {
   "cell_type": "markdown",
   "metadata": {
    "slideshow": {
     "slide_type": "slide"
    }
   },
   "source": [
    "# 패턴내 하위패턴 만들기 (Grouping)\n",
    "- 전체 패턴에서 일부 패턴들을 묶어 하위패턴으로 만든다.\n",
    "- 구문: (패턴)"
   ]
  },
  {
   "cell_type": "markdown",
   "metadata": {
    "ExecuteTime": {
     "end_time": "2019-05-16T00:56:13.966065Z",
     "start_time": "2019-05-16T00:56:13.960644Z"
    },
    "slideshow": {
     "slide_type": "subslide"
    }
   },
   "source": [
    "## 그룹핑 예\n",
    "\n",
    "### 전체 패턴 내에서 일부 패턴을 조회"
   ]
  },
  {
   "cell_type": "code",
   "execution_count": null,
   "metadata": {
    "slideshow": {
     "slide_type": "fragment"
    }
   },
   "outputs": [],
   "source": []
  },
  {
   "cell_type": "markdown",
   "metadata": {
    "slideshow": {
     "slide_type": "subslide"
    }
   },
   "source": [
    "### 패턴 내에서 하위그룹 참조\n",
    "- `\\번호`\n",
    "- 지정한 '번호' 번째 패턴으로 매칭된 문자열과 같은 문자열을 의미"
   ]
  },
  {
   "cell_type": "code",
   "execution_count": null,
   "metadata": {
    "slideshow": {
     "slide_type": "fragment"
    }
   },
   "outputs": [],
   "source": []
  },
  {
   "cell_type": "markdown",
   "metadata": {
    "slideshow": {
     "slide_type": "slide"
    }
   },
   "source": [
    "### 패턴내의 특정 부분만 변경"
   ]
  },
  {
   "cell_type": "code",
   "execution_count": null,
   "metadata": {
    "slideshow": {
     "slide_type": "fragment"
    }
   },
   "outputs": [],
   "source": []
  },
  {
   "cell_type": "markdown",
   "metadata": {
    "slideshow": {
     "slide_type": "fragment"
    }
   },
   "source": [
    "### group으로 묶인 것 참조(조회)\n",
    "- **패턴 안에서 참조**\n",
    "    - `\\번호` , `r'(\\d{3}) \\1'` => 중복되는 것을 패턴으로 표현할 때.\n",
    "- **match 조회**\n",
    "    - match객체.group(번호)\n",
    "- **sub() 함수에서 대체 문자로 참조**\n",
    "    - `\\g<번호>`"
   ]
  },
  {
   "cell_type": "code",
   "execution_count": null,
   "metadata": {
    "slideshow": {
     "slide_type": "fragment"
    }
   },
   "outputs": [],
   "source": []
  },
  {
   "cell_type": "markdown",
   "metadata": {
    "slideshow": {
     "slide_type": "slide"
    }
   },
   "source": [
    "# Greedy 와 Non-Greedy\n",
    "- **Greedy(탐욕스러운-최대일치)** 의미\n",
    "    - 주어진 패턴에 만족하는 문자열을 최대한 넓게(길게) 잡아 찾는다.\n",
    "    - 매칭시 기본 방식\n",
    "- **Non-Greedy(최소일치)**\n",
    "    - 주어진 패턴에 만족하는 문자열을 최초의 일치하는 위치까지 찾는다\n",
    "    - 개수를 나타내는 메타문자(수량자)에 **`?`**를 붙인다.\n",
    "    - `*?`, `+?`, `{m,n}?`"
   ]
  },
  {
   "cell_type": "code",
   "execution_count": null,
   "metadata": {
    "slideshow": {
     "slide_type": "fragment"
    }
   },
   "outputs": [],
   "source": []
  },
  {
   "cell_type": "markdown",
   "metadata": {
    "slideshow": {
     "slide_type": "slide"
    }
   },
   "source": [
    "# 전방/후방 탐색\n",
    "- 패턴과 일치하는 문자열을 찾을 때는 사용하되 반환(소비) 되지 않도록 하는 패턴이 있을 때 사용.\n",
    "- **전방탐색**\n",
    "    - 반환(소비)될 문자열들이 앞에 있는 경우.\n",
    "    - 긍정 전방탐색\n",
    "        - %%%(?=패턴) : %%%-반환될 패턴\n",
    "    - 부정 전방탐색\n",
    "        - %%%(?!패턴)  : 부정은 =를 !로 바꾼다.\n",
    "- **후방탐색**\n",
    "    - 반환(소비)될 문자열이 뒤에 있는 경우.\n",
    "    - 긍정 후방탐색\n",
    "        - (?<=패턴)%%%\n",
    "    - 부정 후방탐색\n",
    "        - (?<!패턴)%%%\n",
    "        \n"
   ]
  },
  {
   "cell_type": "code",
   "execution_count": null,
   "metadata": {
    "slideshow": {
     "slide_type": "fragment"
    }
   },
   "outputs": [],
   "source": []
  }
 ],
 "metadata": {
  "kernelspec": {
   "display_name": "Python 3 (ipykernel)",
   "language": "python",
   "name": "python3"
  },
  "language_info": {
   "codemirror_mode": {
    "name": "ipython",
    "version": 3
   },
   "file_extension": ".py",
   "mimetype": "text/x-python",
   "name": "python",
   "nbconvert_exporter": "python",
   "pygments_lexer": "ipython3",
   "version": "3.10.9"
  },
  "toc": {
   "base_numbering": 1,
   "nav_menu": {},
   "number_sections": false,
   "sideBar": false,
   "skip_h1_title": false,
   "title_cell": "Table of Contents",
   "title_sidebar": "Contents",
   "toc_cell": false,
   "toc_position": {
    "height": "606.319px",
    "left": "10px",
    "top": "150px",
    "width": "336.889px"
   },
   "toc_section_display": false,
   "toc_window_display": false
  },
  "varInspector": {
   "cols": {
    "lenName": 16,
    "lenType": 16,
    "lenVar": 40
   },
   "kernels_config": {
    "python": {
     "delete_cmd_postfix": "",
     "delete_cmd_prefix": "del ",
     "library": "var_list.py",
     "varRefreshCmd": "print(var_dic_list())"
    },
    "r": {
     "delete_cmd_postfix": ") ",
     "delete_cmd_prefix": "rm(",
     "library": "var_list.r",
     "varRefreshCmd": "cat(var_dic_list()) "
    }
   },
   "types_to_exclude": [
    "module",
    "function",
    "builtin_function_or_method",
    "instance",
    "_Feature"
   ],
   "window_display": false
  }
 },
 "nbformat": 4,
 "nbformat_minor": 2
}
