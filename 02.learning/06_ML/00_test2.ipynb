{
 "cells": [
  {
   "cell_type": "code",
   "execution_count": 2,
   "metadata": {},
   "outputs": [],
   "source": [
    "import tensorflow as tf\n",
    "from tensorflow import keras\n",
    "import numpy as np\n",
    "import matplotlib.pyplot as plt"
   ]
  },
  {
   "cell_type": "code",
   "execution_count": 3,
   "metadata": {},
   "outputs": [],
   "source": [
    "# Load MNIST data\n",
    "(x_train, y_train), (x_test, y_test) = keras.datasets.mnist.load_data()\n"
   ]
  },
  {
   "cell_type": "code",
   "execution_count": 4,
   "metadata": {},
   "outputs": [],
   "source": [
    "# Normalize image data\n",
    "x_train = np.expand_dims(x_train, axis=-1)\n",
    "x_train = x_train / 255.0\n",
    "x_test = np.expand_dims(x_test, axis=-1)\n",
    "x_test = x_test / 255.0\n"
   ]
  },
  {
   "cell_type": "code",
   "execution_count": 5,
   "metadata": {},
   "outputs": [],
   "source": [
    "# Define model\n",
    "model = keras.Sequential([\n",
    "    keras.layers.Conv2D(32, kernel_size=(3, 3), activation='relu', input_shape=(28,28,1)),\n",
    "    keras.layers.MaxPooling2D(pool_size=(2, 2)),\n",
    "    keras.layers.Conv2D(64, kernel_size=(3, 3), activation='relu'),\n",
    "    keras.layers.Flatten(),\n",
    "    keras.layers.Dense(10, activation='softmax')\n",
    "])\n"
   ]
  },
  {
   "cell_type": "code",
   "execution_count": 6,
   "metadata": {},
   "outputs": [],
   "source": [
    "# Define model\n",
    "model = keras.Sequential([\n",
    "    keras.layers.Conv2D(32, kernel_size=(3, 3), activation='relu', input_shape=(28,28,1)),\n",
    "    keras.layers.MaxPooling2D(pool_size=(2, 2)),\n",
    "    keras.layers.Conv2D(64, kernel_size=(3, 3), activation='relu'),\n",
    "    keras.layers.Flatten(),\n",
    "    keras.layers.Dense(10, activation='softmax')\n",
    "])\n"
   ]
  },
  {
   "cell_type": "code",
   "execution_count": 7,
   "metadata": {},
   "outputs": [],
   "source": [
    "# Compile model\n",
    "model.compile(optimizer='adam',\n",
    "              loss='sparse_categorical_crossentropy',\n",
    "              metrics=['accuracy'])\n"
   ]
  },
  {
   "cell_type": "code",
   "execution_count": 8,
   "metadata": {},
   "outputs": [
    {
     "name": "stdout",
     "output_type": "stream",
     "text": [
      "Epoch 1/5\n",
      "1875/1875 [==============================] - 19s 10ms/step - loss: 0.1289 - accuracy: 0.9617 - val_loss: 0.0424 - val_accuracy: 0.9873\n",
      "Epoch 2/5\n",
      "1875/1875 [==============================] - 29s 16ms/step - loss: 0.0440 - accuracy: 0.9864 - val_loss: 0.0396 - val_accuracy: 0.9879\n",
      "Epoch 3/5\n",
      "1875/1875 [==============================] - 33s 18ms/step - loss: 0.0299 - accuracy: 0.9909 - val_loss: 0.0316 - val_accuracy: 0.9900\n",
      "Epoch 4/5\n",
      "1875/1875 [==============================] - 40s 21ms/step - loss: 0.0231 - accuracy: 0.9928 - val_loss: 0.0327 - val_accuracy: 0.9904\n",
      "Epoch 5/5\n",
      "1875/1875 [==============================] - 46s 24ms/step - loss: 0.0169 - accuracy: 0.9945 - val_loss: 0.0326 - val_accuracy: 0.9895\n"
     ]
    },
    {
     "data": {
      "text/plain": [
       "<keras.callbacks.History at 0x24f22ade980>"
      ]
     },
     "execution_count": 8,
     "metadata": {},
     "output_type": "execute_result"
    }
   ],
   "source": [
    "# Train model\n",
    "model.fit(x_train, y_train, epochs=5, validation_data=(x_test, y_test))\n"
   ]
  },
  {
   "cell_type": "code",
   "execution_count": 9,
   "metadata": {},
   "outputs": [],
   "source": [
    "# Define a function to predict image based on the input integer value\n",
    "def predict_image(num):\n",
    "    # Create a blank black image with 28x28 resolution\n",
    "    img = np.zeros((28,28))\n",
    "    # Set the pixel value of the image based on the input integer value\n",
    "    for i in range(0,28):\n",
    "        for j in range(0,28):\n",
    "            img[i][j] = num\n",
    "    # Reshape the image to 28x28x1 and normalize its pixel values\n",
    "    img = np.expand_dims(img, axis=-1)\n",
    "    img = img / 255.0\n",
    "    # Use the model to make a prediction on the input image\n",
    "    prediction = model.predict(np.array([img]))\n",
    "    # Return the predicted image\n",
    "    return prediction\n"
   ]
  },
  {
   "cell_type": "code",
   "execution_count": 22,
   "metadata": {},
   "outputs": [
    {
     "name": "stdout",
     "output_type": "stream",
     "text": [
      "1/1 [==============================] - 0s 17ms/step\n"
     ]
    }
   ],
   "source": [
    "# Test the function by passing integer value 5 to it\n",
    "predicted_image = predict_image(0)"
   ]
  },
  {
   "cell_type": "code",
   "execution_count": 23,
   "metadata": {},
   "outputs": [
    {
     "data": {
      "text/plain": [
       "(1, 10)"
      ]
     },
     "execution_count": 23,
     "metadata": {},
     "output_type": "execute_result"
    }
   ],
   "source": [
    "predicted_image.shape"
   ]
  },
  {
   "cell_type": "code",
   "execution_count": 24,
   "metadata": {},
   "outputs": [
    {
     "data": {
      "text/plain": [
       "array([[0.09841156, 0.10277198, 0.10362916, 0.10044613, 0.09791606,\n",
       "        0.09852493, 0.09758113, 0.1010052 , 0.10358678, 0.09612709]],\n",
       "      dtype=float32)"
      ]
     },
     "execution_count": 24,
     "metadata": {},
     "output_type": "execute_result"
    }
   ],
   "source": [
    "predicted_image"
   ]
  },
  {
   "cell_type": "code",
   "execution_count": 25,
   "metadata": {},
   "outputs": [
    {
     "data": {
      "text/plain": [
       "<matplotlib.image.AxesImage at 0x24f240bfb80>"
      ]
     },
     "execution_count": 25,
     "metadata": {},
     "output_type": "execute_result"
    },
    {
     "data": {
      "image/png": "[encoded data removed]",
      "text/plain": [
       "<Figure size 640x480 with 1 Axes>"
      ]
     },
     "metadata": {},
     "output_type": "display_data"
    }
   ],
   "source": [
    "# Display the predicted image\n",
    "plt.imshow(predicted_image, cmap=plt.cm.binary)"
   ]
  },
  {
   "cell_type": "code",
   "execution_count": null,
   "metadata": {},
   "outputs": [],
   "source": []
  },
  {
   "cell_type": "code",
   "execution_count": null,
   "metadata": {},
   "outputs": [],
   "source": []
  },
  {
   "cell_type": "code",
   "execution_count": null,
   "metadata": {},
   "outputs": [],
   "source": []
  },
  {
   "cell_type": "code",
   "execution_count": null,
   "metadata": {},
   "outputs": [],
   "source": [
    "import tensorflow as tf\n",
    "from tensorflow.keras.datasets import mnist\n",
    "from tensorflow.keras.layers import Dense, Input, Reshape, Flatten\n",
    "from tensorflow.keras.models import Model\n",
    "from tensorflow.keras.optimizers import Adam\n",
    "\n",
    "import numpy as np\n",
    "\n",
    "# MNIST 데이터 로드\n",
    "(x_train, _), (_, _) = mnist.load_data()\n",
    "x_train = (x_train - 127.5) / 127.5  # 데이터를 -1에서 1사이로 normalize\n",
    "x_train = np.expand_dims(x_train, axis=-1)  # 데이터를 4D로 변경\n",
    "\n",
    "# 생성기와 판별기를 위한 하이퍼파라미터 설정\n",
    "z_dim = 100\n",
    "img_rows, img_cols, channels = 28, 28, 1\n",
    "\n",
    "# 생성기 정의\n",
    "def build_generator():\n",
    "    model = tf.keras.Sequential()\n",
    "    model.add(Dense(256, input_dim=z_dim))\n",
    "    model.add(tf.keras.layers.LeakyReLU())\n",
    "    model.add(Dense(512))\n",
    "    model.add(tf.keras.layers.LeakyReLU())\n",
    "    model.add(Dense(784, activation='tanh'))\n",
    "    model.add(Reshape((img_rows, img_cols, channels)))\n",
    "    return model\n",
    "\n",
    "# 판별기 정의\n",
    "def build_discriminator():\n",
    "    model = tf.keras.Sequential()\n",
    "    model.add(Input(shape=(img_rows, img_cols, channels)))\n",
    "    model.add(Flatten())\n",
    "    model.add(Dense(512))\n",
    "    model.add(tf.keras.layers.LeakyReLU())\n",
    "    model.add(Dense(256))\n",
    "    model.add(tf.keras.layers.LeakyReLU())\n",
    "    model.add(Dense(1, activation='sigmoid'))\n",
    "    return model\n",
    "\n",
    "# GAN 모델을 정의하고 훈련시키는 함수\n",
    "def train_gan(generator, discriminator, epochs=1000, batch_size=256):\n",
    "    # GAN 정의\n",
    "    optimizer = Adam(learning_rate=0.0002, beta_1=0.5)\n",
    "    generator.trainable = True\n",
    "    discriminator.trainable = False\n",
    "\n",
    "    gan_input = Input(shape=(z_dim,))\n",
    "    gan_output = discriminator(generator(gan_input))\n",
    "    \n",
    "    gan = Model(gan_input, gan_output)\n",
    "    gan.compile(loss='binary_crossentropy', optimizer=optimizer)\n",
    "\n",
    "    # GAN 훈련\n",
    "    for epoch in range(epochs):\n",
    "        # 구분자 훈련\n",
    "        discriminator.trainable = True\n",
    "        indices = np.random.randint(0, x_train.shape[0], batch_size)\n",
    "        real_images = x_train[indices]\n",
    "        real_labels = np.ones((batch_size, 1))\n",
    "        d_loss_real = discriminator.train_on_batch(real_images, real_labels)\n",
    "        \n",
    "        noise = np.random.normal(0, 1, (batch_size, z_dim))\n",
    "        fake_images = generator.predict(noise)\n",
    "        fake_labels = np.zeros((batch_size, 1))\n",
    "        d_loss_fake = discriminator.train_on_batch(fake_images, fake_labels)\n",
    "        \n",
    "        d_loss = 0.5 * np.add(d_loss_real, d_loss_fake)\n",
    "\n",
    "        # 생성자 훈련\n",
    "        discriminator.trainable = False\n",
    "        noise = np.random.normal(0, 1, (batch_size, z_dim))\n",
    "        g_loss = gan.train_on_batch(noise, real_labels)\n",
    "\n",
    "        # 상태 출력\n",
    "        if epoch % 100 == 0:\n",
    "            print(f'epoch: {epoch}/{epochs}, d_loss: {d_loss}, g_loss: {g_loss}')\n",
    "\n",
    "# 실행\n",
    "generator = build_generator()\n",
    "discriminator = build_discriminator()\n",
    "discriminator.compile(loss='binary_crossentropy', optimizer=Adam(learning_rate=0.0002, beta_1=0.5))\n",
    "\n",
    "train_gan(generator, discriminator)\n"
   ]
  },
  {
   "cell_type": "code",
   "execution_count": null,
   "metadata": {},
   "outputs": [],
   "source": [
    "import matplotlib.pyplot as plt\n",
    "\n",
    "def generate_digit_image(digit):\n",
    "    noise = np.random.normal(0, 1, (1, z_dim))\n",
    "    conditioned_noise = np.hstack((noise, np.array(digit).reshape(1, -1)))\n",
    "    image = generator.predict(conditioned_noise)\n",
    "    image = (image * 127.5 + 127.5).astype(np.uint8).reshape(28, 28)\n",
    "    return image\n",
    "\n",
    "# 예시\n",
    "digit = 3\n",
    "generated_image = generate_digit_image(digit)\n",
    "plt.imshow(generated_image, cmap='gray')\n",
    "plt.show()\n"
   ]
  }
 ],
 "metadata": {
  "kernelspec": {
   "display_name": "ml",
   "language": "python",
   "name": "python3"
  },
  "language_info": {
   "codemirror_mode": {
    "name": "ipython",
    "version": 3
   },
   "file_extension": ".py",
   "mimetype": "text/x-python",
   "name": "python",
   "nbconvert_exporter": "python",
   "pygments_lexer": "ipython3",
   "version": "3.10.11"
  },
  "orig_nbformat": 4
 },
 "nbformat": 4,
 "nbformat_minor": 2
}
