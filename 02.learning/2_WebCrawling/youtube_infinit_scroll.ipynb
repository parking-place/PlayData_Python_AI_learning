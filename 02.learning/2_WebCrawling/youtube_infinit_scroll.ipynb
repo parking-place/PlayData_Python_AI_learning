{
 "cells": [
  {
   "attachments": {},
   "cell_type": "markdown",
   "metadata": {},
   "source": [
    "# 유튜브 무한 스크롤\n",
    "- 페이지의 새로고침 없이 무한스크롤 하는 페이지"
   ]
  },
  {
   "cell_type": "code",
   "execution_count": null,
   "metadata": {},
   "outputs": [],
   "source": [
    "# 유튜브 무한 스크롤\n",
    "import selenium\n",
    "from selenium.webdriver.edge.service import Service\n",
    "from selenium import webdriver\n",
    "from selenium.webdriver.common.by import By\n",
    "from selenium.webdriver.common.keys import Keys\n",
    "from pprint import pprint\n",
    "from bs4 import BeautifulSoup as bs\n",
    "from selenium.webdriver.support import expected_conditions as EC\n",
    "from selenium.webdriver.support.ui import WebDriverWait\n",
    "import time\n",
    "import pandas as pd"
   ]
  },
  {
   "cell_type": "code",
   "execution_count": null,
   "metadata": {},
   "outputs": [],
   "source": [
    "service = Service('./browserdriver/msedgedriver112_64.exe')\n",
    "\n",
    "# 웹드라이버 옵션 설정\n",
    "# options = webdriver.EdgeOptions()   # EdgeOptions객체 생성\n",
    "# options.add_argument('headless')    # headless 모드 설정 -> 화면이 안나옴\n",
    "# options.add_argument('window-size=1920x1080') # 화면 크기 설정\n",
    "# options.add_argument(\"disable-gpu\") # GPU 사용 안함\n",
    "\n",
    "# webdriver  객체를 만들 때 옵션을 설정\n",
    "browser = webdriver.Edge(service=service) \n",
    "browser.set_window_position(2056, 677)\n",
    "browser.maximize_window()\n",
    "browser.get('https://www.youtube.com/')\n",
    "\n",
    "# 암묵적으로 웹 자원 로드를 위해 3초까지 기다림\n",
    "# 그 이전에 모든 웹 자원이 로드되면 바로 진행\n",
    "browser.implicitly_wait(3)"
   ]
  },
  {
   "cell_type": "code",
   "execution_count": null,
   "metadata": {},
   "outputs": [],
   "source": [
    "# 컨텐츠 박스 div ID = dismissible, class=\"style-scope ytd-rich-grid-media\"\n",
    "# 쇼츠 박스 div ID = dismissible, class=\"style-scope ytd-rich-grid-slim-media\"\n",
    "# 컨텐츠 썸네일 img class=\"yt-core-image--fill-parent-height yt-core-image--fill-parent-width\n",
    "#                          yt-core-image yt-core-image--content-mode-scale-aspect-fill yt-core-image--loaded\"\n",
    "# 쇼츠 썸네일   img class=\"yt-core-image--fill-parent-height yt-core-image--fill-parent-width\n",
    "#                          yt-core-image yt-core-image--content-mode-scale-aspect-fit yt-core-image--loaded\"\n",
    "\n",
    "# #dismissible\n",
    "# 콘텐츠 열단위 -> #contents\n",
    "# 행단위 -> #contents > ytd-rich-grid-row:nth-child(11) > div.ytd-rich-grid-renderer\n",
    "# 행단위 -> #contents > ytd-rich-grid-row:nth-child(2) > div.ytd-rich-grid-renderer\n",
    "# 행단위 -> #contents > ytd-rich-grid-row:nth-child(4) > div.ytd-rich-grid-renderer > div.ytd-rich-grid-row\n",
    "# 행 안에서 > #content > #dismissible\n"
   ]
  },
  {
   "cell_type": "code",
   "execution_count": null,
   "metadata": {},
   "outputs": [],
   "source": [
    "service = Service('./browserdriver/msedgedriver112_64.exe')\n",
    "\n",
    "# 웹드라이버 옵션 설정\n",
    "options = webdriver.EdgeOptions()   # EdgeOptions객체 생성\n",
    "options.add_argument('headless')    # headless 모드 설정 -> 화면이 안나옴\n",
    "# options.add_argument('window-size=1920x1080') # 화면 크기 설정\n",
    "options.add_argument(\"disable-gpu\") # GPU 사용 안함\n",
    "browser = webdriver.Edge(service=service) \n",
    "\n",
    "# browser = webdriver.Edge(service=service) \n",
    "browser.set_window_position(98, 1282)\n",
    "browser.maximize_window()\n",
    "browser.get('https://www.youtube.com/')\n",
    "\n",
    "browser.implicitly_wait(3)\n",
    "\n",
    "heigth = browser.execute_script('return document.documentElement.scrollHeight')\n",
    "new_heigth = 0\n",
    "time.sleep(1)\n",
    "while True:\n",
    "    browser.execute_script(f'window.scrollTo(0, {heigth})')\n",
    "    time.sleep(1)\n",
    "    new_heigth = browser.execute_script('return document.documentElement.scrollHeight')\n",
    "    if new_heigth == heigth:\n",
    "        break\n",
    "    heigth = new_heigth\n",
    "\n",
    "# 다 불러온 후에 크롤링\n",
    "\n",
    "# html = browser.page_source\n",
    "# soup = bs(html, 'lxml')\n",
    "    \n",
    "browser.close()"
   ]
  }
 ],
 "metadata": {
  "language_info": {
   "name": "python"
  },
  "orig_nbformat": 4
 },
 "nbformat": 4,
 "nbformat_minor": 2
}
