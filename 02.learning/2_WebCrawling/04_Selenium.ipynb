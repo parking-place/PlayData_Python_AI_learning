{
 "cells": [
  {
   "cell_type": "markdown",
   "metadata": {},
   "source": [
    "# [Selenium](https://www.selenium.dev/)\n",
    "\n",
    "- **웹 브라우저 제어 도구**\n",
    "    - 원래는 웹 어플리케이션 자동 테스트를 위한 목적으로 만들어진 프레임워크.\n",
    "    - 웹브라우저를 프로그램을 이용해 제어할 수 있다.\n",
    "- **requests 모듈의 한계**   \n",
    "    - Javascript를 이용한 AJAX 기법의 비동기적 요청 처리 페이지 크롤링이 힘들다.\n",
    "    - 로그인 후 요청이 가능한 페이지들에 대한 크롤링이 번거롭다.\n",
    "    - Selenium을 활용하면 이 두가지 모두 쉽게 처리할 수 있다.\n",
    "    \n",
    "- **Selenium 단점** \n",
    "    - 속도가 느림\n",
    "- **설치**\n",
    "    - `conda install selenium`\n",
    "    - `pip install selenium`\n",
    "- [튜토리얼](https://selenium-python.readthedocs.io/)\n",
    "> - 주의: selenium은 3에서 4버전으로 업그레이드 되면서 드라이버 설정과 element 조회 메서드등이 많이 바뀜."
   ]
  },
  {
   "cell_type": "code",
   "execution_count": null,
   "metadata": {},
   "outputs": [],
   "source": []
  },
  {
   "cell_type": "markdown",
   "metadata": {},
   "source": [
    "# Driver\n",
    "\n",
    "- Driver \n",
    "    - 웹브라우저를 제어하는 프로그램으로 웹 브라우저별로 제공된다.\n",
    "    - Selenium 패키지의 Driver객체를 이용해 제어하게 된다.\n",
    "    \n",
    "## 설치\n",
    "1. **DriverManager 이용**\n",
    "    - `pip install webdriver-manager` "
   ]
  },
  {
   "cell_type": "markdown",
   "metadata": {},
   "source": [
    "2. **Hard coding**\n",
    "    1. 브라우져별로 드라이버를 다운로드 받는다.\n",
    "        - https://www.selenium.dev/documentation/webdriver/getting_started/install_drivers/#quick-reference\n",
    "    2. Local 컴퓨터에 설치된 크롬브라우져 버전에 맞는 드라이버 선택\n"
   ]
  },
  {
   "cell_type": "markdown",
   "metadata": {},
   "source": [
    "### DriverManager를 이용해 WebDriver 생성"
   ]
  },
  {
   "cell_type": "code",
   "execution_count": null,
   "metadata": {},
   "outputs": [],
   "source": []
  },
  {
   "cell_type": "markdown",
   "metadata": {},
   "source": [
    "### 다운 받은 Driver이용해 WebDriver생성"
   ]
  },
  {
   "cell_type": "code",
   "execution_count": null,
   "metadata": {},
   "outputs": [],
   "source": []
  },
  {
   "cell_type": "markdown",
   "metadata": {
    "heading_collapsed": true
   },
   "source": [
    "## WebDriver 주요 속성/메소드\n",
    "\n",
    "- **page_source** : 현재 페이지의 html 소스를 반환\n",
    "    - page_source로 html을 받아서 BeautifulSoup으로 크롤링할 원소를 찾을 수 있다.\n",
    "- **get_screenshot_as_file(파일경로)**\n",
    "    - 현재 웹브라우저 화면을 지정한 캡처해서 지정한 파일 경로에 저장한다.\n",
    "- **set_window_size(width, height)**\n",
    "    - 웹브라우저 윈도우 크기 조정\n",
    "- **maximize_window()**\n",
    "    - 웹브라우저 화면 최대 크기로 만들기.\n",
    "- **get_window_size()**\n",
    "    - 웹브라우저 윈도우 크기 조회. (width, height)\n",
    "- **execute_script(\"자바스크립트코드\")**\n",
    "    - 문자열로 전달한 **javascript 코드**를 실행시킨다.\n",
    "- **quit()**, **close()**\n",
    "    - 웹브라우저를 종료한다.\n",
    "    "
   ]
  },
  {
   "cell_type": "markdown",
   "metadata": {
    "heading_collapsed": true
   },
   "source": [
    "## Page의 Element 조회 메소드\n",
    "- BeautifulSoup을 이용하지 않고 셀레늄 자체 parser를 이용할 수 있다.\n",
    "- **find_element()**: 조건을 만족하는 첫번째 요소를 반환한다.\n",
    "    - 매개변수\n",
    "        - **by**: 검색방식\n",
    "            - **By.ID**\n",
    "            - **By.CLASS_NAME**\n",
    "            - **By.TAG_NAME**\n",
    "            - **By.CSS_SELECTOR**\n",
    "            - **By.XPATH**\n",
    "            - **By.LINK_TEXT**\n",
    "            - **By.PARTIAL_LINK_TEXT**\n",
    "        - **value**: str - 검색조건\n",
    "    - 반환타입: **WebElement**\n",
    "- **find_elements()**: 조건을 만족하는 모든 요소를 찾는다.\n",
    "    - 매개변수: find_element()와 동일\n",
    "    - 반환타입\n",
    "        - **list of WebElement**       "
   ]
  },
  {
   "cell_type": "markdown",
   "metadata": {
    "heading_collapsed": true
   },
   "source": [
    "### WebElement (조회결과) 메소드 / 속성\n",
    "- 메소드\n",
    "    - **get_attribute('속성명')**: 태그의 속성값 조회\n",
    "    - **send_keys(\"문자열\")**: 입력폼에 문자열 값을 입력.\n",
    "    - **click()**: element를 클릭\n",
    "    - **submit()**: element가 Form인 경우 폼 전송\n",
    "    - **clear()**: element가 입력폼인 경우 텍스트를 지운다.\n",
    "    - 위 조회 메소드들 : 하위의 elements들 조회\n",
    "- 속성\n",
    "    - **text**: 태그내의 텍스트\n",
    "    - **tag_name**: 태그이름 "
   ]
  },
  {
   "cell_type": "code",
   "execution_count": null,
   "metadata": {},
   "outputs": [],
   "source": []
  },
  {
   "cell_type": "code",
   "execution_count": null,
   "metadata": {},
   "outputs": [],
   "source": []
  },
  {
   "cell_type": "markdown",
   "metadata": {},
   "source": [
    "## TODO: 구글 검색\n",
    "1. https://www.google.co.kr 페이지로 이동\n",
    "2. 파이썬을 검색한다.\n",
    "3. 검색결과 title들을 출력한다."
   ]
  },
  {
   "cell_type": "code",
   "execution_count": null,
   "metadata": {},
   "outputs": [],
   "source": []
  },
  {
   "cell_type": "code",
   "execution_count": null,
   "metadata": {},
   "outputs": [],
   "source": []
  },
  {
   "cell_type": "markdown",
   "metadata": {},
   "source": [
    "## 브라우저의 headless 모드를 이용.\n",
    "- Headless 브라우저 \n",
    "    - 브라우저의 창을 띄우지 않고 실제 브라우저와 동일하게 동작하도록 하는 방식\n",
    "    - CLI 기반의 OS (리눅스 서버)를 지원하기 위한 브라우저\n",
    "    - 크롬은 버전 60부터 headless 모드 지원\n",
    "- selenium에서 headless 모드\n",
    "    - webdriver options에 headless 설정"
   ]
  },
  {
   "cell_type": "code",
   "execution_count": null,
   "metadata": {},
   "outputs": [],
   "source": []
  },
  {
   "cell_type": "markdown",
   "metadata": {
    "hidden": true
   },
   "source": [
    "# 대기 하기\n",
    "\n",
    "## Explicit Wait\n",
    "- 특정 조건/상황을 만족할 때 까지 대기\n",
    "- `WebDriverWait(driver, 초).until(expected_contition)` 구문 사용\n",
    "- expected_condition 함수\n",
    "     - selenium.webdriver.support.expected_conditions 모듈에 정의된 함수 사용.\n",
    "         - https://selenium-python.readthedocs.io/api.html#module-selenium.webdriver.support.expected_conditions\n",
    "     \n",
    "## Implicit Wait\n",
    "- 현재 페이지에 없는 element나 elememt들이 loading 되기를 설정한 시간만큼 기다린다. \n",
    "- 설정한 시간 이내에 elements가 loading되면 대기가 종료된다.\n",
    "- `implicit_wait(초)` 구문 사용\n",
    "- 한번 설정하면 설정된 WebDriver가 close될때 까지 그 설정이 유지된다.\n",
    "- https://selenium-python.readthedocs.io/waits.html\n",
    "\n",
    "### 예)\n",
    "```python\n",
    "driver.implicitly_wait(5) \n",
    "# 페이지 로딩(dom tree완성)될 때까지 최대 5초간 기다린다. (로딩이 되면 5초가 되지 않아도 대기를 끝낸다.)\n",
    "```\n",
    "<hr>\n",
    "\n",
    "```python\n",
    "from selenium.webdriver.support import expected_conditions as EC\n",
    "\n",
    "...\n",
    "\n",
    "try:\n",
    "    # element가 반환될 때 까지 최대 10초 기다린다.\n",
    "    element = WebDriverWait(driver, 10).until(\n",
    "        EC.presence_of_element_located((By.ID, \"myDynamicElement\"))\n",
    "    )\n",
    "finally:\n",
    "    driver.quit()\n",
    "```"
   ]
  },
  {
   "cell_type": "code",
   "execution_count": null,
   "metadata": {},
   "outputs": [],
   "source": []
  }
 ],
 "metadata": {
  "kernelspec": {
   "display_name": "Python 3 (ipykernel)",
   "language": "python",
   "name": "python3"
  },
  "language_info": {
   "codemirror_mode": {
    "name": "ipython",
    "version": 3
   },
   "file_extension": ".py",
   "mimetype": "text/x-python",
   "name": "python",
   "nbconvert_exporter": "python",
   "pygments_lexer": "ipython3",
   "version": "3.10.9"
  },
  "toc": {
   "base_numbering": 1,
   "nav_menu": {},
   "number_sections": false,
   "sideBar": false,
   "skip_h1_title": false,
   "title_cell": "Table of Contents",
   "title_sidebar": "Contents",
   "toc_cell": false,
   "toc_position": {},
   "toc_section_display": true,
   "toc_window_display": false
  },
  "varInspector": {
   "cols": {
    "lenName": 16,
    "lenType": 16,
    "lenVar": 40
   },
   "kernels_config": {
    "python": {
     "delete_cmd_postfix": "",
     "delete_cmd_prefix": "del ",
     "library": "var_list.py",
     "varRefreshCmd": "print(var_dic_list())"
    },
    "r": {
     "delete_cmd_postfix": ") ",
     "delete_cmd_prefix": "rm(",
     "library": "var_list.r",
     "varRefreshCmd": "cat(var_dic_list()) "
    }
   },
   "types_to_exclude": [
    "module",
    "function",
    "builtin_function_or_method",
    "instance",
    "_Feature"
   ],
   "window_display": false
  }
 },
 "nbformat": 4,
 "nbformat_minor": 2
}
