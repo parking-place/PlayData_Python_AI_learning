{
 "cells": [
  {
   "cell_type": "markdown",
   "metadata": {},
   "source": [
    "# [Selenium](https://www.selenium.dev/)\n",
    "\n",
    "- **웹 브라우저 제어 도구**\n",
    "    - 원래는 웹 어플리케이션 자동 테스트를 위한 목적으로 만들어진 프레임워크.\n",
    "    - 웹브라우저를 프로그램을 이용해 제어할 수 있다.\n",
    "- **requests 모듈의 한계**   \n",
    "    - Javascript를 이용한 AJAX 기법의 비동기적 요청 처리 페이지 크롤링이 힘들다.\n",
    "    - 로그인 후 요청이 가능한 페이지들에 대한 크롤링이 번거롭다.\n",
    "    - Selenium을 활용하면 이 두가지 모두 쉽게 처리할 수 있다.\n",
    "    \n",
    "- **Selenium 단점** \n",
    "    - 속도가 느림\n",
    "- **설치**\n",
    "    - `conda install selenium`\n",
    "    - `pip install selenium`\n",
    "- [튜토리얼](https://selenium-python.readthedocs.io/)\n",
    "> - 주의: selenium은 3에서 4버전으로 업그레이드 되면서 드라이버 설정과 element 조회 메서드등이 많이 바뀜."
   ]
  },
  {
   "cell_type": "code",
   "execution_count": 1,
   "metadata": {},
   "outputs": [
    {
     "name": "stdout",
     "output_type": "stream",
     "text": [
      "Collecting selenium\n",
      "  Downloading selenium-4.8.3-py3-none-any.whl (6.5 MB)\n",
      "     ---------------------------------------- 6.5/6.5 MB 34.7 MB/s eta 0:00:00\n",
      "Requirement already satisfied: certifi>=2021.10.8 in c:\\users\\hyenz\\anaconda3\\lib\\site-packages (from selenium) (2022.12.7)\n",
      "Collecting trio-websocket~=0.9\n",
      "  Downloading trio_websocket-0.10.2-py3-none-any.whl (17 kB)\n",
      "Requirement already satisfied: urllib3[socks]~=1.26 in c:\\users\\hyenz\\anaconda3\\lib\\site-packages (from selenium) (1.26.14)\n",
      "Collecting trio~=0.17\n",
      "  Downloading trio-0.22.0-py3-none-any.whl (384 kB)\n",
      "     ------------------------------------- 384.9/384.9 kB 25.0 MB/s eta 0:00:00\n",
      "Requirement already satisfied: attrs>=19.2.0 in c:\\users\\hyenz\\anaconda3\\lib\\site-packages (from trio~=0.17->selenium) (22.1.0)\n",
      "Requirement already satisfied: sortedcontainers in c:\\users\\hyenz\\anaconda3\\lib\\site-packages (from trio~=0.17->selenium) (2.4.0)\n",
      "Collecting outcome\n",
      "  Downloading outcome-1.2.0-py2.py3-none-any.whl (9.7 kB)\n",
      "Requirement already satisfied: sniffio in c:\\users\\hyenz\\anaconda3\\lib\\site-packages (from trio~=0.17->selenium) (1.2.0)\n",
      "Collecting exceptiongroup>=1.0.0rc9\n",
      "  Downloading exceptiongroup-1.1.1-py3-none-any.whl (14 kB)\n",
      "Collecting async-generator>=1.9\n",
      "  Downloading async_generator-1.10-py3-none-any.whl (18 kB)\n",
      "Requirement already satisfied: cffi>=1.14 in c:\\users\\hyenz\\anaconda3\\lib\\site-packages (from trio~=0.17->selenium) (1.15.1)\n",
      "Requirement already satisfied: idna in c:\\users\\hyenz\\anaconda3\\lib\\site-packages (from trio~=0.17->selenium) (3.4)\n",
      "Collecting wsproto>=0.14\n",
      "  Downloading wsproto-1.2.0-py3-none-any.whl (24 kB)\n",
      "Requirement already satisfied: PySocks!=1.5.7,<2.0,>=1.5.6 in c:\\users\\hyenz\\anaconda3\\lib\\site-packages (from urllib3[socks]~=1.26->selenium) (1.7.1)\n",
      "Requirement already satisfied: pycparser in c:\\users\\hyenz\\anaconda3\\lib\\site-packages (from cffi>=1.14->trio~=0.17->selenium) (2.21)\n",
      "Collecting h11<1,>=0.9.0\n",
      "  Downloading h11-0.14.0-py3-none-any.whl (58 kB)\n",
      "     ---------------------------------------- 58.3/58.3 kB ? eta 0:00:00\n",
      "Installing collected packages: outcome, h11, exceptiongroup, async-generator, wsproto, trio, trio-websocket, selenium\n",
      "Successfully installed async-generator-1.10 exceptiongroup-1.1.1 h11-0.14.0 outcome-1.2.0 selenium-4.8.3 trio-0.22.0 trio-websocket-0.10.2 wsproto-1.2.0\n"
     ]
    }
   ],
   "source": [
    "!pip install selenium"
   ]
  },
  {
   "cell_type": "code",
   "execution_count": 2,
   "metadata": {},
   "outputs": [
    {
     "name": "stdout",
     "output_type": "stream",
     "text": [
      "Collecting webdriver-manager\n",
      "  Downloading webdriver_manager-3.8.6-py2.py3-none-any.whl (27 kB)\n",
      "Requirement already satisfied: tqdm in c:\\users\\hyenz\\anaconda3\\lib\\site-packages (from webdriver-manager) (4.64.1)\n",
      "Requirement already satisfied: packaging in c:\\users\\hyenz\\anaconda3\\lib\\site-packages (from webdriver-manager) (22.0)\n",
      "Requirement already satisfied: requests in c:\\users\\hyenz\\anaconda3\\lib\\site-packages (from webdriver-manager) (2.28.1)\n",
      "Collecting python-dotenv\n",
      "  Downloading python_dotenv-1.0.0-py3-none-any.whl (19 kB)\n",
      "Requirement already satisfied: charset-normalizer<3,>=2 in c:\\users\\hyenz\\anaconda3\\lib\\site-packages (from requests->webdriver-manager) (2.0.4)\n",
      "Requirement already satisfied: idna<4,>=2.5 in c:\\users\\hyenz\\anaconda3\\lib\\site-packages (from requests->webdriver-manager) (3.4)\n",
      "Requirement already satisfied: certifi>=2017.4.17 in c:\\users\\hyenz\\anaconda3\\lib\\site-packages (from requests->webdriver-manager) (2022.12.7)\n",
      "Requirement already satisfied: urllib3<1.27,>=1.21.1 in c:\\users\\hyenz\\anaconda3\\lib\\site-packages (from requests->webdriver-manager) (1.26.14)\n",
      "Requirement already satisfied: colorama in c:\\users\\hyenz\\anaconda3\\lib\\site-packages (from tqdm->webdriver-manager) (0.4.6)\n",
      "Installing collected packages: python-dotenv, webdriver-manager\n",
      "Successfully installed python-dotenv-1.0.0 webdriver-manager-3.8.6\n"
     ]
    }
   ],
   "source": [
    "!pip install webdriver-manager"
   ]
  },
  {
   "cell_type": "code",
   "execution_count": 3,
   "metadata": {},
   "outputs": [],
   "source": [
    "import selenium\n",
    "from selenium.webdriver.edge.service import Service\n",
    "from selenium import webdriver"
   ]
  },
  {
   "cell_type": "code",
   "execution_count": 9,
   "metadata": {},
   "outputs": [],
   "source": [
    "service = Service('./browserdriver/msedgedriver112_64.exe')\n",
    "browser = webdriver.Edge(service=service)"
   ]
  },
  {
   "cell_type": "code",
   "execution_count": 10,
   "metadata": {},
   "outputs": [],
   "source": [
    "browser.get('https://www.naver.com')"
   ]
  },
  {
   "cell_type": "code",
   "execution_count": 11,
   "metadata": {},
   "outputs": [],
   "source": [
    "browser.maximize_window()"
   ]
  },
  {
   "cell_type": "code",
   "execution_count": 12,
   "metadata": {},
   "outputs": [
    {
     "data": {
      "text/plain": [
       "{'width': 1973, 'height': 1434}"
      ]
     },
     "execution_count": 12,
     "metadata": {},
     "output_type": "execute_result"
    }
   ],
   "source": [
    "browser.get_window_size()"
   ]
  },
  {
   "cell_type": "code",
   "execution_count": 13,
   "metadata": {},
   "outputs": [],
   "source": [
    "browser.execute_script('alert(\"Hello World\")')"
   ]
  },
  {
   "cell_type": "code",
   "execution_count": 14,
   "metadata": {},
   "outputs": [],
   "source": [
    "alert = browser.switch_to.alert\n",
    "alert.accept()"
   ]
  },
  {
   "cell_type": "code",
   "execution_count": 15,
   "metadata": {},
   "outputs": [],
   "source": [
    "from selenium.webdriver.common.by import By\n",
    "browser.find_element(By.ID, 'query').send_keys('파이썬')"
   ]
  },
  {
   "cell_type": "code",
   "execution_count": 16,
   "metadata": {},
   "outputs": [
    {
     "ename": "NoSuchElementException",
     "evalue": "Message: no such element: Unable to locate element: {\"method\":\"css selector\",\"selector\":\"[id=\"serch_btn\"]\"}\n  (Session info: MicrosoftEdge=112.0.1722.48)\nStacktrace:\nBacktrace:\n\tGetHandleVerifier [0x00007FF73829DF92+60274]\n\tMicrosoft::Applications::Events::EventProperty::~EventProperty [0x00007FF73822EBF2+818946]\n\t(No symbol) [0x00007FF737EBDFAE]\n\t(No symbol) [0x00007FF737EFFAA1]\n\t(No symbol) [0x00007FF737EFFC28]\n\t(No symbol) [0x00007FF737F3B687]\n\t(No symbol) [0x00007FF737F1F5AF]\n\t(No symbol) [0x00007FF737EF2751]\n\t(No symbol) [0x00007FF737F3891C]\n\t(No symbol) [0x00007FF737F1F343]\n\t(No symbol) [0x00007FF737EF1796]\n\t(No symbol) [0x00007FF737EF0975]\n\t(No symbol) [0x00007FF737EF1F04]\n\tMicrosoft::Applications::Events::EventProperties::SetLevel [0x00007FF7381327D7+1593703]\n\tMicrosoft::Applications::Events::EventProperties::SetLevel [0x00007FF737FDAC5D+185837]\n\tMicrosoft::Applications::Events::EventProperty::~EventProperty [0x00007FF73816FD47+36951]\n\tMicrosoft::Applications::Events::EventProperty::~EventProperty [0x00007FF738167E55+4453]\n\tMicrosoft::Applications::Events::ILogManager::DispatchEventBroadcast [0x00007FF73846FDB3+1319011]\n\tMicrosoft::Applications::Events::EventProperty::~EventProperty [0x00007FF738236CAC+851900]\n\tMicrosoft::Applications::Events::EventProperty::~EventProperty [0x00007FF738232D14+835620]\n\tMicrosoft::Applications::Events::EventProperty::~EventProperty [0x00007FF738232E6C+835964]\n\tMicrosoft::Applications::Events::EventProperty::~EventProperty [0x00007FF738228A41+793937]\n\tBaseThreadInitThunk [0x00007FF8A4093DB1+33]\n\tRtlUserThreadStart [0x00007FF8A58F32A1+33]\n",
     "output_type": "error",
     "traceback": [
      "\u001b[1;31m---------------------------------------------------------------------------\u001b[0m",
      "\u001b[1;31mNoSuchElementException\u001b[0m                    Traceback (most recent call last)",
      "Cell \u001b[1;32mIn[16], line 1\u001b[0m\n\u001b[1;32m----> 1\u001b[0m browser\u001b[39m.\u001b[39;49mfind_element(By\u001b[39m.\u001b[39;49mID, \u001b[39m'\u001b[39;49m\u001b[39mserch_btn\u001b[39;49m\u001b[39m'\u001b[39;49m)\u001b[39m.\u001b[39mclick()\n",
      "File \u001b[1;32mc:\\Users\\hyenz\\anaconda3\\lib\\site-packages\\selenium\\webdriver\\remote\\webdriver.py:831\u001b[0m, in \u001b[0;36mWebDriver.find_element\u001b[1;34m(self, by, value)\u001b[0m\n\u001b[0;32m    828\u001b[0m     by \u001b[39m=\u001b[39m By\u001b[39m.\u001b[39mCSS_SELECTOR\n\u001b[0;32m    829\u001b[0m     value \u001b[39m=\u001b[39m \u001b[39mf\u001b[39m\u001b[39m'\u001b[39m\u001b[39m[name=\u001b[39m\u001b[39m\"\u001b[39m\u001b[39m{\u001b[39;00mvalue\u001b[39m}\u001b[39;00m\u001b[39m\"\u001b[39m\u001b[39m]\u001b[39m\u001b[39m'\u001b[39m\n\u001b[1;32m--> 831\u001b[0m \u001b[39mreturn\u001b[39;00m \u001b[39mself\u001b[39;49m\u001b[39m.\u001b[39;49mexecute(Command\u001b[39m.\u001b[39;49mFIND_ELEMENT, {\u001b[39m\"\u001b[39;49m\u001b[39musing\u001b[39;49m\u001b[39m\"\u001b[39;49m: by, \u001b[39m\"\u001b[39;49m\u001b[39mvalue\u001b[39;49m\u001b[39m\"\u001b[39;49m: value})[\u001b[39m\"\u001b[39m\u001b[39mvalue\u001b[39m\u001b[39m\"\u001b[39m]\n",
      "File \u001b[1;32mc:\\Users\\hyenz\\anaconda3\\lib\\site-packages\\selenium\\webdriver\\remote\\webdriver.py:440\u001b[0m, in \u001b[0;36mWebDriver.execute\u001b[1;34m(self, driver_command, params)\u001b[0m\n\u001b[0;32m    438\u001b[0m response \u001b[39m=\u001b[39m \u001b[39mself\u001b[39m\u001b[39m.\u001b[39mcommand_executor\u001b[39m.\u001b[39mexecute(driver_command, params)\n\u001b[0;32m    439\u001b[0m \u001b[39mif\u001b[39;00m response:\n\u001b[1;32m--> 440\u001b[0m     \u001b[39mself\u001b[39;49m\u001b[39m.\u001b[39;49merror_handler\u001b[39m.\u001b[39;49mcheck_response(response)\n\u001b[0;32m    441\u001b[0m     response[\u001b[39m\"\u001b[39m\u001b[39mvalue\u001b[39m\u001b[39m\"\u001b[39m] \u001b[39m=\u001b[39m \u001b[39mself\u001b[39m\u001b[39m.\u001b[39m_unwrap_value(response\u001b[39m.\u001b[39mget(\u001b[39m\"\u001b[39m\u001b[39mvalue\u001b[39m\u001b[39m\"\u001b[39m, \u001b[39mNone\u001b[39;00m))\n\u001b[0;32m    442\u001b[0m     \u001b[39mreturn\u001b[39;00m response\n",
      "File \u001b[1;32mc:\\Users\\hyenz\\anaconda3\\lib\\site-packages\\selenium\\webdriver\\remote\\errorhandler.py:245\u001b[0m, in \u001b[0;36mErrorHandler.check_response\u001b[1;34m(self, response)\u001b[0m\n\u001b[0;32m    243\u001b[0m         alert_text \u001b[39m=\u001b[39m value[\u001b[39m\"\u001b[39m\u001b[39malert\u001b[39m\u001b[39m\"\u001b[39m]\u001b[39m.\u001b[39mget(\u001b[39m\"\u001b[39m\u001b[39mtext\u001b[39m\u001b[39m\"\u001b[39m)\n\u001b[0;32m    244\u001b[0m     \u001b[39mraise\u001b[39;00m exception_class(message, screen, stacktrace, alert_text)  \u001b[39m# type: ignore[call-arg]  # mypy is not smart enough here\u001b[39;00m\n\u001b[1;32m--> 245\u001b[0m \u001b[39mraise\u001b[39;00m exception_class(message, screen, stacktrace)\n",
      "\u001b[1;31mNoSuchElementException\u001b[0m: Message: no such element: Unable to locate element: {\"method\":\"css selector\",\"selector\":\"[id=\"serch_btn\"]\"}\n  (Session info: MicrosoftEdge=112.0.1722.48)\nStacktrace:\nBacktrace:\n\tGetHandleVerifier [0x00007FF73829DF92+60274]\n\tMicrosoft::Applications::Events::EventProperty::~EventProperty [0x00007FF73822EBF2+818946]\n\t(No symbol) [0x00007FF737EBDFAE]\n\t(No symbol) [0x00007FF737EFFAA1]\n\t(No symbol) [0x00007FF737EFFC28]\n\t(No symbol) [0x00007FF737F3B687]\n\t(No symbol) [0x00007FF737F1F5AF]\n\t(No symbol) [0x00007FF737EF2751]\n\t(No symbol) [0x00007FF737F3891C]\n\t(No symbol) [0x00007FF737F1F343]\n\t(No symbol) [0x00007FF737EF1796]\n\t(No symbol) [0x00007FF737EF0975]\n\t(No symbol) [0x00007FF737EF1F04]\n\tMicrosoft::Applications::Events::EventProperties::SetLevel [0x00007FF7381327D7+1593703]\n\tMicrosoft::Applications::Events::EventProperties::SetLevel [0x00007FF737FDAC5D+185837]\n\tMicrosoft::Applications::Events::EventProperty::~EventProperty [0x00007FF73816FD47+36951]\n\tMicrosoft::Applications::Events::EventProperty::~EventProperty [0x00007FF738167E55+4453]\n\tMicrosoft::Applications::Events::ILogManager::DispatchEventBroadcast [0x00007FF73846FDB3+1319011]\n\tMicrosoft::Applications::Events::EventProperty::~EventProperty [0x00007FF738236CAC+851900]\n\tMicrosoft::Applications::Events::EventProperty::~EventProperty [0x00007FF738232D14+835620]\n\tMicrosoft::Applications::Events::EventProperty::~EventProperty [0x00007FF738232E6C+835964]\n\tMicrosoft::Applications::Events::EventProperty::~EventProperty [0x00007FF738228A41+793937]\n\tBaseThreadInitThunk [0x00007FF8A4093DB1+33]\n\tRtlUserThreadStart [0x00007FF8A58F32A1+33]\n"
     ]
    }
   ],
   "source": [
    "browser.find_element(By.ID, 'serch_btn').click()"
   ]
  },
  {
   "cell_type": "markdown",
   "metadata": {},
   "source": [
    "# Driver\n",
    "\n",
    "- Driver \n",
    "    - 웹브라우저를 제어하는 프로그램으로 웹 브라우저별로 제공된다.\n",
    "    - Selenium 패키지의 Driver객체를 이용해 제어하게 된다.\n",
    "    \n",
    "## 설치\n",
    "1. **DriverManager 이용**\n",
    "    - `pip install webdriver-manager` "
   ]
  },
  {
   "cell_type": "markdown",
   "metadata": {},
   "source": [
    "2. **Hard coding**\n",
    "    1. 브라우져별로 드라이버를 다운로드 받는다.\n",
    "        - https://www.selenium.dev/documentation/webdriver/getting_started/install_drivers/#quick-reference\n",
    "    2. Local 컴퓨터에 설치된 크롬브라우져 버전에 맞는 드라이버 선택\n"
   ]
  },
  {
   "cell_type": "markdown",
   "metadata": {},
   "source": [
    "### DriverManager를 이용해 WebDriver 생성"
   ]
  },
  {
   "cell_type": "code",
   "execution_count": 13,
   "metadata": {},
   "outputs": [],
   "source": [
    "import selenium\n",
    "from selenium.webdriver.edge.service import Service\n",
    "from selenium import webdriver\n",
    "from selenium.webdriver.common.by import By"
   ]
  },
  {
   "cell_type": "markdown",
   "metadata": {},
   "source": [
    "### 다운 받은 Driver이용해 WebDriver생성"
   ]
  },
  {
   "cell_type": "code",
   "execution_count": 3,
   "metadata": {},
   "outputs": [],
   "source": [
    "service = Service('./browserdriver/msedgedriver112_64.exe')\n",
    "browser = webdriver.Edge(service=service)"
   ]
  },
  {
   "cell_type": "markdown",
   "metadata": {
    "heading_collapsed": true
   },
   "source": [
    "## WebDriver 주요 속성/메소드\n",
    "\n",
    "- **page_source** : 현재 페이지의 html 소스를 반환\n",
    "    - page_source로 html을 받아서 BeautifulSoup으로 크롤링할 원소를 찾을 수 있다.\n",
    "- **get_screenshot_as_file(파일경로)**\n",
    "    - 현재 웹브라우저 화면을 지정한 캡처해서 지정한 파일 경로에 저장한다.\n",
    "- **set_window_size(width, height)**\n",
    "    - 웹브라우저 윈도우 크기 조정\n",
    "- **maximize_window()**\n",
    "    - 웹브라우저 화면 최대 크기로 만들기.\n",
    "- **get_window_size()**\n",
    "    - 웹브라우저 윈도우 크기 조회. (width, height)\n",
    "- **execute_script(\"자바스크립트코드\")**\n",
    "    - 문자열로 전달한 **javascript 코드**를 실행시킨다.\n",
    "- **quit()**, **close()**\n",
    "    - 웹브라우저를 종료한다.\n",
    "    "
   ]
  },
  {
   "cell_type": "code",
   "execution_count": 4,
   "metadata": {},
   "outputs": [],
   "source": [
    "browser.get('https://www.naver.com')"
   ]
  },
  {
   "cell_type": "code",
   "execution_count": 5,
   "metadata": {},
   "outputs": [
    {
     "data": {
      "text/plain": [
       "True"
      ]
     },
     "execution_count": 5,
     "metadata": {},
     "output_type": "execute_result"
    }
   ],
   "source": [
    "browser.get_screenshot_as_file('./testfiles/screenshots/001.png')"
   ]
  },
  {
   "cell_type": "code",
   "execution_count": 6,
   "metadata": {},
   "outputs": [
    {
     "data": {
      "text/plain": [
       "{'width': 1018, 'height': 1225}"
      ]
     },
     "execution_count": 6,
     "metadata": {},
     "output_type": "execute_result"
    }
   ],
   "source": [
    "browser.get_window_size()"
   ]
  },
  {
   "cell_type": "code",
   "execution_count": 9,
   "metadata": {},
   "outputs": [],
   "source": [
    "browser.set_window_size(1920, 1080)"
   ]
  },
  {
   "cell_type": "code",
   "execution_count": 8,
   "metadata": {},
   "outputs": [],
   "source": [
    "browser.minimize_window()"
   ]
  },
  {
   "cell_type": "code",
   "execution_count": 10,
   "metadata": {},
   "outputs": [],
   "source": [
    "browser.close()"
   ]
  },
  {
   "cell_type": "markdown",
   "metadata": {
    "heading_collapsed": true
   },
   "source": [
    "## Page의 Element 조회 메소드\n",
    "- BeautifulSoup을 이용하지 않고 셀레늄 자체 parser를 이용할 수 있다.\n",
    "- **find_element()**: 조건을 만족하는 첫번째 요소를 반환한다.\n",
    "    - 매개변수\n",
    "        - **by**: 검색방식\n",
    "            - **By.ID**\n",
    "            - **By.CLASS_NAME**\n",
    "            - **By.TAG_NAME**\n",
    "            - **By.CSS_SELECTOR**\n",
    "            - **By.XPATH**\n",
    "            - **By.LINK_TEXT**\n",
    "            - **By.PARTIAL_LINK_TEXT**\n",
    "        - **value**: str - 검색조건\n",
    "    - 반환타입: **WebElement**\n",
    "- **find_elements()**: 조건을 만족하는 모든 요소를 찾는다.\n",
    "    - 매개변수: find_element()와 동일\n",
    "    - 반환타입\n",
    "        - **list of WebElement**       "
   ]
  },
  {
   "cell_type": "code",
   "execution_count": 23,
   "metadata": {},
   "outputs": [],
   "source": [
    "service = Service('./browserdriver/msedgedriver112_64.exe')\n",
    "browser = webdriver.Edge(service=service)\n",
    "browser.set_window_position(534, 1416)\n",
    "browser.get('https://www.naver.com')"
   ]
  },
  {
   "cell_type": "code",
   "execution_count": 14,
   "metadata": {},
   "outputs": [],
   "source": [
    "browser.find_element(By.ID, 'query').send_keys('파이썬')"
   ]
  },
  {
   "cell_type": "code",
   "execution_count": 15,
   "metadata": {},
   "outputs": [],
   "source": [
    "browser.find_element(By.ID, 'search_btn').click()"
   ]
  },
  {
   "cell_type": "code",
   "execution_count": 16,
   "metadata": {},
   "outputs": [],
   "source": [
    "browser.close()"
   ]
  },
  {
   "cell_type": "code",
   "execution_count": 21,
   "metadata": {},
   "outputs": [
    {
     "data": {
      "text/plain": [
       "{'x': 534, 'y': 1416}"
      ]
     },
     "execution_count": 21,
     "metadata": {},
     "output_type": "execute_result"
    }
   ],
   "source": [
    "browser.get_window_position()"
   ]
  },
  {
   "cell_type": "markdown",
   "metadata": {
    "heading_collapsed": true
   },
   "source": [
    "### WebElement (조회결과) 메소드 / 속성\n",
    "- 메소드\n",
    "    - **get_attribute('속성명')**: 태그의 속성값 조회\n",
    "    - **send_keys(\"문자열\")**: 입력폼에 문자열 값을 입력.\n",
    "    - **click()**: element를 클릭\n",
    "    - **submit()**: element가 Form인 경우 폼 전송\n",
    "    - **clear()**: element가 입력폼인 경우 텍스트를 지운다.\n",
    "    - 위 조회 메소드들 : 하위의 elements들 조회\n",
    "- 속성\n",
    "    - **text**: 태그내의 텍스트\n",
    "    - **tag_name**: 태그이름 "
   ]
  },
  {
   "cell_type": "code",
   "execution_count": null,
   "metadata": {},
   "outputs": [],
   "source": []
  },
  {
   "cell_type": "code",
   "execution_count": null,
   "metadata": {},
   "outputs": [],
   "source": []
  },
  {
   "cell_type": "markdown",
   "metadata": {},
   "source": [
    "## TODO: 구글 검색\n",
    "1. https://www.google.co.kr 페이지로 이동\n",
    "2. 파이썬을 검색한다.\n",
    "3. 검색결과 title들을 출력한다."
   ]
  },
  {
   "cell_type": "code",
   "execution_count": null,
   "metadata": {},
   "outputs": [],
   "source": []
  },
  {
   "cell_type": "code",
   "execution_count": null,
   "metadata": {},
   "outputs": [],
   "source": []
  },
  {
   "cell_type": "markdown",
   "metadata": {},
   "source": [
    "## 브라우저의 headless 모드를 이용.\n",
    "- Headless 브라우저 \n",
    "    - 브라우저의 창을 띄우지 않고 실제 브라우저와 동일하게 동작하도록 하는 방식\n",
    "    - CLI 기반의 OS (리눅스 서버)를 지원하기 위한 브라우저\n",
    "    - 크롬은 버전 60부터 headless 모드 지원\n",
    "- selenium에서 headless 모드\n",
    "    - webdriver options에 headless 설정"
   ]
  },
  {
   "cell_type": "code",
   "execution_count": null,
   "metadata": {},
   "outputs": [],
   "source": []
  },
  {
   "cell_type": "markdown",
   "metadata": {
    "hidden": true
   },
   "source": [
    "# 대기 하기\n",
    "\n",
    "## Explicit Wait\n",
    "- 특정 조건/상황을 만족할 때 까지 대기\n",
    "- `WebDriverWait(driver, 초).until(expected_contition)` 구문 사용\n",
    "- expected_condition 함수\n",
    "     - selenium.webdriver.support.expected_conditions 모듈에 정의된 함수 사용.\n",
    "         - https://selenium-python.readthedocs.io/api.html#module-selenium.webdriver.support.expected_conditions\n",
    "     \n",
    "## Implicit Wait\n",
    "- 현재 페이지에 없는 element나 elememt들이 loading 되기를 설정한 시간만큼 기다린다. \n",
    "- 설정한 시간 이내에 elements가 loading되면 대기가 종료된다.\n",
    "- `implicit_wait(초)` 구문 사용\n",
    "- 한번 설정하면 설정된 WebDriver가 close될때 까지 그 설정이 유지된다.\n",
    "- https://selenium-python.readthedocs.io/waits.html\n",
    "\n",
    "### 예)\n",
    "```python\n",
    "driver.implicitly_wait(5) \n",
    "# 페이지 로딩(dom tree완성)될 때까지 최대 5초간 기다린다. (로딩이 되면 5초가 되지 않아도 대기를 끝낸다.)\n",
    "```\n",
    "<hr>\n",
    "\n",
    "```python\n",
    "from selenium.webdriver.support import expected_conditions as EC\n",
    "\n",
    "...\n",
    "\n",
    "try:\n",
    "    # element가 반환될 때 까지 최대 10초 기다린다.\n",
    "    element = WebDriverWait(driver, 10).until(\n",
    "        EC.presence_of_element_located((By.ID, \"myDynamicElement\"))\n",
    "    )\n",
    "finally:\n",
    "    driver.quit()\n",
    "```"
   ]
  },
  {
   "cell_type": "code",
   "execution_count": null,
   "metadata": {},
   "outputs": [],
   "source": []
  }
 ],
 "metadata": {
  "kernelspec": {
   "display_name": "Python 3 (ipykernel)",
   "language": "python",
   "name": "python3"
  },
  "language_info": {
   "codemirror_mode": {
    "name": "ipython",
    "version": 3
   },
   "file_extension": ".py",
   "mimetype": "text/x-python",
   "name": "python",
   "nbconvert_exporter": "python",
   "pygments_lexer": "ipython3",
   "version": "3.10.9"
  },
  "toc": {
   "base_numbering": 1,
   "nav_menu": {},
   "number_sections": false,
   "sideBar": false,
   "skip_h1_title": false,
   "title_cell": "Table of Contents",
   "title_sidebar": "Contents",
   "toc_cell": false,
   "toc_position": {},
   "toc_section_display": true,
   "toc_window_display": false
  },
  "varInspector": {
   "cols": {
    "lenName": 16,
    "lenType": 16,
    "lenVar": 40
   },
   "kernels_config": {
    "python": {
     "delete_cmd_postfix": "",
     "delete_cmd_prefix": "del ",
     "library": "var_list.py",
     "varRefreshCmd": "print(var_dic_list())"
    },
    "r": {
     "delete_cmd_postfix": ") ",
     "delete_cmd_prefix": "rm(",
     "library": "var_list.r",
     "varRefreshCmd": "cat(var_dic_list()) "
    }
   },
   "types_to_exclude": [
    "module",
    "function",
    "builtin_function_or_method",
    "instance",
    "_Feature"
   ],
   "window_display": false
  }
 },
 "nbformat": 4,
 "nbformat_minor": 2
}
