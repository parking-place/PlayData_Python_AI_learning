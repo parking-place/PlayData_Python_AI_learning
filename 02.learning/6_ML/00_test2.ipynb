{
 "cells": [
  {
   "cell_type": "code",
   "execution_count": 2,
   "metadata": {},
   "outputs": [],
   "source": [
    "import tensorflow as tf\n",
    "from tensorflow import keras\n",
    "import numpy as np\n",
    "import matplotlib.pyplot as plt"
   ]
  },
  {
   "cell_type": "code",
   "execution_count": 3,
   "metadata": {},
   "outputs": [],
   "source": [
    "# Load MNIST data\n",
    "(x_train, y_train), (x_test, y_test) = keras.datasets.mnist.load_data()\n"
   ]
  },
  {
   "cell_type": "code",
   "execution_count": 4,
   "metadata": {},
   "outputs": [],
   "source": [
    "# Normalize image data\n",
    "x_train = np.expand_dims(x_train, axis=-1)\n",
    "x_train = x_train / 255.0\n",
    "x_test = np.expand_dims(x_test, axis=-1)\n",
    "x_test = x_test / 255.0\n"
   ]
  },
  {
   "cell_type": "code",
   "execution_count": 5,
   "metadata": {},
   "outputs": [],
   "source": [
    "# Define model\n",
    "model = keras.Sequential([\n",
    "    keras.layers.Conv2D(32, kernel_size=(3, 3), activation='relu', input_shape=(28,28,1)),\n",
    "    keras.layers.MaxPooling2D(pool_size=(2, 2)),\n",
    "    keras.layers.Conv2D(64, kernel_size=(3, 3), activation='relu'),\n",
    "    keras.layers.Flatten(),\n",
    "    keras.layers.Dense(10, activation='softmax')\n",
    "])\n"
   ]
  },
  {
   "cell_type": "code",
   "execution_count": 6,
   "metadata": {},
   "outputs": [],
   "source": [
    "# Define model\n",
    "model = keras.Sequential([\n",
    "    keras.layers.Conv2D(32, kernel_size=(3, 3), activation='relu', input_shape=(28,28,1)),\n",
    "    keras.layers.MaxPooling2D(pool_size=(2, 2)),\n",
    "    keras.layers.Conv2D(64, kernel_size=(3, 3), activation='relu'),\n",
    "    keras.layers.Flatten(),\n",
    "    keras.layers.Dense(10, activation='softmax')\n",
    "])\n"
   ]
  },
  {
   "cell_type": "code",
   "execution_count": 7,
   "metadata": {},
   "outputs": [],
   "source": [
    "# Compile model\n",
    "model.compile(optimizer='adam',\n",
    "              loss='sparse_categorical_crossentropy',\n",
    "              metrics=['accuracy'])\n"
   ]
  },
  {
   "cell_type": "code",
   "execution_count": 8,
   "metadata": {},
   "outputs": [
    {
     "name": "stdout",
     "output_type": "stream",
     "text": [
      "Epoch 1/5\n",
      "1875/1875 [==============================] - 19s 10ms/step - loss: 0.1289 - accuracy: 0.9617 - val_loss: 0.0424 - val_accuracy: 0.9873\n",
      "Epoch 2/5\n",
      "1875/1875 [==============================] - 29s 16ms/step - loss: 0.0440 - accuracy: 0.9864 - val_loss: 0.0396 - val_accuracy: 0.9879\n",
      "Epoch 3/5\n",
      "1875/1875 [==============================] - 33s 18ms/step - loss: 0.0299 - accuracy: 0.9909 - val_loss: 0.0316 - val_accuracy: 0.9900\n",
      "Epoch 4/5\n",
      "1875/1875 [==============================] - 40s 21ms/step - loss: 0.0231 - accuracy: 0.9928 - val_loss: 0.0327 - val_accuracy: 0.9904\n",
      "Epoch 5/5\n",
      "1875/1875 [==============================] - 46s 24ms/step - loss: 0.0169 - accuracy: 0.9945 - val_loss: 0.0326 - val_accuracy: 0.9895\n"
     ]
    },
    {
     "data": {
      "text/plain": [
       "<keras.callbacks.History at 0x24f22ade980>"
      ]
     },
     "execution_count": 8,
     "metadata": {},
     "output_type": "execute_result"
    }
   ],
   "source": [
    "# Train model\n",
    "model.fit(x_train, y_train, epochs=5, validation_data=(x_test, y_test))\n"
   ]
  },
  {
   "cell_type": "code",
   "execution_count": 9,
   "metadata": {},
   "outputs": [],
   "source": [
    "# Define a function to predict image based on the input integer value\n",
    "def predict_image(num):\n",
    "    # Create a blank black image with 28x28 resolution\n",
    "    img = np.zeros((28,28))\n",
    "    # Set the pixel value of the image based on the input integer value\n",
    "    for i in range(0,28):\n",
    "        for j in range(0,28):\n",
    "            img[i][j] = num\n",
    "    # Reshape the image to 28x28x1 and normalize its pixel values\n",
    "    img = np.expand_dims(img, axis=-1)\n",
    "    img = img / 255.0\n",
    "    # Use the model to make a prediction on the input image\n",
    "    prediction = model.predict(np.array([img]))\n",
    "    # Return the predicted image\n",
    "    return prediction\n"
   ]
  },
  {
   "cell_type": "code",
   "execution_count": 22,
   "metadata": {},
   "outputs": [
    {
     "name": "stdout",
     "output_type": "stream",
     "text": [
      "1/1 [==============================] - 0s 17ms/step\n"
     ]
    }
   ],
   "source": [
    "# Test the function by passing integer value 5 to it\n",
    "predicted_image = predict_image(0)"
   ]
  },
  {
   "cell_type": "code",
   "execution_count": 23,
   "metadata": {},
   "outputs": [
    {
     "data": {
      "text/plain": [
       "(1, 10)"
      ]
     },
     "execution_count": 23,
     "metadata": {},
     "output_type": "execute_result"
    }
   ],
   "source": [
    "predicted_image.shape"
   ]
  },
  {
   "cell_type": "code",
   "execution_count": 24,
   "metadata": {},
   "outputs": [
    {
     "data": {
      "text/plain": [
       "array([[0.09841156, 0.10277198, 0.10362916, 0.10044613, 0.09791606,\n",
       "        0.09852493, 0.09758113, 0.1010052 , 0.10358678, 0.09612709]],\n",
       "      dtype=float32)"
      ]
     },
     "execution_count": 24,
     "metadata": {},
     "output_type": "execute_result"
    }
   ],
   "source": [
    "predicted_image"
   ]
  },
  {
   "cell_type": "code",
   "execution_count": 25,
   "metadata": {},
   "outputs": [
    {
     "data": {
      "text/plain": [
       "<matplotlib.image.AxesImage at 0x24f240bfb80>"
      ]
     },
     "execution_count": 25,
     "metadata": {},
     "output_type": "execute_result"
    },
    {
     "data": {
      "image/png": "[encoded data removed]",
      "text/plain": [
       "<Figure size 640x480 with 1 Axes>"
      ]
     },
     "metadata": {},
     "output_type": "display_data"
    }
   ],
   "source": [
    "# Display the predicted image\n",
    "plt.imshow(predicted_image, cmap=plt.cm.binary)"
   ]
  },
  {
   "cell_type": "code",
   "execution_count": null,
   "metadata": {},
   "outputs": [],
   "source": []
  },
  {
   "cell_type": "code",
   "execution_count": null,
   "metadata": {},
   "outputs": [],
   "source": []
  },
  {
   "cell_type": "code",
   "execution_count": null,
   "metadata": {},
   "outputs": [],
   "source": []
  },
  {
   "cell_type": "code",
   "execution_count": null,
   "metadata": {},
   "outputs": [],
   "source": [
    "import tensorflow as tf\n",
    "from tensorflow.keras.datasets import mnist\n",
    "from tensorflow.keras.layers import Dense, Input, Reshape, Flatten\n",
    "from tensorflow.keras.models import Model\n",
    "from tensorflow.keras.optimizers import Adam\n",
    "\n",
    "import numpy as np\n",
    "\n",
    "# MNIST 데이터 로드\n",
    "(x_train, _), (_, _) = mnist.load_data()\n",
    "x_train = (x_train - 127.5) / 127.5  # 데이터를 -1에서 1사이로 normalize\n",
    "x_train = np.expand_dims(x_train, axis=-1)  # 데이터를 4D로 변경\n",
    "\n",
    "# 생성기와 판별기를 위한 하이퍼파라미터 설정\n",
    "z_dim = 100\n",
    "img_rows, img_cols, channels = 28, 28, 1\n",
    "\n",
    "# 생성기 정의\n",
    "def build_generator():\n",
    "    model = tf.keras.Sequential()\n",
    "    model.add(Dense(256, input_dim=z_dim))\n",
    "    model.add(tf.keras.layers.LeakyReLU())\n",
    "    model.add(Dense(512))\n",
    "    model.add(tf.keras.layers.LeakyReLU())\n",
    "    model.add(Dense(784, activation='tanh'))\n",
    "    model.add(Reshape((img_rows, img_cols, channels)))\n",
    "    return model\n",
    "\n",
    "# 판별기 정의\n",
    "def build_discriminator():\n",
    "    model = tf.keras.Sequential()\n",
    "    model.add(Input(shape=(img_rows, img_cols, channels)))\n",
    "    model.add(Flatten())\n",
    "    model.add(Dense(512))\n",
    "    model.add(tf.keras.layers.LeakyReLU())\n",
    "    model.add(Dense(256))\n",
    "    model.add(tf.keras.layers.LeakyReLU())\n",
    "    model.add(Dense(1, activation='sigmoid'))\n",
    "    return model\n",
    "\n",
    "# GAN 모델을 정의하고 훈련시키는 함수\n",
    "def train_gan(generator, discriminator, epochs=1000, batch_size=256):\n",
    "    # GAN 정의\n",
    "    optimizer = Adam(learning_rate=0.0002, beta_1=0.5)\n",
    "    generator.trainable = True\n",
    "    discriminator.trainable = False\n",
    "\n",
    "    gan_input = Input(shape=(z_dim,))\n",
    "    gan_output = discriminator(generator(gan_input))\n",
    "    \n",
    "    gan = Model(gan_input, gan_output)\n",
    "    gan.compile(loss='binary_crossentropy', optimizer=optimizer)\n",
    "\n",
    "    # GAN 훈련\n",
    "    for epoch in range(epochs):\n",
    "        # 구분자 훈련\n",
    "        discriminator.trainable = True\n",
    "        indices = np.random.randint(0, x_train.shape[0], batch_size)\n",
    "        real_images = x_train[indices]\n",
    "        real_labels = np.ones((batch_size, 1))\n",
    "        d_loss_real = discriminator.train_on_batch(real_images, real_labels)\n",
    "        \n",
    "        noise = np.random.normal(0, 1, (batch_size, z_dim))\n",
    "        fake_images = generator.predict(noise)\n",
    "        fake_labels = np.zeros((batch_size, 1))\n",
    "        d_loss_fake = discriminator.train_on_batch(fake_images, fake_labels)\n",
    "        \n",
    "        d_loss = 0.5 * np.add(d_loss_real, d_loss_fake)\n",
    "\n",
    "        # 생성자 훈련\n",
    "        discriminator.trainable = False\n",
    "        noise = np.random.normal(0, 1, (batch_size, z_dim))\n",
    "        g_loss = gan.train_on_batch(noise, real_labels)\n",
    "\n",
    "        # 상태 출력\n",
    "        if epoch % 100 == 0:\n",
    "            print(f'epoch: {epoch}/{epochs}, d_loss: {d_loss}, g_loss: {g_loss}')\n",
    "\n",
    "# 실행\n",
    "generator = build_generator()\n",
    "discriminator = build_discriminator()\n",
    "discriminator.compile(loss='binary_crossentropy', optimizer=Adam(learning_rate=0.0002, beta_1=0.5))\n",
    "\n",
    "train_gan(generator, discriminator)\n"
   ]
  },
  {
   "cell_type": "code",
   "execution_count": null,
   "metadata": {},
   "outputs": [],
   "source": [
    "import matplotlib.pyplot as plt\n",
    "\n",
    "def generate_digit_image(digit):\n",
    "    noise = np.random.normal(0, 1, (1, z_dim))\n",
    "    conditioned_noise = np.hstack((noise, np.array(digit).reshape(1, -1)))\n",
    "    image = generator.predict(conditioned_noise)\n",
    "    image = (image * 127.5 + 127.5).astype(np.uint8).reshape(28, 28)\n",
    "    return image\n",
    "\n",
    "# 예시\n",
    "digit = 3\n",
    "generated_image = generate_digit_image(digit)\n",
    "plt.imshow(generated_image, cmap='gray')\n",
    "plt.show()\n"
   ]
  },
  {
   "cell_type": "code",
   "execution_count": null,
   "metadata": {},
   "outputs": [],
   "source": []
  },
  {
   "cell_type": "code",
   "execution_count": null,
   "metadata": {},
   "outputs": [],
   "source": []
  },
  {
   "cell_type": "code",
   "execution_count": null,
   "metadata": {},
   "outputs": [],
   "source": []
  },
  {
   "cell_type": "code",
   "execution_count": null,
   "metadata": {},
   "outputs": [],
   "source": []
  },
  {
   "cell_type": "code",
   "execution_count": null,
   "metadata": {},
   "outputs": [],
   "source": []
  },
  {
   "cell_type": "code",
   "execution_count": 29,
   "metadata": {},
   "outputs": [],
   "source": [
    "import numpy as np\n",
    "import tensorflow as tf\n",
    "from tensorflow.keras.datasets import mnist\n",
    "from tensorflow.keras.layers import Dense, Input, Reshape, Flatten, Concatenate\n",
    "from tensorflow.keras.models import Model\n",
    "from tensorflow.keras.optimizers import Adam"
   ]
  },
  {
   "cell_type": "code",
   "execution_count": 33,
   "metadata": {},
   "outputs": [],
   "source": [
    "# MNIST 데이터 로드\n",
    "(x_train, y_train), (_, _) = mnist.load_data()\n",
    "x_train = (x_train - 127.5) / 127.5  # 데이터를 -1에서 1사이로 normalize\n",
    "x_train = np.expand_dims(x_train, axis=-1)  # 데이터를 4D로 변경\n",
    "\n",
    "num_classes = 10\n",
    "\n",
    "# 라벨 정보를 원-핫 인코딩으로 변환\n",
    "y_train = tf.keras.utils.to_categorical(y_train, num_classes)\n",
    "\n",
    "# 생성기와 판별기를 위한 하이퍼파라미터 설정\n",
    "z_dim = 100\n",
    "img_rows, img_cols, channels = 28, 28, 1"
   ]
  },
  {
   "cell_type": "code",
   "execution_count": 30,
   "metadata": {},
   "outputs": [],
   "source": [
    "# 생성기 정의\n",
    "def build_generator():\n",
    "    # 노이즈 입력\n",
    "    noise_input = Input(shape=(z_dim,))\n",
    "    dense_noise = Dense(128, activation='relu')(noise_input)\n",
    "    \n",
    "    # 라벨 정보 입력\n",
    "    label_input = Input(shape=(num_classes,))\n",
    "    dense_label = Dense(128, activation='relu')(label_input)\n",
    "    \n",
    "    # 노이즈와 라벨 정보를 합침\n",
    "    concat = Concatenate()([dense_noise, dense_label])\n",
    "    \n",
    "    model = Dense(256, activation='relu')(concat)\n",
    "    model = Dense(512, activation='relu')(model)\n",
    "    model = Dense(784, activation='tanh')(model)\n",
    "    model = Reshape((img_rows, img_cols, channels))(model)\n",
    "    \n",
    "    return Model([noise_input, label_input], model)\n",
    "\n",
    "# 판별기 정의\n",
    "def build_discriminator():\n",
    "    # 이미지 입력\n",
    "    img_input = Input(shape=(img_rows, img_cols, channels))\n",
    "    flatten_img = Flatten()(img_input)\n",
    "    \n",
    "    # 라벨 정보 입력\n",
    "    label_input = Input(shape=(num_classes,))\n",
    "    dense_label = Dense(784)(label_input)\n",
    "    \n",
    "    # 이미지와 라벨 정보를 합침\n",
    "    concat = Concatenate()([flatten_img, dense_label])\n",
    "    \n",
    "    model = Dense(512, activation='relu')(concat)\n",
    "    model = Dense(256, activation='relu')(model)\n",
    "    model = Dense(1, activation='sigmoid')(model)\n",
    "    \n",
    "    return Model([img_input, label_input], model)\n",
    "\n",
    "# cGAN 모델 정의 및 훈련 함수\n",
    "def train_cgan(generator, discriminator, epochs=1000, batch_size=256):\n",
    "    # GAN 정의\n",
    "    optimizer = Adam(learning_rate=0.0002, beta_1=0.5)\n",
    "    generator.trainable = True\n",
    "    discriminator.trainable = False\n",
    "\n",
    "    noise_input = Input(shape=(z_dim,))\n",
    "    label_input = Input(shape=(num_classes,))\n",
    "    gan_output = discriminator([generator([noise_input, label_input]), label_input])\n",
    "    \n",
    "    gan = Model([noise_input, label_input], gan_output)\n",
    "    gan.compile(loss='binary_crossentropy', optimizer=optimizer)\n",
    "\n",
    "    # 훈련 시작\n",
    "    for epoch in range(epochs):\n",
    "        # 판별기 훈련\n",
    "        discriminator.trainable = True\n",
    "        indices = np.random.randint(0, x_train.shape[0], batch_size)\n",
    "        real_images = x_train[indices]\n",
    "        real_labels = y_train[indices]\n",
    "        real_targets = np.ones((batch_size, 1))\n",
    "\n",
    "        d_loss_real = discriminator.train_on_batch([real_images, real_labels], real_targets)\n",
    "        \n",
    "        noise = np.random.normal(0, 1, (batch_size, z_dim))\n",
    "        random_labels = tf.keras.utils.to_categorical(np.random.randint(0, num_classes, batch_size), num_classes)\n",
    "        fake_images = generator.predict([noise, random_labels])\n",
    "        fake_targets = np.zeros((batch_size, 1))\n",
    "        \n",
    "        d_loss_fake = discriminator.train_on_batch([fake_images, random_labels], fake_targets)\n",
    "        \n",
    "        d_loss = 0.5 * np.add(d_loss_real, d_loss_fake)\n",
    "\n",
    "        # 생성자 훈련\n",
    "        discriminator.trainable = False\n",
    "        noise = np.random.normal(0, 1, (batch_size, z_dim))\n",
    "        random_labels = tf.keras.utils.to_categorical(np.random.randint(0, num_classes, batch_size), num_classes)\n",
    "        real_targets = np.ones((batch_size, 1))\n",
    "        \n",
    "        g_loss = gan.train_on_batch([noise, random_labels], real_targets)\n",
    "\n",
    "        # 진행 상황 출력\n",
    "        if epoch % 100 == 0:\n",
    "            print(f'epoch: {epoch}/{epochs}, d_loss: {d_loss}, g_loss: {g_loss}')\n"
   ]
  },
  {
   "cell_type": "code",
   "execution_count": null,
   "metadata": {},
   "outputs": [],
   "source": [
    "# 실행\n",
    "generator = build_generator()\n",
    "discriminator = build_discriminator()\n",
    "discriminator.compile(loss='binary_crossentropy', optimizer=Adam(learning_rate=0.0002, beta_1=0.5))\n",
    "\n",
    "train_cgan(generator, discriminator)"
   ]
  },
  {
   "cell_type": "code",
   "execution_count": 31,
   "metadata": {},
   "outputs": [],
   "source": [
    "import matplotlib.pyplot as plt\n",
    "\n",
    "def generate_digit_image(digit):\n",
    "    noise = np.random.normal(0, 1, (1, z_dim))\n",
    "    label = tf.keras.utils.to_categorical(digit, num_classes).reshape((1, num_classes))\n",
    "    generated_image = generator.predict([noise, label])\n",
    "    generated_image = (generated_image * 127.5 + 127.5).astype(np.uint8).reshape(28, 28)\n",
    "    return generated_image"
   ]
  },
  {
   "cell_type": "code",
   "execution_count": null,
   "metadata": {},
   "outputs": [],
   "source": [
    "# 예시\n",
    "digit = 2\n",
    "generated_image = generate_digit_image(digit)\n",
    "plt.imshow(generated_image, cmap='gray')\n",
    "plt.show()"
   ]
  },
  {
   "cell_type": "code",
   "execution_count": null,
   "metadata": {},
   "outputs": [],
   "source": [
    "# 훈련 완료된 모델 저장\n",
    "generator.save('cgan_generator.h5')"
   ]
  },
  {
   "cell_type": "code",
   "execution_count": 34,
   "metadata": {},
   "outputs": [
    {
     "name": "stdout",
     "output_type": "stream",
     "text": [
      "WARNING:tensorflow:No training configuration found in the save file, so the model was *not* compiled. Compile it manually.\n"
     ]
    }
   ],
   "source": [
    "# 모델 불러오기\n",
    "from tensorflow.keras.models import load_model\n",
    "generator = load_model(r'./data/cgan_generator.h5')"
   ]
  },
  {
   "cell_type": "code",
   "execution_count": 39,
   "metadata": {},
   "outputs": [
    {
     "name": "stdout",
     "output_type": "stream",
     "text": [
      "1/1 [==============================] - 0s 18ms/step\n"
     ]
    },
    {
     "data": {
      "text/plain": [
       "<matplotlib.image.AxesImage at 0x24f246f4760>"
      ]
     },
     "execution_count": 39,
     "metadata": {},
     "output_type": "execute_result"
    },
    {
     "data": {
      "image/png": "[encoded data removed]",
      "text/plain": [
       "<Figure size 640x480 with 1 Axes>"
      ]
     },
     "metadata": {},
     "output_type": "display_data"
    }
   ],
   "source": [
    "# 불러온 모델로 이미지 생성\n",
    "digit = 0\n",
    "generated_image = generate_digit_image(digit)\n",
    "plt.imshow(generated_image, cmap='gray')"
   ]
  },
  {
   "cell_type": "code",
   "execution_count": 44,
   "metadata": {},
   "outputs": [
    {
     "name": "stdout",
     "output_type": "stream",
     "text": [
      "1/1 [==============================] - 0s 17ms/step\n",
      "1/1 [==============================] - 0s 16ms/step\n",
      "1/1 [==============================] - 0s 22ms/step\n",
      "1/1 [==============================] - 0s 23ms/step\n",
      "1/1 [==============================] - 0s 15ms/step\n",
      "1/1 [==============================] - 0s 16ms/step\n",
      "1/1 [==============================] - 0s 15ms/step\n",
      "1/1 [==============================] - 0s 14ms/step\n",
      "1/1 [==============================] - 0s 16ms/step\n",
      "1/1 [==============================] - 0s 15ms/step\n"
     ]
    },
    {
     "data": {
      "image/png": "[encoded data removed]",
      "text/plain": [
       "<Figure size 1000x500 with 10 Axes>"
      ]
     },
     "metadata": {},
     "output_type": "display_data"
    }
   ],
   "source": [
    "digits = range(10)\n",
    "fig, axes = plt.subplots(2, 5, figsize=(10, 5))\n",
    "for d in digits:\n",
    "    axes[d // 5, d % 5].imshow(generate_digit_image(d), cmap='gray')\n",
    "    axes[d // 5, d % 5].axis('off')"
   ]
  },
  {
   "cell_type": "code",
   "execution_count": 45,
   "metadata": {},
   "outputs": [
    {
     "name": "stdout",
     "output_type": "stream",
     "text": [
      "1/1 [==============================] - 0s 33ms/step\n"
     ]
    },
    {
     "data": {
      "image/png": "[encoded data removed]",
      "text/plain": [
       "<Figure size 1000x1000 with 5 Axes>"
      ]
     },
     "metadata": {},
     "output_type": "display_data"
    }
   ],
   "source": [
    "import numpy as np\n",
    "import matplotlib.pyplot as plt\n",
    "\n",
    "def generate_digit_image(generator, digit, num_images=1):\n",
    "    z_dim = generator.input_shape[0][1]\n",
    "    num_classes = generator.input_shape[1][1]\n",
    "\n",
    "    if digit < 0 or digit >= num_classes:\n",
    "        print('Invalid digit.')\n",
    "        return\n",
    "\n",
    "    noise = np.random.normal(0, 1, (num_images, z_dim))\n",
    "    label_input = np.zeros((num_images, num_classes))\n",
    "    label_input[:, digit] = 1\n",
    "\n",
    "    generated_images = generator.predict([noise, label_input])\n",
    "    return generated_images\n",
    "\n",
    "def show_generated_images(images):\n",
    "    fig, axes = plt.subplots(1, len(images), figsize=(10, 10))\n",
    "\n",
    "    for i, img in enumerate(images):\n",
    "        axes[i].imshow((img * 0.5 + 0.5), cmap='gray')\n",
    "        axes[i].axis('off')\n",
    "\n",
    "    plt.show()\n",
    "\n",
    "# 특정 숫자 이미지 생성\n",
    "digit = 2  # 원하는 숫자\n",
    "num_images = 5  # 생성할 이미지 개수\n",
    "generated_images = generate_digit_image(generator, digit, num_images)\n",
    "\n",
    "# 생성된 이미지 표시\n",
    "show_generated_images(generated_images)\n"
   ]
  }
 ],
 "metadata": {
  "kernelspec": {
   "display_name": "ml",
   "language": "python",
   "name": "python3"
  },
  "language_info": {
   "codemirror_mode": {
    "name": "ipython",
    "version": 3
   },
   "file_extension": ".py",
   "mimetype": "text/x-python",
   "name": "python",
   "nbconvert_exporter": "python",
   "pygments_lexer": "ipython3",
   "version": "3.10.11"
  },
  "orig_nbformat": 4
 },
 "nbformat": 4,
 "nbformat_minor": 2
}
