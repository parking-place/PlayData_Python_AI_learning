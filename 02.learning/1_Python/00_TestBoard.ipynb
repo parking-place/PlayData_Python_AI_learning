{
 "cells": [
  {
   "cell_type": "code",
   "execution_count": 6,
   "metadata": {},
   "outputs": [],
   "source": [
    "# 소수 제너레이터 만들어봄"
   ]
  },
  {
   "cell_type": "code",
   "execution_count": 7,
   "metadata": {},
   "outputs": [
    {
     "name": "stdout",
     "output_type": "stream",
     "text": [
      "Overwriting .\\mypackage\\prime.py\n"
     ]
    }
   ],
   "source": [
    "%%writefile .\\mypackage\\prime.py\n",
    "\n",
    "# 소수 리스트\n",
    "prime_num = [2, 3, 5, 7]\n",
    "# 체크한 수의 최대값\n",
    "check_max = 4\n",
    "\n",
    "# 에라토스테네스의 체\n",
    "def eratosthenes_shecker(num : int, *, from_is_prime : bool = True) -> None:\n",
    "    \"\"\"\n",
    "    에라토스테네스의 체를 이용하여 소수 리스트를 만드는 함수\n",
    "    Args:\n",
    "        num (type[int]): 이 수의 제곱근보다 작은 모든 소수를 구함\n",
    "        \n",
    "        from_is_prime (bool, optional): num이 is_prime 함수에서 호출되었는지 확인. Defaults to True.\n",
    "    \"\"\"\n",
    "    global check_max\n",
    "    n_min = 2\n",
    "    \n",
    "    # 받은 값이 체 범위내에 있을 경우\n",
    "    if num <= prime_num[-1] :\n",
    "        return\n",
    "    \n",
    "    if from_is_prime :\n",
    "        # 모든 수는 자신의 제곱근보다 큰 소인수를 가지지 못함\n",
    "        n_max = int(num**0.5)+1\n",
    "    else :\n",
    "        # 어떤 수 보다 작은 소수를 구해두는 경우\n",
    "        n_max = num + 1\n",
    "\n",
    "    \n",
    "    if num > check_max :\n",
    "        # 소수 리스트에 이후 숫자들을 추가\n",
    "        ex_l = list(range(prime_num[-1]+1,n_max))\n",
    "        ex_l = [v for v in ex_l if (v % 2 != 0) and (v % 3 != 0)]\n",
    "        prime_num.extend(ex_l)\n",
    "        check_max = num\n",
    "    else :\n",
    "        return\n",
    "    \n",
    "    # print(prime_num)\n",
    "    \n",
    "    # '소수판별 체' 알고리즘\n",
    "    for i in prime_num:\n",
    "        for j in prime_num:\n",
    "            if i == j:\n",
    "                continue\n",
    "            if 0==(j%i):\n",
    "                prime_num.remove(j)\n",
    "    return\n",
    "\n",
    "# 소수 판별\n",
    "def is_prime(num : int) -> bool :\n",
    "    \"\"\"\n",
    "    소수 판별 함수\n",
    "    Args:\n",
    "        num (type[int]): 소수인지 확인 할 숫자\n",
    "\n",
    "    Returns:\n",
    "        bool: 소수이면 True, 아니면 False\n",
    "    \"\"\"\n",
    "    result = True\n",
    "    \n",
    "    # 소수 리스트에 있는지 먼저 확인\n",
    "    if num <= prime_num[-1] :\n",
    "        if num in prime_num :\n",
    "            return True\n",
    "        else :\n",
    "            return False\n",
    "\n",
    "    # 체크해본 수보다 num이 크면 에라토스테네스의 체를 이용하여 소수 리스트를 만듬\n",
    "    if num > check_max :\n",
    "        eratosthenes_shecker(num)\n",
    "    \n",
    "    # 소수 리스트중 나누어 떨어지는 수가 있으면 소수가 아님\n",
    "    for v in prime_num :\n",
    "        if num % v == 0 :\n",
    "            result = False\n",
    "            break\n",
    "    \n",
    "    return result\n",
    "        \n",
    "def prime_generator(start = 2 ,*, end = 0):\n",
    "    # start ~ end 사이의 소수를 생성하는 제너레이터 함수\n",
    "    # start를 생략하면 2부터 소수를 생성하는 제너레이터 함수\n",
    "    # end를 생략하면 start ~ 무한대 사이의 소수를 생성하는 제너레이터 함수\n",
    "    \n",
    "    i = start\n",
    "    while True:\n",
    "        if end != 0 and i > end:\n",
    "            break\n",
    "        \n",
    "        if is_prime(i):\n",
    "            yield i\n",
    "        \n",
    "        i += 1"
   ]
  },
  {
   "cell_type": "code",
   "execution_count": 9,
   "metadata": {},
   "outputs": [],
   "source": [
    "from mypackage import prime as p"
   ]
  },
  {
   "cell_type": "code",
   "execution_count": 13,
   "metadata": {},
   "outputs": [],
   "source": [
    "primes = p.prime_generator()"
   ]
  },
  {
   "cell_type": "code",
   "execution_count": 14,
   "metadata": {},
   "outputs": [
    {
     "name": "stdout",
     "output_type": "stream",
     "text": [
      "2\n",
      "3\n",
      "5\n",
      "7\n",
      "11\n"
     ]
    }
   ],
   "source": [
    "for i in range(5):\n",
    "    print(next(primes))"
   ]
  },
  {
   "cell_type": "code",
   "execution_count": 18,
   "metadata": {},
   "outputs": [],
   "source": [
    "primes = p.prime_generator(100, end = 200)"
   ]
  },
  {
   "cell_type": "code",
   "execution_count": 19,
   "metadata": {},
   "outputs": [
    {
     "name": "stdout",
     "output_type": "stream",
     "text": [
      "101 103 107 109 113 127 131 137 139 149 151 157 163 167 173 179 181 191 193 197 199\n"
     ]
    }
   ],
   "source": [
    "print(*primes)"
   ]
  },
  {
   "cell_type": "code",
   "execution_count": 20,
   "metadata": {},
   "outputs": [
    {
     "name": "stdout",
     "output_type": "stream",
     "text": [
      "101 103 107 109 113 127 131 137 139 149 151 157 163 167 173 179 181 191 193 197 199\n"
     ]
    }
   ],
   "source": [
    "print(*p.prime_generator(100, end = 200))"
   ]
  },
  {
   "cell_type": "code",
   "execution_count": 23,
   "metadata": {},
   "outputs": [
    {
     "data": {
      "text/plain": [
       "[2,\n",
       " 3,\n",
       " 5,\n",
       " 7,\n",
       " 11,\n",
       " 101,\n",
       " 131,\n",
       " 151,\n",
       " 181,\n",
       " 191,\n",
       " 313,\n",
       " 353,\n",
       " 373,\n",
       " 383,\n",
       " 727,\n",
       " 757,\n",
       " 787,\n",
       " 797,\n",
       " 919,\n",
       " 929]"
      ]
     },
     "execution_count": 23,
     "metadata": {},
     "output_type": "execute_result"
    }
   ],
   "source": [
    "[ v for v in p.prime_generator(2, end = 10000) if str(v) == str(v)[::-1] ]"
   ]
  },
  {
   "cell_type": "code",
   "execution_count": 25,
   "metadata": {},
   "outputs": [],
   "source": [
    "prime_gen = (v for v in p.prime_generator(2) if str(v) == str(v)[::-1] )"
   ]
  },
  {
   "cell_type": "code",
   "execution_count": 127,
   "metadata": {},
   "outputs": [
    {
     "data": {
      "text/plain": [
       "94649"
      ]
     },
     "execution_count": 127,
     "metadata": {},
     "output_type": "execute_result"
    }
   ],
   "source": [
    "next(prime_gen)"
   ]
  }
 ],
 "metadata": {
  "kernelspec": {
   "display_name": "base",
   "language": "python",
   "name": "python3"
  },
  "language_info": {
   "codemirror_mode": {
    "name": "ipython",
    "version": 3
   },
   "file_extension": ".py",
   "mimetype": "text/x-python",
   "name": "python",
   "nbconvert_exporter": "python",
   "pygments_lexer": "ipython3",
   "version": "3.10.9"
  },
  "orig_nbformat": 4
 },
 "nbformat": 4,
 "nbformat_minor": 2
}
