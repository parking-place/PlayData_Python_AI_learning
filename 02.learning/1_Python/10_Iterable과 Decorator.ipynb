{
 "cells": [
  {
   "cell_type": "markdown",
   "id": "562c702d",
   "metadata": {
    "slideshow": {
     "slide_type": "slide"
    }
   },
   "source": [
    "# Iterable과 Iterator\n",
    "\n",
    "- **Iterable**\n",
    "    - 여러개의 데이터를 하나씩 또는 한 단위씩 제공하는 객체.\n",
    "        - 다음 작업을 요청하면 값을 제공하며 for in 문에서 사용할 수 있다.\n",
    "    - Iterator객체를 반환하는 `__iter__()` 특수 메소드를 정의해야 한다.\n",
    "        - `__iter__()`는 `iter(Iterable)` 내장함수에 의해 호출된다. \n",
    "- **Iterator**\n",
    "    - 자신을 생성한 Iterable의 값들을 하나씩 또는 한 단위씩 제공하는 객체\n",
    "    - Iterable의 값을 제공하는 `__next__()` 특수 메소드를 정의한다.\n",
    "        - `__next__()` 는 `next(Iterator)` 내정함수에 의해 호출된다.\n",
    "        - 더 이상 제공할 값이 없을 경우 **StopIteration** Exception을 발생시켜야 한다."
   ]
  },
  {
   "cell_type": "code",
   "execution_count": null,
   "id": "c7d5c4b6",
   "metadata": {
    "slideshow": {
     "slide_type": "fragment"
    }
   },
   "outputs": [],
   "source": [
    "# 리스트, 튜플, 셋, 문자열, ... -> 이터럽블 타입."
   ]
  },
  {
   "cell_type": "code",
   "execution_count": 3,
   "id": "d66972c4",
   "metadata": {},
   "outputs": [
    {
     "name": "stdout",
     "output_type": "stream",
     "text": [
      "<class 'list_iterator'>\n"
     ]
    }
   ],
   "source": [
    "my_list = [1, 10, 100] # iterable -> iterator를 제공.\n",
    "# my_list_iterator = my_list.__iter__()\n",
    "my_list_iterator = iter(my_list) # 내장함수 iter()를 사용하여 iterator를 얻을 수 있다. (간접적으로 호출)\n",
    "print(type(my_list_iterator)) # <class 'list_iterator'>"
   ]
  },
  {
   "cell_type": "code",
   "execution_count": 4,
   "id": "20f722d0",
   "metadata": {},
   "outputs": [
    {
     "name": "stdout",
     "output_type": "stream",
     "text": [
      "1\n"
     ]
    }
   ],
   "source": [
    "v1 = next(my_list_iterator) # next() 내장함수를 사용하여 iterator에서 값을 하나씩 꺼낼 수 있다.\n",
    "print(v1) # 1"
   ]
  },
  {
   "cell_type": "code",
   "execution_count": 5,
   "id": "689f0a03",
   "metadata": {},
   "outputs": [
    {
     "name": "stdout",
     "output_type": "stream",
     "text": [
      "10\n"
     ]
    }
   ],
   "source": [
    "v1 = next(my_list_iterator)\n",
    "print(v1) # 10"
   ]
  },
  {
   "cell_type": "code",
   "execution_count": 6,
   "id": "f18ce5f0",
   "metadata": {},
   "outputs": [
    {
     "name": "stdout",
     "output_type": "stream",
     "text": [
      "100\n"
     ]
    }
   ],
   "source": [
    "v1 = next(my_list_iterator)\n",
    "print(v1) # 100"
   ]
  },
  {
   "cell_type": "code",
   "execution_count": 7,
   "id": "ede4b594",
   "metadata": {},
   "outputs": [
    {
     "ename": "StopIteration",
     "evalue": "",
     "output_type": "error",
     "traceback": [
      "\u001b[1;31m---------------------------------------------------------------------------\u001b[0m",
      "\u001b[1;31mStopIteration\u001b[0m                             Traceback (most recent call last)",
      "Cell \u001b[1;32mIn[7], line 1\u001b[0m\n\u001b[1;32m----> 1\u001b[0m v1 \u001b[39m=\u001b[39m \u001b[39mnext\u001b[39;49m(my_list_iterator)\n\u001b[0;32m      2\u001b[0m \u001b[39mprint\u001b[39m(v1)\n",
      "\u001b[1;31mStopIteration\u001b[0m: "
     ]
    }
   ],
   "source": [
    "v1 = next(my_list_iterator) # 더 이상 꺼낼 값이 없으면 StopIteration 예외가 발생한다.\n",
    "print(v1) # StopIteration 예외 발생"
   ]
  },
  {
   "cell_type": "code",
   "execution_count": 9,
   "id": "f018e944",
   "metadata": {},
   "outputs": [
    {
     "name": "stdout",
     "output_type": "stream",
     "text": [
      "1\n",
      "10\n",
      "100\n",
      "StopIteration 예외 발생\n"
     ]
    }
   ],
   "source": [
    "# iterrator 생성\n",
    "my_list_iterator = iter(my_list)\n",
    "# 반복 처리\n",
    "while True:\n",
    "    try:\n",
    "        v1 = next(my_list_iterator)\n",
    "        print(v1)\n",
    "    except StopIteration:\n",
    "        print('StopIteration 예외 발생')\n",
    "        break"
   ]
  },
  {
   "cell_type": "code",
   "execution_count": 12,
   "id": "11a13353",
   "metadata": {},
   "outputs": [],
   "source": [
    "class MyIterator:\n",
    "    \n",
    "    def __init__(self, values):\n",
    "        self.values = values\n",
    "        self.index = 0\n",
    "        \n",
    "    def __next__(self):\n",
    "        # 자기를 생성한 iterable 객체에서 값을 하나씩 꺼내서 반환한다.\n",
    "        # 더 이상 꺼낼 값이 없으면 StopIteration 예외를 발생시킨다.\n",
    "        try:\n",
    "            ret_value = self.values[self.index]\n",
    "            self.index += 1\n",
    "            return ret_value\n",
    "        except:\n",
    "            raise StopIteration(f'{self.index}은(는) 인덱스 범위를 벗어났습니다.')"
   ]
  },
  {
   "cell_type": "code",
   "execution_count": 13,
   "id": "2170a9e5",
   "metadata": {},
   "outputs": [],
   "source": [
    "class MyIterable:\n",
    "    \n",
    "    def __init__(self, *args):\n",
    "        # *args : 제공해줄 원소ㅗ들을 가변인자로 받는다.\n",
    "        self.values = args\n",
    "        \n",
    "    def __iter__(self):\n",
    "        # iterator를 생성하여 반환\n",
    "        return MyIterator(self.values)\n",
    "        "
   ]
  },
  {
   "cell_type": "markdown",
   "id": "ad311a49",
   "metadata": {
    "slideshow": {
     "slide_type": "subslide"
    }
   },
   "source": [
    "## for in 문 Iterable의 값을 순환반복하는 과정\n",
    "\n",
    "1. 반복 조회할 iterable객체의 __iter__() 를 호출 하여 Iterator를 구한다.\n",
    "1. 매 반복마다 Iterator의 __next__() 를 호출하여 다음 원소를 조회한다.\n",
    "1. 모든 원소들이 다 제공해 StopIteration Exception이 발생하면 반복문을 멈추고 빠져나온다."
   ]
  },
  {
   "cell_type": "code",
   "execution_count": 18,
   "id": "449713db",
   "metadata": {},
   "outputs": [
    {
     "name": "stdout",
     "output_type": "stream",
     "text": [
      "1\n",
      "2\n",
      "1\n",
      "2\n",
      "3\n",
      "4\n",
      "5\n"
     ]
    }
   ],
   "source": [
    "m = MyIterable(1,2,3,4,5)\n",
    "iter_m = iter(m)\n",
    "print(next(iter_m))\n",
    "print(next(iter_m))\n",
    "for v in m:\n",
    "    print(v)"
   ]
  },
  {
   "cell_type": "markdown",
   "id": "5323e175",
   "metadata": {
    "slideshow": {
     "slide_type": "subslide"
    }
   },
   "source": [
    "## Generator\n",
    "- Iterable과 Iterator를 합친 기능을 함수 형태로 구현(정의)한 것을 generator라고 한다.\n",
    "    - 제공할 값들을 미리 메모리에 올리지 않고 로직을 통해 값들을 호출자가 필요할 때 마다 제공할 때 유용하다.\n",
    "- 제너레이터 함수에서 값을 반환\n",
    "    - **yield 반환값**\n",
    "        - 반환값을 가지고 호출한 곳으로 돌아간다. 현재 상태(돌아가기 직전 상태)를 기억하면서 돌아간다. \n",
    "            - 값을 반환하고 일시정지 상태라고 생각하면 된다.\n",
    "        - 다음 실행시점에 yield 구문 다음 부터 실행된다.\n",
    "    - **return \\[valuye\\]**\n",
    "        - generator 함수 종료\n",
    "        - StopIteration 발생시킨다.\n",
    "- Generator 의 원소 조회\n",
    "    - next(Generator객체)"
   ]
  },
  {
   "cell_type": "code",
   "execution_count": 20,
   "id": "0117087f",
   "metadata": {
    "slideshow": {
     "slide_type": "fragment"
    }
   },
   "outputs": [
    {
     "name": "stdout",
     "output_type": "stream",
     "text": [
      "0 1 2 3 4 5 6 7 8 9\n"
     ]
    }
   ],
   "source": [
    "print(*range(10))"
   ]
  },
  {
   "cell_type": "code",
   "execution_count": 21,
   "id": "d78f00cf",
   "metadata": {},
   "outputs": [],
   "source": [
    "def test_generator(n = 0):\n",
    "    while True:\n",
    "        n += 1\n",
    "        yield n"
   ]
  },
  {
   "cell_type": "code",
   "execution_count": 66,
   "id": "4017f9dd",
   "metadata": {},
   "outputs": [
    {
     "name": "stdout",
     "output_type": "stream",
     "text": [
      "<class 'generator'>\n"
     ]
    }
   ],
   "source": [
    "tg = test_generator() # 제너레이터 객체를 생성\n",
    "print(type(tg)) # <class 'generator'>"
   ]
  },
  {
   "cell_type": "code",
   "execution_count": 78,
   "id": "f9d28970",
   "metadata": {},
   "outputs": [
    {
     "name": "stdout",
     "output_type": "stream",
     "text": [
      "12\n"
     ]
    }
   ],
   "source": [
    "print(next(tg))"
   ]
  },
  {
   "cell_type": "code",
   "execution_count": 44,
   "id": "4df6590b",
   "metadata": {
    "slideshow": {
     "slide_type": "fragment"
    }
   },
   "outputs": [],
   "source": []
  },
  {
   "cell_type": "code",
   "execution_count": 83,
   "id": "57b91258",
   "metadata": {},
   "outputs": [],
   "source": [
    "# reang(시작, 끝, 증가값) 을 제너레이터로 구현\n",
    "\n",
    "# reang(), reange(1,2,3,4) -> TypeError\n",
    "# range(1, 2, 0) -> ValueError\n",
    "# range(10) -> 0 ~ 9\n",
    "# range(1, 10) -> 1 ~ 9\n",
    "# range(1, 10, 2) -> 1 ~ 9, 2씩 증가\n",
    "# range(10, 1, -2) -> 10 ~ 3, 2씩 감소\n",
    "\n",
    "def my_range(*args):\n",
    "    start = 0\n",
    "    end = 0\n",
    "    step = 1\n",
    "    if len(args) == 1:\n",
    "        end = args[0]\n",
    "    elif len(args) == 2:\n",
    "        start = args[0]\n",
    "        end = args[1]\n",
    "    elif len(args) == 3:\n",
    "        start = args[0]\n",
    "        end = args[1]\n",
    "        step = args[2]\n",
    "    else:\n",
    "        raise TypeError(f'my_range()는 1~3개의 인수를 받습니다. 받은 인수의 개수: {len(args)}')\n",
    "    \n",
    "    if step < 0:\n",
    "        while start > end:\n",
    "            yield start\n",
    "            start += step\n",
    "    elif step > 0:\n",
    "        while start < end:\n",
    "            yield start\n",
    "            start += step\n",
    "    else:\n",
    "        raise ValueError('step은 0이 될 수 없습니다.')\n",
    "    "
   ]
  },
  {
   "cell_type": "code",
   "execution_count": 90,
   "id": "1a145c40",
   "metadata": {},
   "outputs": [],
   "source": [
    " # range() 함수를 generator로 구현\n",
    "# range(시작 정수, 종료 정수, 간격) -> 시작정수 ~ 종료 정수까지 간격만큼 더한 값들을 하나씩 제공.\n",
    "\n",
    "def my_range2(start, stop=None, step=1):\n",
    "    if stop == None:\n",
    "        stop = start\n",
    "        start = 0\n",
    "        \n",
    "    if step < 0:\n",
    "        while start > stop:\n",
    "            yield start\n",
    "            start += step\n",
    "    elif step > 0:\n",
    "        while start < stop:\n",
    "            yield start\n",
    "            start += step\n",
    "    else:\n",
    "        raise ValueError('step은 0이 될 수 없습니다.')"
   ]
  },
  {
   "cell_type": "code",
   "execution_count": 89,
   "id": "587d63c9",
   "metadata": {},
   "outputs": [
    {
     "name": "stdout",
     "output_type": "stream",
     "text": [
      "0 1 2 3 4 5 6 7 8 9\n",
      "1 2 3 4 5 6 7 8 9\n",
      "1 3 5 7 9\n",
      "10 8 6 4 2\n",
      "<class 'ValueError'> step은 0이 될 수 없습니다.\n",
      "<class 'TypeError'> my_range()는 1~3개의 인수를 받습니다. 받은 인수의 개수: 0\n",
      "<class 'TypeError'> my_range()는 1~3개의 인수를 받습니다. 받은 인수의 개수: 4\n"
     ]
    }
   ],
   "source": [
    "print(*my_range(10))\n",
    "print(*my_range(1, 10))\n",
    "print(*my_range(1, 10, 2))\n",
    "print(*my_range(10, 1, -2))\n",
    "\n",
    "try:\n",
    "    print(*my_range(10, 1, 0))\n",
    "except Exception as e:\n",
    "    print(type(e), e)\n",
    "\n",
    "try:\n",
    "    print(*my_range())\n",
    "except Exception as e:\n",
    "    print(type(e), e)\n",
    "\n",
    "try:\n",
    "    print(*my_range(1,2,3,4))\n",
    "except Exception as e:\n",
    "    print(type(e), e)\n"
   ]
  },
  {
   "cell_type": "markdown",
   "id": "ae6dec96",
   "metadata": {
    "slideshow": {
     "slide_type": "subslide"
    }
   },
   "source": [
    "### Generator 표현식 (Generator Comprehension)\n",
    "- 컴프리헨션구문을 **( )** 로 묶어 표현한다.\n",
    "- 컴프리헨션 구문안의 Iterable의 원소들을 처리해서 제공하는 generator 표현식\n",
    "- Generator Comprehension 은 반복 가능한 객체만 만들고 실제 원소에 대한 요청이 왔을 때 값을 생성한다.\n",
    "    - 메모리 효율이 다른 Comprehension들 보다 좋다."
   ]
  },
  {
   "cell_type": "code",
   "execution_count": 95,
   "id": "9d5f5acc",
   "metadata": {
    "slideshow": {
     "slide_type": "fragment"
    }
   },
   "outputs": [
    {
     "data": {
      "text/plain": [
       "[0, 1, 2, 3, 4, 5, 6, 7, 8, 9]"
      ]
     },
     "execution_count": 95,
     "metadata": {},
     "output_type": "execute_result"
    }
   ],
   "source": [
    "[ v for v in range(10) ] # 리스트 컴프리헨션"
   ]
  },
  {
   "cell_type": "code",
   "execution_count": 94,
   "id": "cf767b9d",
   "metadata": {},
   "outputs": [
    {
     "name": "stdout",
     "output_type": "stream",
     "text": [
      "0 1 2 3 4 5 6 7 8 9 "
     ]
    }
   ],
   "source": [
    "gen = ( v for v in range(10) ) # 제너레이터 컴프리헨션\n",
    "\n",
    "for v in gen: # 제너레이터 컴프리헨션은 제너레이터 객체를 생성\n",
    "    print(v , end=' ')"
   ]
  },
  {
   "cell_type": "code",
   "execution_count": 3,
   "id": "73400f8d",
   "metadata": {},
   "outputs": [],
   "source": [
    "from mypackage.prime import prime_generator as p_gen\n",
    "gen = (v for v in p_gen(2) if str(v) == str(v)[::-1]) # 펠린드롬 소수를 제너레이터 컴프리헨션으로 생성"
   ]
  },
  {
   "cell_type": "code",
   "execution_count": 11,
   "id": "f110d24c",
   "metadata": {},
   "outputs": [
    {
     "name": "stdout",
     "output_type": "stream",
     "text": [
      "70207 70507 70607 71317 71917 72227 72727 73037 73237 73637 "
     ]
    }
   ],
   "source": [
    "for v in range(10):\n",
    "    print(next(gen), end=' ')"
   ]
  },
  {
   "cell_type": "code",
   "execution_count": 99,
   "id": "d5a8ef85",
   "metadata": {},
   "outputs": [
    {
     "name": "stdout",
     "output_type": "stream",
     "text": [
      "313 353 373 383 727 757 787 797 919 929 "
     ]
    }
   ],
   "source": []
  },
  {
   "cell_type": "markdown",
   "id": "929f0230",
   "metadata": {
    "slideshow": {
     "slide_type": "slide"
    }
   },
   "source": [
    "# Decorator (장식자)\n",
    "\n",
    "## 파이썬에서 함수는 일급 시민(first class citizen) 이다.\n",
    "- 일급 시민 (first class citizen) 이란\n",
    "    1. 변수에 대입 할 수 있다.\n",
    "    2. Argument로 사용할 수 있다.\n",
    "    3. 함수나 메소드의 반환값으로 사용 할 수 있다.\n",
    "    "
   ]
  },
  {
   "cell_type": "markdown",
   "id": "b46580f2",
   "metadata": {
    "slideshow": {
     "slide_type": "subslide"
    }
   },
   "source": [
    "## 지역함수(Local Function) 란\n",
    "- 함수 안에 정의 한 함수를 말한다.\n",
    "    - 중첩 함수(Nested function) 이라고도 한다.\n",
    "- 지역함수가 선언된 함수를 **outer function** 지역함수는 **inner function** 이라고 한다. \n",
    "- inner function은 outer function의 지역변수를 자유롭게 사용할 수 있다.\n",
    "- 기본적으로 inner function은 outer function 안에서만 호출 할 수있다.\n",
    "- 단 outer function이 정의된 inner function을 return value로 반환하면 밖에서도 호출 할 수 있다."
   ]
  },
  {
   "cell_type": "code",
   "execution_count": 106,
   "id": "9fdf0397",
   "metadata": {},
   "outputs": [],
   "source": [
    "def outer():\n",
    "    a = 10\n",
    "    def inner():\n",
    "        print(a)\n",
    "    inner()\n",
    "    inner()\n",
    "    print('aaaa')\n",
    "    inner()\n",
    "    return inner"
   ]
  },
  {
   "cell_type": "code",
   "execution_count": 108,
   "id": "ed0ffedc",
   "metadata": {},
   "outputs": [
    {
     "name": "stdout",
     "output_type": "stream",
     "text": [
      "10\n",
      "10\n",
      "aaaa\n",
      "10\n",
      "10\n"
     ]
    }
   ],
   "source": [
    "f = outer()\n",
    "f()"
   ]
  },
  {
   "cell_type": "markdown",
   "id": "766a1432",
   "metadata": {
    "slideshow": {
     "slide_type": "fragment"
    }
   },
   "source": [
    "## Closure (클로저)\n",
    "- 지역함수(Inner function)를 정의한 Outer function이 종료되어도 지역함수가 종료될 때까지 outer function의 지역변수들은 메모리에 계속 유지 되어 inner function에서 사용할 수 있다. \n",
    "- 파이썬 실행환경은 inner function이 종료될때 까지 outer function의 지역변수들(parameter포함)을 사용할 수 있도록 저장하는 공간이 **closure**이다."
   ]
  },
  {
   "cell_type": "code",
   "execution_count": 2,
   "id": "0001effe",
   "metadata": {
    "slideshow": {
     "slide_type": "fragment"
    }
   },
   "outputs": [
    {
     "name": "stdout",
     "output_type": "stream",
     "text": [
      "10\n"
     ]
    }
   ],
   "source": [
    "def outer():\n",
    "    a = 10\n",
    "    def inner():\n",
    "        print(a)\n",
    "    return inner\n",
    "\n",
    "f = outer()         # outer() 함수 종료\n",
    "f()                 # inner() 함수가 사용할 수 있는 변수 a는 여전히 존재한다.\n",
    "                    # f() 함수가 inner() 함수를 호출할 때 \n",
    "                    # inner() 함수가 사용할 수 있는 변수를 저장하고 있는 공간이 closure이다."
   ]
  },
  {
   "cell_type": "markdown",
   "id": "b58a1e1d",
   "metadata": {
    "slideshow": {
     "slide_type": "slide"
    }
   },
   "source": [
    "## Decorator (장식자)\n",
    "- 기존의 함수를 수정하지 않고 그 함수 전/후에 실행되는 구문을 추가할 수 있도록 하는 함수를 말한다.\n",
    "- 기존 함수코드를 수정하지 않고 새로운 기능의 추가를 쉽게 해준다.\n",
    "- 추가기능을 다수의 함수에 적용할 수 있다.\n",
    "- 함수의 전/후처리 하는 구문을 **필요하면 붙이고 필요 없으면 쉽게 제거할 수 있다**\n",
    "\n",
    "![개요](images/ch10_01.png)"
   ]
  },
  {
   "cell_type": "code",
   "execution_count": 1,
   "id": "5c7f5353",
   "metadata": {
    "slideshow": {
     "slide_type": "fragment"
    }
   },
   "outputs": [],
   "source": [
    "def dec_sort_reverse(func): # 함수를 입력으로 받아 전처리 후처리를 하는 데코레이터 함수\n",
    "    def wrapper(l):\n",
    "        l.sort()        # 전처리\n",
    "        l = func(l)     # 함수 호출\n",
    "        l.reverse()     # 후처리\n",
    "        return l        # 반환\n",
    "    return wrapper  # 데코레이터 함수를 반환\n",
    "\n",
    "def list_twice(l):\n",
    "    return l * 2"
   ]
  },
  {
   "cell_type": "code",
   "execution_count": 2,
   "id": "27a63140",
   "metadata": {},
   "outputs": [
    {
     "name": "stdout",
     "output_type": "stream",
     "text": [
      "[9, 1, 8, 5, 3, 4, 4, 0, 5, 6, 9, 1, 8, 5, 3, 4, 4, 0, 5, 6]\n",
      "[9, 8, 6, 5, 5, 4, 4, 3, 1, 0, 9, 8, 6, 5, 5, 4, 4, 3, 1, 0]\n"
     ]
    }
   ],
   "source": [
    "import random as r\n",
    "l = [ r.randint(0, 10) for _ in range(10) ]\n",
    "print(list_twice(l))\n",
    "deco_list_twice = dec_sort_reverse(list_twice) # 데코레이터 함수를 호출하여 데코레이터 함수를 반환받는다.\n",
    "print(deco_list_twice(l))   # 데코레이터 함수를 사용해 원본함수에 전처리 후처리를 한다."
   ]
  },
  {
   "cell_type": "code",
   "execution_count": 97,
   "id": "6a122d7c",
   "metadata": {},
   "outputs": [],
   "source": [
    "def deco_contour_bar_print(func):\n",
    "    def wrapper(*args, **kwargs):\n",
    "        print('-' * 30)\n",
    "        func(*args, **kwargs)\n",
    "        print('-' * 30)\n",
    "    return wrapper\n",
    "\n",
    "def deco_contour_shape_print(func):\n",
    "    def wrapper(*args, **kwargs):\n",
    "        print('#' * 30)\n",
    "        func(*args, **kwargs)\n",
    "        print('#' * 30)\n",
    "    return wrapper\n",
    "\n",
    "def deco_center_print(func):\n",
    "    def wrapper(*args, **kwargs):\n",
    "        s = ''\n",
    "        sep = kwargs['sep']\n",
    "        end_ = kwargs['end']\n",
    "        for v in args:\n",
    "            s += str(v)\n",
    "            s += sep\n",
    "        s = s[:-len(sep)]\n",
    "        s += end_\n",
    "        if end_ != '\\n':\n",
    "            s += '\\n'\n",
    "        print(' ' * (15 - len(s) // 2), end='')\n",
    "        func(s, end = '')\n",
    "    return wrapper\n",
    "\n",
    "c_print = deco_center_print(print)\n",
    "bar_print = deco_contour_bar_print(print)\n",
    "bar_c_print = deco_contour_bar_print(c_print)\n",
    "shape_print = deco_contour_shape_print(print)\n",
    "shape_c_print = deco_contour_shape_print(c_print)\n",
    "shape_bar_c_print = deco_contour_shape_print(bar_c_print)\n"
   ]
  },
  {
   "cell_type": "code",
   "execution_count": 98,
   "id": "727a0eda",
   "metadata": {},
   "outputs": [],
   "source": [
    "@deco_contour_shape_print       \n",
    "@deco_contour_bar_print\n",
    "@deco_center_print\n",
    "def my_print(*args, **kwargs):  # 데코레이터를 사용한 함수 정의\n",
    "    print(*args, **kwargs)"
   ]
  },
  {
   "cell_type": "code",
   "execution_count": 100,
   "id": "7c0e618c",
   "metadata": {},
   "outputs": [
    {
     "name": "stdout",
     "output_type": "stream",
     "text": [
      "hello-world-python\n",
      "##############################\n",
      "------------------------------\n",
      "      hello-world-python\n",
      "------------------------------\n",
      "##############################\n",
      "\n",
      "##############################\n",
      "------------------------------\n",
      "      hello-world-python\n",
      "------------------------------\n",
      "##############################\n"
     ]
    }
   ],
   "source": [
    "print('hello', 'world', 'python', sep='-', end='')\n",
    "print()\n",
    "my_print('hello', 'world', 'python', sep='-', end='') # my_print() 함수를 호출하면 데코레이터가 적용된다.\n",
    "print()\n",
    "shape_bar_c_print('hello', 'world', 'python', sep='-', end='')"
   ]
  },
  {
   "cell_type": "markdown",
   "id": "aaf6447c",
   "metadata": {
    "slideshow": {
     "slide_type": "subslide"
    }
   },
   "source": [
    "### Decorator 구현 및 사용\n",
    "\n",
    "- 구현\n",
    "    1. 전/후처리 기능을 추가할 함수를 parameter로 받는다.\n",
    "    2. 그 함수 호출 전후로 추가할 기능을 작성한 **지역함수**를 정의한다.\n",
    "    3. `2`번의 함수를 반환한다.\n",
    "```python\n",
    "def decorator(func):\n",
    "    def wrapper([parameter]): # decorator 적용할 함수에 파라미터를 전달할 경우 parameter 변수들을 선언\n",
    "        # 전처리\n",
    "        func()\n",
    "        # 후처리\n",
    "    return wrapper \n",
    "```\n",
    "\n",
    "- 호출\n",
    "    - `@decorator이름`를 적용하고자하는 함수 선언전에 기술한다.\n",
    "```python\n",
    "@decorator\n",
    "def caller([parameter]):\n",
    "    ...\n",
    "```"
   ]
  },
  {
   "cell_type": "code",
   "execution_count": null,
   "id": "82f0e859",
   "metadata": {
    "slideshow": {
     "slide_type": "fragment"
    }
   },
   "outputs": [],
   "source": []
  },
  {
   "cell_type": "markdown",
   "id": "6121017a",
   "metadata": {
    "slideshow": {
     "slide_type": "skip"
    }
   },
   "source": [
    "# TODO\n",
    "함수가 실행된 실행시간(초)을 재는 decorator"
   ]
  },
  {
   "cell_type": "code",
   "execution_count": 2,
   "id": "22f52d36",
   "metadata": {
    "slideshow": {
     "slide_type": "skip"
    }
   },
   "outputs": [
    {
     "data": {
      "text/plain": [
       "1681362835.2109404"
      ]
     },
     "execution_count": 2,
     "metadata": {},
     "output_type": "execute_result"
    }
   ],
   "source": [
    "import time as t    # time 모듈을 가져온다.\n",
    "t.time() # 1970년 1월 1일 0시 0분 0초를 기준으로 현재까지 경과된 시간을 초 단위로 반환"
   ]
  },
  {
   "cell_type": "code",
   "execution_count": 3,
   "id": "04ecf8ff",
   "metadata": {},
   "outputs": [],
   "source": [
    "from mypackage import prime as p\n",
    "\n",
    "def deco_runtime(func):   # 함수의 실행 시간을 측정하는 데코레이터 함수\n",
    "    def wrapper(*args, **kwargs):\n",
    "        start = t.time()                # 시작 시간을 기록\n",
    "        result = func(*args, **kwargs)  # 함수를 호출\n",
    "        end = t.time()                  # 종료 시간을 기록\n",
    "                                        # 함수의 실행 시간을 계산\n",
    "        print(f'함수 {func.__name__}의 실행 시간: {sec_to_mmssms(end - start)}')\n",
    "        return result                   # 함수의 반환값을 반환\n",
    "    return wrapper              # 데코레이터 함수를 반환\n",
    "\n",
    "# 초 단위의 시간을 분:초:밀리초 형식의 문자열로 변환하는 함수\n",
    "def sec_to_mmssms(sec : float) -> str:\n",
    "    ms = int((sec - int(sec)) * 1000)\n",
    "    sec = int(sec)\n",
    "    m = sec // 60\n",
    "    s = sec % 60\n",
    "    return f'{m:02d}:{s:02d}:{ms:03d}'\n",
    "    "
   ]
  },
  {
   "cell_type": "code",
   "execution_count": 4,
   "id": "085ac491",
   "metadata": {},
   "outputs": [],
   "source": [
    "@deco_runtime   # 실행시간 측정 데코레이터\n",
    "def one_sleep_two(*args, **kwargs): \n",
    "    print('one')\n",
    "    t.sleep(args[0])    # 첫 번째 인수로 전달된 시간만큼 대기\n",
    "    print('two')"
   ]
  },
  {
   "cell_type": "code",
   "execution_count": 165,
   "id": "4254cb72",
   "metadata": {},
   "outputs": [
    {
     "name": "stdout",
     "output_type": "stream",
     "text": [
      "one\n",
      "two\n",
      "함수 one_sleep_two의 실행 시간: 00:05:009\n"
     ]
    }
   ],
   "source": [
    "# 데코레이터가 적용되어 실행시간이 측정된다.\n",
    "one_sleep_two(5)"
   ]
  },
  {
   "cell_type": "code",
   "execution_count": 8,
   "id": "9de2e2a5",
   "metadata": {},
   "outputs": [],
   "source": [
    "@deco_runtime   # 실행시간 측정 데코레이터\n",
    "def is_prime_n_to_m(n = 0, m = None):   # n부터 m까지의 소수를 출력하는 함수\n",
    "    if m == None:\n",
    "        m = n\n",
    "        n = 0\n",
    "    for v in range(n, m + 1):\n",
    "        if p.is_prime(v):\n",
    "            print(v, end=' ')\n",
    "    print()"
   ]
  },
  {
   "cell_type": "code",
   "execution_count": 11,
   "id": "eb5026b5",
   "metadata": {},
   "outputs": [
    {
     "name": "stdout",
     "output_type": "stream",
     "text": [
      "함수 is_prime의 실행 시간: 00:00:000\n",
      "True\n"
     ]
    }
   ],
   "source": [
    "p.is_prime(1003001)\n",
    "is_prime_rt = deco_runtime(p.is_prime)  # is_prime() 함수를 데코레이터로 감싼다.\n",
    "print(is_prime_rt(1003001))             # 데코레이터가 적용된 함수를 호출한다."
   ]
  },
  {
   "cell_type": "code",
   "execution_count": 10,
   "id": "e6a81563",
   "metadata": {},
   "outputs": [
    {
     "name": "stdout",
     "output_type": "stream",
     "text": [
      "2 3 5 7 \n",
      "함수 is_prime_n_to_m의 실행 시간: 00:00:000\n"
     ]
    }
   ],
   "source": [
    "is_prime_n_to_m(10)    # 데코레이터가 적용된 함수를 호출한다.   "
   ]
  },
  {
   "cell_type": "code",
   "execution_count": 13,
   "id": "e8853d79",
   "metadata": {},
   "outputs": [
    {
     "name": "stdout",
     "output_type": "stream",
     "text": [
      "함수 <lambda>의 실행 시간: 00:00:000\n",
      "3\n",
      "함수 <lambda>의 실행 시간: 00:00:000\n",
      "8\n",
      "함수 <lambda>의 실행 시간: 00:00:000\n",
      "17\n",
      "함수 <lambda>의 실행 시간: 00:00:000\n",
      "30\n",
      "함수 <lambda>의 실행 시간: 00:00:000\n",
      "47\n",
      "함수 <lambda>의 실행 시간: 00:00:000\n",
      "68\n",
      "함수 <lambda>의 실행 시간: 00:00:000\n",
      "93\n",
      "함수 <lambda>의 실행 시간: 00:00:000\n",
      "122\n",
      "함수 <lambda>의 실행 시간: 00:00:000\n",
      "155\n",
      "함수 <lambda>의 실행 시간: 00:00:000\n",
      "192\n",
      "함수 <lambda>의 실행 시간: 00:00:000\n",
      "233\n",
      "함수 <lambda>의 실행 시간: 00:00:000\n",
      "278\n",
      "함수 <lambda>의 실행 시간: 00:00:000\n",
      "327\n",
      "함수 <lambda>의 실행 시간: 00:00:000\n",
      "380\n",
      "함수 <lambda>의 실행 시간: 00:00:000\n",
      "437\n",
      "함수 <lambda>의 실행 시간: 00:00:000\n",
      "498\n",
      "함수 <lambda>의 실행 시간: 00:00:000\n",
      "563\n",
      "함수 <lambda>의 실행 시간: 00:00:000\n",
      "632\n",
      "함수 <lambda>의 실행 시간: 00:00:000\n",
      "705\n",
      "함수 <lambda>의 실행 시간: 00:00:000\n",
      "782\n"
     ]
    }
   ],
   "source": [
    "f = lambda x : 2 * x ** 2 + 3 * x + 1 + 2\n",
    "f_rt = deco_runtime(f)  # 람다 함수를 데코레이터로 감싼다.\n",
    "for n in range(20):\n",
    "    print(f_rt(n))"
   ]
  },
  {
   "cell_type": "code",
   "execution_count": 20,
   "id": "2a4a1151",
   "metadata": {},
   "outputs": [],
   "source": [
    "input_list = [7, 7, 8, 10]"
   ]
  },
  {
   "cell_type": "code",
   "execution_count": 40,
   "id": "0b7b44d2",
   "metadata": {},
   "outputs": [
    {
     "data": {
      "image/png": "[encoded data removed]",
      "text/plain": [
       "<Figure size 640x480 with 1 Axes>"
      ]
     },
     "metadata": {},
     "output_type": "display_data"
    }
   ],
   "source": [
    "import matplotlib.pyplot as plt  # matplotlib 라이브러리를 plt로 import\n",
    "\n",
    "a1, a0, c, n0 = input_list  # input_list에서 a1, a0, c를 받아옴\n",
    "\n",
    "# f(x) = a1 * x + a0 함수를 lambda로 정의\n",
    "\n",
    "\n",
    "def f(x):\n",
    "    return a1 * x + a0\n",
    "\n",
    "# g(x) = x 함수를 lambda로 정의\n",
    "\n",
    "\n",
    "def g(x):\n",
    "    return x*c\n",
    "\n",
    "\n",
    "# x축 범위를 n0-5에서 n0+5까지로 설정\n",
    "x = range(n0-10, n0+10)\n",
    "\n",
    "# f(x)에 대한 그래프를 그림\n",
    "plt.plot(x, [f(i) for i in x], label='f(x)')\n",
    "\n",
    "# g(x)에 대한 그래프를 그림\n",
    "plt.plot(x, [g(i) for i in x], label='c*g(x)')\n",
    "\n",
    "# 범례를 추가\n",
    "plt.legend()\n",
    "\n",
    "# x = n0인 수직선을 추가\n",
    "plt.axvline(x=n0, color='r', linestyle='--')\n",
    "\n",
    "# x축 범위에서 y=0인 수평선을 추가\n",
    "plt.axhline(y=0, color='k')\n",
    "\n",
    "# y축 범위에서 x=0인 수직선을 추가\n",
    "plt.axvline(x=0, color='k')\n",
    "\n",
    "# f(x)와 g(x)의 교점을 지나는 수직선을 추가\n",
    "# f(x)와 g(x)의 교점은 f(x) - g(x) = 0을 만족하는 x값이다.\n",
    "# 이를 이용하여 교점을 구하고, 해당 교점을 지나는 수직선을 추가한다.\n",
    "intersection_x = (a0/c) / (1 - (a1/c))\n",
    "plt.axvline(x=intersection_x, color='g', linestyle='--')\n",
    "\n",
    "# 그래프를 출력\n",
    "plt.show()\n"
   ]
  },
  {
   "cell_type": "code",
   "execution_count": null,
   "id": "2f33052d",
   "metadata": {},
   "outputs": [],
   "source": []
  }
 ],
 "metadata": {
  "kernelspec": {
   "display_name": "Python 3 (ipykernel)",
   "language": "python",
   "name": "python3"
  },
  "language_info": {
   "codemirror_mode": {
    "name": "ipython",
    "version": 3
   },
   "file_extension": ".py",
   "mimetype": "text/x-python",
   "name": "python",
   "nbconvert_exporter": "python",
   "pygments_lexer": "ipython3",
   "version": "3.10.9"
  },
  "toc": {
   "base_numbering": 1,
   "nav_menu": {},
   "number_sections": true,
   "sideBar": true,
   "skip_h1_title": false,
   "title_cell": "Table of Contents",
   "title_sidebar": "Contents",
   "toc_cell": false,
   "toc_position": {},
   "toc_section_display": true,
   "toc_window_display": false
  },
  "varInspector": {
   "cols": {
    "lenName": 16,
    "lenType": 16,
    "lenVar": 40
   },
   "kernels_config": {
    "python": {
     "delete_cmd_postfix": "",
     "delete_cmd_prefix": "del ",
     "library": "var_list.py",
     "varRefreshCmd": "print(var_dic_list())"
    },
    "r": {
     "delete_cmd_postfix": ") ",
     "delete_cmd_prefix": "rm(",
     "library": "var_list.r",
     "varRefreshCmd": "cat(var_dic_list()) "
    }
   },
   "types_to_exclude": [
    "module",
    "function",
    "builtin_function_or_method",
    "instance",
    "_Feature"
   ],
   "window_display": false
  },
  "vscode": {
   "interpreter": {
    "hash": "890e7ac6523e8dc3d01314e5dc0d3a4630fa6bb57ae728d75fb62fd058d8404d"
   }
  }
 },
 "nbformat": 4,
 "nbformat_minor": 5
}
