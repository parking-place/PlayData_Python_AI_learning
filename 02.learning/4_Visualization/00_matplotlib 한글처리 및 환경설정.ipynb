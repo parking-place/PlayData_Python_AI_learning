{
 "cells": [
  {
   "cell_type": "markdown",
   "metadata": {},
   "source": [
    "# matplotlib 한글처리\n",
    "matplotlib에 설정되있는 폰트가 한글을 지원하지 않기 때문에 그래프의 한글이 깨져서 나온다."
   ]
  },
  {
   "cell_type": "code",
   "execution_count": 1,
   "metadata": {
    "ExecuteTime": {
     "end_time": "2020-08-15T14:11:37.991800Z",
     "start_time": "2020-08-15T14:11:37.828240Z"
    },
    "scrolled": true
   },
   "outputs": [
    {
     "data": {
      "image/png": "[encoded data removed]",
      "text/plain": [
       "<Figure size 640x480 with 1 Axes>"
      ]
     },
     "metadata": {},
     "output_type": "display_data"
    }
   ],
   "source": [
    "import matplotlib.pyplot as plt\n",
    "plt.plot(range(-10,10))\n",
    "plt.xlabel(\"X값\")\n",
    "plt.ylabel(\"Y값\")\n",
    "plt.title('matplotlib 예제')\n",
    "plt.show()"
   ]
  },
  {
   "cell_type": "markdown",
   "metadata": {},
   "source": [
    "## 설정방법\n",
    "1. 설정파일을 변경한다. \n",
    "    - 한번만 하면 된다.\n",
    "2. 프로그램상에서 변경한다.\n",
    "    - 프로그램이 로딩 될때마다 (노트북 파일이나 파이썬 스크립트 실행시마다) 코드를 실행해야 한다.\n",
    "    - 전체 설정에서 변경하고 싶은 것을 재설정한다."
   ]
  },
  {
   "cell_type": "markdown",
   "metadata": {},
   "source": [
    "## OS에 설치된 폰트명 조회"
   ]
  },
  {
   "cell_type": "code",
   "execution_count": null,
   "metadata": {
    "ExecuteTime": {
     "end_time": "2022-06-14T01:39:02.301627Z",
     "start_time": "2022-06-14T01:39:01.711133Z"
    }
   },
   "outputs": [],
   "source": [
    "import matplotlib as mpl\n",
    "import matplotlib.font_manager as fm"
   ]
  },
  {
   "cell_type": "markdown",
   "metadata": {},
   "source": [
    "폰트 cache 파일을 삭제 한다."
   ]
  },
  {
   "cell_type": "code",
   "execution_count": null,
   "metadata": {
    "ExecuteTime": {
     "end_time": "2022-06-14T01:40:24.558645Z",
     "start_time": "2022-06-14T01:40:24.540678Z"
    }
   },
   "outputs": [],
   "source": [
    "# cache 파일 조회\n",
    "# 다음 실행 결과로 나온 디렉토리 안의 파일을 삭제한다. \n",
    "print(mpl.get_cachedir())"
   ]
  },
  {
   "cell_type": "markdown",
   "metadata": {},
   "source": [
    "전체 폰트 조회"
   ]
  },
  {
   "cell_type": "code",
   "execution_count": null,
   "metadata": {
    "ExecuteTime": {
     "end_time": "2022-06-14T01:40:28.369194Z",
     "start_time": "2022-06-14T01:40:28.172555Z"
    }
   },
   "outputs": [],
   "source": [
    "for f in fm.fontManager.ttflist:\n",
    "    print(f.name, f.fname)  # 폰트이름, 폰트파일경로"
   ]
  },
  {
   "cell_type": "markdown",
   "metadata": {},
   "source": [
    "원하는 폰트명 찾기"
   ]
  },
  {
   "cell_type": "code",
   "execution_count": null,
   "metadata": {
    "ExecuteTime": {
     "end_time": "2022-06-14T01:41:48.571954Z",
     "start_time": "2022-06-14T01:41:48.560022Z"
    }
   },
   "outputs": [],
   "source": [
    "[(f.name,f.fname) for f in fm.fontManager.ttflist if 'malg' in f.name.lower()]  \n",
    "#mac : AppleGothic\n",
    "# 설정시 폰트 이름을 사용"
   ]
  },
  {
   "cell_type": "markdown",
   "metadata": {},
   "source": [
    "## 폰트등 환경 설정하기 \n",
    "###  설정파일 변경\n",
    "- 한번만 하면 되므로 편리하다."
   ]
  },
  {
   "cell_type": "markdown",
   "metadata": {},
   "source": [
    "설정파일 경로찾기: `matplotlib.matplotlib_fname()`\n",
    "matplotlib 관련 전역 설정들을 찾아 바꿔준다.\n",
    "- 폰트 관련 설정\n",
    "```\n",
    "font.family:Malgun Gothic\n",
    "font.size:20\n",
    "axes.titlesize:30\n",
    "axes.labelsize:20  \n",
    "axes.unicode_minus:False\n",
    "xtick.labelsize:15\n",
    "ytick.labelsize:15 \n",
    "```"
   ]
  },
  {
   "cell_type": "code",
   "execution_count": null,
   "metadata": {
    "ExecuteTime": {
     "end_time": "2022-06-14T01:42:15.953880Z",
     "start_time": "2022-06-14T01:42:15.942944Z"
    }
   },
   "outputs": [],
   "source": [
    "print(mpl.matplotlib_fname())"
   ]
  },
  {
   "cell_type": "markdown",
   "metadata": {},
   "source": [
    "### 함수를 이용해 설정\n",
    "- `matplotlib.rcParam['설정'] = 값` 으로 변경"
   ]
  },
  {
   "cell_type": "code",
   "execution_count": null,
   "metadata": {
    "ExecuteTime": {
     "end_time": "2022-06-14T02:10:50.306933Z",
     "start_time": "2022-06-14T02:10:50.289975Z"
    }
   },
   "outputs": [],
   "source": [
    "import matplotlib as mpl\n",
    "from matplotlib import font_manager as fm\n",
    "\n",
    "# 한글 폰트 설정\n",
    "font_name = fm.FontProperties(fname=\"c:/Windows/Fonts/malgun.ttf\").get_name()\n",
    "\n",
    "# 폰트변경\n",
    "mpl.rcParams[\"font.family\"] = font_name\n",
    "# 폰트 size변경\n",
    "mpl.rcParams[\"font.size\"] = 20\n",
    "# x, y 축의 label 크기 변경\n",
    "mpl.rcParams['axes.labelsize'] = 15\n",
    "# x, y 축의 tick(눈금) label 크기 변경\n",
    "mpl.rcParams['xtick.labelsize'] = 12\n",
    "mpl.rcParams['ytick.labelsize'] = 12\n",
    "\n",
    "# tick의 음수기호 '-' 가 깨지는 것 처리\n",
    "mpl.rcParams['axes.unicode_minus'] = False"
   ]
  },
  {
   "cell_type": "code",
   "execution_count": null,
   "metadata": {
    "ExecuteTime": {
     "end_time": "2022-06-14T02:11:19.921348Z",
     "start_time": "2022-06-14T02:11:19.762317Z"
    }
   },
   "outputs": [],
   "source": [
    "import matplotlib.pyplot as plt\n",
    "plt.plot(range(-5,6))\n",
    "plt.xlabel(\"X값\")\n",
    "plt.ylabel(\"Y값\")\n",
    "plt.title('matplotlib 예제')\n",
    "plt.show()"
   ]
  },
  {
   "cell_type": "code",
   "execution_count": null,
   "metadata": {},
   "outputs": [],
   "source": []
  }
 ],
 "metadata": {
  "kernelspec": {
   "display_name": "Python 3 (ipykernel)",
   "language": "python",
   "name": "python3"
  },
  "language_info": {
   "codemirror_mode": {
    "name": "ipython",
    "version": 3
   },
   "file_extension": ".py",
   "mimetype": "text/x-python",
   "name": "python",
   "nbconvert_exporter": "python",
   "pygments_lexer": "ipython3",
   "version": "3.10.11"
  },
  "toc": {
   "base_numbering": 1,
   "nav_menu": {},
   "number_sections": true,
   "sideBar": true,
   "skip_h1_title": false,
   "title_cell": "Table of Contents",
   "title_sidebar": "Contents",
   "toc_cell": false,
   "toc_position": {},
   "toc_section_display": true,
   "toc_window_display": false
  },
  "varInspector": {
   "cols": {
    "lenName": 16,
    "lenType": 16,
    "lenVar": 40
   },
   "kernels_config": {
    "python": {
     "delete_cmd_postfix": "",
     "delete_cmd_prefix": "del ",
     "library": "var_list.py",
     "varRefreshCmd": "print(var_dic_list())"
    },
    "r": {
     "delete_cmd_postfix": ") ",
     "delete_cmd_prefix": "rm(",
     "library": "var_list.r",
     "varRefreshCmd": "cat(var_dic_list()) "
    }
   },
   "types_to_exclude": [
    "module",
    "function",
    "builtin_function_or_method",
    "instance",
    "_Feature"
   ],
   "window_display": false
  }
 },
 "nbformat": 4,
 "nbformat_minor": 2
}
